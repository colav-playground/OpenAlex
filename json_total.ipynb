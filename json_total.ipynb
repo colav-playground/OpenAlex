{
  "nbformat": 4,
  "nbformat_minor": 0,
  "metadata": {
    "colab": {
      "provenance": [],
      "collapsed_sections": [],
      "include_colab_link": true
    },
    "kernelspec": {
      "name": "python3",
      "display_name": "Python 3"
    },
    "language_info": {
      "name": "python"
    }
  },
  "cells": [
    {
      "cell_type": "markdown",
      "metadata": {
        "id": "view-in-github",
        "colab_type": "text"
      },
      "source": [
        "<a href=\"https://colab.research.google.com/github/restrepo/OpenAlex/blob/main/json_total.ipynb\" target=\"_parent\"><img src=\"https://colab.research.google.com/assets/colab-badge.svg\" alt=\"Open In Colab\"/></a>"
      ]
    },
    {
      "cell_type": "code",
      "execution_count": 1,
      "metadata": {
        "id": "-RbQDK_OnSpc"
      },
      "outputs": [],
      "source": [
        "import json\n",
        "import pandas as pd\n",
        "from google.colab import files\n",
        "#From https://gist.github.com/korakot/072f1ea70d3c3267ff2c64b61d78c89c\n",
        "import json\n",
        "from IPython.display import HTML\n",
        "\n",
        "def JSON(jstr):\n",
        "  if type(jstr) != str:\n",
        "    jstr = json.dumps(jstr)\n",
        "  return HTML(\"\"\"\n",
        "<script src=\"https://rawgit.com/caldwell/renderjson/master/renderjson.js\"></script>\n",
        "<script>\n",
        "renderjson.set_show_to_level(1)\n",
        "document.body.appendChild(renderjson(%s))\n",
        "new ResizeObserver(google.colab.output.resizeIframeToContent).observe(document.body)\n",
        "</script>\n",
        "\"\"\" % jstr)"
      ]
    },
    {
      "cell_type": "code",
      "source": [
        "from google.colab import drive\n",
        "drive.mount('/content/drive')"
      ],
      "metadata": {
        "colab": {
          "base_uri": "https://localhost:8080/"
        },
        "id": "7vmypO1blTHY",
        "outputId": "994829a0-7cd1-4af1-dfd2-a16488a4fbd5"
      },
      "execution_count": 2,
      "outputs": [
        {
          "output_type": "stream",
          "name": "stdout",
          "text": [
            "Mounted at /content/drive\n"
          ]
        }
      ]
    },
    {
      "cell_type": "code",
      "source": [
        "with open('/content/drive/MyDrive/json/openalexco.json','r') as miarchivo:\n",
        "    objeto=miarchivo.read()\n",
        "objeto=json.loads(objeto)"
      ],
      "metadata": {
        "id": "7R1pvevHlXqY"
      },
      "execution_count": 3,
      "outputs": []
    },
    {
      "cell_type": "markdown",
      "source": [
        "Filter works with ror:\n",
        "\n",
        "https://ror.org/03bp5hc83"
      ],
      "metadata": {
        "id": "-2DO-bIu4cxL"
      }
    },
    {
      "cell_type": "code",
      "source": [
        "objeto=[ c for c in objeto if any(\n",
        "    [ any([i.get('ror')==\"https://ror.org/03bp5hc83\" for i in a.get('institutions')]) \n",
        "    for a in c.get('authorships')])\n",
        "]\n",
        "len(objeto)"
      ],
      "metadata": {
        "id": "4Hbuh0Ei4l3_",
        "colab": {
          "base_uri": "https://localhost:8080/"
        },
        "outputId": "83d2b41b-a784-494e-c96b-b7a7f73e6729"
      },
      "execution_count": 8,
      "outputs": [
        {
          "output_type": "execute_result",
          "data": {
            "text/plain": [
              "34291"
            ]
          },
          "metadata": {},
          "execution_count": 8
        }
      ]
    },
    {
      "cell_type": "markdown",
      "source": [
        "Define the filter which returns `True or False`"
      ],
      "metadata": {
        "id": "ggYrli-ik5nF"
      }
    },
    {
      "cell_type": "code",
      "source": [
        "def filter_ror(authorships,ror=\"https://ror.org/03bp5hc83\"):\n",
        "  return any([any([i.get('ror')==\"https://ror.org/03bp5hc83\" for i in a.get('institutions')])  for a in authorships])"
      ],
      "metadata": {
        "id": "WSKHbM-imfwP"
      },
      "execution_count": 9,
      "outputs": []
    },
    {
      "cell_type": "code",
      "source": [
        "len([ c for c in objeto if filter_ror(c.get('authorships'))])"
      ],
      "metadata": {
        "colab": {
          "base_uri": "https://localhost:8080/"
        },
        "id": "b6Vaq9L8cQ_d",
        "outputId": "edeacc29-be72-465a-b87f-6fbd7bf8ee56"
      },
      "execution_count": 10,
      "outputs": [
        {
          "output_type": "execute_result",
          "data": {
            "text/plain": [
              "34291"
            ]
          },
          "metadata": {},
          "execution_count": 10
        }
      ]
    },
    {
      "cell_type": "markdown",
      "source": [
        "Filter with Pandas"
      ],
      "metadata": {
        "id": "5n2VScjjFPRq"
      }
    },
    {
      "cell_type": "code",
      "source": [
        "objeto=pd.DataFrame(objeto)"
      ],
      "metadata": {
        "id": "F4suin_UnRR9"
      },
      "execution_count": 11,
      "outputs": []
    },
    {
      "cell_type": "code",
      "source": [
        "objeto[objeto['authorships'].apply(filter_ror)].shape"
      ],
      "metadata": {
        "colab": {
          "base_uri": "https://localhost:8080/"
        },
        "id": "axE4HRe9FWJN",
        "outputId": "3238fa93-fdd0-43c3-9d76-b8aac23b4cce"
      },
      "execution_count": 12,
      "outputs": [
        {
          "output_type": "execute_result",
          "data": {
            "text/plain": [
              "(34291, 25)"
            ]
          },
          "metadata": {},
          "execution_count": 12
        }
      ]
    },
    {
      "cell_type": "markdown",
      "source": [
        "Explore concept levels from Excel file"
      ],
      "metadata": {
        "id": "Qlq2rGOidXkB"
      }
    },
    {
      "cell_type": "code",
      "source": [
        "cp=pd.read_excel('https://docs.google.com/spreadsheets/d/e/2PACX-1vT9JrvUwanM-z-hCZ1SSaxRx2wfzLV3RVvm5BJaf8TABBmpIwKt7iYt1sVLbImVevh9YNaZK9Y7sfI9/pub?output=xlsx')"
      ],
      "metadata": {
        "id": "FYi66eYGHO0a"
      },
      "execution_count": 13,
      "outputs": []
    },
    {
      "cell_type": "markdown",
      "source": [
        "Level 1 Physics concepts"
      ],
      "metadata": {
        "id": "LdaXumXYddIA"
      }
    },
    {
      "cell_type": "code",
      "source": [
        "ph1=cp[ (cp['level']==1) & (cp['parent_display_names'].fillna('').str.contains('Physics')) \n",
        "      ]['display_name'].to_list()"
      ],
      "metadata": {
        "id": "ErMIBGXBHpnj"
      },
      "execution_count": 14,
      "outputs": []
    },
    {
      "cell_type": "code",
      "source": [
        "len(ph1)"
      ],
      "metadata": {
        "colab": {
          "base_uri": "https://localhost:8080/"
        },
        "id": "u6pkEHilJntf",
        "outputId": "741c2aa1-5ad8-460c-ec84-d601fa324c4e"
      },
      "execution_count": 15,
      "outputs": [
        {
          "output_type": "execute_result",
          "data": {
            "text/plain": [
              "27"
            ]
          },
          "metadata": {},
          "execution_count": 15
        }
      ]
    },
    {
      "cell_type": "markdown",
      "source": [
        "Level 2 Physics concepts"
      ],
      "metadata": {
        "id": "XWrkUyFtdkWp"
      }
    },
    {
      "cell_type": "code",
      "source": [
        "ph2=cp[(cp['level']==2) & (cp['parent_display_names'].str.split(', ').apply(\n",
        "    lambda l: set(l).intersection(set(ph1)) if isinstance(l,list) else set()\n",
        "    ).apply(len)>0)]['display_name'].to_list()\n",
        "len(ph2)"
      ],
      "metadata": {
        "colab": {
          "base_uri": "https://localhost:8080/"
        },
        "id": "sVvbyDuFI-lT",
        "outputId": "b60a2c6c-9044-4d96-8586-ffced9e51b14"
      },
      "execution_count": 16,
      "outputs": [
        {
          "output_type": "execute_result",
          "data": {
            "text/plain": [
              "2979"
            ]
          },
          "metadata": {},
          "execution_count": 16
        }
      ]
    },
    {
      "cell_type": "markdown",
      "source": [
        "Level 0 UdeA Physics articles"
      ],
      "metadata": {
        "id": "UGhSLHZLd7OD"
      }
    },
    {
      "cell_type": "code",
      "source": [
        "possible_physics=objeto[objeto['concepts'].apply(lambda l: {'Physics'}.intersection( \n",
        "    [d.get('display_name') for d in l if d.get('level')==0])).apply(len)>0]\n",
        "possible_physics.shape\n"
      ],
      "metadata": {
        "colab": {
          "base_uri": "https://localhost:8080/"
        },
        "id": "y1M30oDsPH7J",
        "outputId": "2c7f99dc-add3-4559-94d0-084c15d906a2"
      },
      "execution_count": 17,
      "outputs": [
        {
          "output_type": "execute_result",
          "data": {
            "text/plain": [
              "(1886, 25)"
            ]
          },
          "metadata": {},
          "execution_count": 17
        }
      ]
    },
    {
      "cell_type": "markdown",
      "source": [
        "Level 1 UdeA Physics concepts"
      ],
      "metadata": {
        "id": "Mv0amq8LeEsi"
      }
    },
    {
      "cell_type": "code",
      "source": [
        "ll=possible_physics['concepts'].apply(lambda l: set([d.get('display_name') for d in l if d.get('level')==1]).intersection(ph1)).apply(list)\n",
        "ph1_udea=set([item for subitem in ll for item in subitem])"
      ],
      "metadata": {
        "id": "Y6rdzp6TRqIL"
      },
      "execution_count": 18,
      "outputs": []
    },
    {
      "cell_type": "markdown",
      "source": [
        "Missing Level 1 concepts"
      ],
      "metadata": {
        "id": "JcKbUTgxpVdI"
      }
    },
    {
      "cell_type": "code",
      "source": [
        "set(ph1).difference(ph1_udea)"
      ],
      "metadata": {
        "colab": {
          "base_uri": "https://localhost:8080/"
        },
        "id": "jgFdTudFS78z",
        "outputId": "3f61a62f-2edb-4e5d-c752-114432f06241"
      },
      "execution_count": 19,
      "outputs": [
        {
          "output_type": "execute_result",
          "data": {
            "text/plain": [
              "{'Geophysics', 'Medical physics'}"
            ]
          },
          "metadata": {},
          "execution_count": 19
        }
      ]
    },
    {
      "cell_type": "markdown",
      "source": [
        "Level 2 UdeA Physics concepts"
      ],
      "metadata": {
        "id": "mxjkUxsAeLdL"
      }
    },
    {
      "cell_type": "code",
      "source": [
        "ll=possible_physics['concepts'].apply(lambda l: set([d.get('display_name') for d in l if d.get('level')==2]).intersection(ph2)).apply(list)\n",
        "ph2_udea=set([item for subitem in ll for item in subitem])"
      ],
      "metadata": {
        "id": "3tr1epPcTnoh"
      },
      "execution_count": 123,
      "outputs": []
    },
    {
      "cell_type": "code",
      "source": [
        "len(ph2_udea)"
      ],
      "metadata": {
        "colab": {
          "base_uri": "https://localhost:8080/"
        },
        "id": "TalgtO9ZTsO5",
        "outputId": "811f99d8-9705-4d26-bc6d-65899eaae312"
      },
      "execution_count": 185,
      "outputs": [
        {
          "output_type": "execute_result",
          "data": {
            "text/plain": [
              "507"
            ]
          },
          "metadata": {},
          "execution_count": 185
        }
      ]
    },
    {
      "cell_type": "markdown",
      "source": [
        "UdeA Physics concepts tree"
      ],
      "metadata": {
        "id": "abJlxAQ8eRjV"
      }
    },
    {
      "cell_type": "code",
      "source": [
        "d={'Physics': dict( [(c,[]) for c in ph1_udea])}\n",
        "for c in ph2_udea:\n",
        "    lph1=set(ph1_udea).intersection( cp[cp['display_name']==c]['parent_display_names'].str.split(', ').iloc[0])\n",
        "    for cc in lph1:\n",
        "        if cc in d['Physics'] and c not in d['Physics'][cc]:\n",
        "            d['Physics'][cc].append(c)\n"
      ],
      "metadata": {
        "id": "aCimXtpyUoo9"
      },
      "execution_count": 186,
      "outputs": []
    },
    {
      "cell_type": "code",
      "source": [
        "JSON(d)"
      ],
      "metadata": {
        "colab": {
          "base_uri": "https://localhost:8080/",
          "height": 520
        },
        "id": "o7V-XksVYpQo",
        "outputId": "cc894b4c-5d7f-4255-f69d-f0f51fc42cd5"
      },
      "execution_count": 187,
      "outputs": [
        {
          "output_type": "execute_result",
          "data": {
            "text/plain": [
              "<IPython.core.display.HTML object>"
            ],
            "text/html": [
              "\n",
              "<script src=\"https://rawgit.com/caldwell/renderjson/master/renderjson.js\"></script>\n",
              "<script>\n",
              "renderjson.set_show_to_level(1)\n",
              "document.body.appendChild(renderjson({\"Physics\": {\"Atmospheric sciences\": [\"Solar irradiance\", \"Cirrus\"], \"Condensed matter physics\": [\"Random phase approximation\", \"Band bending\", \"Antiferromagnetism\", \"Rectangular potential barrier\", \"Anderson localization\", \"Magnetic susceptibility\", \"Quasicrystal\", \"Hysteresis\", \"Spins\", \"Superfluidity\", \"Heterojunction\", \"Point reflection\", \"Quantum tunnelling\", \"Phonon\", \"Ising model\", \"Universality (dynamical systems)\", \"Electronic structure\", \"Anharmonicity\", \"Liquid crystal\", \"Gallium arsenide\", \"Anomaly (physics)\", \"Pseudopotential\", \"Paramagnetism\", \"Charge carrier\", \"Superlattice\", \"Exciton\", \"Phase transition\", \"Drude model\", \"Band gap\", \"Precession\", \"Brillouin zone\", \"Optical conductivity\", \"Geometric phase\", \"Quasiperiodic function\", \"Density of states\", \"Debye\", \"Dispersion relation\", \"Conductance\", \"Ferromagnetism\", \"Zero temperature\", \"Vacancy defect\", \"Acceptor\", \"Crystallographic defect\", \"Polariton\", \"Fermi Gamma-ray Space Telescope\", \"Electronic band structure\", \"Solid-state physics\", \"Dephasing\", \"Many-body theory\", \"Thermal fluctuations\", \"Superconductivity\", \"Frustration\", \"Magnetic moment\", \"Doping\"], \"Astrophysics\": [\"Neutron star\", \"Occultation\", \"Comet\", \"Cosmic ray\", \"COSMIC cancer database\", \"Star (game theory)\", \"Event (particle physics)\", \"Density contrast\", \"Gravitational wave\", \"Dark matter\", \"Solar System\", \"Celestial mechanics\", \"Radio telescope\", \"Planet\", \"Cosmology\", \"Stars\", \"Gamma-ray burst\", \"Telescope\", \"Baryon\", \"Millimeter\", \"Supernova\", \"Universe\", \"Orbital elements\", \"Planck\", \"Mass ratio\", \"Pulsar\", \"Accretion (finance)\", \"Magnitude (astronomy)\", \"Eclipse\", \"Light curve\", \"Maser\", \"Fermi Gamma-ray Space Telescope\", \"Circular orbit\", \"Gamma ray\", \"Galaxy\", \"Tidal force\"], \"Optics\": [\"Ghost imaging\", \"Quantum optics\", \"Integrated optics\", \"Terahertz radiation\", \"Streaking\", \"Extinction (optical mineralogy)\", \"Focus (optics)\", \"Achromatic lens\", \"Brightness\", \"Grating\", \"Spectrometer\", \"Speckle pattern\", \"Left handed\", \"Metamaterial\", \"Light field\", \"Depth of field\", \"Luminescence\", \"Refractive index\", \"Pinhole (optics)\", \"Microscope\", \"Resonator\", \"Photoluminescence\", \"Azimuth\", \"Irradiance\", \"Ultraviolet\", \"Spatial light modulator\", \"Transfer-matrix method (optics)\", \"Scattering\", \"Rainbow\", \"Image resolution\", \"Slit\", \"Light beam\", \"Sunlight\", \"Wavelength\", \"Scanner\", \"Liquid crystal\", \"Gallium arsenide\", \"Optical communication\", \"Beam (structure)\", \"Orange (colour)\", \"Collimator\", \"Birefringence\", \"Presbyopia\", \"Plane wave\", \"Wave propagation\", \"Photonic crystal\", \"Transmittance\", \"Full width at half maximum\", \"Photonics\", \"Drude model\", \"Brillouin zone\", \"Monocular\", \"Characterization (materials science)\", \"Light intensity\", \"Physical optics\", \"Geometrical optics\", \"Lambda\", \"Electromagnetic radiation\", \"Interferometry\", \"Tomography\", \"Attenuation coefficient\", \"Waveguide\", \"Dispersion relation\", \"Telescope\", \"Millimeter\", \"Binocular vision\", \"Flash (photography)\", \"Contrast (vision)\", \"Absorption (acoustics)\", \"Imaging phantom\", \"Field of view\", \"Microscopy\", \"Dispersion (optics)\", \"Spatial frequency\", \"Plasmon\", \"Optical materials\", \"Amplitude\", \"Optical coherence tomography\", \"Photon\", \"Broadband\", \"Frame rate\", \"Monochromatic electromagnetic plane wave\", \"Fluorescence\", \"Chromatic scale\", \"Infrared\", \"Radiation\", \"Radiative transfer\", \"Intensity (physics)\", \"Projector\", \"Wavefront\", \"Anisotropy\", \"Polariton\", \"Maser\", \"Absorption spectroscopy\", \"Electromagnetically induced transparency\", \"Visibility\", \"Brewster\", \"Digital micromirror device\", \"Raman spectroscopy\", \"Holography\", \"Near and far field\", \"Photorefractive effect\", \"Optical engineering\", \"Detector\", \"Group velocity\", \"Lens (geology)\", \"Adaptive optics\", \"Core (optical fiber)\", \"Dichroism\", \"Bessel function\", \"Refraction\", \"Monochromatic color\", \"Opacity\", \"Diffraction\", \"Isotropy\", \"Pupil\", \"Laser\", \"Optical fiber\", \"Astigmatism\", \"Optical filter\", \"Monocular vision\"], \"Theoretical physics\": [\"Energy density\", \"Extra dimensions\", \"Cosmological constant\", \"Lagrangian\", \"General relativity\", \"Modern physics\", \"Inflation (cosmology)\"], \"Astronomy\": [\"Achromatic lens\", \"Brightness\", \"Neutron star\", \"Occultation\", \"Comet\", \"Meteor (satellite)\", \"Cosmic ray\", \"Copernicus\", \"COSMIC cancer database\", \"Density contrast\", \"Gravitational wave\", \"Spacecraft\", \"Dark matter\", \"Solar System\", \"Azimuth\", \"Cross section (physics)\", \"Horizon\", \"Energy flux\", \"Sunlight\", \"Spectral line\", \"Asteroid\", \"Meteoroid\", \"Polar\", \"Solar irradiance\", \"Celestial mechanics\", \"Radio telescope\", \"Astronomer\", \"Precession\", \"Planet\", \"Cosmology\", \"Stars\", \"Gamma-ray burst\", \"Constellation\", \"Interferometry\", \"Telescope\", \"Millimeter\", \"Solar eclipse\", \"Supernova\", \"Perturbation (astronomy)\", \"Three-body problem\", \"Universe\", \"Orbital elements\", \"Planck\", \"Pulsar\", \"Trajectory\", \"Meteorite\", \"Flattening\", \"Magnitude (astronomy)\", \"History of astronomy\", \"Infrared\", \"Spectroscopy\", \"Eclipse\", \"Hyperfine structure\", \"Light curve\", \"Maser\", \"Nutation\", \"Term (time)\", \"Adaptive optics\", \"Inflation (cosmology)\", \"Gravitation\", \"Circular orbit\", \"Impact crater\", \"Delta\", \"Sigma\", \"Galaxy\", \"Tidal force\", \"Hydrostatic equilibrium\", \"Parallax\"], \"Thermodynamics\": [\"Entropy (arrow of time)\", \"Degrees of freedom (physics and chemistry)\", \"Dimensionless quantity\", \"Jet (fluid)\", \"Equation of state\", \"Advection\", \"Torque\", \"Boltzmann distribution\", \"Spin (aerodynamics)\", \"Turbine\", \"Differential (mechanical device)\", \"Shock wave\", \"Drag\", \"Carnot cycle\", \"Dissipation\", \"Diesel engine\", \"Dissipative system\", \"Relative humidity\", \"Thermal\", \"High pressure\", \"Ignition system\", \"Computational fluid dynamics\", \"Phase transition\", \"Thermal conductivity\", \"Adiabatic process\", \"Thermal conduction\", \"Detailed balance\", \"Turbulence\", \"Heat transfer\", \"Boltzmann equation\", \"Work (physics)\", \"Laminar flow\", \"Hydraulic head\", \"Statistical mechanics\", \"Isobaric process\", \"Atmosphere (unit)\", \"Phase space\", \"Power (physics)\", \"Thermal radiation\", \"Vortex\", \"Component (thermodynamics)\", \"Euler equations\", \"Finite difference method\", \"Diffusion\", \"Energy conversion efficiency\", \"Compressibility\", \"Thermalisation\", \"Thermal diffusivity\", \"Finite element method\", \"Surface roughness\", \"Energy landscape\", \"Thermoelectric effect\", \"Circulation (fluid dynamics)\", \"Current (fluid)\", \"Distribution function\", \"Condensation\", \"Hydrostatic pressure\", \"Homogeneous\", \"Thermal fluctuations\", \"Boltzmann constant\", \"Thermal equilibrium\", \"Helmholtz free energy\"], \"Acoustics\": [\"Degree (music)\", \"Lattice (music)\", \"Binaural recording\", \"Piezoelectricity\", \"Vibration\", \"Absorption (acoustics)\", \"Modulation (music)\", \"Aperture (computer memory)\", \"Chromatic scale\", \"Dynamics (music)\", \"Harmonic\"], \"Engineering physics\": [\"Energy density\", \"High pressure\", \"National laboratory\"], \"Nuclear physics\": [\"Nuclear reaction\", \"Invariant mass\", \"Relativistic quantum chemistry\", \"Cosmic ray\", \"Binding energy\", \"Bubble chamber\", \"Pair production\", \"Physics beyond the Standard Model\", \"Collider\", \"Neutrino\", \"Impact parameter\", \"Muon\", \"Large Hadron Collider\", \"Irradiation\", \"Hadron\", \"Proton\", \"Isotope\", \"Neutron\", \"CP violation\", \"Meson\", \"Excited state\", \"Isospin\", \"Baryon\", \"Pion\", \"Plasma\", \"Electron\", \"Recoil\", \"Branching fraction\", \"Quark\", \"Charm (quantum number)\", \"Nucleon\", \"Radiation\", \"Elementary particle\", \"Beta decay\", \"Nuclear structure\", \"Fermilab\", \"Annihilation\", \"Gamma ray\"], \"Particle physics\": [\"Coupling constant\", \"Invariant mass\", \"Extra dimensions\", \"Flavour\", \"Bubble chamber\", \"Pair production\", \"Physics beyond the Standard Model\", \"Collider\", \"Parity (physics)\", \"Bound state\", \"Neutrino\", \"Dark matter\", \"U-1\", \"Quantum chromodynamics\", \"Muon\", \"Large Hadron Collider\", \"Fermion\", \"Higgs boson\", \"Hadron\", \"Symmetry breaking\", \"CP violation\", \"Charge (physics)\", \"Meson\", \"Isospin\", \"Baryon\", \"Yukawa potential\", \"Pion\", \"Helicity\", \"Massless particle\", \"Branching fraction\", \"Unitarity\", \"Quark\", \"Charm (quantum number)\", \"Weak interaction\", \"Effective field theory\", \"Perturbation theory (quantum mechanics)\", \"Nucleon\", \"Elementary particle\", \"Resonance (particle physics)\", \"Fermilab\", \"Gauge theory\", \"Annihilation\", \"Boson\", \"Supersymmetry\", \"Asymmetry\", \"Electroweak interaction\"], \"Quantum mechanics\": [\"Random phase approximation\", \"Nuclear reaction\", \"Coupling constant\", \"Dirac equation\", \"Angular velocity\", \"Quantum optics\", \"Thin film\", \"Antiferromagnetism\", \"Entropy (arrow of time)\", \"Degrees of freedom (physics and chemistry)\", \"Simultaneity\", \"Rectangular potential barrier\", \"Dimensionless quantity\", \"Metastability\", \"Helium\", \"Voltage\", \"Ion\", \"Terahertz radiation\", \"Potential energy\", \"Perfect fluid\", \"Anderson localization\", \"Invariant mass\", \"Extra dimensions\", \"Relativistic quantum chemistry\", \"Neutron star\", \"Spectrometer\", \"Hydrogen\", \"Flavour\", \"Scale (ratio)\", \"Scalar field\", \"Meteor (satellite)\", \"Metamaterial\", \"Euler angles\", \"Magnetic susceptibility\", \"Binding energy\", \"Equation of state\", \"Advection\", \"Torque\", \"Bubble chamber\", \"Pair production\", \"Scalar potential\", \"Physics beyond the Standard Model\", \"Hysteresis\", \"Boltzmann distribution\", \"Event (particle physics)\", \"Impurity\", \"Langevin dynamics\", \"Density contrast\", \"Ground state\", \"Kinetics\", \"Gravitational wave\", \"Superfluidity\", \"Quantum field theory\", \"Electrostatics\", \"Partial differential equation\", \"Refractive index\", \"Collider\", \"Stationary state\", \"Parity (physics)\", \"Electromagnetic shielding\", \"Bound state\", \"Neutrino\", \"Heterojunction\", \"Quantum tunnelling\", \"Dipole\", \"Quantum number\", \"Phonon\", \"Current density\", \"Fock space\", \"Ising model\", \"Phenomenon\", \"Test particle\", \"Cross section (physics)\", \"Universality (dynamical systems)\", \"Irradiance\", \"U-1\", \"Carnot cycle\", \"Ultraviolet\", \"Spatial light modulator\", \"Transfer-matrix method (optics)\", \"Scattering\", \"Rainbow\", \"Covariant transformation\", \"Position and momentum space\", \"Dissipation\", \"Energy flux\", \"Circular symmetry\", \"Electrical conductor\", \"Molecule\", \"Quantum chromodynamics\", \"Einstein\", \"Dissipative system\", \"Impact parameter\", \"Kinetic energy\", \"Instability\", \"Electronic structure\", \"Light beam\", \"Sunlight\", \"Observer (physics)\", \"Muon\", \"Wavelength\", \"Anharmonicity\", \"Anomaly (physics)\", \"Pseudopotential\", \"Quantum dot\", \"Spectral line\", \"Paramagnetism\", \"Large Hadron Collider\", \"Charge carrier\", \"Acceleration\", \"Collimator\", \"Birefringence\", \"Special unitary group\", \"Irradiation\", \"Fermion\", \"Electric charge\", \"Angular momentum\", \"Plane wave\", \"Wave propagation\", \"Photonic crystal\", \"Transmittance\", \"Full width at half maximum\", \"Superlattice\", \"Photonics\", \"Renormalization group\", \"Polar\", \"Anti-de Sitter space\", \"Vibration\", \"Electronic circuit\", \"Exciton\", \"Wave packet\", \"Radio telescope\", \"Higgs boson\", \"Stator\", \"Phase transition\", \"Electrical network\", \"Drude model\", \"Thermal conductivity\", \"Physics education\", \"Hadron\", \"Band gap\", \"Precession\", \"Multipole expansion\", \"Brillouin zone\", \"Conserved quantity\", \"Adiabatic process\", \"Energy (signal processing)\", \"Thermal conduction\", \"Optical conductivity\", \"Cosmology\", \"Detailed balance\", \"Brownian motion\", \"Proton\", \"Nitrogen\", \"Isotope\", \"Fourier transform\", \"Symmetry breaking\", \"Dielectric\", \"Neutron\", \"Heat transfer\", \"Physical optics\", \"Variational method\", \"Geometric phase\", \"CP violation\", \"Geometrical optics\", \"Delocalized electron\", \"Charge (physics)\", \"Lambda\", \"Graphene\", \"Boundary value problem\", \"Gamma-ray burst\", \"Electromagnetic field\", \"Propagator\", \"Excitation\", \"Electromagnetic radiation\", \"Interferometry\", \"Covalent bond\", \"Density of states\", \"Attenuation coefficient\", \"Boltzmann equation\", \"Debye\", \"Waveguide\", \"Dispersion relation\", \"Meson\", \"Excited state\", \"Ab initio\", \"Work (physics)\", \"Diode\", \"Electric field\", \"Yukawa potential\", \"Action (physics)\", \"Pion\", \"Ferromagnetism\", \"Statistical mechanics\", \"Supernova\", \"Quadrupole\", \"Nanocrystal\", \"Perturbation (astronomy)\", \"Three-body problem\", \"Plasma\", \"Universe\", \"Poisson's equation\", \"Phase space\", \"Helicity\", \"Orbital elements\", \"Power (physics)\", \"Dispersion (optics)\", \"Planck\", \"Scale invariance\", \"Thermal radiation\", \"Spatial frequency\", \"Massless particle\", \"Electron\", \"Recoil\", \"Plasmon\", \"Pulsar\", \"Component (thermodynamics)\", \"Zero temperature\", \"Unitarity\", \"Euler equations\", \"Superposition principle\", \"Quark\", \"DC motor\", \"Amplitude\", \"Trajectory\", \"Charm (quantum number)\", \"Acceptor\", \"Diffusion\", \"Quantum\", \"Weak interaction\", \"Modern physics\", \"Effective field theory\", \"Photon\", \"Valence (chemistry)\", \"Perturbation theory (quantum mechanics)\", \"Calibration\", \"Renormalization\", \"Orthonormal basis\", \"Monochromatic electromagnetic plane wave\", \"Fluorescence\", \"Topological quantum number\", \"Density functional theory\", \"Infrared\", \"Radiation\", \"Spectroscopy\", \"Radiative transfer\", \"Quality (philosophy)\", \"Molecular dynamics\", \"Reduced mass\", \"Bohr model\", \"Group (periodic table)\", \"Intensity (physics)\", \"Thermalisation\", \"Thermal diffusivity\", \"Ansatz\", \"Degenerate energy levels\", \"Hyperfine structure\", \"Semiconductor\", \"Elementary particle\", \"Wavefront\", \"Anisotropy\", \"Time evolution\", \"Surface roughness\", \"Hartree\", \"Mixing (physics)\", \"Thermoelectric effect\", \"Beta decay\", \"Absorption spectroscopy\", \"Omega\", \"Rigid body\", \"Dynamical systems theory\", \"Nutation\", \"Fermi Gamma-ray Space Telescope\", \"Electronic band structure\", \"Brewster\", \"Distribution function\", \"Coherence (philosophical gambling strategy)\", \"Harmonic\", \"Wave function\", \"Inertia\", \"Term (time)\", \"Nuclear structure\", \"Inert\", \"Resonance (particle physics)\", \"Raman spectroscopy\", \"Fermilab\", \"Holography\", \"Near and far field\", \"Photorefractive effect\", \"Solid-state physics\", \"Gauge theory\", \"Ground\", \"Optical engineering\", \"Electrical impedance\", \"Magnetic field\", \"Gaussian\", \"Dephasing\", \"Group velocity\", \"Chromophore\", \"Annihilation\", \"Electrical phenomena\", \"Dichroism\", \"Bessel function\", \"Inflation (cosmology)\", \"Refraction\", \"Gravitation\", \"Opacity\", \"Boson\", \"Diffraction\", \"Isotropy\", \"Many-body theory\", \"Spectrum (functional analysis)\", \"Exact solutions in general relativity\", \"Laser\", \"Observable\", \"Nonlinear system\", \"Vial\", \"Kinematics\", \"Thermal fluctuations\", \"Supersymmetry\", \"Gyroscope\", \"Gamma ray\", \"Boltzmann constant\", \"Thermal equilibrium\", \"Superconductivity\", \"Spacetime\", \"Magnetic moment\", \"Asymmetry\", \"Conservation law\", \"Electroweak interaction\", \"Sigma\", \"Galaxy\", \"Optical filter\", \"Morse potential\", \"Tidal force\", \"Hydrostatic equilibrium\", \"Phase (matter)\", \"Doping\", \"Helmholtz free energy\", \"Eigenvalues and eigenvectors\"], \"Meteorology\": [\"Meteor (satellite)\", \"Atmospheric pressure\", \"Bar (unit)\", \"Relative humidity\", \"Thermal\", \"Solar irradiance\", \"Turbulence\", \"Atmosphere (unit)\", \"Vortex\", \"Cirrus\", \"Visibility\", \"Condensation\"], \"Quantum electrodynamics\": [], \"Mechanics\": [\"Dimensionless quantity\", \"Jet (fluid)\", \"Flow (mathematics)\", \"Inviscid flow\", \"Shock wave\", \"Drag\", \"Instability\", \"High pressure\", \"Rotational symmetry\", \"Computational fluid dynamics\", \"Turbulence\", \"Heat transfer\", \"Computer simulation\", \"Laminar flow\", \"Vortex\", \"Compressibility\", \"Circulation (fluid dynamics)\", \"Hydrostatic pressure\"], \"Chemical physics\": [], \"Statistical physics\": [\"Boltzmann distribution\", \"Langevin dynamics\", \"Ising model\", \"Detailed balance\", \"Statistical mechanics\", \"Autocatalytic reaction\", \"Homogeneous\"], \"Atomic physics\": [\"Random phase approximation\", \"Nuclear reaction\", \"Helium\", \"Potential energy\", \"Relativistic quantum chemistry\", \"Binding energy\", \"Ground state\", \"Parity (physics)\", \"Quantum number\", \"Impact parameter\", \"Pseudopotential\", \"Wave packet\", \"Excited state\", \"Isospin\", \"Quadrupole\", \"Recoil\", \"Branching fraction\", \"SHELL model\", \"Nucleon\", \"Reduced mass\", \"Thermalisation\", \"Hyperfine structure\", \"Hartree\", \"Beta decay\", \"Electromagnetically induced transparency\", \"Wave function\", \"Nuclear structure\", \"Resonance (particle physics)\", \"Morse potential\"], \"Nuclear magnetic resonance\": [\"Cryo-electron microscopy\", \"Dimer\", \"Stacking\", \"Vacancy defect\", \"Protein Data Bank (RCSB PDB)\", \"Crystallographic defect\"], \"Classical mechanics\": [\"Angular velocity\", \"Simultaneity\", \"Potential energy\", \"Perfect fluid\", \"Cosmological constant\", \"Scalar field\", \"Scalar potential\", \"Kinetics\", \"Inviscid flow\", \"Test particle\", \"Circular symmetry\", \"Einstein\", \"Kinetic energy\", \"Acceleration\", \"Motion (physics)\", \"Angular momentum\", \"Anti-de Sitter space\", \"Celestial mechanics\", \"Conserved quantity\", \"General relativity\", \"Three-body problem\", \"Field equation\", \"Monochromatic electromagnetic plane wave\", \"Reduced mass\", \"Rigid body\", \"Inertia\", \"Gravitation\", \"Circular orbit\", \"Kinematics\"], \"Mathematical physics\": [\"Dirac equation\", \"Perfect fluid\", \"Cosmological constant\", \"Scalar field\", \"Scalar potential\", \"Quantum field theory\", \"U-1\", \"Noncommutative geometry\", \"Covariant transformation\", \"Einstein\", \"Integrable system\", \"Special unitary group\", \"Renormalization group\", \"Anti-de Sitter space\", \"Lagrangian\", \"Isospectral\", \"Conserved quantity\", \"General relativity\", \"Propagator\", \"Field equation\", \"Massless particle\", \"Renormalization\", \"Ansatz\", \"Gauge theory\", \"Supersymmetry\"], \"Computational physics\": [], \"Astrobiology\": [\"Comet\", \"Water ice\", \"Copernicus\", \"Solar System\", \"Asteroid\", \"Meteoroid\", \"Meteorite\", \"Linea\", \"Impact crater\"], \"Molecular physics\": [], \"Optoelectronics\": [\"Band bending\", \"Integrated optics\", \"Rectangular potential barrier\", \"Terahertz radiation\", \"Grating\", \"Metamaterial\", \"Luminescence\", \"Refractive index\", \"Heterojunction\", \"Resonator\", \"Photoluminescence\", \"Quantum tunnelling\", \"Ultraviolet\", \"Spatial light modulator\", \"Transfer-matrix method (optics)\", \"Wavelength\", \"Liquid crystal\", \"Gallium arsenide\", \"Optical communication\", \"Quantum dot\", \"Charge carrier\", \"Photonic crystal\", \"Transmittance\", \"Full width at half maximum\", \"Superlattice\", \"Photonics\", \"Band gap\", \"Dielectric\", \"Waveguide\", \"Diode\", \"Plasmon\", \"Optical materials\", \"Energy conversion efficiency\", \"Semiconductor\", \"Indium\", \"Silicon\", \"Polariton\", \"Cadmium telluride photovoltaics\", \"Electromagnetically induced transparency\", \"Photorefractive effect\", \"Optical filter\", \"Doping\"]}}))\n",
              "new ResizeObserver(google.colab.output.resizeIframeToContent).observe(document.body)\n",
              "</script>\n"
            ]
          },
          "metadata": {},
          "execution_count": 187
        }
      ]
    },
    {
      "cell_type": "code",
      "source": [
        "\n",
        "f=open('openalexua.json','w')\n",
        "json.dump(objeto,f)\n",
        "f.close()"
      ],
      "metadata": {
        "id": "WxZlWJSi2bNO"
      },
      "execution_count": null,
      "outputs": []
    },
    {
      "cell_type": "code",
      "source": [
        "\n",
        "x=set()\n",
        "type(x)"
      ],
      "metadata": {
        "colab": {
          "base_uri": "https://localhost:8080/"
        },
        "id": "ldOuxLZTKkgW",
        "outputId": "df37b14f-c831-409d-e81c-5df6dff7ddd3"
      },
      "execution_count": 50,
      "outputs": [
        {
          "output_type": "execute_result",
          "data": {
            "text/plain": [
              "set"
            ]
          },
          "metadata": {},
          "execution_count": 50
        }
      ]
    },
    {
      "cell_type": "code",
      "source": [
        "f=open('openalexua.json','r')\n",
        "df=json.load(f)\n",
        "f.close()"
      ],
      "metadata": {
        "id": "0ZV04Aph_g8l"
      },
      "execution_count": null,
      "outputs": []
    },
    {
      "cell_type": "code",
      "source": [],
      "metadata": {
        "id": "4Ij8SZisCy7J",
        "colab": {
          "base_uri": "https://localhost:8080/",
          "height": 520
        },
        "outputId": "e2c3d1d3-647a-4877-9b12-cc1343cf57f5"
      },
      "execution_count": 173,
      "outputs": [
        {
          "output_type": "execute_result",
          "data": {
            "text/plain": [
              "<IPython.core.display.HTML object>"
            ],
            "text/html": [
              "\n",
              "<script src=\"https://rawgit.com/caldwell/renderjson/master/renderjson.js\"></script>\n",
              "<script>\n",
              "renderjson.set_show_to_level(1)\n",
              "document.body.appendChild(renderjson({\"Physics\": {\"Atmospheric sciences\": [\"Solar irradiance\", \"Cirrus\"], \"Condensed matter physics\": [\"Random phase approximation\", \"Band bending\", \"Antiferromagnetism\", \"Rectangular potential barrier\", \"Anderson localization\", \"Magnetic susceptibility\", \"Quasicrystal\", \"Hysteresis\", \"Spins\", \"Superfluidity\", \"Heterojunction\", \"Point reflection\", \"Quantum tunnelling\", \"Phonon\", \"Ising model\", \"Universality (dynamical systems)\", \"Electronic structure\", \"Anharmonicity\", \"Liquid crystal\", \"Gallium arsenide\", \"Anomaly (physics)\", \"Pseudopotential\", \"Paramagnetism\", \"Charge carrier\", \"Superlattice\", \"Exciton\", \"Phase transition\", \"Drude model\", \"Band gap\", \"Precession\", \"Brillouin zone\", \"Optical conductivity\", \"Geometric phase\", \"Quasiperiodic function\", \"Density of states\", \"Debye\", \"Dispersion relation\", \"Conductance\", \"Ferromagnetism\", \"Zero temperature\", \"Vacancy defect\", \"Acceptor\", \"Crystallographic defect\", \"Polariton\", \"Fermi Gamma-ray Space Telescope\", \"Electronic band structure\", \"Solid-state physics\", \"Dephasing\", \"Many-body theory\", \"Thermal fluctuations\", \"Superconductivity\", \"Frustration\", \"Magnetic moment\", \"Doping\"], \"Astrophysics\": [\"Neutron star\", \"Occultation\", \"Comet\", \"Cosmic ray\", \"COSMIC cancer database\", \"Star (game theory)\", \"Event (particle physics)\", \"Density contrast\", \"Gravitational wave\", \"Dark matter\", \"Solar System\", \"Celestial mechanics\", \"Radio telescope\", \"Planet\", \"Cosmology\", \"Stars\", \"Gamma-ray burst\", \"Telescope\", \"Baryon\", \"Millimeter\", \"Supernova\", \"Universe\", \"Orbital elements\", \"Planck\", \"Mass ratio\", \"Pulsar\", \"Accretion (finance)\", \"Magnitude (astronomy)\", \"Eclipse\", \"Light curve\", \"Maser\", \"Fermi Gamma-ray Space Telescope\", \"Circular orbit\", \"Gamma ray\", \"Galaxy\", \"Tidal force\"], \"Optics\": [\"Ghost imaging\", \"Quantum optics\", \"Integrated optics\", \"Terahertz radiation\", \"Streaking\", \"Extinction (optical mineralogy)\", \"Focus (optics)\", \"Achromatic lens\", \"Brightness\", \"Grating\", \"Spectrometer\", \"Speckle pattern\", \"Left handed\", \"Metamaterial\", \"Light field\", \"Depth of field\", \"Luminescence\", \"Refractive index\", \"Pinhole (optics)\", \"Microscope\", \"Resonator\", \"Photoluminescence\", \"Azimuth\", \"Irradiance\", \"Ultraviolet\", \"Spatial light modulator\", \"Transfer-matrix method (optics)\", \"Scattering\", \"Rainbow\", \"Image resolution\", \"Slit\", \"Light beam\", \"Sunlight\", \"Wavelength\", \"Scanner\", \"Liquid crystal\", \"Gallium arsenide\", \"Optical communication\", \"Beam (structure)\", \"Orange (colour)\", \"Collimator\", \"Birefringence\", \"Presbyopia\", \"Plane wave\", \"Wave propagation\", \"Photonic crystal\", \"Transmittance\", \"Full width at half maximum\", \"Photonics\", \"Drude model\", \"Brillouin zone\", \"Monocular\", \"Characterization (materials science)\", \"Light intensity\", \"Physical optics\", \"Geometrical optics\", \"Lambda\", \"Electromagnetic radiation\", \"Interferometry\", \"Tomography\", \"Attenuation coefficient\", \"Waveguide\", \"Dispersion relation\", \"Telescope\", \"Millimeter\", \"Binocular vision\", \"Flash (photography)\", \"Contrast (vision)\", \"Absorption (acoustics)\", \"Imaging phantom\", \"Field of view\", \"Microscopy\", \"Dispersion (optics)\", \"Spatial frequency\", \"Plasmon\", \"Optical materials\", \"Amplitude\", \"Optical coherence tomography\", \"Photon\", \"Broadband\", \"Frame rate\", \"Monochromatic electromagnetic plane wave\", \"Fluorescence\", \"Chromatic scale\", \"Infrared\", \"Radiation\", \"Radiative transfer\", \"Intensity (physics)\", \"Projector\", \"Wavefront\", \"Anisotropy\", \"Polariton\", \"Maser\", \"Absorption spectroscopy\", \"Electromagnetically induced transparency\", \"Visibility\", \"Brewster\", \"Digital micromirror device\", \"Raman spectroscopy\", \"Holography\", \"Near and far field\", \"Photorefractive effect\", \"Optical engineering\", \"Detector\", \"Group velocity\", \"Lens (geology)\", \"Adaptive optics\", \"Core (optical fiber)\", \"Dichroism\", \"Bessel function\", \"Refraction\", \"Monochromatic color\", \"Opacity\", \"Diffraction\", \"Isotropy\", \"Pupil\", \"Laser\", \"Optical fiber\", \"Astigmatism\", \"Optical filter\", \"Monocular vision\"], \"Theoretical physics\": [\"Energy density\", \"Extra dimensions\", \"Cosmological constant\", \"Lagrangian\", \"General relativity\", \"Modern physics\", \"Inflation (cosmology)\"], \"Astronomy\": [\"Achromatic lens\", \"Brightness\", \"Neutron star\", \"Occultation\", \"Comet\", \"Meteor (satellite)\", \"Cosmic ray\", \"Copernicus\", \"COSMIC cancer database\", \"Density contrast\", \"Gravitational wave\", \"Spacecraft\", \"Dark matter\", \"Solar System\", \"Azimuth\", \"Cross section (physics)\", \"Horizon\", \"Energy flux\", \"Sunlight\", \"Spectral line\", \"Asteroid\", \"Meteoroid\", \"Polar\", \"Solar irradiance\", \"Celestial mechanics\", \"Radio telescope\", \"Astronomer\", \"Precession\", \"Planet\", \"Cosmology\", \"Stars\", \"Gamma-ray burst\", \"Constellation\", \"Interferometry\", \"Telescope\", \"Millimeter\", \"Solar eclipse\", \"Supernova\", \"Perturbation (astronomy)\", \"Three-body problem\", \"Universe\", \"Orbital elements\", \"Planck\", \"Pulsar\", \"Trajectory\", \"Meteorite\", \"Flattening\", \"Magnitude (astronomy)\", \"History of astronomy\", \"Infrared\", \"Spectroscopy\", \"Eclipse\", \"Hyperfine structure\", \"Light curve\", \"Maser\", \"Nutation\", \"Term (time)\", \"Adaptive optics\", \"Inflation (cosmology)\", \"Gravitation\", \"Circular orbit\", \"Impact crater\", \"Delta\", \"Sigma\", \"Galaxy\", \"Tidal force\", \"Hydrostatic equilibrium\", \"Parallax\"], \"Thermodynamics\": [\"Entropy (arrow of time)\", \"Degrees of freedom (physics and chemistry)\", \"Dimensionless quantity\", \"Jet (fluid)\", \"Equation of state\", \"Advection\", \"Torque\", \"Boltzmann distribution\", \"Spin (aerodynamics)\", \"Turbine\", \"Differential (mechanical device)\", \"Shock wave\", \"Drag\", \"Carnot cycle\", \"Dissipation\", \"Diesel engine\", \"Dissipative system\", \"Relative humidity\", \"Thermal\", \"High pressure\", \"Ignition system\", \"Computational fluid dynamics\", \"Phase transition\", \"Thermal conductivity\", \"Adiabatic process\", \"Thermal conduction\", \"Detailed balance\", \"Turbulence\", \"Heat transfer\", \"Boltzmann equation\", \"Work (physics)\", \"Laminar flow\", \"Hydraulic head\", \"Statistical mechanics\", \"Isobaric process\", \"Atmosphere (unit)\", \"Phase space\", \"Power (physics)\", \"Thermal radiation\", \"Vortex\", \"Component (thermodynamics)\", \"Euler equations\", \"Finite difference method\", \"Diffusion\", \"Energy conversion efficiency\", \"Compressibility\", \"Thermalisation\", \"Thermal diffusivity\", \"Finite element method\", \"Surface roughness\", \"Energy landscape\", \"Thermoelectric effect\", \"Circulation (fluid dynamics)\", \"Current (fluid)\", \"Distribution function\", \"Condensation\", \"Hydrostatic pressure\", \"Homogeneous\", \"Thermal fluctuations\", \"Boltzmann constant\", \"Thermal equilibrium\", \"Helmholtz free energy\"], \"Acoustics\": [\"Degree (music)\", \"Lattice (music)\", \"Binaural recording\", \"Piezoelectricity\", \"Vibration\", \"Absorption (acoustics)\", \"Modulation (music)\", \"Aperture (computer memory)\", \"Chromatic scale\", \"Dynamics (music)\", \"Harmonic\"], \"Engineering physics\": [\"Energy density\", \"High pressure\", \"National laboratory\"], \"Nuclear physics\": [\"Nuclear reaction\", \"Invariant mass\", \"Relativistic quantum chemistry\", \"Cosmic ray\", \"Binding energy\", \"Bubble chamber\", \"Pair production\", \"Physics beyond the Standard Model\", \"Collider\", \"Neutrino\", \"Impact parameter\", \"Muon\", \"Large Hadron Collider\", \"Irradiation\", \"Hadron\", \"Proton\", \"Isotope\", \"Neutron\", \"CP violation\", \"Meson\", \"Excited state\", \"Isospin\", \"Baryon\", \"Pion\", \"Plasma\", \"Electron\", \"Recoil\", \"Branching fraction\", \"Quark\", \"Charm (quantum number)\", \"Nucleon\", \"Radiation\", \"Elementary particle\", \"Beta decay\", \"Nuclear structure\", \"Fermilab\", \"Annihilation\", \"Gamma ray\"], \"Particle physics\": [\"Coupling constant\", \"Invariant mass\", \"Extra dimensions\", \"Flavour\", \"Bubble chamber\", \"Pair production\", \"Physics beyond the Standard Model\", \"Collider\", \"Parity (physics)\", \"Bound state\", \"Neutrino\", \"Dark matter\", \"U-1\", \"Quantum chromodynamics\", \"Muon\", \"Large Hadron Collider\", \"Fermion\", \"Higgs boson\", \"Hadron\", \"Symmetry breaking\", \"CP violation\", \"Charge (physics)\", \"Meson\", \"Isospin\", \"Baryon\", \"Yukawa potential\", \"Pion\", \"Helicity\", \"Massless particle\", \"Branching fraction\", \"Unitarity\", \"Quark\", \"Charm (quantum number)\", \"Weak interaction\", \"Effective field theory\", \"Perturbation theory (quantum mechanics)\", \"Nucleon\", \"Elementary particle\", \"Resonance (particle physics)\", \"Fermilab\", \"Gauge theory\", \"Annihilation\", \"Boson\", \"Supersymmetry\", \"Asymmetry\", \"Electroweak interaction\"], \"Quantum mechanics\": [\"Random phase approximation\", \"Nuclear reaction\", \"Coupling constant\", \"Dirac equation\", \"Angular velocity\", \"Quantum optics\", \"Thin film\", \"Antiferromagnetism\", \"Entropy (arrow of time)\", \"Degrees of freedom (physics and chemistry)\", \"Simultaneity\", \"Rectangular potential barrier\", \"Dimensionless quantity\", \"Metastability\", \"Helium\", \"Voltage\", \"Ion\", \"Terahertz radiation\", \"Potential energy\", \"Perfect fluid\", \"Anderson localization\", \"Invariant mass\", \"Extra dimensions\", \"Relativistic quantum chemistry\", \"Neutron star\", \"Spectrometer\", \"Hydrogen\", \"Flavour\", \"Scale (ratio)\", \"Scalar field\", \"Meteor (satellite)\", \"Metamaterial\", \"Euler angles\", \"Magnetic susceptibility\", \"Binding energy\", \"Equation of state\", \"Advection\", \"Torque\", \"Bubble chamber\", \"Pair production\", \"Scalar potential\", \"Physics beyond the Standard Model\", \"Hysteresis\", \"Boltzmann distribution\", \"Event (particle physics)\", \"Impurity\", \"Langevin dynamics\", \"Density contrast\", \"Ground state\", \"Kinetics\", \"Gravitational wave\", \"Superfluidity\", \"Quantum field theory\", \"Electrostatics\", \"Partial differential equation\", \"Refractive index\", \"Collider\", \"Stationary state\", \"Parity (physics)\", \"Electromagnetic shielding\", \"Bound state\", \"Neutrino\", \"Heterojunction\", \"Quantum tunnelling\", \"Dipole\", \"Quantum number\", \"Phonon\", \"Current density\", \"Fock space\", \"Ising model\", \"Phenomenon\", \"Test particle\", \"Cross section (physics)\", \"Universality (dynamical systems)\", \"Irradiance\", \"U-1\", \"Carnot cycle\", \"Ultraviolet\", \"Spatial light modulator\", \"Transfer-matrix method (optics)\", \"Scattering\", \"Rainbow\", \"Covariant transformation\", \"Position and momentum space\", \"Dissipation\", \"Energy flux\", \"Circular symmetry\", \"Electrical conductor\", \"Molecule\", \"Quantum chromodynamics\", \"Einstein\", \"Dissipative system\", \"Impact parameter\", \"Kinetic energy\", \"Instability\", \"Electronic structure\", \"Light beam\", \"Sunlight\", \"Observer (physics)\", \"Muon\", \"Wavelength\", \"Anharmonicity\", \"Anomaly (physics)\", \"Pseudopotential\", \"Quantum dot\", \"Spectral line\", \"Paramagnetism\", \"Large Hadron Collider\", \"Charge carrier\", \"Acceleration\", \"Collimator\", \"Birefringence\", \"Special unitary group\", \"Irradiation\", \"Fermion\", \"Electric charge\", \"Angular momentum\", \"Plane wave\", \"Wave propagation\", \"Photonic crystal\", \"Transmittance\", \"Full width at half maximum\", \"Superlattice\", \"Photonics\", \"Renormalization group\", \"Polar\", \"Anti-de Sitter space\", \"Vibration\", \"Electronic circuit\", \"Exciton\", \"Wave packet\", \"Radio telescope\", \"Higgs boson\", \"Stator\", \"Phase transition\", \"Electrical network\", \"Drude model\", \"Thermal conductivity\", \"Physics education\", \"Hadron\", \"Band gap\", \"Precession\", \"Multipole expansion\", \"Brillouin zone\", \"Conserved quantity\", \"Adiabatic process\", \"Energy (signal processing)\", \"Thermal conduction\", \"Optical conductivity\", \"Cosmology\", \"Detailed balance\", \"Brownian motion\", \"Proton\", \"Nitrogen\", \"Isotope\", \"Fourier transform\", \"Symmetry breaking\", \"Dielectric\", \"Neutron\", \"Heat transfer\", \"Physical optics\", \"Variational method\", \"Geometric phase\", \"CP violation\", \"Geometrical optics\", \"Delocalized electron\", \"Charge (physics)\", \"Lambda\", \"Graphene\", \"Boundary value problem\", \"Gamma-ray burst\", \"Electromagnetic field\", \"Propagator\", \"Excitation\", \"Electromagnetic radiation\", \"Interferometry\", \"Covalent bond\", \"Density of states\", \"Attenuation coefficient\", \"Boltzmann equation\", \"Debye\", \"Waveguide\", \"Dispersion relation\", \"Meson\", \"Excited state\", \"Ab initio\", \"Work (physics)\", \"Diode\", \"Electric field\", \"Yukawa potential\", \"Action (physics)\", \"Pion\", \"Ferromagnetism\", \"Statistical mechanics\", \"Supernova\", \"Quadrupole\", \"Nanocrystal\", \"Perturbation (astronomy)\", \"Three-body problem\", \"Plasma\", \"Universe\", \"Poisson's equation\", \"Phase space\", \"Helicity\", \"Orbital elements\", \"Power (physics)\", \"Dispersion (optics)\", \"Planck\", \"Scale invariance\", \"Thermal radiation\", \"Spatial frequency\", \"Massless particle\", \"Electron\", \"Recoil\", \"Plasmon\", \"Pulsar\", \"Component (thermodynamics)\", \"Zero temperature\", \"Unitarity\", \"Euler equations\", \"Superposition principle\", \"Quark\", \"DC motor\", \"Amplitude\", \"Trajectory\", \"Charm (quantum number)\", \"Acceptor\", \"Diffusion\", \"Quantum\", \"Weak interaction\", \"Modern physics\", \"Effective field theory\", \"Photon\", \"Valence (chemistry)\", \"Perturbation theory (quantum mechanics)\", \"Calibration\", \"Renormalization\", \"Orthonormal basis\", \"Monochromatic electromagnetic plane wave\", \"Fluorescence\", \"Topological quantum number\", \"Density functional theory\", \"Infrared\", \"Radiation\", \"Spectroscopy\", \"Radiative transfer\", \"Quality (philosophy)\", \"Molecular dynamics\", \"Reduced mass\", \"Bohr model\", \"Group (periodic table)\", \"Intensity (physics)\", \"Thermalisation\", \"Thermal diffusivity\", \"Ansatz\", \"Degenerate energy levels\", \"Hyperfine structure\", \"Semiconductor\", \"Elementary particle\", \"Wavefront\", \"Anisotropy\", \"Time evolution\", \"Surface roughness\", \"Hartree\", \"Mixing (physics)\", \"Thermoelectric effect\", \"Beta decay\", \"Absorption spectroscopy\", \"Omega\", \"Rigid body\", \"Dynamical systems theory\", \"Nutation\", \"Fermi Gamma-ray Space Telescope\", \"Electronic band structure\", \"Brewster\", \"Distribution function\", \"Coherence (philosophical gambling strategy)\", \"Harmonic\", \"Wave function\", \"Inertia\", \"Term (time)\", \"Nuclear structure\", \"Inert\", \"Resonance (particle physics)\", \"Raman spectroscopy\", \"Fermilab\", \"Holography\", \"Near and far field\", \"Photorefractive effect\", \"Solid-state physics\", \"Gauge theory\", \"Ground\", \"Optical engineering\", \"Electrical impedance\", \"Magnetic field\", \"Gaussian\", \"Dephasing\", \"Group velocity\", \"Chromophore\", \"Annihilation\", \"Electrical phenomena\", \"Dichroism\", \"Bessel function\", \"Inflation (cosmology)\", \"Refraction\", \"Gravitation\", \"Opacity\", \"Boson\", \"Diffraction\", \"Isotropy\", \"Many-body theory\", \"Spectrum (functional analysis)\", \"Exact solutions in general relativity\", \"Laser\", \"Observable\", \"Nonlinear system\", \"Vial\", \"Kinematics\", \"Thermal fluctuations\", \"Supersymmetry\", \"Gyroscope\", \"Gamma ray\", \"Boltzmann constant\", \"Thermal equilibrium\", \"Superconductivity\", \"Spacetime\", \"Magnetic moment\", \"Asymmetry\", \"Conservation law\", \"Electroweak interaction\", \"Sigma\", \"Galaxy\", \"Optical filter\", \"Morse potential\", \"Tidal force\", \"Hydrostatic equilibrium\", \"Phase (matter)\", \"Doping\", \"Helmholtz free energy\", \"Eigenvalues and eigenvectors\"], \"Meteorology\": [\"Meteor (satellite)\", \"Atmospheric pressure\", \"Bar (unit)\", \"Relative humidity\", \"Thermal\", \"Solar irradiance\", \"Turbulence\", \"Atmosphere (unit)\", \"Vortex\", \"Cirrus\", \"Visibility\", \"Condensation\"], \"Quantum electrodynamics\": [], \"Mechanics\": [\"Dimensionless quantity\", \"Jet (fluid)\", \"Flow (mathematics)\", \"Inviscid flow\", \"Shock wave\", \"Drag\", \"Instability\", \"High pressure\", \"Rotational symmetry\", \"Computational fluid dynamics\", \"Turbulence\", \"Heat transfer\", \"Computer simulation\", \"Laminar flow\", \"Vortex\", \"Compressibility\", \"Circulation (fluid dynamics)\", \"Hydrostatic pressure\"], \"Chemical physics\": [], \"Statistical physics\": [\"Boltzmann distribution\", \"Langevin dynamics\", \"Ising model\", \"Detailed balance\", \"Statistical mechanics\", \"Autocatalytic reaction\", \"Homogeneous\"], \"Atomic physics\": [\"Random phase approximation\", \"Nuclear reaction\", \"Helium\", \"Potential energy\", \"Relativistic quantum chemistry\", \"Binding energy\", \"Ground state\", \"Parity (physics)\", \"Quantum number\", \"Impact parameter\", \"Pseudopotential\", \"Wave packet\", \"Excited state\", \"Isospin\", \"Quadrupole\", \"Recoil\", \"Branching fraction\", \"SHELL model\", \"Nucleon\", \"Reduced mass\", \"Thermalisation\", \"Hyperfine structure\", \"Hartree\", \"Beta decay\", \"Electromagnetically induced transparency\", \"Wave function\", \"Nuclear structure\", \"Resonance (particle physics)\", \"Morse potential\"], \"Nuclear magnetic resonance\": [\"Cryo-electron microscopy\", \"Dimer\", \"Stacking\", \"Vacancy defect\", \"Protein Data Bank (RCSB PDB)\", \"Crystallographic defect\"], \"Classical mechanics\": [\"Angular velocity\", \"Simultaneity\", \"Potential energy\", \"Perfect fluid\", \"Cosmological constant\", \"Scalar field\", \"Scalar potential\", \"Kinetics\", \"Inviscid flow\", \"Test particle\", \"Circular symmetry\", \"Einstein\", \"Kinetic energy\", \"Acceleration\", \"Motion (physics)\", \"Angular momentum\", \"Anti-de Sitter space\", \"Celestial mechanics\", \"Conserved quantity\", \"General relativity\", \"Three-body problem\", \"Field equation\", \"Monochromatic electromagnetic plane wave\", \"Reduced mass\", \"Rigid body\", \"Inertia\", \"Gravitation\", \"Circular orbit\", \"Kinematics\"], \"Mathematical physics\": [\"Dirac equation\", \"Perfect fluid\", \"Cosmological constant\", \"Scalar field\", \"Scalar potential\", \"Quantum field theory\", \"U-1\", \"Noncommutative geometry\", \"Covariant transformation\", \"Einstein\", \"Integrable system\", \"Special unitary group\", \"Renormalization group\", \"Anti-de Sitter space\", \"Lagrangian\", \"Isospectral\", \"Conserved quantity\", \"General relativity\", \"Propagator\", \"Field equation\", \"Massless particle\", \"Renormalization\", \"Ansatz\", \"Gauge theory\", \"Supersymmetry\"], \"Computational physics\": [], \"Astrobiology\": [\"Comet\", \"Water ice\", \"Copernicus\", \"Solar System\", \"Asteroid\", \"Meteoroid\", \"Meteorite\", \"Linea\", \"Impact crater\"], \"Molecular physics\": [], \"Optoelectronics\": [\"Band bending\", \"Integrated optics\", \"Rectangular potential barrier\", \"Terahertz radiation\", \"Grating\", \"Metamaterial\", \"Luminescence\", \"Refractive index\", \"Heterojunction\", \"Resonator\", \"Photoluminescence\", \"Quantum tunnelling\", \"Ultraviolet\", \"Spatial light modulator\", \"Transfer-matrix method (optics)\", \"Wavelength\", \"Liquid crystal\", \"Gallium arsenide\", \"Optical communication\", \"Quantum dot\", \"Charge carrier\", \"Photonic crystal\", \"Transmittance\", \"Full width at half maximum\", \"Superlattice\", \"Photonics\", \"Band gap\", \"Dielectric\", \"Waveguide\", \"Diode\", \"Plasmon\", \"Optical materials\", \"Energy conversion efficiency\", \"Semiconductor\", \"Indium\", \"Silicon\", \"Polariton\", \"Cadmium telluride photovoltaics\", \"Electromagnetically induced transparency\", \"Photorefractive effect\", \"Optical filter\", \"Doping\"]}}))\n",
              "new ResizeObserver(google.colab.output.resizeIframeToContent).observe(document.body)\n",
              "</script>\n"
            ]
          },
          "metadata": {},
          "execution_count": 173
        }
      ]
    },
    {
      "cell_type": "code",
      "source": [],
      "metadata": {
        "id": "DsbWV73VbF16"
      },
      "execution_count": null,
      "outputs": []
    }
  ]
}