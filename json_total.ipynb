{
  "nbformat": 4,
  "nbformat_minor": 0,
  "metadata": {
    "colab": {
      "provenance": [],
      "collapsed_sections": [],
      "include_colab_link": true
    },
    "kernelspec": {
      "name": "python3",
      "display_name": "Python 3"
    },
    "language_info": {
      "name": "python"
    }
  },
  "cells": [
    {
      "cell_type": "markdown",
      "metadata": {
        "id": "view-in-github",
        "colab_type": "text"
      },
      "source": [
        "<a href=\"https://colab.research.google.com/github/restrepo/OpenAlex/blob/main/json_total.ipynb\" target=\"_parent\"><img src=\"https://colab.research.google.com/assets/colab-badge.svg\" alt=\"Open In Colab\"/></a>"
      ]
    },
    {
      "cell_type": "code",
      "execution_count": 1,
      "metadata": {
        "id": "-RbQDK_OnSpc"
      },
      "outputs": [],
      "source": [
        "import json\n",
        "import pandas as pd\n",
        "from google.colab import files\n",
        "#From https://gist.github.com/korakot/072f1ea70d3c3267ff2c64b61d78c89c\n",
        "import json\n",
        "from IPython.display import HTML\n",
        "\n",
        "def JSON(jstr):\n",
        "  if type(jstr) != str:\n",
        "    jstr = json.dumps(jstr)\n",
        "  return HTML(\"\"\"\n",
        "<script src=\"https://rawgit.com/caldwell/renderjson/master/renderjson.js\"></script>\n",
        "<script>\n",
        "renderjson.set_show_to_level(1)\n",
        "document.body.appendChild(renderjson(%s))\n",
        "new ResizeObserver(google.colab.output.resizeIframeToContent).observe(document.body)\n",
        "</script>\n",
        "\"\"\" % jstr)"
      ]
    },
    {
      "cell_type": "code",
      "source": [
        "from google.colab import drive\n",
        "drive.mount('/content/drive')"
      ],
      "metadata": {
        "colab": {
          "base_uri": "https://localhost:8080/"
        },
        "id": "7vmypO1blTHY",
        "outputId": "bfcb5957-abd5-446e-da70-ee1cdfe386e2"
      },
      "execution_count": 2,
      "outputs": [
        {
          "output_type": "stream",
          "name": "stdout",
          "text": [
            "Mounted at /content/drive\n"
          ]
        }
      ]
    },
    {
      "cell_type": "code",
      "source": [
        "with open('/content/drive/MyDrive/json/openalexco.json','r') as miarchivo:\n",
        "    objeto=miarchivo.read()\n",
        "objeto=json.loads(objeto)"
      ],
      "metadata": {
        "id": "7R1pvevHlXqY"
      },
      "execution_count": 3,
      "outputs": []
    },
    {
      "cell_type": "code",
      "source": [
        "len(objeto)"
      ],
      "metadata": {
        "id": "z_f4GsI5EmcO",
        "outputId": "83b1bf70-2f9c-4d58-bc09-609b1db43454",
        "colab": {
          "base_uri": "https://localhost:8080/"
        }
      },
      "execution_count": 6,
      "outputs": [
        {
          "output_type": "execute_result",
          "data": {
            "text/plain": [
              "343057"
            ]
          },
          "metadata": {},
          "execution_count": 6
        }
      ]
    },
    {
      "cell_type": "markdown",
      "source": [
        "Filter works with ror:\n",
        "\n",
        "https://ror.org/03bp5hc83"
      ],
      "metadata": {
        "id": "-2DO-bIu4cxL"
      }
    },
    {
      "cell_type": "code",
      "source": [
        "objeto=[ c for c in objeto if any(\n",
        "    [ any([i.get('ror')==\"https://ror.org/03bp5hc83\" for i in a.get('institutions')]) \n",
        "    for a in c.get('authorships')])\n",
        "]\n",
        "len(objeto)"
      ],
      "metadata": {
        "id": "4Hbuh0Ei4l3_",
        "colab": {
          "base_uri": "https://localhost:8080/"
        },
        "outputId": "12e40425-43ce-48be-9ad1-f92d3f47995c"
      },
      "execution_count": 4,
      "outputs": [
        {
          "output_type": "execute_result",
          "data": {
            "text/plain": [
              "34291"
            ]
          },
          "metadata": {},
          "execution_count": 4
        }
      ]
    },
    {
      "cell_type": "markdown",
      "source": [
        "Define the filter which returns `True or False`"
      ],
      "metadata": {
        "id": "ggYrli-ik5nF"
      }
    },
    {
      "cell_type": "code",
      "source": [
        "def filter_ror(authorships,ror=\"https://ror.org/03bp5hc83\"):\n",
        "  return any([any([i.get('ror')==\"https://ror.org/03bp5hc83\" for i in a.get('institutions')])  for a in authorships])"
      ],
      "metadata": {
        "id": "WSKHbM-imfwP"
      },
      "execution_count": 5,
      "outputs": []
    },
    {
      "cell_type": "code",
      "source": [
        "len([ c for c in objeto if filter_ror(c.get('authorships'))])"
      ],
      "metadata": {
        "colab": {
          "base_uri": "https://localhost:8080/"
        },
        "id": "b6Vaq9L8cQ_d",
        "outputId": "61580957-8f06-4928-fa87-166812f42fa1"
      },
      "execution_count": 6,
      "outputs": [
        {
          "output_type": "execute_result",
          "data": {
            "text/plain": [
              "34291"
            ]
          },
          "metadata": {},
          "execution_count": 6
        }
      ]
    },
    {
      "cell_type": "markdown",
      "source": [
        "Filter with Pandas"
      ],
      "metadata": {
        "id": "5n2VScjjFPRq"
      }
    },
    {
      "cell_type": "code",
      "source": [
        "objeto=pd.DataFrame(objeto)"
      ],
      "metadata": {
        "id": "F4suin_UnRR9"
      },
      "execution_count": 7,
      "outputs": []
    },
    {
      "cell_type": "code",
      "source": [
        "objeto[objeto['authorships'].apply(filter_ror)].shape"
      ],
      "metadata": {
        "colab": {
          "base_uri": "https://localhost:8080/"
        },
        "id": "axE4HRe9FWJN",
        "outputId": "f88cb55e-dbee-4df6-b1d5-b80083f63098"
      },
      "execution_count": 8,
      "outputs": [
        {
          "output_type": "execute_result",
          "data": {
            "text/plain": [
              "(34291, 25)"
            ]
          },
          "metadata": {},
          "execution_count": 8
        }
      ]
    },
    {
      "cell_type": "markdown",
      "source": [
        "Explore concept levels from Excel file"
      ],
      "metadata": {
        "id": "Qlq2rGOidXkB"
      }
    },
    {
      "cell_type": "code",
      "source": [
        "cp=pd.read_excel('https://docs.google.com/spreadsheets/d/e/2PACX-1vT9JrvUwanM-z-hCZ1SSaxRx2wfzLV3RVvm5BJaf8TABBmpIwKt7iYt1sVLbImVevh9YNaZK9Y7sfI9/pub?output=xlsx')"
      ],
      "metadata": {
        "id": "FYi66eYGHO0a"
      },
      "execution_count": 26,
      "outputs": []
    },
    {
      "cell_type": "code",
      "source": [
        "cp[cp['display_name'].str.lower().str.contains('complex')][:3]#['display_name']#.to_list()"
      ],
      "metadata": {
        "id": "6aPPvpga7_bL",
        "outputId": "8c3cf0f3-1886-4ce6-e0ed-4143e83e241a",
        "colab": {
          "base_uri": "https://localhost:8080/",
          "height": 143
        }
      },
      "execution_count": 37,
      "outputs": [
        {
          "output_type": "execute_result",
          "data": {
            "text/plain": [
              "                           openalex_id       display_name    normalized_name  \\\n",
              "377     https://openalex.org/c34947359    Complex network    complex network   \n",
              "1241  https://openalex.org/c2778445095  Sample complexity  sample complexity   \n",
              "2527    https://openalex.org/c47822265     Complex system    complex systems   \n",
              "\n",
              "      level                              wikidata_id  \\\n",
              "377     2.0    https://www.wikidata.org/wiki/Q665189   \n",
              "1241    2.0  https://www.wikidata.org/wiki/Q18354077   \n",
              "2527    2.0    https://www.wikidata.org/wiki/Q854457   \n",
              "\n",
              "                         parent_display_names  \\\n",
              "377             Combinatorics, World Wide Web   \n",
              "1241                                      NaN   \n",
              "2527  Artificial intelligence, Social science   \n",
              "\n",
              "                                             parent_ids  \n",
              "377   https://openalex.org/C114614502, https://opena...  \n",
              "1241                                                NaN  \n",
              "2527  https://openalex.org/C154945302, https://opena...  "
            ],
            "text/html": [
              "\n",
              "  <div id=\"df-94ce62fb-d332-4b7f-a36c-a6bf9ab5d0dd\">\n",
              "    <div class=\"colab-df-container\">\n",
              "      <div>\n",
              "<style scoped>\n",
              "    .dataframe tbody tr th:only-of-type {\n",
              "        vertical-align: middle;\n",
              "    }\n",
              "\n",
              "    .dataframe tbody tr th {\n",
              "        vertical-align: top;\n",
              "    }\n",
              "\n",
              "    .dataframe thead th {\n",
              "        text-align: right;\n",
              "    }\n",
              "</style>\n",
              "<table border=\"1\" class=\"dataframe\">\n",
              "  <thead>\n",
              "    <tr style=\"text-align: right;\">\n",
              "      <th></th>\n",
              "      <th>openalex_id</th>\n",
              "      <th>display_name</th>\n",
              "      <th>normalized_name</th>\n",
              "      <th>level</th>\n",
              "      <th>wikidata_id</th>\n",
              "      <th>parent_display_names</th>\n",
              "      <th>parent_ids</th>\n",
              "    </tr>\n",
              "  </thead>\n",
              "  <tbody>\n",
              "    <tr>\n",
              "      <th>377</th>\n",
              "      <td>https://openalex.org/c34947359</td>\n",
              "      <td>Complex network</td>\n",
              "      <td>complex network</td>\n",
              "      <td>2.0</td>\n",
              "      <td>https://www.wikidata.org/wiki/Q665189</td>\n",
              "      <td>Combinatorics, World Wide Web</td>\n",
              "      <td>https://openalex.org/C114614502, https://opena...</td>\n",
              "    </tr>\n",
              "    <tr>\n",
              "      <th>1241</th>\n",
              "      <td>https://openalex.org/c2778445095</td>\n",
              "      <td>Sample complexity</td>\n",
              "      <td>sample complexity</td>\n",
              "      <td>2.0</td>\n",
              "      <td>https://www.wikidata.org/wiki/Q18354077</td>\n",
              "      <td>NaN</td>\n",
              "      <td>NaN</td>\n",
              "    </tr>\n",
              "    <tr>\n",
              "      <th>2527</th>\n",
              "      <td>https://openalex.org/c47822265</td>\n",
              "      <td>Complex system</td>\n",
              "      <td>complex systems</td>\n",
              "      <td>2.0</td>\n",
              "      <td>https://www.wikidata.org/wiki/Q854457</td>\n",
              "      <td>Artificial intelligence, Social science</td>\n",
              "      <td>https://openalex.org/C154945302, https://opena...</td>\n",
              "    </tr>\n",
              "  </tbody>\n",
              "</table>\n",
              "</div>\n",
              "      <button class=\"colab-df-convert\" onclick=\"convertToInteractive('df-94ce62fb-d332-4b7f-a36c-a6bf9ab5d0dd')\"\n",
              "              title=\"Convert this dataframe to an interactive table.\"\n",
              "              style=\"display:none;\">\n",
              "        \n",
              "  <svg xmlns=\"http://www.w3.org/2000/svg\" height=\"24px\"viewBox=\"0 0 24 24\"\n",
              "       width=\"24px\">\n",
              "    <path d=\"M0 0h24v24H0V0z\" fill=\"none\"/>\n",
              "    <path d=\"M18.56 5.44l.94 2.06.94-2.06 2.06-.94-2.06-.94-.94-2.06-.94 2.06-2.06.94zm-11 1L8.5 8.5l.94-2.06 2.06-.94-2.06-.94L8.5 2.5l-.94 2.06-2.06.94zm10 10l.94 2.06.94-2.06 2.06-.94-2.06-.94-.94-2.06-.94 2.06-2.06.94z\"/><path d=\"M17.41 7.96l-1.37-1.37c-.4-.4-.92-.59-1.43-.59-.52 0-1.04.2-1.43.59L10.3 9.45l-7.72 7.72c-.78.78-.78 2.05 0 2.83L4 21.41c.39.39.9.59 1.41.59.51 0 1.02-.2 1.41-.59l7.78-7.78 2.81-2.81c.8-.78.8-2.07 0-2.86zM5.41 20L4 18.59l7.72-7.72 1.47 1.35L5.41 20z\"/>\n",
              "  </svg>\n",
              "      </button>\n",
              "      \n",
              "  <style>\n",
              "    .colab-df-container {\n",
              "      display:flex;\n",
              "      flex-wrap:wrap;\n",
              "      gap: 12px;\n",
              "    }\n",
              "\n",
              "    .colab-df-convert {\n",
              "      background-color: #E8F0FE;\n",
              "      border: none;\n",
              "      border-radius: 50%;\n",
              "      cursor: pointer;\n",
              "      display: none;\n",
              "      fill: #1967D2;\n",
              "      height: 32px;\n",
              "      padding: 0 0 0 0;\n",
              "      width: 32px;\n",
              "    }\n",
              "\n",
              "    .colab-df-convert:hover {\n",
              "      background-color: #E2EBFA;\n",
              "      box-shadow: 0px 1px 2px rgba(60, 64, 67, 0.3), 0px 1px 3px 1px rgba(60, 64, 67, 0.15);\n",
              "      fill: #174EA6;\n",
              "    }\n",
              "\n",
              "    [theme=dark] .colab-df-convert {\n",
              "      background-color: #3B4455;\n",
              "      fill: #D2E3FC;\n",
              "    }\n",
              "\n",
              "    [theme=dark] .colab-df-convert:hover {\n",
              "      background-color: #434B5C;\n",
              "      box-shadow: 0px 1px 3px 1px rgba(0, 0, 0, 0.15);\n",
              "      filter: drop-shadow(0px 1px 2px rgba(0, 0, 0, 0.3));\n",
              "      fill: #FFFFFF;\n",
              "    }\n",
              "  </style>\n",
              "\n",
              "      <script>\n",
              "        const buttonEl =\n",
              "          document.querySelector('#df-94ce62fb-d332-4b7f-a36c-a6bf9ab5d0dd button.colab-df-convert');\n",
              "        buttonEl.style.display =\n",
              "          google.colab.kernel.accessAllowed ? 'block' : 'none';\n",
              "\n",
              "        async function convertToInteractive(key) {\n",
              "          const element = document.querySelector('#df-94ce62fb-d332-4b7f-a36c-a6bf9ab5d0dd');\n",
              "          const dataTable =\n",
              "            await google.colab.kernel.invokeFunction('convertToInteractive',\n",
              "                                                     [key], {});\n",
              "          if (!dataTable) return;\n",
              "\n",
              "          const docLinkHtml = 'Like what you see? Visit the ' +\n",
              "            '<a target=\"_blank\" href=https://colab.research.google.com/notebooks/data_table.ipynb>data table notebook</a>'\n",
              "            + ' to learn more about interactive tables.';\n",
              "          element.innerHTML = '';\n",
              "          dataTable['output_type'] = 'display_data';\n",
              "          await google.colab.output.renderOutput(dataTable, element);\n",
              "          const docLink = document.createElement('div');\n",
              "          docLink.innerHTML = docLinkHtml;\n",
              "          element.appendChild(docLink);\n",
              "        }\n",
              "      </script>\n",
              "    </div>\n",
              "  </div>\n",
              "  "
            ]
          },
          "metadata": {},
          "execution_count": 37
        }
      ]
    },
    {
      "cell_type": "markdown",
      "source": [
        "Level 1 Physics concepts"
      ],
      "metadata": {
        "id": "LdaXumXYddIA"
      }
    },
    {
      "cell_type": "code",
      "source": [
        "ph1=cp[ (cp['level']==1) & (cp['parent_display_names'].fillna('').str.contains('Physics')) \n",
        "      ]['display_name'].to_list()"
      ],
      "metadata": {
        "id": "ErMIBGXBHpnj"
      },
      "execution_count": 10,
      "outputs": []
    },
    {
      "cell_type": "code",
      "source": [
        "len(ph1)"
      ],
      "metadata": {
        "colab": {
          "base_uri": "https://localhost:8080/"
        },
        "id": "u6pkEHilJntf",
        "outputId": "70fcbdb8-b189-4e92-944a-d14e2fffa68d"
      },
      "execution_count": 11,
      "outputs": [
        {
          "output_type": "execute_result",
          "data": {
            "text/plain": [
              "27"
            ]
          },
          "metadata": {},
          "execution_count": 11
        }
      ]
    },
    {
      "cell_type": "markdown",
      "source": [
        "Level 2 Physics concepts"
      ],
      "metadata": {
        "id": "XWrkUyFtdkWp"
      }
    },
    {
      "cell_type": "code",
      "source": [
        "ph2=cp[(cp['level']==2) & (cp['parent_display_names'].str.split(', ').apply(\n",
        "    lambda l: set(l).intersection(set(ph1)) if isinstance(l,list) else set()\n",
        "    ).apply(len)>0)]['display_name'].to_list()\n",
        "len(ph2)"
      ],
      "metadata": {
        "colab": {
          "base_uri": "https://localhost:8080/"
        },
        "id": "sVvbyDuFI-lT",
        "outputId": "2a1db1fb-14d5-4fb5-9e9c-16a31201002e"
      },
      "execution_count": 12,
      "outputs": [
        {
          "output_type": "execute_result",
          "data": {
            "text/plain": [
              "2979"
            ]
          },
          "metadata": {},
          "execution_count": 12
        }
      ]
    },
    {
      "cell_type": "code",
      "source": [
        "del cp"
      ],
      "metadata": {
        "id": "Wg-nv-Egs0bz"
      },
      "execution_count": 13,
      "outputs": []
    },
    {
      "cell_type": "markdown",
      "source": [
        "Level 0 UdeA Physics articles"
      ],
      "metadata": {
        "id": "UGhSLHZLd7OD"
      }
    },
    {
      "cell_type": "code",
      "source": [
        "concept='Physics'\n",
        "level=0\n",
        "possible_physics=objeto[objeto['concepts'].apply(lambda l: {concept}.intersection( \n",
        "    [d.get('display_name') for d in l if d.get('level')==level])).apply(len)>0]\n",
        "possible_physics.shape\n"
      ],
      "metadata": {
        "colab": {
          "base_uri": "https://localhost:8080/"
        },
        "id": "y1M30oDsPH7J",
        "outputId": "4185ba39-8877-4fe6-a703-b3f279f743cd"
      },
      "execution_count": 41,
      "outputs": [
        {
          "output_type": "execute_result",
          "data": {
            "text/plain": [
              "(1886, 25)"
            ]
          },
          "metadata": {},
          "execution_count": 41
        }
      ]
    },
    {
      "cell_type": "markdown",
      "source": [
        "Level 1 UdeA Physics concepts"
      ],
      "metadata": {
        "id": "Mv0amq8LeEsi"
      }
    },
    {
      "cell_type": "code",
      "source": [
        "ll=possible_physics['concepts'].apply(lambda l: set([d.get('display_name') for d in l if d.get('level')==1]).intersection(ph1)).apply(list)\n",
        "ph1_udea=set([item for subitem in ll for item in subitem])"
      ],
      "metadata": {
        "id": "Y6rdzp6TRqIL"
      },
      "execution_count": 15,
      "outputs": []
    },
    {
      "cell_type": "markdown",
      "source": [
        "Missing Level 1 concepts"
      ],
      "metadata": {
        "id": "JcKbUTgxpVdI"
      }
    },
    {
      "cell_type": "code",
      "source": [
        "set(ph1).difference(ph1_udea)"
      ],
      "metadata": {
        "colab": {
          "base_uri": "https://localhost:8080/"
        },
        "id": "jgFdTudFS78z",
        "outputId": "e6926e2e-ad05-4de5-fe9a-dd6bcaf27c2c"
      },
      "execution_count": 16,
      "outputs": [
        {
          "output_type": "execute_result",
          "data": {
            "text/plain": [
              "{'Geophysics', 'Medical physics'}"
            ]
          },
          "metadata": {},
          "execution_count": 16
        }
      ]
    },
    {
      "cell_type": "markdown",
      "source": [
        "Level 2 UdeA Physics concepts"
      ],
      "metadata": {
        "id": "mxjkUxsAeLdL"
      }
    },
    {
      "cell_type": "code",
      "source": [
        "ll=possible_physics['concepts'].apply(lambda l: set([d.get('display_name') for d in l if d.get('level')==2]).intersection(ph2)).apply(list)\n",
        "ph2_udea=set([item for subitem in ll for item in subitem])"
      ],
      "metadata": {
        "id": "3tr1epPcTnoh"
      },
      "execution_count": 17,
      "outputs": []
    },
    {
      "cell_type": "code",
      "source": [
        "len(ph2_udea)"
      ],
      "metadata": {
        "colab": {
          "base_uri": "https://localhost:8080/"
        },
        "id": "TalgtO9ZTsO5",
        "outputId": "994ff04e-dd2d-42f8-d8dc-23579adad230"
      },
      "execution_count": 22,
      "outputs": [
        {
          "output_type": "execute_result",
          "data": {
            "text/plain": [
              "507"
            ]
          },
          "metadata": {},
          "execution_count": 22
        }
      ]
    },
    {
      "cell_type": "markdown",
      "source": [
        "UdeA Physics concepts tree"
      ],
      "metadata": {
        "id": "abJlxAQ8eRjV"
      }
    },
    {
      "cell_type": "code",
      "source": [
        "d={'Physics': dict( [(c,[]) for c in ph1_udea])}\n",
        "for c in ph2_udea:\n",
        "    lph1=set(ph1_udea).intersection( cp[cp['display_name']==c]['parent_display_names'].str.split(', ').iloc[0])\n",
        "    for cc in lph1:\n",
        "        if cc in d['Physics'] and c not in d['Physics'][cc]:\n",
        "            d['Physics'][cc].append(c)\n",
        "del cp\n"
      ],
      "metadata": {
        "id": "aCimXtpyUoo9"
      },
      "execution_count": 24,
      "outputs": []
    },
    {
      "cell_type": "code",
      "source": [
        "JSON(d)"
      ],
      "metadata": {
        "colab": {
          "base_uri": "https://localhost:8080/",
          "height": 520
        },
        "id": "o7V-XksVYpQo",
        "outputId": "3d8946dc-a78c-47e6-e5de-70848f4148e0"
      },
      "execution_count": 25,
      "outputs": [
        {
          "output_type": "execute_result",
          "data": {
            "text/plain": [
              "<IPython.core.display.HTML object>"
            ],
            "text/html": [
              "\n",
              "<script src=\"https://rawgit.com/caldwell/renderjson/master/renderjson.js\"></script>\n",
              "<script>\n",
              "renderjson.set_show_to_level(1)\n",
              "document.body.appendChild(renderjson({\"Physics\": {\"Acoustics\": [\"Binaural recording\", \"Degree (music)\", \"Absorption (acoustics)\", \"Harmonic\", \"Piezoelectricity\", \"Lattice (music)\", \"Aperture (computer memory)\", \"Chromatic scale\", \"Modulation (music)\", \"Dynamics (music)\", \"Vibration\"], \"Statistical physics\": [\"Detailed balance\", \"Statistical mechanics\", \"Boltzmann distribution\", \"Ising model\", \"Autocatalytic reaction\", \"Langevin dynamics\", \"Homogeneous\"], \"Meteorology\": [\"Atmospheric pressure\", \"Meteor (satellite)\", \"Thermal\", \"Atmosphere (unit)\", \"Relative humidity\", \"Cirrus\", \"Visibility\", \"Bar (unit)\", \"Solar irradiance\", \"Turbulence\", \"Condensation\", \"Vortex\"], \"Thermodynamics\": [\"Compressibility\", \"Finite difference method\", \"Turbine\", \"Energy conversion efficiency\", \"Advection\", \"Detailed balance\", \"Thermal radiation\", \"Differential (mechanical device)\", \"Phase space\", \"Thermal conduction\", \"Thermal fluctuations\", \"Boltzmann equation\", \"Statistical mechanics\", \"Thermal\", \"Atmosphere (unit)\", \"Isobaric process\", \"Hydraulic head\", \"Relative humidity\", \"Finite element method\", \"Surface roughness\", \"Power (physics)\", \"Boltzmann constant\", \"Jet (fluid)\", \"Dissipation\", \"Helmholtz free energy\", \"Computational fluid dynamics\", \"Laminar flow\", \"High pressure\", \"Distribution function\", \"Circulation (fluid dynamics)\", \"Thermoelectric effect\", \"Entropy (arrow of time)\", \"Turbulence\", \"Hydrostatic pressure\", \"Work (physics)\", \"Thermal equilibrium\", \"Condensation\", \"Current (fluid)\", \"Phase transition\", \"Dissipative system\", \"Spin (aerodynamics)\", \"Vortex\", \"Energy landscape\", \"Equation of state\", \"Torque\", \"Thermalisation\", \"Diffusion\", \"Thermal conductivity\", \"Boltzmann distribution\", \"Carnot cycle\", \"Degrees of freedom (physics and chemistry)\", \"Component (thermodynamics)\", \"Adiabatic process\", \"Ignition system\", \"Euler equations\", \"Thermal diffusivity\", \"Shock wave\", \"Drag\", \"Diesel engine\", \"Dimensionless quantity\", \"Heat transfer\", \"Homogeneous\"], \"Astrobiology\": [\"Impact crater\", \"Asteroid\", \"Comet\", \"Copernicus\", \"Linea\", \"Meteoroid\", \"Solar System\", \"Meteorite\", \"Water ice\"], \"Astrophysics\": [\"Pulsar\", \"Event (particle physics)\", \"Planet\", \"Gamma ray\", \"Cosmic ray\", \"Fermi Gamma-ray Space Telescope\", \"Supernova\", \"Radio telescope\", \"Comet\", \"Eclipse\", \"Dark matter\", \"Galaxy\", \"Accretion (finance)\", \"Baryon\", \"Planck\", \"Density contrast\", \"Mass ratio\", \"Telescope\", \"Orbital elements\", \"Circular orbit\", \"Gravitational wave\", \"Universe\", \"Stars\", \"COSMIC cancer database\", \"Solar System\", \"Cosmology\", \"Light curve\", \"Occultation\", \"Celestial mechanics\", \"Gamma-ray burst\", \"Star (game theory)\", \"Millimeter\", \"Neutron star\", \"Maser\", \"Tidal force\", \"Magnitude (astronomy)\"], \"Nuclear magnetic resonance\": [\"Protein Data Bank (RCSB PDB)\", \"Vacancy defect\", \"Crystallographic defect\", \"Dimer\", \"Cryo-electron microscopy\", \"Stacking\"], \"Theoretical physics\": [\"Lagrangian\", \"Inflation (cosmology)\", \"Modern physics\", \"Energy density\", \"Extra dimensions\", \"General relativity\", \"Cosmological constant\"], \"Quantum mechanics\": [\"Proton\", \"Reduced mass\", \"Dispersion relation\", \"Band gap\", \"Dispersion (optics)\", \"Hysteresis\", \"Debye\", \"Flavour\", \"Phenomenon\", \"Bessel function\", \"Morse potential\", \"Doping\", \"Pulsar\", \"Fluorescence\", \"Covariant transformation\", \"Optical filter\", \"Parity (physics)\", \"Event (particle physics)\", \"Neutrino\", \"Advection\", \"Gaussian\", \"Electron\", \"Zero temperature\", \"Spectrometer\", \"Detailed balance\", \"Superconductivity\", \"Euler angles\", \"Impact parameter\", \"Fock space\", \"Partial differential equation\", \"Photon\", \"Density of states\", \"DC motor\", \"Metastability\", \"Inflation (cosmology)\", \"Geometric phase\", \"Voltage\", \"Thermal radiation\", \"Thin film\", \"Gamma ray\", \"Yukawa potential\", \"Modern physics\", \"Hydrogen\", \"Nuclear reaction\", \"Phase space\", \"Electromagnetic shielding\", \"Covalent bond\", \"Gravitation\", \"Quantum number\", \"Semiconductor\", \"Three-body problem\", \"Diffraction\", \"Quantum chromodynamics\", \"Metamaterial\", \"Dirac equation\", \"Electronic circuit\", \"Graphene\", \"Fourier transform\", \"Effective field theory\", \"Dynamical systems theory\", \"Thermal conduction\", \"Fermion\", \"Radiation\", \"Perturbation theory (quantum mechanics)\", \"Quantum\", \"Fermi Gamma-ray Space Telescope\", \"Collimator\", \"Thermal fluctuations\", \"Pair production\", \"Supernova\", \"Molecule\", \"Radio telescope\", \"Boltzmann equation\", \"Statistical mechanics\", \"Attenuation coefficient\", \"CP violation\", \"Potential energy\", \"Wave packet\", \"Optical engineering\", \"Resonance (particle physics)\", \"Circular symmetry\", \"Time evolution\", \"Meteor (satellite)\", \"Electronic structure\", \"Galaxy\", \"Binding energy\", \"Relativistic quantum chemistry\", \"Muon\", \"Perfect fluid\", \"Scalar potential\", \"Quantum optics\", \"Laser\", \"Irradiation\", \"Kinetic energy\", \"Observable\", \"Massless particle\", \"Lambda\", \"Scalar field\", \"Elementary particle\", \"Helicity\", \"Anharmonicity\", \"Harmonic\", \"Acceleration\", \"Charge carrier\", \"Nonlinear system\", \"Quadrupole\", \"Variational method\", \"Wave function\", \"Solid-state physics\", \"Photorefractive effect\", \"Boson\", \"Exciton\", \"Supersymmetry\", \"Planck\", \"Rainbow\", \"Quantum dot\", \"Spectrum (functional analysis)\", \"Universality (dynamical systems)\", \"Delocalized electron\", \"Intensity (physics)\", \"Electronic band structure\", \"Density contrast\", \"Paramagnetism\", \"Surface roughness\", \"Phase (matter)\", \"Collider\", \"Optical conductivity\", \"Perturbation (astronomy)\", \"Transmittance\", \"Orthonormal basis\", \"Hartree\", \"Special unitary group\", \"Anti-de Sitter space\", \"Power (physics)\", \"Boltzmann constant\", \"Dissipation\", \"Electrical impedance\", \"Degenerate energy levels\", \"Quantum field theory\", \"Electrical network\", \"Helmholtz free energy\", \"Large Hadron Collider\", \"Boundary value problem\", \"Diode\", \"Irradiance\", \"Energy flux\", \"Polar\", \"Mixing (physics)\", \"Superfluidity\", \"Electric field\", \"Position and momentum space\", \"Orbital elements\", \"Dichroism\", \"Inertia\", \"Chromophore\", \"Infrared\", \"Spatial light modulator\", \"Near and far field\", \"Nanocrystal\", \"Gravitational wave\", \"Wavefront\", \"Universe\", \"Excitation\", \"Bohr model\", \"Distribution function\", \"Dielectric\", \"Physics education\", \"Thermoelectric effect\", \"Entropy (arrow of time)\", \"Propagator\", \"Absorption spectroscopy\", \"Wave propagation\", \"Brewster\", \"Pion\", \"Coupling constant\", \"Light beam\", \"Monochromatic electromagnetic plane wave\", \"Weak interaction\", \"Ansatz\", \"Dipole\", \"Many-body theory\", \"Sigma\", \"Spectral line\", \"Group velocity\", \"Work (physics)\", \"Hydrostatic equilibrium\", \"Birefringence\", \"Thermal equilibrium\", \"Antiferromagnetism\", \"Amplitude\", \"Quark\", \"Neutron\", \"Wavelength\", \"Brillouin zone\", \"Observer (physics)\", \"Electromagnetic radiation\", \"Phase transition\", \"Random phase approximation\", \"Extra dimensions\", \"U-1\", \"Ground state\", \"Physical optics\", \"Conserved quantity\", \"Interferometry\", \"Spacetime\", \"Dissipative system\", \"Brownian motion\", \"Photonics\", \"Sunlight\", \"Hadron\", \"Dephasing\", \"Trajectory\", \"Physics beyond the Standard Model\", \"Equation of state\", \"Poisson's equation\", \"Torque\", \"Thermalisation\", \"Diffusion\", \"Pseudopotential\", \"Electric charge\", \"Angular velocity\", \"Beta decay\", \"Nitrogen\", \"Excited state\", \"Holography\", \"Conservation law\", \"Current density\", \"Ab initio\", \"Thermal conductivity\", \"Molecular dynamics\", \"Multipole expansion\", \"Recoil\", \"Angular momentum\", \"Cosmology\", \"Boltzmann distribution\", \"Plasma\", \"Impurity\", \"Scale invariance\", \"Asymmetry\", \"Gyroscope\", \"Eigenvalues and eigenvectors\", \"Transfer-matrix method (optics)\", \"Bubble chamber\", \"Quality (philosophy)\", \"Ising model\", \"Rigid body\", \"Valence (chemistry)\", \"Magnetic moment\", \"Nuclear structure\", \"Renormalization group\", \"Higgs boson\", \"Topological quantum number\", \"Inert\", \"Electrostatics\", \"Refractive index\", \"Magnetic susceptibility\", \"Vial\", \"Omega\", \"Superposition principle\", \"Plane wave\", \"Carnot cycle\", \"Annihilation\", \"Gamma-ray burst\", \"Isotope\", \"Refraction\", \"Terahertz radiation\", \"Full width at half maximum\", \"Bound state\", \"Test particle\", \"Degrees of freedom (physics and chemistry)\", \"Superlattice\", \"Term (time)\", \"Helium\", \"Ultraviolet\", \"Electromagnetic field\", \"Spectroscopy\", \"Plasmon\", \"Component (thermodynamics)\", \"Energy (signal processing)\", \"Charge (physics)\", \"Stator\", \"Acceptor\", \"Phonon\", \"Charm (quantum number)\", \"Nutation\", \"Invariant mass\", \"Drude model\", \"Anderson localization\", \"Neutron star\", \"Adiabatic process\", \"Photonic crystal\", \"Kinetics\", \"Tidal force\", \"Precession\", \"Einstein\", \"Unitarity\", \"Gauge theory\", \"Fermilab\", \"Euler equations\", \"Stationary state\", \"Electroweak interaction\", \"Anisotropy\", \"Ion\", \"Hyperfine structure\", \"Thermal diffusivity\", \"Electrical phenomena\", \"Electrical conductor\", \"Group (periodic table)\", \"Renormalization\", \"Ground\", \"Spatial frequency\", \"Anomaly (physics)\", \"Heterojunction\", \"Isotropy\", \"Rectangular potential barrier\", \"Density functional theory\", \"Action (physics)\", \"Geometrical optics\", \"Meson\", \"Quantum tunnelling\", \"Magnetic field\", \"Scattering\", \"Radiative transfer\", \"Exact solutions in general relativity\", \"Dimensionless quantity\", \"Scale (ratio)\", \"Langevin dynamics\", \"Cross section (physics)\", \"Opacity\", \"Vibration\", \"Heat transfer\", \"Calibration\", \"Symmetry breaking\", \"Kinematics\", \"Simultaneity\", \"Ferromagnetism\", \"Raman spectroscopy\", \"Coherence (philosophical gambling strategy)\", \"Instability\", \"Waveguide\"], \"Engineering physics\": [\"Energy density\", \"High pressure\", \"National laboratory\"], \"Computational physics\": [], \"Optics\": [\"Dispersion relation\", \"Dispersion (optics)\", \"Tomography\", \"Characterization (materials science)\", \"Integrated optics\", \"Bessel function\", \"Fluorescence\", \"Optical filter\", \"Depth of field\", \"Spectrometer\", \"Photon\", \"Absorption (acoustics)\", \"Diffraction\", \"Detector\", \"Metamaterial\", \"Core (optical fiber)\", \"Radiation\", \"Collimator\", \"Pupil\", \"Attenuation coefficient\", \"Optical engineering\", \"Liquid crystal\", \"Quantum optics\", \"Laser\", \"Lambda\", \"Astigmatism\", \"Monochromatic color\", \"Photoluminescence\", \"Photorefractive effect\", \"Brightness\", \"Presbyopia\", \"Rainbow\", \"Imaging phantom\", \"Optical materials\", \"Digital micromirror device\", \"Intensity (physics)\", \"Optical coherence tomography\", \"Frame rate\", \"Focus (optics)\", \"Transmittance\", \"Visibility\", \"Broadband\", \"Image resolution\", \"Irradiance\", \"Contrast (vision)\", \"Monocular vision\", \"Telescope\", \"Dichroism\", \"Infrared\", \"Spatial light modulator\", \"Near and far field\", \"Left handed\", \"Wavefront\", \"Absorption spectroscopy\", \"Wave propagation\", \"Brewster\", \"Light beam\", \"Monochromatic electromagnetic plane wave\", \"Group velocity\", \"Birefringence\", \"Luminescence\", \"Projector\", \"Amplitude\", \"Wavelength\", \"Brillouin zone\", \"Azimuth\", \"Gallium arsenide\", \"Light intensity\", \"Electromagnetic radiation\", \"Ghost imaging\", \"Physical optics\", \"Interferometry\", \"Achromatic lens\", \"Scanner\", \"Beam (structure)\", \"Photonics\", \"Sunlight\", \"Monocular\", \"Grating\", \"Field of view\", \"Holography\", \"Optical communication\", \"Electromagnetically induced transparency\", \"Binocular vision\", \"Streaking\", \"Extinction (optical mineralogy)\", \"Microscopy\", \"Transfer-matrix method (optics)\", \"Refractive index\", \"Pinhole (optics)\", \"Plane wave\", \"Polariton\", \"Resonator\", \"Refraction\", \"Terahertz radiation\", \"Full width at half maximum\", \"Light field\", \"Optical fiber\", \"Ultraviolet\", \"Plasmon\", \"Millimeter\", \"Drude model\", \"Maser\", \"Photonic crystal\", \"Anisotropy\", \"Microscope\", \"Chromatic scale\", \"Speckle pattern\", \"Orange (colour)\", \"Lens (geology)\", \"Flash (photography)\", \"Spatial frequency\", \"Isotropy\", \"Adaptive optics\", \"Slit\", \"Geometrical optics\", \"Scattering\", \"Radiative transfer\", \"Opacity\", \"Raman spectroscopy\", \"Waveguide\"], \"Nuclear physics\": [\"Proton\", \"Neutrino\", \"Electron\", \"Impact parameter\", \"Gamma ray\", \"Nuclear reaction\", \"Cosmic ray\", \"Radiation\", \"Pair production\", \"CP violation\", \"Binding energy\", \"Relativistic quantum chemistry\", \"Muon\", \"Irradiation\", \"Elementary particle\", \"Baryon\", \"Collider\", \"Large Hadron Collider\", \"Pion\", \"Quark\", \"Neutron\", \"Branching fraction\", \"Hadron\", \"Physics beyond the Standard Model\", \"Beta decay\", \"Excited state\", \"Recoil\", \"Plasma\", \"Bubble chamber\", \"Nuclear structure\", \"Annihilation\", \"Isotope\", \"Charm (quantum number)\", \"Invariant mass\", \"Fermilab\", \"Isospin\", \"Nucleon\", \"Meson\"], \"Condensed matter physics\": [\"Dispersion relation\", \"Band gap\", \"Hysteresis\", \"Debye\", \"Band bending\", \"Doping\", \"Zero temperature\", \"Quasicrystal\", \"Superconductivity\", \"Density of states\", \"Conductance\", \"Geometric phase\", \"Vacancy defect\", \"Fermi Gamma-ray Space Telescope\", \"Crystallographic defect\", \"Thermal fluctuations\", \"Liquid crystal\", \"Electronic structure\", \"Anharmonicity\", \"Charge carrier\", \"Solid-state physics\", \"Exciton\", \"Point reflection\", \"Universality (dynamical systems)\", \"Electronic band structure\", \"Paramagnetism\", \"Optical conductivity\", \"Quasiperiodic function\", \"Superfluidity\", \"Many-body theory\", \"Antiferromagnetism\", \"Brillouin zone\", \"Gallium arsenide\", \"Phase transition\", \"Random phase approximation\", \"Dephasing\", \"Spins\", \"Pseudopotential\", \"Ising model\", \"Magnetic moment\", \"Magnetic susceptibility\", \"Polariton\", \"Superlattice\", \"Acceptor\", \"Phonon\", \"Drude model\", \"Anderson localization\", \"Precession\", \"Anomaly (physics)\", \"Heterojunction\", \"Frustration\", \"Rectangular potential barrier\", \"Quantum tunnelling\", \"Ferromagnetism\"], \"Astronomy\": [\"Pulsar\", \"Impact crater\", \"History of astronomy\", \"Planet\", \"Asteroid\", \"Inflation (cosmology)\", \"Gravitation\", \"Three-body problem\", \"Cosmic ray\", \"Supernova\", \"Radio telescope\", \"Comet\", \"Eclipse\", \"Meteor (satellite)\", \"Dark matter\", \"Galaxy\", \"Brightness\", \"Planck\", \"Parallax\", \"Density contrast\", \"Perturbation (astronomy)\", \"Copernicus\", \"Delta\", \"Solar irradiance\", \"Energy flux\", \"Polar\", \"Telescope\", \"Orbital elements\", \"Circular orbit\", \"Solar eclipse\", \"Infrared\", \"Gravitational wave\", \"Universe\", \"Flattening\", \"Stars\", \"Sigma\", \"Spectral line\", \"Hydrostatic equilibrium\", \"Azimuth\", \"Constellation\", \"Horizon\", \"Interferometry\", \"Achromatic lens\", \"COSMIC cancer database\", \"Meteoroid\", \"Sunlight\", \"Trajectory\", \"Solar System\", \"Cosmology\", \"Light curve\", \"Occultation\", \"Celestial mechanics\", \"Gamma-ray burst\", \"Meteorite\", \"Term (time)\", \"Spectroscopy\", \"Nutation\", \"Millimeter\", \"Neutron star\", \"Maser\", \"Tidal force\", \"Precession\", \"Hyperfine structure\", \"Spacecraft\", \"Adaptive optics\", \"Magnitude (astronomy)\", \"Cross section (physics)\", \"Astronomer\"], \"Quantum electrodynamics\": [], \"Optoelectronics\": [\"Band gap\", \"Integrated optics\", \"Band bending\", \"Doping\", \"Optical filter\", \"Energy conversion efficiency\", \"Semiconductor\", \"Metamaterial\", \"Liquid crystal\", \"Charge carrier\", \"Photoluminescence\", \"Photorefractive effect\", \"Quantum dot\", \"Optical materials\", \"Transmittance\", \"Silicon\", \"Diode\", \"Spatial light modulator\", \"Dielectric\", \"Luminescence\", \"Cadmium telluride photovoltaics\", \"Wavelength\", \"Gallium arsenide\", \"Photonics\", \"Grating\", \"Optical communication\", \"Electromagnetically induced transparency\", \"Indium\", \"Transfer-matrix method (optics)\", \"Refractive index\", \"Polariton\", \"Resonator\", \"Terahertz radiation\", \"Full width at half maximum\", \"Superlattice\", \"Ultraviolet\", \"Plasmon\", \"Photonic crystal\", \"Heterojunction\", \"Rectangular potential barrier\", \"Quantum tunnelling\", \"Waveguide\"], \"Mathematical physics\": [\"Lagrangian\", \"Covariant transformation\", \"Dirac equation\", \"Isospectral\", \"Perfect fluid\", \"Scalar potential\", \"Massless particle\", \"Scalar field\", \"Supersymmetry\", \"Integrable system\", \"Special unitary group\", \"Anti-de Sitter space\", \"Quantum field theory\", \"Propagator\", \"Field equation\", \"Ansatz\", \"U-1\", \"Conserved quantity\", \"General relativity\", \"Renormalization group\", \"Noncommutative geometry\", \"Cosmological constant\", \"Einstein\", \"Gauge theory\", \"Renormalization\"], \"Particle physics\": [\"Flavour\", \"Parity (physics)\", \"Neutrino\", \"Yukawa potential\", \"Quantum chromodynamics\", \"Effective field theory\", \"Fermion\", \"Perturbation theory (quantum mechanics)\", \"Pair production\", \"CP violation\", \"Resonance (particle physics)\", \"Dark matter\", \"Muon\", \"Massless particle\", \"Elementary particle\", \"Helicity\", \"Baryon\", \"Boson\", \"Supersymmetry\", \"Collider\", \"Large Hadron Collider\", \"Pion\", \"Coupling constant\", \"Weak interaction\", \"Quark\", \"Extra dimensions\", \"U-1\", \"Branching fraction\", \"Hadron\", \"Physics beyond the Standard Model\", \"Asymmetry\", \"Bubble chamber\", \"Higgs boson\", \"Annihilation\", \"Bound state\", \"Charge (physics)\", \"Charm (quantum number)\", \"Invariant mass\", \"Unitarity\", \"Gauge theory\", \"Fermilab\", \"Electroweak interaction\", \"Isospin\", \"Nucleon\", \"Meson\", \"Symmetry breaking\"], \"Molecular physics\": [], \"Atomic physics\": [\"Reduced mass\", \"Morse potential\", \"Parity (physics)\", \"Impact parameter\", \"Nuclear reaction\", \"Quantum number\", \"Potential energy\", \"Wave packet\", \"Resonance (particle physics)\", \"Binding energy\", \"Relativistic quantum chemistry\", \"Quadrupole\", \"Wave function\", \"Hartree\", \"SHELL model\", \"Random phase approximation\", \"Ground state\", \"Branching fraction\", \"Thermalisation\", \"Pseudopotential\", \"Beta decay\", \"Excited state\", \"Electromagnetically induced transparency\", \"Recoil\", \"Nuclear structure\", \"Helium\", \"Hyperfine structure\", \"Isospin\", \"Nucleon\"], \"Mechanics\": [\"Compressibility\", \"Inviscid flow\", \"Jet (fluid)\", \"Computational fluid dynamics\", \"Laminar flow\", \"High pressure\", \"Circulation (fluid dynamics)\", \"Turbulence\", \"Hydrostatic pressure\", \"Rotational symmetry\", \"Vortex\", \"Computer simulation\", \"Shock wave\", \"Flow (mathematics)\", \"Drag\", \"Dimensionless quantity\", \"Heat transfer\", \"Instability\"], \"Chemical physics\": [], \"Classical mechanics\": [\"Reduced mass\", \"Gravitation\", \"Three-body problem\", \"Potential energy\", \"Circular symmetry\", \"Perfect fluid\", \"Scalar potential\", \"Kinetic energy\", \"Scalar field\", \"Acceleration\", \"Inviscid flow\", \"Anti-de Sitter space\", \"Circular orbit\", \"Inertia\", \"Field equation\", \"Monochromatic electromagnetic plane wave\", \"Conserved quantity\", \"General relativity\", \"Angular velocity\", \"Angular momentum\", \"Rigid body\", \"Celestial mechanics\", \"Test particle\", \"Cosmological constant\", \"Kinetics\", \"Einstein\", \"Motion (physics)\", \"Kinematics\", \"Simultaneity\"], \"Atmospheric sciences\": [\"Cirrus\", \"Solar irradiance\"]}}))\n",
              "new ResizeObserver(google.colab.output.resizeIframeToContent).observe(document.body)\n",
              "</script>\n"
            ]
          },
          "metadata": {},
          "execution_count": 25
        }
      ]
    },
    {
      "cell_type": "code",
      "source": [
        "if isinstance(objeto,list):\n",
        "    objeto=pd.DataFrame(objeto)\n",
        "concept='Complex systems'\n",
        "level=2\n",
        "def filter_concept(df,concept,level):\n",
        "    return df[df['concepts'].apply(lambda l: {concept}.intersection( \n",
        "    [d.get('display_name') for d in l if d.get('level')==level])).apply(len)>0]"
      ],
      "metadata": {
        "id": "zfzuW39h-YvO"
      },
      "execution_count": 10,
      "outputs": []
    },
    {
      "cell_type": "code",
      "source": [
        "filter_concept(objeto,concept,level)"
      ],
      "metadata": {
        "id": "XhSIo2zC_R7v",
        "outputId": "1ff8d843-c1b0-4096-c75c-aaf55b15388e",
        "colab": {
          "base_uri": "https://localhost:8080/",
          "height": 143
        }
      },
      "execution_count": 11,
      "outputs": [
        {
          "output_type": "execute_result",
          "data": {
            "text/plain": [
              "Empty DataFrame\n",
              "Columns: [id, doi, title, display_name, publication_year, publication_date, ids, host_venue, type, open_access, authorships, cited_by_count, biblio, is_retracted, is_paratext, concepts, mesh, alternate_host_venues, referenced_works, related_works, cited_by_api_url, counts_by_year, updated_date, created_date, abstract_inverted_index]\n",
              "Index: []\n",
              "\n",
              "[0 rows x 25 columns]"
            ],
            "text/html": [
              "\n",
              "  <div id=\"df-9a12ef2b-44a3-49cf-9242-5e5874a80637\">\n",
              "    <div class=\"colab-df-container\">\n",
              "      <div>\n",
              "<style scoped>\n",
              "    .dataframe tbody tr th:only-of-type {\n",
              "        vertical-align: middle;\n",
              "    }\n",
              "\n",
              "    .dataframe tbody tr th {\n",
              "        vertical-align: top;\n",
              "    }\n",
              "\n",
              "    .dataframe thead th {\n",
              "        text-align: right;\n",
              "    }\n",
              "</style>\n",
              "<table border=\"1\" class=\"dataframe\">\n",
              "  <thead>\n",
              "    <tr style=\"text-align: right;\">\n",
              "      <th></th>\n",
              "      <th>id</th>\n",
              "      <th>doi</th>\n",
              "      <th>title</th>\n",
              "      <th>display_name</th>\n",
              "      <th>publication_year</th>\n",
              "      <th>publication_date</th>\n",
              "      <th>ids</th>\n",
              "      <th>host_venue</th>\n",
              "      <th>type</th>\n",
              "      <th>open_access</th>\n",
              "      <th>...</th>\n",
              "      <th>concepts</th>\n",
              "      <th>mesh</th>\n",
              "      <th>alternate_host_venues</th>\n",
              "      <th>referenced_works</th>\n",
              "      <th>related_works</th>\n",
              "      <th>cited_by_api_url</th>\n",
              "      <th>counts_by_year</th>\n",
              "      <th>updated_date</th>\n",
              "      <th>created_date</th>\n",
              "      <th>abstract_inverted_index</th>\n",
              "    </tr>\n",
              "  </thead>\n",
              "  <tbody>\n",
              "  </tbody>\n",
              "</table>\n",
              "<p>0 rows × 25 columns</p>\n",
              "</div>\n",
              "      <button class=\"colab-df-convert\" onclick=\"convertToInteractive('df-9a12ef2b-44a3-49cf-9242-5e5874a80637')\"\n",
              "              title=\"Convert this dataframe to an interactive table.\"\n",
              "              style=\"display:none;\">\n",
              "        \n",
              "  <svg xmlns=\"http://www.w3.org/2000/svg\" height=\"24px\"viewBox=\"0 0 24 24\"\n",
              "       width=\"24px\">\n",
              "    <path d=\"M0 0h24v24H0V0z\" fill=\"none\"/>\n",
              "    <path d=\"M18.56 5.44l.94 2.06.94-2.06 2.06-.94-2.06-.94-.94-2.06-.94 2.06-2.06.94zm-11 1L8.5 8.5l.94-2.06 2.06-.94-2.06-.94L8.5 2.5l-.94 2.06-2.06.94zm10 10l.94 2.06.94-2.06 2.06-.94-2.06-.94-.94-2.06-.94 2.06-2.06.94z\"/><path d=\"M17.41 7.96l-1.37-1.37c-.4-.4-.92-.59-1.43-.59-.52 0-1.04.2-1.43.59L10.3 9.45l-7.72 7.72c-.78.78-.78 2.05 0 2.83L4 21.41c.39.39.9.59 1.41.59.51 0 1.02-.2 1.41-.59l7.78-7.78 2.81-2.81c.8-.78.8-2.07 0-2.86zM5.41 20L4 18.59l7.72-7.72 1.47 1.35L5.41 20z\"/>\n",
              "  </svg>\n",
              "      </button>\n",
              "      \n",
              "  <style>\n",
              "    .colab-df-container {\n",
              "      display:flex;\n",
              "      flex-wrap:wrap;\n",
              "      gap: 12px;\n",
              "    }\n",
              "\n",
              "    .colab-df-convert {\n",
              "      background-color: #E8F0FE;\n",
              "      border: none;\n",
              "      border-radius: 50%;\n",
              "      cursor: pointer;\n",
              "      display: none;\n",
              "      fill: #1967D2;\n",
              "      height: 32px;\n",
              "      padding: 0 0 0 0;\n",
              "      width: 32px;\n",
              "    }\n",
              "\n",
              "    .colab-df-convert:hover {\n",
              "      background-color: #E2EBFA;\n",
              "      box-shadow: 0px 1px 2px rgba(60, 64, 67, 0.3), 0px 1px 3px 1px rgba(60, 64, 67, 0.15);\n",
              "      fill: #174EA6;\n",
              "    }\n",
              "\n",
              "    [theme=dark] .colab-df-convert {\n",
              "      background-color: #3B4455;\n",
              "      fill: #D2E3FC;\n",
              "    }\n",
              "\n",
              "    [theme=dark] .colab-df-convert:hover {\n",
              "      background-color: #434B5C;\n",
              "      box-shadow: 0px 1px 3px 1px rgba(0, 0, 0, 0.15);\n",
              "      filter: drop-shadow(0px 1px 2px rgba(0, 0, 0, 0.3));\n",
              "      fill: #FFFFFF;\n",
              "    }\n",
              "  </style>\n",
              "\n",
              "      <script>\n",
              "        const buttonEl =\n",
              "          document.querySelector('#df-9a12ef2b-44a3-49cf-9242-5e5874a80637 button.colab-df-convert');\n",
              "        buttonEl.style.display =\n",
              "          google.colab.kernel.accessAllowed ? 'block' : 'none';\n",
              "\n",
              "        async function convertToInteractive(key) {\n",
              "          const element = document.querySelector('#df-9a12ef2b-44a3-49cf-9242-5e5874a80637');\n",
              "          const dataTable =\n",
              "            await google.colab.kernel.invokeFunction('convertToInteractive',\n",
              "                                                     [key], {});\n",
              "          if (!dataTable) return;\n",
              "\n",
              "          const docLinkHtml = 'Like what you see? Visit the ' +\n",
              "            '<a target=\"_blank\" href=https://colab.research.google.com/notebooks/data_table.ipynb>data table notebook</a>'\n",
              "            + ' to learn more about interactive tables.';\n",
              "          element.innerHTML = '';\n",
              "          dataTable['output_type'] = 'display_data';\n",
              "          await google.colab.output.renderOutput(dataTable, element);\n",
              "          const docLink = document.createElement('div');\n",
              "          docLink.innerHTML = docLinkHtml;\n",
              "          element.appendChild(docLink);\n",
              "        }\n",
              "      </script>\n",
              "    </div>\n",
              "  </div>\n",
              "  "
            ]
          },
          "metadata": {},
          "execution_count": 11
        }
      ]
    },
    {
      "cell_type": "code",
      "source": [
        "\n",
        "f=open('openalexua.json','w')\n",
        "json.dump(objeto,f)\n",
        "f.close()"
      ],
      "metadata": {
        "id": "WxZlWJSi2bNO"
      },
      "execution_count": null,
      "outputs": []
    },
    {
      "cell_type": "code",
      "source": [
        "\n",
        "x=set()\n",
        "type(x)"
      ],
      "metadata": {
        "id": "ldOuxLZTKkgW"
      },
      "execution_count": null,
      "outputs": []
    },
    {
      "cell_type": "code",
      "source": [
        "f=open('openalexua.json','r')\n",
        "df=json.load(f)\n",
        "f.close()"
      ],
      "metadata": {
        "id": "0ZV04Aph_g8l"
      },
      "execution_count": null,
      "outputs": []
    },
    {
      "cell_type": "code",
      "source": [],
      "metadata": {
        "id": "4Ij8SZisCy7J"
      },
      "execution_count": null,
      "outputs": []
    },
    {
      "cell_type": "code",
      "source": [],
      "metadata": {
        "id": "DsbWV73VbF16"
      },
      "execution_count": null,
      "outputs": []
    }
  ]
}