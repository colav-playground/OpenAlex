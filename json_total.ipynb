{
  "nbformat": 4,
  "nbformat_minor": 0,
  "metadata": {
    "colab": {
      "provenance": [],
      "collapsed_sections": [],
      "include_colab_link": true
    },
    "kernelspec": {
      "name": "python3",
      "display_name": "Python 3"
    },
    "language_info": {
      "name": "python"
    }
  },
  "cells": [
    {
      "cell_type": "markdown",
      "metadata": {
        "id": "view-in-github",
        "colab_type": "text"
      },
      "source": [
        "<a href=\"https://colab.research.google.com/github/restrepo/OpenAlex/blob/main/json_total.ipynb\" target=\"_parent\"><img src=\"https://colab.research.google.com/assets/colab-badge.svg\" alt=\"Open In Colab\"/></a>"
      ]
    },
    {
      "cell_type": "code",
      "execution_count": null,
      "metadata": {
        "id": "-RbQDK_OnSpc"
      },
      "outputs": [],
      "source": [
        "import json\n",
        "import pandas as pd\n",
        "from google.colab import files"
      ]
    },
    {
      "cell_type": "code",
      "source": [
        "from google.colab import drive\n",
        "drive.mount('/content/drive')"
      ],
      "metadata": {
        "colab": {
          "base_uri": "https://localhost:8080/"
        },
        "id": "7vmypO1blTHY",
        "outputId": "f0fedb01-1468-4c5c-d339-78a00887c7c7"
      },
      "execution_count": null,
      "outputs": [
        {
          "output_type": "stream",
          "name": "stdout",
          "text": [
            "Drive already mounted at /content/drive; to attempt to forcibly remount, call drive.mount(\"/content/drive\", force_remount=True).\n"
          ]
        }
      ]
    },
    {
      "cell_type": "markdown",
      "source": [],
      "metadata": {
        "id": "Z35RvbDA7vR-"
      }
    },
    {
      "cell_type": "code",
      "source": [
        "with open('/content/drive/MyDrive/json/openalexco.json','r') as miarchivo:\n",
        "    objeto=miarchivo.read()\n",
        "objeto=json.loads(objeto)"
      ],
      "metadata": {
        "id": "7R1pvevHlXqY"
      },
      "execution_count": null,
      "outputs": []
    },
    {
      "cell_type": "code",
      "source": [
        "ob=objeto[0]"
      ],
      "metadata": {
        "id": "1FoGbJYumK2i"
      },
      "execution_count": null,
      "outputs": []
    },
    {
      "cell_type": "code",
      "source": [
        "https://ror.org/03bp5hc83"
      ],
      "metadata": {
        "id": "-2DO-bIu4cxL"
      },
      "execution_count": null,
      "outputs": []
    },
    {
      "cell_type": "code",
      "source": [
        "objeto=[ c for c in objeto if any(\n",
        "    [ any([i.get('ror')==\"https://ror.org/03bp5hc83\" for i in a.get('institutions')]) \n",
        "    for a in c.get('authorships')])\n",
        "]"
      ],
      "metadata": {
        "id": "4Hbuh0Ei4l3_"
      },
      "execution_count": null,
      "outputs": []
    },
    {
      "cell_type": "code",
      "source": [
        "[ [ [i.get('ror')==\"https://ror.org/03bp5hc83\" for i in a.get('institutions')] for a in c.get('authorships')] for c in objeto][0]"
      ],
      "metadata": {
        "id": "WSKHbM-imfwP",
        "colab": {
          "base_uri": "https://localhost:8080/"
        },
        "outputId": "508777a4-c243-4898-94b7-c1f7d6e0a69d"
      },
      "execution_count": null,
      "outputs": [
        {
          "output_type": "execute_result",
          "data": {
            "text/plain": [
              "[[True], [], [], []]"
            ]
          },
          "metadata": {},
          "execution_count": 10
        }
      ]
    },
    {
      "cell_type": "code",
      "source": [
        "f=open('openalexua.json','w')\n",
        "json.dump(objeto,f)\n",
        "f.close()"
      ],
      "metadata": {
        "id": "WxZlWJSi2bNO"
      },
      "execution_count": null,
      "outputs": []
    },
    {
      "cell_type": "code",
      "source": [
        "f=open('openalexua.json','r')\n",
        "df=json.load(f)\n",
        "f.close()"
      ],
      "metadata": {
        "id": "0ZV04Aph_g8l"
      },
      "execution_count": null,
      "outputs": []
    },
    {
      "cell_type": "code",
      "source": [],
      "metadata": {
        "id": "4Ij8SZisCy7J"
      },
      "execution_count": null,
      "outputs": []
    }
  ]
}