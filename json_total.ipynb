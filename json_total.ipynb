{
 "cells": [
  {
   "cell_type": "markdown",
   "metadata": {
    "colab_type": "text",
    "id": "view-in-github"
   },
   "source": [
    "<a href=\"https://colab.research.google.com/github/restrepo/OpenAlex/blob/main/json_total.ipynb\" target=\"_parent\"><img src=\"https://colab.research.google.com/assets/colab-badge.svg\" alt=\"Open In Colab\"/></a>"
   ]
  },
  {
   "cell_type": "markdown",
   "metadata": {
    "id": "RSROz3TFuJ23"
   },
   "source": [
    "# OpenAlex works for Colombia\n",
    "## Concepts associated to \"Physics\" in UdeA"
   ]
  },
  {
   "cell_type": "code",
   "execution_count": 1,
   "metadata": {
    "id": "-RbQDK_OnSpc"
   },
   "outputs": [],
   "source": [
    "import json\n",
    "import pandas as pd\n",
    "from google.colab import files\n",
    "#From https://gist.github.com/korakot/072f1ea70d3c3267ff2c64b61d78c89c\n",
    "import json\n",
    "from IPython.display import HTML\n",
    "\n",
    "def JSON(jstr):\n",
    "  if type(jstr) != str:\n",
    "    jstr = json.dumps(jstr)\n",
    "  return HTML(\"\"\"\n",
    "<script src=\"https://rawgit.com/caldwell/renderjson/master/renderjson.js\"></script>\n",
    "<script>\n",
    "renderjson.set_show_to_level(1)\n",
    "document.body.appendChild(renderjson(%s))\n",
    "new ResizeObserver(google.colab.output.resizeIframeToContent).observe(document.body)\n",
    "</script>\n",
    "\"\"\" % jstr)"
   ]
  },
  {
   "cell_type": "markdown",
   "metadata": {
    "id": "TprrS4sFusjo"
   },
   "source": [
    "### Load the json file of works for Colombia"
   ]
  },
  {
   "cell_type": "code",
   "execution_count": null,
   "metadata": {
    "colab": {
     "base_uri": "https://localhost:8080/"
    },
    "id": "7vmypO1blTHY",
    "outputId": "bfcb5957-abd5-446e-da70-ee1cdfe386e2"
   },
   "outputs": [
    {
     "name": "stdout",
     "output_type": "stream",
     "text": [
      "Mounted at /content/drive\n"
     ]
    }
   ],
   "source": [
    "from google.colab import drive\n",
    "drive.mount('/content/drive')"
   ]
  },
  {
   "cell_type": "code",
   "execution_count": null,
   "metadata": {
    "id": "7R1pvevHlXqY"
   },
   "outputs": [],
   "source": [
    "with open('/content/drive/MyDrive/json/openalexco.json','r') as miarchivo:\n",
    "    objeto=miarchivo.read()\n",
    "objeto=json.loads(objeto)"
   ]
  },
  {
   "cell_type": "code",
   "execution_count": null,
   "metadata": {
    "colab": {
     "base_uri": "https://localhost:8080/"
    },
    "id": "z_f4GsI5EmcO",
    "outputId": "83b1bf70-2f9c-4d58-bc09-609b1db43454"
   },
   "outputs": [
    {
     "data": {
      "text/plain": [
       "343057"
      ]
     },
     "execution_count": 6,
     "metadata": {},
     "output_type": "execute_result"
    }
   ],
   "source": [
    "len(objeto)"
   ]
  },
  {
   "cell_type": "markdown",
   "metadata": {
    "id": "-2DO-bIu4cxL"
   },
   "source": [
    "Filter works with ror:\n",
    "\n",
    "https://ror.org/03bp5hc83"
   ]
  },
  {
   "cell_type": "code",
   "execution_count": null,
   "metadata": {
    "colab": {
     "base_uri": "https://localhost:8080/"
    },
    "id": "4Hbuh0Ei4l3_",
    "outputId": "12e40425-43ce-48be-9ad1-f92d3f47995c"
   },
   "outputs": [
    {
     "data": {
      "text/plain": [
       "34291"
      ]
     },
     "execution_count": 4,
     "metadata": {},
     "output_type": "execute_result"
    }
   ],
   "source": [
    "objeto=[ c for c in objeto if any(\n",
    "    [ any([i.get('ror')==\"https://ror.org/03bp5hc83\" for i in a.get('institutions')]) \n",
    "    for a in c.get('authorships')])\n",
    "]\n",
    "len(objeto)"
   ]
  },
  {
   "cell_type": "markdown",
   "metadata": {
    "id": "ggYrli-ik5nF"
   },
   "source": [
    "Define the filter which returns `True or False`"
   ]
  },
  {
   "cell_type": "code",
   "execution_count": null,
   "metadata": {
    "id": "WSKHbM-imfwP"
   },
   "outputs": [],
   "source": [
    "def filter_ror(authorships,ror=\"https://ror.org/03bp5hc83\"):\n",
    "  return any([any([i.get('ror')==\"https://ror.org/03bp5hc83\" for i in a.get('institutions')])  for a in authorships])"
   ]
  },
  {
   "cell_type": "code",
   "execution_count": null,
   "metadata": {
    "colab": {
     "base_uri": "https://localhost:8080/"
    },
    "id": "b6Vaq9L8cQ_d",
    "outputId": "61580957-8f06-4928-fa87-166812f42fa1"
   },
   "outputs": [
    {
     "data": {
      "text/plain": [
       "34291"
      ]
     },
     "execution_count": 6,
     "metadata": {},
     "output_type": "execute_result"
    }
   ],
   "source": [
    "len([ c for c in objeto if filter_ror(c.get('authorships'))])"
   ]
  },
  {
   "cell_type": "markdown",
   "metadata": {
    "id": "5n2VScjjFPRq"
   },
   "source": [
    "Filter with Pandas"
   ]
  },
  {
   "cell_type": "code",
   "execution_count": null,
   "metadata": {
    "id": "F4suin_UnRR9"
   },
   "outputs": [],
   "source": [
    "objeto=pd.DataFrame(objeto)"
   ]
  },
  {
   "cell_type": "code",
   "execution_count": null,
   "metadata": {
    "colab": {
     "base_uri": "https://localhost:8080/"
    },
    "id": "axE4HRe9FWJN",
    "outputId": "f88cb55e-dbee-4df6-b1d5-b80083f63098"
   },
   "outputs": [
    {
     "data": {
      "text/plain": [
       "(34291, 25)"
      ]
     },
     "execution_count": 8,
     "metadata": {},
     "output_type": "execute_result"
    }
   ],
   "source": [
    "objeto[objeto['authorships'].apply(filter_ror)].shape"
   ]
  },
  {
   "cell_type": "markdown",
   "metadata": {
    "id": "Qlq2rGOidXkB"
   },
   "source": [
    "### Explore concept levels from Excel file"
   ]
  },
  {
   "cell_type": "code",
   "execution_count": 2,
   "metadata": {
    "id": "FYi66eYGHO0a"
   },
   "outputs": [],
   "source": [
    "cp=pd.read_excel('https://docs.google.com/spreadsheets/d/e/2PACX-1vT9JrvUwanM-z-hCZ1SSaxRx2wfzLV3RVvm5BJaf8TABBmpIwKt7iYt1sVLbImVevh9YNaZK9Y7sfI9/pub?output=xlsx')"
   ]
  },
  {
   "cell_type": "code",
   "execution_count": null,
   "metadata": {
    "colab": {
     "base_uri": "https://localhost:8080/",
     "height": 143
    },
    "id": "6aPPvpga7_bL",
    "outputId": "8c3cf0f3-1886-4ce6-e0ed-4143e83e241a"
   },
   "outputs": [
    {
     "data": {
      "text/html": [
       "\n",
       "  <div id=\"df-94ce62fb-d332-4b7f-a36c-a6bf9ab5d0dd\">\n",
       "    <div class=\"colab-df-container\">\n",
       "      <div>\n",
       "<style scoped>\n",
       "    .dataframe tbody tr th:only-of-type {\n",
       "        vertical-align: middle;\n",
       "    }\n",
       "\n",
       "    .dataframe tbody tr th {\n",
       "        vertical-align: top;\n",
       "    }\n",
       "\n",
       "    .dataframe thead th {\n",
       "        text-align: right;\n",
       "    }\n",
       "</style>\n",
       "<table border=\"1\" class=\"dataframe\">\n",
       "  <thead>\n",
       "    <tr style=\"text-align: right;\">\n",
       "      <th></th>\n",
       "      <th>openalex_id</th>\n",
       "      <th>display_name</th>\n",
       "      <th>normalized_name</th>\n",
       "      <th>level</th>\n",
       "      <th>wikidata_id</th>\n",
       "      <th>parent_display_names</th>\n",
       "      <th>parent_ids</th>\n",
       "    </tr>\n",
       "  </thead>\n",
       "  <tbody>\n",
       "    <tr>\n",
       "      <th>377</th>\n",
       "      <td>https://openalex.org/c34947359</td>\n",
       "      <td>Complex network</td>\n",
       "      <td>complex network</td>\n",
       "      <td>2.0</td>\n",
       "      <td>https://www.wikidata.org/wiki/Q665189</td>\n",
       "      <td>Combinatorics, World Wide Web</td>\n",
       "      <td>https://openalex.org/C114614502, https://opena...</td>\n",
       "    </tr>\n",
       "    <tr>\n",
       "      <th>1241</th>\n",
       "      <td>https://openalex.org/c2778445095</td>\n",
       "      <td>Sample complexity</td>\n",
       "      <td>sample complexity</td>\n",
       "      <td>2.0</td>\n",
       "      <td>https://www.wikidata.org/wiki/Q18354077</td>\n",
       "      <td>NaN</td>\n",
       "      <td>NaN</td>\n",
       "    </tr>\n",
       "    <tr>\n",
       "      <th>2527</th>\n",
       "      <td>https://openalex.org/c47822265</td>\n",
       "      <td>Complex system</td>\n",
       "      <td>complex systems</td>\n",
       "      <td>2.0</td>\n",
       "      <td>https://www.wikidata.org/wiki/Q854457</td>\n",
       "      <td>Artificial intelligence, Social science</td>\n",
       "      <td>https://openalex.org/C154945302, https://opena...</td>\n",
       "    </tr>\n",
       "  </tbody>\n",
       "</table>\n",
       "</div>\n",
       "      <button class=\"colab-df-convert\" onclick=\"convertToInteractive('df-94ce62fb-d332-4b7f-a36c-a6bf9ab5d0dd')\"\n",
       "              title=\"Convert this dataframe to an interactive table.\"\n",
       "              style=\"display:none;\">\n",
       "        \n",
       "  <svg xmlns=\"http://www.w3.org/2000/svg\" height=\"24px\"viewBox=\"0 0 24 24\"\n",
       "       width=\"24px\">\n",
       "    <path d=\"M0 0h24v24H0V0z\" fill=\"none\"/>\n",
       "    <path d=\"M18.56 5.44l.94 2.06.94-2.06 2.06-.94-2.06-.94-.94-2.06-.94 2.06-2.06.94zm-11 1L8.5 8.5l.94-2.06 2.06-.94-2.06-.94L8.5 2.5l-.94 2.06-2.06.94zm10 10l.94 2.06.94-2.06 2.06-.94-2.06-.94-.94-2.06-.94 2.06-2.06.94z\"/><path d=\"M17.41 7.96l-1.37-1.37c-.4-.4-.92-.59-1.43-.59-.52 0-1.04.2-1.43.59L10.3 9.45l-7.72 7.72c-.78.78-.78 2.05 0 2.83L4 21.41c.39.39.9.59 1.41.59.51 0 1.02-.2 1.41-.59l7.78-7.78 2.81-2.81c.8-.78.8-2.07 0-2.86zM5.41 20L4 18.59l7.72-7.72 1.47 1.35L5.41 20z\"/>\n",
       "  </svg>\n",
       "      </button>\n",
       "      \n",
       "  <style>\n",
       "    .colab-df-container {\n",
       "      display:flex;\n",
       "      flex-wrap:wrap;\n",
       "      gap: 12px;\n",
       "    }\n",
       "\n",
       "    .colab-df-convert {\n",
       "      background-color: #E8F0FE;\n",
       "      border: none;\n",
       "      border-radius: 50%;\n",
       "      cursor: pointer;\n",
       "      display: none;\n",
       "      fill: #1967D2;\n",
       "      height: 32px;\n",
       "      padding: 0 0 0 0;\n",
       "      width: 32px;\n",
       "    }\n",
       "\n",
       "    .colab-df-convert:hover {\n",
       "      background-color: #E2EBFA;\n",
       "      box-shadow: 0px 1px 2px rgba(60, 64, 67, 0.3), 0px 1px 3px 1px rgba(60, 64, 67, 0.15);\n",
       "      fill: #174EA6;\n",
       "    }\n",
       "\n",
       "    [theme=dark] .colab-df-convert {\n",
       "      background-color: #3B4455;\n",
       "      fill: #D2E3FC;\n",
       "    }\n",
       "\n",
       "    [theme=dark] .colab-df-convert:hover {\n",
       "      background-color: #434B5C;\n",
       "      box-shadow: 0px 1px 3px 1px rgba(0, 0, 0, 0.15);\n",
       "      filter: drop-shadow(0px 1px 2px rgba(0, 0, 0, 0.3));\n",
       "      fill: #FFFFFF;\n",
       "    }\n",
       "  </style>\n",
       "\n",
       "      <script>\n",
       "        const buttonEl =\n",
       "          document.querySelector('#df-94ce62fb-d332-4b7f-a36c-a6bf9ab5d0dd button.colab-df-convert');\n",
       "        buttonEl.style.display =\n",
       "          google.colab.kernel.accessAllowed ? 'block' : 'none';\n",
       "\n",
       "        async function convertToInteractive(key) {\n",
       "          const element = document.querySelector('#df-94ce62fb-d332-4b7f-a36c-a6bf9ab5d0dd');\n",
       "          const dataTable =\n",
       "            await google.colab.kernel.invokeFunction('convertToInteractive',\n",
       "                                                     [key], {});\n",
       "          if (!dataTable) return;\n",
       "\n",
       "          const docLinkHtml = 'Like what you see? Visit the ' +\n",
       "            '<a target=\"_blank\" href=https://colab.research.google.com/notebooks/data_table.ipynb>data table notebook</a>'\n",
       "            + ' to learn more about interactive tables.';\n",
       "          element.innerHTML = '';\n",
       "          dataTable['output_type'] = 'display_data';\n",
       "          await google.colab.output.renderOutput(dataTable, element);\n",
       "          const docLink = document.createElement('div');\n",
       "          docLink.innerHTML = docLinkHtml;\n",
       "          element.appendChild(docLink);\n",
       "        }\n",
       "      </script>\n",
       "    </div>\n",
       "  </div>\n",
       "  "
      ],
      "text/plain": [
       "                           openalex_id       display_name    normalized_name  \\\n",
       "377     https://openalex.org/c34947359    Complex network    complex network   \n",
       "1241  https://openalex.org/c2778445095  Sample complexity  sample complexity   \n",
       "2527    https://openalex.org/c47822265     Complex system    complex systems   \n",
       "\n",
       "      level                              wikidata_id  \\\n",
       "377     2.0    https://www.wikidata.org/wiki/Q665189   \n",
       "1241    2.0  https://www.wikidata.org/wiki/Q18354077   \n",
       "2527    2.0    https://www.wikidata.org/wiki/Q854457   \n",
       "\n",
       "                         parent_display_names  \\\n",
       "377             Combinatorics, World Wide Web   \n",
       "1241                                      NaN   \n",
       "2527  Artificial intelligence, Social science   \n",
       "\n",
       "                                             parent_ids  \n",
       "377   https://openalex.org/C114614502, https://opena...  \n",
       "1241                                                NaN  \n",
       "2527  https://openalex.org/C154945302, https://opena...  "
      ]
     },
     "execution_count": 37,
     "metadata": {},
     "output_type": "execute_result"
    }
   ],
   "source": [
    "cp[cp['display_name'].str.lower().str.contains('complex')][:3]#['display_name']#.to_list()"
   ]
  },
  {
   "cell_type": "markdown",
   "metadata": {
    "id": "LdaXumXYddIA"
   },
   "source": [
    "#### Level 1: Physics concepts\n",
    "The 'parent_display_names' column has some `NaN`, which is a `float`, and therefore must be converted to `str`, before the string operations to avoid errors. `Physics'` may appears along with other concepts in the `'parent_display_names'` and therefore the `str.contains` method of Pandas is the best option here:"
   ]
  },
  {
   "cell_type": "code",
   "execution_count": 3,
   "metadata": {
    "id": "ErMIBGXBHpnj"
   },
   "outputs": [],
   "source": [
    "ph1=cp[ (cp['level']==1) & (cp['parent_display_names'].astype(str).str.contains('Physics')) \n",
    "      ]['display_name'].to_list()"
   ]
  },
  {
   "cell_type": "code",
   "execution_count": 4,
   "metadata": {
    "colab": {
     "base_uri": "https://localhost:8080/"
    },
    "id": "u6pkEHilJntf",
    "outputId": "7e053d0a-9274-4dc0-f36c-db4ab2664d84"
   },
   "outputs": [
    {
     "data": {
      "text/plain": [
       "27"
      ]
     },
     "execution_count": 4,
     "metadata": {},
     "output_type": "execute_result"
    }
   ],
   "source": [
    "len(ph1)"
   ]
  },
  {
   "cell_type": "markdown",
   "metadata": {
    "id": "XWrkUyFtdkWp"
   },
   "source": [
    "#### Level 2: Physics concepts\n",
    "the `str.split` method of Pandas, conver the comma-space sepparated list into a Python list. Remember that the `set` object of Python has the `intersection` method directly"
   ]
  },
  {
   "cell_type": "code",
   "execution_count": 5,
   "metadata": {
    "colab": {
     "base_uri": "https://localhost:8080/"
    },
    "id": "sVvbyDuFI-lT",
    "outputId": "3d56b26e-2596-426f-e577-bfefb00ec5f3"
   },
   "outputs": [
    {
     "data": {
      "text/plain": [
       "2979"
      ]
     },
     "execution_count": 5,
     "metadata": {},
     "output_type": "execute_result"
    }
   ],
   "source": [
    "ph2=cp[(cp['level']==2) & (cp['parent_display_names'].astype(str).str.split(', ').apply(\n",
    "    lambda l: set(l).intersection(set(ph1))).apply(len)>0)]['display_name'].to_list()\n",
    "len(ph2)"
   ]
  },
  {
   "cell_type": "markdown",
   "metadata": {
    "id": "UGhSLHZLd7OD"
   },
   "source": [
    "### UdeA Physics articles"
   ]
  },
  {
   "cell_type": "code",
   "execution_count": null,
   "metadata": {
    "colab": {
     "base_uri": "https://localhost:8080/"
    },
    "id": "y1M30oDsPH7J",
    "outputId": "4185ba39-8877-4fe6-a703-b3f279f743cd"
   },
   "outputs": [
    {
     "data": {
      "text/plain": [
       "(1886, 25)"
      ]
     },
     "execution_count": 41,
     "metadata": {},
     "output_type": "execute_result"
    }
   ],
   "source": [
    "concept='Physics'\n",
    "level=0\n",
    "possible_physics=objeto[objeto['concepts'].apply(lambda l: {concept}.intersection( \n",
    "    [d.get('display_name') for d in l if d.get('level')==level])).apply(len)>0]\n",
    "possible_physics.shape\n"
   ]
  },
  {
   "cell_type": "markdown",
   "metadata": {
    "id": "Mv0amq8LeEsi"
   },
   "source": [
    "Level 1: UdeA Physics concepts"
   ]
  },
  {
   "cell_type": "code",
   "execution_count": null,
   "metadata": {
    "id": "Y6rdzp6TRqIL"
   },
   "outputs": [],
   "source": [
    "ll=possible_physics['concepts'].apply(lambda l: set([d.get('display_name') for d in l if d.get('level')==1]).intersection(ph1)).apply(list)\n",
    "ph1_udea=set([item for subitem in ll for item in subitem])"
   ]
  },
  {
   "cell_type": "markdown",
   "metadata": {
    "id": "JcKbUTgxpVdI"
   },
   "source": [
    "Missing Level 1 concepts at UdeA"
   ]
  },
  {
   "cell_type": "code",
   "execution_count": null,
   "metadata": {
    "colab": {
     "base_uri": "https://localhost:8080/"
    },
    "id": "jgFdTudFS78z",
    "outputId": "e6926e2e-ad05-4de5-fe9a-dd6bcaf27c2c"
   },
   "outputs": [
    {
     "data": {
      "text/plain": [
       "{'Geophysics', 'Medical physics'}"
      ]
     },
     "execution_count": 16,
     "metadata": {},
     "output_type": "execute_result"
    }
   ],
   "source": [
    "set(ph1).difference(ph1_udea)"
   ]
  },
  {
   "cell_type": "markdown",
   "metadata": {
    "id": "mxjkUxsAeLdL"
   },
   "source": [
    "Level 2: UdeA Physics concepts"
   ]
  },
  {
   "cell_type": "code",
   "execution_count": null,
   "metadata": {
    "id": "3tr1epPcTnoh"
   },
   "outputs": [],
   "source": [
    "ll=possible_physics['concepts'].apply(lambda l: set([d.get('display_name') for d in l if d.get('level')==2]).intersection(ph2)).apply(list)\n",
    "ph2_udea=set([item for subitem in ll for item in subitem])"
   ]
  },
  {
   "cell_type": "code",
   "execution_count": null,
   "metadata": {
    "colab": {
     "base_uri": "https://localhost:8080/"
    },
    "id": "TalgtO9ZTsO5",
    "outputId": "994ff04e-dd2d-42f8-d8dc-23579adad230"
   },
   "outputs": [
    {
     "data": {
      "text/plain": [
       "507"
      ]
     },
     "execution_count": 22,
     "metadata": {},
     "output_type": "execute_result"
    }
   ],
   "source": [
    "len(ph2_udea)"
   ]
  },
  {
   "cell_type": "markdown",
   "metadata": {
    "id": "abJlxAQ8eRjV"
   },
   "source": [
    "### UdeA Physics concepts tree"
   ]
  },
  {
   "cell_type": "code",
   "execution_count": null,
   "metadata": {
    "id": "aCimXtpyUoo9"
   },
   "outputs": [],
   "source": [
    "d={'Physics': dict( [(c,[]) for c in ph1_udea])}\n",
    "for c in ph2_udea:\n",
    "    lph1=set(ph1_udea).intersection( cp[cp['display_name']==c]['parent_display_names'].str.split(', ').iloc[0])\n",
    "    for cc in lph1:\n",
    "        if cc in d['Physics'] and c not in d['Physics'][cc]:\n",
    "            d['Physics'][cc].append(c)\n",
    "del cp\n"
   ]
  },
  {
   "cell_type": "code",
   "execution_count": null,
   "metadata": {
    "colab": {
     "base_uri": "https://localhost:8080/",
     "height": 520
    },
    "id": "o7V-XksVYpQo",
    "outputId": "3d8946dc-a78c-47e6-e5de-70848f4148e0"
   },
   "outputs": [
    {
     "data": {
      "text/html": [
       "\n",
       "<script src=\"https://rawgit.com/caldwell/renderjson/master/renderjson.js\"></script>\n",
       "<script>\n",
       "renderjson.set_show_to_level(1)\n",
       "document.body.appendChild(renderjson({\"Physics\": {\"Acoustics\": [\"Binaural recording\", \"Degree (music)\", \"Absorption (acoustics)\", \"Harmonic\", \"Piezoelectricity\", \"Lattice (music)\", \"Aperture (computer memory)\", \"Chromatic scale\", \"Modulation (music)\", \"Dynamics (music)\", \"Vibration\"], \"Statistical physics\": [\"Detailed balance\", \"Statistical mechanics\", \"Boltzmann distribution\", \"Ising model\", \"Autocatalytic reaction\", \"Langevin dynamics\", \"Homogeneous\"], \"Meteorology\": [\"Atmospheric pressure\", \"Meteor (satellite)\", \"Thermal\", \"Atmosphere (unit)\", \"Relative humidity\", \"Cirrus\", \"Visibility\", \"Bar (unit)\", \"Solar irradiance\", \"Turbulence\", \"Condensation\", \"Vortex\"], \"Thermodynamics\": [\"Compressibility\", \"Finite difference method\", \"Turbine\", \"Energy conversion efficiency\", \"Advection\", \"Detailed balance\", \"Thermal radiation\", \"Differential (mechanical device)\", \"Phase space\", \"Thermal conduction\", \"Thermal fluctuations\", \"Boltzmann equation\", \"Statistical mechanics\", \"Thermal\", \"Atmosphere (unit)\", \"Isobaric process\", \"Hydraulic head\", \"Relative humidity\", \"Finite element method\", \"Surface roughness\", \"Power (physics)\", \"Boltzmann constant\", \"Jet (fluid)\", \"Dissipation\", \"Helmholtz free energy\", \"Computational fluid dynamics\", \"Laminar flow\", \"High pressure\", \"Distribution function\", \"Circulation (fluid dynamics)\", \"Thermoelectric effect\", \"Entropy (arrow of time)\", \"Turbulence\", \"Hydrostatic pressure\", \"Work (physics)\", \"Thermal equilibrium\", \"Condensation\", \"Current (fluid)\", \"Phase transition\", \"Dissipative system\", \"Spin (aerodynamics)\", \"Vortex\", \"Energy landscape\", \"Equation of state\", \"Torque\", \"Thermalisation\", \"Diffusion\", \"Thermal conductivity\", \"Boltzmann distribution\", \"Carnot cycle\", \"Degrees of freedom (physics and chemistry)\", \"Component (thermodynamics)\", \"Adiabatic process\", \"Ignition system\", \"Euler equations\", \"Thermal diffusivity\", \"Shock wave\", \"Drag\", \"Diesel engine\", \"Dimensionless quantity\", \"Heat transfer\", \"Homogeneous\"], \"Astrobiology\": [\"Impact crater\", \"Asteroid\", \"Comet\", \"Copernicus\", \"Linea\", \"Meteoroid\", \"Solar System\", \"Meteorite\", \"Water ice\"], \"Astrophysics\": [\"Pulsar\", \"Event (particle physics)\", \"Planet\", \"Gamma ray\", \"Cosmic ray\", \"Fermi Gamma-ray Space Telescope\", \"Supernova\", \"Radio telescope\", \"Comet\", \"Eclipse\", \"Dark matter\", \"Galaxy\", \"Accretion (finance)\", \"Baryon\", \"Planck\", \"Density contrast\", \"Mass ratio\", \"Telescope\", \"Orbital elements\", \"Circular orbit\", \"Gravitational wave\", \"Universe\", \"Stars\", \"COSMIC cancer database\", \"Solar System\", \"Cosmology\", \"Light curve\", \"Occultation\", \"Celestial mechanics\", \"Gamma-ray burst\", \"Star (game theory)\", \"Millimeter\", \"Neutron star\", \"Maser\", \"Tidal force\", \"Magnitude (astronomy)\"], \"Nuclear magnetic resonance\": [\"Protein Data Bank (RCSB PDB)\", \"Vacancy defect\", \"Crystallographic defect\", \"Dimer\", \"Cryo-electron microscopy\", \"Stacking\"], \"Theoretical physics\": [\"Lagrangian\", \"Inflation (cosmology)\", \"Modern physics\", \"Energy density\", \"Extra dimensions\", \"General relativity\", \"Cosmological constant\"], \"Quantum mechanics\": [\"Proton\", \"Reduced mass\", \"Dispersion relation\", \"Band gap\", \"Dispersion (optics)\", \"Hysteresis\", \"Debye\", \"Flavour\", \"Phenomenon\", \"Bessel function\", \"Morse potential\", \"Doping\", \"Pulsar\", \"Fluorescence\", \"Covariant transformation\", \"Optical filter\", \"Parity (physics)\", \"Event (particle physics)\", \"Neutrino\", \"Advection\", \"Gaussian\", \"Electron\", \"Zero temperature\", \"Spectrometer\", \"Detailed balance\", \"Superconductivity\", \"Euler angles\", \"Impact parameter\", \"Fock space\", \"Partial differential equation\", \"Photon\", \"Density of states\", \"DC motor\", \"Metastability\", \"Inflation (cosmology)\", \"Geometric phase\", \"Voltage\", \"Thermal radiation\", \"Thin film\", \"Gamma ray\", \"Yukawa potential\", \"Modern physics\", \"Hydrogen\", \"Nuclear reaction\", \"Phase space\", \"Electromagnetic shielding\", \"Covalent bond\", \"Gravitation\", \"Quantum number\", \"Semiconductor\", \"Three-body problem\", \"Diffraction\", \"Quantum chromodynamics\", \"Metamaterial\", \"Dirac equation\", \"Electronic circuit\", \"Graphene\", \"Fourier transform\", \"Effective field theory\", \"Dynamical systems theory\", \"Thermal conduction\", \"Fermion\", \"Radiation\", \"Perturbation theory (quantum mechanics)\", \"Quantum\", \"Fermi Gamma-ray Space Telescope\", \"Collimator\", \"Thermal fluctuations\", \"Pair production\", \"Supernova\", \"Molecule\", \"Radio telescope\", \"Boltzmann equation\", \"Statistical mechanics\", \"Attenuation coefficient\", \"CP violation\", \"Potential energy\", \"Wave packet\", \"Optical engineering\", \"Resonance (particle physics)\", \"Circular symmetry\", \"Time evolution\", \"Meteor (satellite)\", \"Electronic structure\", \"Galaxy\", \"Binding energy\", \"Relativistic quantum chemistry\", \"Muon\", \"Perfect fluid\", \"Scalar potential\", \"Quantum optics\", \"Laser\", \"Irradiation\", \"Kinetic energy\", \"Observable\", \"Massless particle\", \"Lambda\", \"Scalar field\", \"Elementary particle\", \"Helicity\", \"Anharmonicity\", \"Harmonic\", \"Acceleration\", \"Charge carrier\", \"Nonlinear system\", \"Quadrupole\", \"Variational method\", \"Wave function\", \"Solid-state physics\", \"Photorefractive effect\", \"Boson\", \"Exciton\", \"Supersymmetry\", \"Planck\", \"Rainbow\", \"Quantum dot\", \"Spectrum (functional analysis)\", \"Universality (dynamical systems)\", \"Delocalized electron\", \"Intensity (physics)\", \"Electronic band structure\", \"Density contrast\", \"Paramagnetism\", \"Surface roughness\", \"Phase (matter)\", \"Collider\", \"Optical conductivity\", \"Perturbation (astronomy)\", \"Transmittance\", \"Orthonormal basis\", \"Hartree\", \"Special unitary group\", \"Anti-de Sitter space\", \"Power (physics)\", \"Boltzmann constant\", \"Dissipation\", \"Electrical impedance\", \"Degenerate energy levels\", \"Quantum field theory\", \"Electrical network\", \"Helmholtz free energy\", \"Large Hadron Collider\", \"Boundary value problem\", \"Diode\", \"Irradiance\", \"Energy flux\", \"Polar\", \"Mixing (physics)\", \"Superfluidity\", \"Electric field\", \"Position and momentum space\", \"Orbital elements\", \"Dichroism\", \"Inertia\", \"Chromophore\", \"Infrared\", \"Spatial light modulator\", \"Near and far field\", \"Nanocrystal\", \"Gravitational wave\", \"Wavefront\", \"Universe\", \"Excitation\", \"Bohr model\", \"Distribution function\", \"Dielectric\", \"Physics education\", \"Thermoelectric effect\", \"Entropy (arrow of time)\", \"Propagator\", \"Absorption spectroscopy\", \"Wave propagation\", \"Brewster\", \"Pion\", \"Coupling constant\", \"Light beam\", \"Monochromatic electromagnetic plane wave\", \"Weak interaction\", \"Ansatz\", \"Dipole\", \"Many-body theory\", \"Sigma\", \"Spectral line\", \"Group velocity\", \"Work (physics)\", \"Hydrostatic equilibrium\", \"Birefringence\", \"Thermal equilibrium\", \"Antiferromagnetism\", \"Amplitude\", \"Quark\", \"Neutron\", \"Wavelength\", \"Brillouin zone\", \"Observer (physics)\", \"Electromagnetic radiation\", \"Phase transition\", \"Random phase approximation\", \"Extra dimensions\", \"U-1\", \"Ground state\", \"Physical optics\", \"Conserved quantity\", \"Interferometry\", \"Spacetime\", \"Dissipative system\", \"Brownian motion\", \"Photonics\", \"Sunlight\", \"Hadron\", \"Dephasing\", \"Trajectory\", \"Physics beyond the Standard Model\", \"Equation of state\", \"Poisson's equation\", \"Torque\", \"Thermalisation\", \"Diffusion\", \"Pseudopotential\", \"Electric charge\", \"Angular velocity\", \"Beta decay\", \"Nitrogen\", \"Excited state\", \"Holography\", \"Conservation law\", \"Current density\", \"Ab initio\", \"Thermal conductivity\", \"Molecular dynamics\", \"Multipole expansion\", \"Recoil\", \"Angular momentum\", \"Cosmology\", \"Boltzmann distribution\", \"Plasma\", \"Impurity\", \"Scale invariance\", \"Asymmetry\", \"Gyroscope\", \"Eigenvalues and eigenvectors\", \"Transfer-matrix method (optics)\", \"Bubble chamber\", \"Quality (philosophy)\", \"Ising model\", \"Rigid body\", \"Valence (chemistry)\", \"Magnetic moment\", \"Nuclear structure\", \"Renormalization group\", \"Higgs boson\", \"Topological quantum number\", \"Inert\", \"Electrostatics\", \"Refractive index\", \"Magnetic susceptibility\", \"Vial\", \"Omega\", \"Superposition principle\", \"Plane wave\", \"Carnot cycle\", \"Annihilation\", \"Gamma-ray burst\", \"Isotope\", \"Refraction\", \"Terahertz radiation\", \"Full width at half maximum\", \"Bound state\", \"Test particle\", \"Degrees of freedom (physics and chemistry)\", \"Superlattice\", \"Term (time)\", \"Helium\", \"Ultraviolet\", \"Electromagnetic field\", \"Spectroscopy\", \"Plasmon\", \"Component (thermodynamics)\", \"Energy (signal processing)\", \"Charge (physics)\", \"Stator\", \"Acceptor\", \"Phonon\", \"Charm (quantum number)\", \"Nutation\", \"Invariant mass\", \"Drude model\", \"Anderson localization\", \"Neutron star\", \"Adiabatic process\", \"Photonic crystal\", \"Kinetics\", \"Tidal force\", \"Precession\", \"Einstein\", \"Unitarity\", \"Gauge theory\", \"Fermilab\", \"Euler equations\", \"Stationary state\", \"Electroweak interaction\", \"Anisotropy\", \"Ion\", \"Hyperfine structure\", \"Thermal diffusivity\", \"Electrical phenomena\", \"Electrical conductor\", \"Group (periodic table)\", \"Renormalization\", \"Ground\", \"Spatial frequency\", \"Anomaly (physics)\", \"Heterojunction\", \"Isotropy\", \"Rectangular potential barrier\", \"Density functional theory\", \"Action (physics)\", \"Geometrical optics\", \"Meson\", \"Quantum tunnelling\", \"Magnetic field\", \"Scattering\", \"Radiative transfer\", \"Exact solutions in general relativity\", \"Dimensionless quantity\", \"Scale (ratio)\", \"Langevin dynamics\", \"Cross section (physics)\", \"Opacity\", \"Vibration\", \"Heat transfer\", \"Calibration\", \"Symmetry breaking\", \"Kinematics\", \"Simultaneity\", \"Ferromagnetism\", \"Raman spectroscopy\", \"Coherence (philosophical gambling strategy)\", \"Instability\", \"Waveguide\"], \"Engineering physics\": [\"Energy density\", \"High pressure\", \"National laboratory\"], \"Computational physics\": [], \"Optics\": [\"Dispersion relation\", \"Dispersion (optics)\", \"Tomography\", \"Characterization (materials science)\", \"Integrated optics\", \"Bessel function\", \"Fluorescence\", \"Optical filter\", \"Depth of field\", \"Spectrometer\", \"Photon\", \"Absorption (acoustics)\", \"Diffraction\", \"Detector\", \"Metamaterial\", \"Core (optical fiber)\", \"Radiation\", \"Collimator\", \"Pupil\", \"Attenuation coefficient\", \"Optical engineering\", \"Liquid crystal\", \"Quantum optics\", \"Laser\", \"Lambda\", \"Astigmatism\", \"Monochromatic color\", \"Photoluminescence\", \"Photorefractive effect\", \"Brightness\", \"Presbyopia\", \"Rainbow\", \"Imaging phantom\", \"Optical materials\", \"Digital micromirror device\", \"Intensity (physics)\", \"Optical coherence tomography\", \"Frame rate\", \"Focus (optics)\", \"Transmittance\", \"Visibility\", \"Broadband\", \"Image resolution\", \"Irradiance\", \"Contrast (vision)\", \"Monocular vision\", \"Telescope\", \"Dichroism\", \"Infrared\", \"Spatial light modulator\", \"Near and far field\", \"Left handed\", \"Wavefront\", \"Absorption spectroscopy\", \"Wave propagation\", \"Brewster\", \"Light beam\", \"Monochromatic electromagnetic plane wave\", \"Group velocity\", \"Birefringence\", \"Luminescence\", \"Projector\", \"Amplitude\", \"Wavelength\", \"Brillouin zone\", \"Azimuth\", \"Gallium arsenide\", \"Light intensity\", \"Electromagnetic radiation\", \"Ghost imaging\", \"Physical optics\", \"Interferometry\", \"Achromatic lens\", \"Scanner\", \"Beam (structure)\", \"Photonics\", \"Sunlight\", \"Monocular\", \"Grating\", \"Field of view\", \"Holography\", \"Optical communication\", \"Electromagnetically induced transparency\", \"Binocular vision\", \"Streaking\", \"Extinction (optical mineralogy)\", \"Microscopy\", \"Transfer-matrix method (optics)\", \"Refractive index\", \"Pinhole (optics)\", \"Plane wave\", \"Polariton\", \"Resonator\", \"Refraction\", \"Terahertz radiation\", \"Full width at half maximum\", \"Light field\", \"Optical fiber\", \"Ultraviolet\", \"Plasmon\", \"Millimeter\", \"Drude model\", \"Maser\", \"Photonic crystal\", \"Anisotropy\", \"Microscope\", \"Chromatic scale\", \"Speckle pattern\", \"Orange (colour)\", \"Lens (geology)\", \"Flash (photography)\", \"Spatial frequency\", \"Isotropy\", \"Adaptive optics\", \"Slit\", \"Geometrical optics\", \"Scattering\", \"Radiative transfer\", \"Opacity\", \"Raman spectroscopy\", \"Waveguide\"], \"Nuclear physics\": [\"Proton\", \"Neutrino\", \"Electron\", \"Impact parameter\", \"Gamma ray\", \"Nuclear reaction\", \"Cosmic ray\", \"Radiation\", \"Pair production\", \"CP violation\", \"Binding energy\", \"Relativistic quantum chemistry\", \"Muon\", \"Irradiation\", \"Elementary particle\", \"Baryon\", \"Collider\", \"Large Hadron Collider\", \"Pion\", \"Quark\", \"Neutron\", \"Branching fraction\", \"Hadron\", \"Physics beyond the Standard Model\", \"Beta decay\", \"Excited state\", \"Recoil\", \"Plasma\", \"Bubble chamber\", \"Nuclear structure\", \"Annihilation\", \"Isotope\", \"Charm (quantum number)\", \"Invariant mass\", \"Fermilab\", \"Isospin\", \"Nucleon\", \"Meson\"], \"Condensed matter physics\": [\"Dispersion relation\", \"Band gap\", \"Hysteresis\", \"Debye\", \"Band bending\", \"Doping\", \"Zero temperature\", \"Quasicrystal\", \"Superconductivity\", \"Density of states\", \"Conductance\", \"Geometric phase\", \"Vacancy defect\", \"Fermi Gamma-ray Space Telescope\", \"Crystallographic defect\", \"Thermal fluctuations\", \"Liquid crystal\", \"Electronic structure\", \"Anharmonicity\", \"Charge carrier\", \"Solid-state physics\", \"Exciton\", \"Point reflection\", \"Universality (dynamical systems)\", \"Electronic band structure\", \"Paramagnetism\", \"Optical conductivity\", \"Quasiperiodic function\", \"Superfluidity\", \"Many-body theory\", \"Antiferromagnetism\", \"Brillouin zone\", \"Gallium arsenide\", \"Phase transition\", \"Random phase approximation\", \"Dephasing\", \"Spins\", \"Pseudopotential\", \"Ising model\", \"Magnetic moment\", \"Magnetic susceptibility\", \"Polariton\", \"Superlattice\", \"Acceptor\", \"Phonon\", \"Drude model\", \"Anderson localization\", \"Precession\", \"Anomaly (physics)\", \"Heterojunction\", \"Frustration\", \"Rectangular potential barrier\", \"Quantum tunnelling\", \"Ferromagnetism\"], \"Astronomy\": [\"Pulsar\", \"Impact crater\", \"History of astronomy\", \"Planet\", \"Asteroid\", \"Inflation (cosmology)\", \"Gravitation\", \"Three-body problem\", \"Cosmic ray\", \"Supernova\", \"Radio telescope\", \"Comet\", \"Eclipse\", \"Meteor (satellite)\", \"Dark matter\", \"Galaxy\", \"Brightness\", \"Planck\", \"Parallax\", \"Density contrast\", \"Perturbation (astronomy)\", \"Copernicus\", \"Delta\", \"Solar irradiance\", \"Energy flux\", \"Polar\", \"Telescope\", \"Orbital elements\", \"Circular orbit\", \"Solar eclipse\", \"Infrared\", \"Gravitational wave\", \"Universe\", \"Flattening\", \"Stars\", \"Sigma\", \"Spectral line\", \"Hydrostatic equilibrium\", \"Azimuth\", \"Constellation\", \"Horizon\", \"Interferometry\", \"Achromatic lens\", \"COSMIC cancer database\", \"Meteoroid\", \"Sunlight\", \"Trajectory\", \"Solar System\", \"Cosmology\", \"Light curve\", \"Occultation\", \"Celestial mechanics\", \"Gamma-ray burst\", \"Meteorite\", \"Term (time)\", \"Spectroscopy\", \"Nutation\", \"Millimeter\", \"Neutron star\", \"Maser\", \"Tidal force\", \"Precession\", \"Hyperfine structure\", \"Spacecraft\", \"Adaptive optics\", \"Magnitude (astronomy)\", \"Cross section (physics)\", \"Astronomer\"], \"Quantum electrodynamics\": [], \"Optoelectronics\": [\"Band gap\", \"Integrated optics\", \"Band bending\", \"Doping\", \"Optical filter\", \"Energy conversion efficiency\", \"Semiconductor\", \"Metamaterial\", \"Liquid crystal\", \"Charge carrier\", \"Photoluminescence\", \"Photorefractive effect\", \"Quantum dot\", \"Optical materials\", \"Transmittance\", \"Silicon\", \"Diode\", \"Spatial light modulator\", \"Dielectric\", \"Luminescence\", \"Cadmium telluride photovoltaics\", \"Wavelength\", \"Gallium arsenide\", \"Photonics\", \"Grating\", \"Optical communication\", \"Electromagnetically induced transparency\", \"Indium\", \"Transfer-matrix method (optics)\", \"Refractive index\", \"Polariton\", \"Resonator\", \"Terahertz radiation\", \"Full width at half maximum\", \"Superlattice\", \"Ultraviolet\", \"Plasmon\", \"Photonic crystal\", \"Heterojunction\", \"Rectangular potential barrier\", \"Quantum tunnelling\", \"Waveguide\"], \"Mathematical physics\": [\"Lagrangian\", \"Covariant transformation\", \"Dirac equation\", \"Isospectral\", \"Perfect fluid\", \"Scalar potential\", \"Massless particle\", \"Scalar field\", \"Supersymmetry\", \"Integrable system\", \"Special unitary group\", \"Anti-de Sitter space\", \"Quantum field theory\", \"Propagator\", \"Field equation\", \"Ansatz\", \"U-1\", \"Conserved quantity\", \"General relativity\", \"Renormalization group\", \"Noncommutative geometry\", \"Cosmological constant\", \"Einstein\", \"Gauge theory\", \"Renormalization\"], \"Particle physics\": [\"Flavour\", \"Parity (physics)\", \"Neutrino\", \"Yukawa potential\", \"Quantum chromodynamics\", \"Effective field theory\", \"Fermion\", \"Perturbation theory (quantum mechanics)\", \"Pair production\", \"CP violation\", \"Resonance (particle physics)\", \"Dark matter\", \"Muon\", \"Massless particle\", \"Elementary particle\", \"Helicity\", \"Baryon\", \"Boson\", \"Supersymmetry\", \"Collider\", \"Large Hadron Collider\", \"Pion\", \"Coupling constant\", \"Weak interaction\", \"Quark\", \"Extra dimensions\", \"U-1\", \"Branching fraction\", \"Hadron\", \"Physics beyond the Standard Model\", \"Asymmetry\", \"Bubble chamber\", \"Higgs boson\", \"Annihilation\", \"Bound state\", \"Charge (physics)\", \"Charm (quantum number)\", \"Invariant mass\", \"Unitarity\", \"Gauge theory\", \"Fermilab\", \"Electroweak interaction\", \"Isospin\", \"Nucleon\", \"Meson\", \"Symmetry breaking\"], \"Molecular physics\": [], \"Atomic physics\": [\"Reduced mass\", \"Morse potential\", \"Parity (physics)\", \"Impact parameter\", \"Nuclear reaction\", \"Quantum number\", \"Potential energy\", \"Wave packet\", \"Resonance (particle physics)\", \"Binding energy\", \"Relativistic quantum chemistry\", \"Quadrupole\", \"Wave function\", \"Hartree\", \"SHELL model\", \"Random phase approximation\", \"Ground state\", \"Branching fraction\", \"Thermalisation\", \"Pseudopotential\", \"Beta decay\", \"Excited state\", \"Electromagnetically induced transparency\", \"Recoil\", \"Nuclear structure\", \"Helium\", \"Hyperfine structure\", \"Isospin\", \"Nucleon\"], \"Mechanics\": [\"Compressibility\", \"Inviscid flow\", \"Jet (fluid)\", \"Computational fluid dynamics\", \"Laminar flow\", \"High pressure\", \"Circulation (fluid dynamics)\", \"Turbulence\", \"Hydrostatic pressure\", \"Rotational symmetry\", \"Vortex\", \"Computer simulation\", \"Shock wave\", \"Flow (mathematics)\", \"Drag\", \"Dimensionless quantity\", \"Heat transfer\", \"Instability\"], \"Chemical physics\": [], \"Classical mechanics\": [\"Reduced mass\", \"Gravitation\", \"Three-body problem\", \"Potential energy\", \"Circular symmetry\", \"Perfect fluid\", \"Scalar potential\", \"Kinetic energy\", \"Scalar field\", \"Acceleration\", \"Inviscid flow\", \"Anti-de Sitter space\", \"Circular orbit\", \"Inertia\", \"Field equation\", \"Monochromatic electromagnetic plane wave\", \"Conserved quantity\", \"General relativity\", \"Angular velocity\", \"Angular momentum\", \"Rigid body\", \"Celestial mechanics\", \"Test particle\", \"Cosmological constant\", \"Kinetics\", \"Einstein\", \"Motion (physics)\", \"Kinematics\", \"Simultaneity\"], \"Atmospheric sciences\": [\"Cirrus\", \"Solar irradiance\"]}}))\n",
       "new ResizeObserver(google.colab.output.resizeIframeToContent).observe(document.body)\n",
       "</script>\n"
      ],
      "text/plain": [
       "<IPython.core.display.HTML object>"
      ]
     },
     "execution_count": 25,
     "metadata": {},
     "output_type": "execute_result"
    }
   ],
   "source": [
    "JSON(d)"
   ]
  },
  {
   "cell_type": "markdown",
   "metadata": {
    "id": "17NaQFc3vvir"
   },
   "source": [
    "### Generic filter"
   ]
  },
  {
   "cell_type": "code",
   "execution_count": null,
   "metadata": {
    "id": "zfzuW39h-YvO"
   },
   "outputs": [],
   "source": [
    "if isinstance(objeto,list):\n",
    "    objeto=pd.DataFrame(objeto)\n",
    "concept='Complex systems'\n",
    "level=2\n",
    "def filter_concept(df,concept,level):\n",
    "    return df[df['concepts'].apply(lambda l: {concept}.intersection( \n",
    "    [d.get('display_name') for d in l if d.get('level')==level])).apply(len)>0]"
   ]
  },
  {
   "cell_type": "code",
   "execution_count": null,
   "metadata": {
    "colab": {
     "base_uri": "https://localhost:8080/",
     "height": 143
    },
    "id": "XhSIo2zC_R7v",
    "outputId": "1ff8d843-c1b0-4096-c75c-aaf55b15388e"
   },
   "outputs": [
    {
     "data": {
      "text/html": [
       "\n",
       "  <div id=\"df-9a12ef2b-44a3-49cf-9242-5e5874a80637\">\n",
       "    <div class=\"colab-df-container\">\n",
       "      <div>\n",
       "<style scoped>\n",
       "    .dataframe tbody tr th:only-of-type {\n",
       "        vertical-align: middle;\n",
       "    }\n",
       "\n",
       "    .dataframe tbody tr th {\n",
       "        vertical-align: top;\n",
       "    }\n",
       "\n",
       "    .dataframe thead th {\n",
       "        text-align: right;\n",
       "    }\n",
       "</style>\n",
       "<table border=\"1\" class=\"dataframe\">\n",
       "  <thead>\n",
       "    <tr style=\"text-align: right;\">\n",
       "      <th></th>\n",
       "      <th>id</th>\n",
       "      <th>doi</th>\n",
       "      <th>title</th>\n",
       "      <th>display_name</th>\n",
       "      <th>publication_year</th>\n",
       "      <th>publication_date</th>\n",
       "      <th>ids</th>\n",
       "      <th>host_venue</th>\n",
       "      <th>type</th>\n",
       "      <th>open_access</th>\n",
       "      <th>...</th>\n",
       "      <th>concepts</th>\n",
       "      <th>mesh</th>\n",
       "      <th>alternate_host_venues</th>\n",
       "      <th>referenced_works</th>\n",
       "      <th>related_works</th>\n",
       "      <th>cited_by_api_url</th>\n",
       "      <th>counts_by_year</th>\n",
       "      <th>updated_date</th>\n",
       "      <th>created_date</th>\n",
       "      <th>abstract_inverted_index</th>\n",
       "    </tr>\n",
       "  </thead>\n",
       "  <tbody>\n",
       "  </tbody>\n",
       "</table>\n",
       "<p>0 rows × 25 columns</p>\n",
       "</div>\n",
       "      <button class=\"colab-df-convert\" onclick=\"convertToInteractive('df-9a12ef2b-44a3-49cf-9242-5e5874a80637')\"\n",
       "              title=\"Convert this dataframe to an interactive table.\"\n",
       "              style=\"display:none;\">\n",
       "        \n",
       "  <svg xmlns=\"http://www.w3.org/2000/svg\" height=\"24px\"viewBox=\"0 0 24 24\"\n",
       "       width=\"24px\">\n",
       "    <path d=\"M0 0h24v24H0V0z\" fill=\"none\"/>\n",
       "    <path d=\"M18.56 5.44l.94 2.06.94-2.06 2.06-.94-2.06-.94-.94-2.06-.94 2.06-2.06.94zm-11 1L8.5 8.5l.94-2.06 2.06-.94-2.06-.94L8.5 2.5l-.94 2.06-2.06.94zm10 10l.94 2.06.94-2.06 2.06-.94-2.06-.94-.94-2.06-.94 2.06-2.06.94z\"/><path d=\"M17.41 7.96l-1.37-1.37c-.4-.4-.92-.59-1.43-.59-.52 0-1.04.2-1.43.59L10.3 9.45l-7.72 7.72c-.78.78-.78 2.05 0 2.83L4 21.41c.39.39.9.59 1.41.59.51 0 1.02-.2 1.41-.59l7.78-7.78 2.81-2.81c.8-.78.8-2.07 0-2.86zM5.41 20L4 18.59l7.72-7.72 1.47 1.35L5.41 20z\"/>\n",
       "  </svg>\n",
       "      </button>\n",
       "      \n",
       "  <style>\n",
       "    .colab-df-container {\n",
       "      display:flex;\n",
       "      flex-wrap:wrap;\n",
       "      gap: 12px;\n",
       "    }\n",
       "\n",
       "    .colab-df-convert {\n",
       "      background-color: #E8F0FE;\n",
       "      border: none;\n",
       "      border-radius: 50%;\n",
       "      cursor: pointer;\n",
       "      display: none;\n",
       "      fill: #1967D2;\n",
       "      height: 32px;\n",
       "      padding: 0 0 0 0;\n",
       "      width: 32px;\n",
       "    }\n",
       "\n",
       "    .colab-df-convert:hover {\n",
       "      background-color: #E2EBFA;\n",
       "      box-shadow: 0px 1px 2px rgba(60, 64, 67, 0.3), 0px 1px 3px 1px rgba(60, 64, 67, 0.15);\n",
       "      fill: #174EA6;\n",
       "    }\n",
       "\n",
       "    [theme=dark] .colab-df-convert {\n",
       "      background-color: #3B4455;\n",
       "      fill: #D2E3FC;\n",
       "    }\n",
       "\n",
       "    [theme=dark] .colab-df-convert:hover {\n",
       "      background-color: #434B5C;\n",
       "      box-shadow: 0px 1px 3px 1px rgba(0, 0, 0, 0.15);\n",
       "      filter: drop-shadow(0px 1px 2px rgba(0, 0, 0, 0.3));\n",
       "      fill: #FFFFFF;\n",
       "    }\n",
       "  </style>\n",
       "\n",
       "      <script>\n",
       "        const buttonEl =\n",
       "          document.querySelector('#df-9a12ef2b-44a3-49cf-9242-5e5874a80637 button.colab-df-convert');\n",
       "        buttonEl.style.display =\n",
       "          google.colab.kernel.accessAllowed ? 'block' : 'none';\n",
       "\n",
       "        async function convertToInteractive(key) {\n",
       "          const element = document.querySelector('#df-9a12ef2b-44a3-49cf-9242-5e5874a80637');\n",
       "          const dataTable =\n",
       "            await google.colab.kernel.invokeFunction('convertToInteractive',\n",
       "                                                     [key], {});\n",
       "          if (!dataTable) return;\n",
       "\n",
       "          const docLinkHtml = 'Like what you see? Visit the ' +\n",
       "            '<a target=\"_blank\" href=https://colab.research.google.com/notebooks/data_table.ipynb>data table notebook</a>'\n",
       "            + ' to learn more about interactive tables.';\n",
       "          element.innerHTML = '';\n",
       "          dataTable['output_type'] = 'display_data';\n",
       "          await google.colab.output.renderOutput(dataTable, element);\n",
       "          const docLink = document.createElement('div');\n",
       "          docLink.innerHTML = docLinkHtml;\n",
       "          element.appendChild(docLink);\n",
       "        }\n",
       "      </script>\n",
       "    </div>\n",
       "  </div>\n",
       "  "
      ],
      "text/plain": [
       "Empty DataFrame\n",
       "Columns: [id, doi, title, display_name, publication_year, publication_date, ids, host_venue, type, open_access, authorships, cited_by_count, biblio, is_retracted, is_paratext, concepts, mesh, alternate_host_venues, referenced_works, related_works, cited_by_api_url, counts_by_year, updated_date, created_date, abstract_inverted_index]\n",
       "Index: []\n",
       "\n",
       "[0 rows x 25 columns]"
      ]
     },
     "execution_count": 11,
     "metadata": {},
     "output_type": "execute_result"
    }
   ],
   "source": [
    "filter_concept(objeto,concept,level)"
   ]
  },
  {
   "cell_type": "code",
   "execution_count": null,
   "metadata": {
    "id": "WxZlWJSi2bNO"
   },
   "outputs": [],
   "source": [
    "\n",
    "f=open('openalexua.json','w')\n",
    "json.dump(objeto,f)\n",
    "f.close()"
   ]
  },
  {
   "cell_type": "code",
   "execution_count": null,
   "metadata": {
    "id": "ldOuxLZTKkgW"
   },
   "outputs": [],
   "source": [
    "\n",
    "x=set()\n",
    "type(x)"
   ]
  },
  {
   "cell_type": "code",
   "execution_count": null,
   "metadata": {
    "id": "0ZV04Aph_g8l"
   },
   "outputs": [],
   "source": [
    "f=open('openalexua.json','r')\n",
    "df=json.load(f)\n",
    "f.close()"
   ]
  },
  {
   "cell_type": "code",
   "execution_count": null,
   "metadata": {
    "id": "4Ij8SZisCy7J"
   },
   "outputs": [],
   "source": []
  },
  {
   "cell_type": "code",
   "execution_count": null,
   "metadata": {
    "id": "DsbWV73VbF16"
   },
   "outputs": [],
   "source": []
  }
 ],
 "metadata": {
  "colab": {
   "collapsed_sections": [],
   "include_colab_link": true,
   "provenance": []
  },
  "kernelspec": {
   "display_name": "Python 3 (ipykernel)",
   "language": "python",
   "name": "python3"
  },
  "language_info": {
   "codemirror_mode": {
    "name": "ipython",
    "version": 3
   },
   "file_extension": ".py",
   "mimetype": "text/x-python",
   "name": "python",
   "nbconvert_exporter": "python",
   "pygments_lexer": "ipython3",
   "version": "3.9.2"
  }
 },
 "nbformat": 4,
 "nbformat_minor": 4
}
