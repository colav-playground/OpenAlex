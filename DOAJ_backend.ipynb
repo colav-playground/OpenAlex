{
 "cells": [
  {
   "cell_type": "code",
   "execution_count": 1,
   "id": "14960e88-0a77-4e31-b267-50a3f818964c",
   "metadata": {},
   "outputs": [],
   "source": [
    "import requests\n",
    "import time\n",
    "import json\n",
    "from IPython.display import JSON"
   ]
  },
  {
   "cell_type": "markdown",
   "id": "fa6a836a-69cc-40ab-802c-fe0e36c63fc6",
   "metadata": {},
   "source": [
    "Obtain `issn_l` from OpenAlex for Open Access journals"
   ]
  },
  {
   "cell_type": "code",
   "execution_count": 5,
   "id": "8d4bdf87-aaf8-4e6a-bb00-168c5023ed7e",
   "metadata": {},
   "outputs": [],
   "source": [
    "f=open('/scratch/restrepo/oa.json','r')\n",
    "va=json.load(f)\n",
    "f.close()"
   ]
  },
  {
   "cell_type": "code",
   "execution_count": 6,
   "id": "e14d6374-266f-450c-bd4a-8ddd53407139",
   "metadata": {},
   "outputs": [],
   "source": [
    "issns=[d.get('issn_l') for d in va]"
   ]
  },
  {
   "cell_type": "code",
   "execution_count": 7,
   "id": "a640a19a-4218-4d6b-beff-104bc5833b34",
   "metadata": {},
   "outputs": [
    {
     "data": {
      "text/plain": [
       "14383"
      ]
     },
     "execution_count": 7,
     "metadata": {},
     "output_type": "execute_result"
    }
   ],
   "source": [
    "len(issns)"
   ]
  },
  {
   "cell_type": "markdown",
   "id": "913ca084-1518-4876-85ed-6ba7f50fa35a",
   "metadata": {},
   "source": [
    "Load DOAJ journal full json database"
   ]
  },
  {
   "cell_type": "code",
   "execution_count": 2,
   "id": "2b9fc5bf-943f-44a8-9b6e-decd7a912c81",
   "metadata": {},
   "outputs": [],
   "source": [
    "f=open('/scratch/restrepo/doaj.json','r')\n",
    "doaj=json.load(f)\n",
    "f.close()"
   ]
  },
  {
   "cell_type": "code",
   "execution_count": null,
   "id": "a9c22a6a-2743-44db-9e9c-a02ea3fa6f5e",
   "metadata": {},
   "outputs": [
    {
     "name": "stdout",
     "output_type": "stream",
     "text": [
      "-rw-r--r-- 1 restrepo restrepo 29M Oct 30 09:30 /scratch/restrepo/doaj.json\n"
     ]
    }
   ],
   "source": [
    "ls -lh /scratch/restrepo/doaj.json"
   ]
  },
  {
   "cell_type": "markdown",
   "id": "03a0e283-d62d-489a-9b70-1caec7fd66a1",
   "metadata": {},
   "source": [
    "Build backend for DOAJ"
   ]
  },
  {
   "cell_type": "code",
   "execution_count": 88,
   "id": "f6bdb5dc-69c6-49bc-83bb-e70eb1c2b750",
   "metadata": {},
   "outputs": [
    {
     "name": "stdout",
     "output_type": "stream",
     "text": [
      "14382\r"
     ]
    }
   ],
   "source": [
    "DOAJ={}\n",
    "i=0\n",
    "for issn in issns:\n",
    "    loa=[d['bibjson'] for d in doaj if d['bibjson'].get('eissn')==issn or d['bibjson'].get('pissn')==issn]\n",
    "    print(str(i).zfill(5),end='\\r')\n",
    "    i+=1\n",
    "    if not loa:\n",
    "        continue\n",
    "    \n",
    "    d=loa[0]\n",
    "    \n",
    "    try:\n",
    "        doi = 'DOI' in d.get('pid_scheme').get('scheme')\n",
    "    except:\n",
    "        doi = False\n",
    "    try:\n",
    "        license = d.get('license')[0].get('type')\n",
    "    except:\n",
    "        license = None\n",
    "\n",
    "\n",
    "    DOAJ[issn] = {'issn_l':issn,\n",
    "        'publication_time_weeks': d.get('publication_time_weeks'),\n",
    "     'oa_start': d.get( 'oa_start'),\n",
    "     'copyright.author_retains': d.get('copyright').get('author_retains'),\n",
    "     'editorial.review_process': d.get('editorial').get('review_process'),\n",
    "     'other_charges.has_other_charges': d.get('other_charges').get('has_other_charges'),\n",
    "     'pid_scheme.DOI': doi,\n",
    "     'plagiarism.detection': d.get('plagiarism').get('detection'),\n",
    "     'waiver.has_waiver': d.get('waiver').get('has_waiver'),\n",
    "     'keywords': d.get('keywords'),\n",
    "     'language': d.get('language'),\n",
    "     'license.type': license,\n",
    "     'subject.term': [ x.get('term')  for x in d.get('subject')][::-1]\n",
    "    }        "
   ]
  },
  {
   "cell_type": "code",
   "execution_count": 75,
   "id": "23362faa-25dd-4b09-8a0e-72606499e3c1",
   "metadata": {},
   "outputs": [
    {
     "data": {
      "text/plain": [
       "13128"
      ]
     },
     "execution_count": 75,
     "metadata": {},
     "output_type": "execute_result"
    }
   ],
   "source": [
    "len(DOAJ.keys())"
   ]
  },
  {
   "cell_type": "code",
   "execution_count": 90,
   "id": "eca38cb5-6b1b-477a-b6b8-b9d30a8f961e",
   "metadata": {},
   "outputs": [],
   "source": [
    "f=open('DOAJ.json','w')\n",
    "json.dump(DOAJ,f)\n",
    "f.close()"
   ]
  },
  {
   "cell_type": "code",
   "execution_count": 91,
   "id": "b3f00c95-83bb-43ba-b1c1-1f562bd82034",
   "metadata": {},
   "outputs": [
    {
     "name": "stdout",
     "output_type": "stream",
     "text": [
      "-rw-r--r-- 1 restrepo restrepo 6.4M Oct 30  2023 DOAJ.json\n"
     ]
    }
   ],
   "source": [
    "ls -lh DOAJ.json"
   ]
  },
  {
   "cell_type": "code",
   "execution_count": 93,
   "id": "d0335d1f-d761-44e7-9202-dc4753735f73",
   "metadata": {},
   "outputs": [],
   "source": [
    "DOAJ.get('2688-8130')"
   ]
  },
  {
   "cell_type": "code",
   "execution_count": null,
   "id": "4d7306cb-3e72-4413-8eec-f2e3852b5efb",
   "metadata": {},
   "outputs": [],
   "source": []
  }
 ],
 "metadata": {
  "kernelspec": {
   "display_name": "Python 3 (ipykernel)",
   "language": "python",
   "name": "python3"
  },
  "language_info": {
   "codemirror_mode": {
    "name": "ipython",
    "version": 3
   },
   "file_extension": ".py",
   "mimetype": "text/x-python",
   "name": "python",
   "nbconvert_exporter": "python",
   "pygments_lexer": "ipython3",
   "version": "3.9.2"
  }
 },
 "nbformat": 4,
 "nbformat_minor": 5
}
