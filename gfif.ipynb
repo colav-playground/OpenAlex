{
 "cells": [
  {
   "cell_type": "code",
   "execution_count": 1,
   "id": "4b6505f5-4b0f-414a-ba56-516e8a484fcc",
   "metadata": {},
   "outputs": [],
   "source": [
    "import json"
   ]
  },
  {
   "cell_type": "code",
   "execution_count": 14,
   "id": "c17aef59-f48a-4f27-9985-b2ef7d7fee13",
   "metadata": {},
   "outputs": [],
   "source": [
    "f=open('openalexco.json')\n",
    "co=json.load(f)\n",
    "f.close()"
   ]
  },
  {
   "cell_type": "code",
   "execution_count": 43,
   "id": "541caf63-d4ea-410d-8bb3-862a902eef18",
   "metadata": {},
   "outputs": [],
   "source": [
    "def filter_concept(concepts,concept='Physics'):\n",
    "    return any([True for c in concepts if c.get('display_name')==concept])\n",
    "def filter_ror(authorships,ror=\"https://ror.org/03bp5hc83\"):\n",
    "  return any([any([i.get('ror')==\"https://ror.org/03bp5hc83\" for i in a.get('institutions')])  for a in authorships])"
   ]
  },
  {
   "cell_type": "code",
   "execution_count": 39,
   "id": "5932c25d-4427-40ec-bfcb-e3b59895a368",
   "metadata": {},
   "outputs": [],
   "source": [
    "ph=[d for d in co if filter_concept(d.get('concepts'),concept='Physics') ]\n",
    "del(co)"
   ]
  },
  {
   "cell_type": "code",
   "execution_count": 49,
   "id": "bf2fc37f-d6fe-4cef-beb5-079c96f5fffa",
   "metadata": {},
   "outputs": [
    {
     "data": {
      "text/plain": [
       "17021"
      ]
     },
     "execution_count": 49,
     "metadata": {},
     "output_type": "execute_result"
    }
   ],
   "source": [
    "len(ph)"
   ]
  },
  {
   "cell_type": "code",
   "execution_count": 247,
   "id": "fdf4c3db-2fdf-497b-9ce4-b537d625999d",
   "metadata": {},
   "outputs": [],
   "source": [
    "pp    = [d for d in ph if (filter_concept(d.get('concepts'),concept='Particle physics') or \n",
    "                           filter_concept(d.get('concepts'),concept='Mathematical physics') or \n",
    "                           filter_concept(d.get('concepts'),concept='Theoretical physics')\n",
    "                          ) ]\n",
    "not_pp= [d for d in ph if not (filter_concept(d.get('concepts'),concept='Particle physics') or \n",
    "                           filter_concept(d.get('concepts'),concept='Mathematical physics') or \n",
    "                           filter_concept(d.get('concepts'),concept='Theoretical physics')\n",
    "                          ) ]\n",
    "# Physics → 'Astrophysics'    → 'Dark matter'\n",
    "#         → 'Nuclear physics' → ['Large Hadron Collider', * (particle physics)']"
   ]
  },
  {
   "cell_type": "code",
   "execution_count": 248,
   "id": "cc6eee29-6fb3-4193-91dd-5cdb157a1922",
   "metadata": {},
   "outputs": [
    {
     "data": {
      "text/plain": [
       "2525"
      ]
     },
     "execution_count": 248,
     "metadata": {},
     "output_type": "execute_result"
    }
   ],
   "source": [
    "len(pp)"
   ]
  },
  {
   "cell_type": "code",
   "execution_count": 249,
   "id": "10035c0b-3eed-4785-b985-b5d2a782206a",
   "metadata": {},
   "outputs": [],
   "source": [
    "ph_udea     = [d for d in ph     if filter_ror(d.get('authorships'),ror=\"https://ror.org/03bp5hc83\")]\n",
    "pp_udea     = [d for d in pp     if filter_ror(d.get('authorships'),ror=\"https://ror.org/03bp5hc83\")]\n",
    "not_pp_udea = [d for d in not_pp if filter_ror(d.get('authorships'),ror=\"https://ror.org/03bp5hc83\")]"
   ]
  },
  {
   "cell_type": "code",
   "execution_count": 250,
   "id": "4f9e57e7-2476-44f7-aef6-3bb7325174bf",
   "metadata": {},
   "outputs": [
    {
     "data": {
      "text/plain": [
       "(1886, 340, 1886)"
      ]
     },
     "execution_count": 250,
     "metadata": {},
     "output_type": "execute_result"
    }
   ],
   "source": [
    "len(ph_udea),len(pp_udea),len(not_pp_udea)+len(pp_udea)"
   ]
  },
  {
   "cell_type": "markdown",
   "id": "69004e80-685d-467b-ab51-cbb99b503403",
   "metadata": {},
   "source": [
    "There are 491 in inspirehep, "
   ]
  },
  {
   "cell_type": "code",
   "execution_count": 251,
   "id": "bcf79792-c3b7-422a-ad25-fd31daedd143",
   "metadata": {},
   "outputs": [],
   "source": [
    "import pandas as pd"
   ]
  },
  {
   "cell_type": "code",
   "execution_count": 252,
   "id": "0fb9de9a-c0cd-4da2-92cb-a3c4be3edb91",
   "metadata": {},
   "outputs": [],
   "source": [
    "df=pd.DataFrame(pp_udea)"
   ]
  },
  {
   "cell_type": "code",
   "execution_count": 253,
   "id": "2e51f906-eee3-40c6-bb40-228f20656b7d",
   "metadata": {},
   "outputs": [],
   "source": [
    "def get_ror_authors(authorships,ror=\"https://ror.org/03bp5hc83\"):\n",
    "    authorships_udea=[]\n",
    "    for a in authorships:\n",
    "        a_udea=False\n",
    "        for i in a.get('institutions'):\n",
    "            if i.get('ror')==ror:\n",
    "                a_udea=True\n",
    "        if a_udea:\n",
    "            authorships_udea.append(a)\n",
    "    return authorships_udea"
   ]
  },
  {
   "cell_type": "code",
   "execution_count": 254,
   "id": "84a64f67-ab89-453f-aab2-605fa3f38077",
   "metadata": {},
   "outputs": [],
   "source": [
    "df['authorships_udea']=df['authorships'].apply(lambda authorships: get_ror_authors(authorships,ror=\"https://ror.org/03bp5hc83\"))"
   ]
  },
  {
   "cell_type": "code",
   "execution_count": 255,
   "id": "9848dadc-f6c5-46fb-9dd2-5827b953c86f",
   "metadata": {},
   "outputs": [],
   "source": [
    "pp_udea_au=pd.DataFrame([item for subitem in df['authorships_udea'].to_list() for item in subitem])"
   ]
  },
  {
   "cell_type": "markdown",
   "id": "950cc919-abde-4f7b-95f8-69bdbffdae91",
   "metadata": {},
   "source": [
    "TODO: combine with full names"
   ]
  },
  {
   "cell_type": "code",
   "execution_count": 256,
   "id": "c306aaa8-1be4-4aa5-a5f2-5bdcca23651b",
   "metadata": {},
   "outputs": [],
   "source": [
    "pp_udea_au['id']=pp_udea_au['author'].str['id']\n",
    "pp_udea_au['display_name']=pp_udea_au['author'].str['display_name']"
   ]
  },
  {
   "cell_type": "code",
   "execution_count": 257,
   "id": "9df869ef-d253-4205-a92f-d2f883b1cb67",
   "metadata": {},
   "outputs": [],
   "source": [
    "d=pp_udea_au['id'].value_counts().to_dict()"
   ]
  },
  {
   "cell_type": "code",
   "execution_count": 258,
   "id": "a9ef4b7d-9409-4bb0-a330-408c042437ca",
   "metadata": {},
   "outputs": [],
   "source": [
    "pp_udea_au['works_count']=pp_udea_au['id'].apply(lambda k: d[k])"
   ]
  },
  {
   "cell_type": "code",
   "execution_count": 748,
   "id": "86d23cca-43d8-4da1-a7dc-b710d99bed17",
   "metadata": {},
   "outputs": [
    {
     "data": {
      "text/html": [
       "<div>\n",
       "<style scoped>\n",
       "    .dataframe tbody tr th:only-of-type {\n",
       "        vertical-align: middle;\n",
       "    }\n",
       "\n",
       "    .dataframe tbody tr th {\n",
       "        vertical-align: top;\n",
       "    }\n",
       "\n",
       "    .dataframe thead th {\n",
       "        text-align: right;\n",
       "    }\n",
       "</style>\n",
       "<table border=\"1\" class=\"dataframe\">\n",
       "  <thead>\n",
       "    <tr style=\"text-align: right;\">\n",
       "      <th></th>\n",
       "      <th>author_position</th>\n",
       "      <th>author</th>\n",
       "      <th>institutions</th>\n",
       "      <th>raw_affiliation_string</th>\n",
       "      <th>id</th>\n",
       "      <th>display_name</th>\n",
       "      <th>works_count</th>\n",
       "    </tr>\n",
       "  </thead>\n",
       "  <tbody>\n",
       "    <tr>\n",
       "      <th>36</th>\n",
       "      <td>middle</td>\n",
       "      <td>{'id': 'https://openalex.org/A2998343963', 'display_name': 'J. D. Ruiz Alvarez', 'orcid': 'https://orcid.org/0000-0002-3306-0363'}</td>\n",
       "      <td>[{'id': 'https://openalex.org/I35961687', 'display_name': 'University of Antioquia', 'ror': 'https://ror.org/03bp5hc83', 'country_code': 'CO', 'type': 'education'}]</td>\n",
       "      <td>None</td>\n",
       "      <td>https://openalex.org/A2998343963</td>\n",
       "      <td>J. D. Ruiz Alvarez</td>\n",
       "      <td>107</td>\n",
       "    </tr>\n",
       "  </tbody>\n",
       "</table>\n",
       "</div>"
      ],
      "text/plain": [
       "   author_position  \\\n",
       "36          middle   \n",
       "\n",
       "                                                                                                                                author  \\\n",
       "36  {'id': 'https://openalex.org/A2998343963', 'display_name': 'J. D. Ruiz Alvarez', 'orcid': 'https://orcid.org/0000-0002-3306-0363'}   \n",
       "\n",
       "                                                                                                                                                            institutions  \\\n",
       "36  [{'id': 'https://openalex.org/I35961687', 'display_name': 'University of Antioquia', 'ror': 'https://ror.org/03bp5hc83', 'country_code': 'CO', 'type': 'education'}]   \n",
       "\n",
       "   raw_affiliation_string                                id  \\\n",
       "36                   None  https://openalex.org/A2998343963   \n",
       "\n",
       "          display_name  works_count  \n",
       "36  J. D. Ruiz Alvarez          107  "
      ]
     },
     "execution_count": 748,
     "metadata": {},
     "output_type": "execute_result"
    }
   ],
   "source": [
    "pp_udea_au_unique=pp_udea_au.drop_duplicates(subset='id').sort_values('works_count',ascending=False)\n",
    "pp_udea_au_unique[:1]"
   ]
  },
  {
   "cell_type": "code",
   "execution_count": 749,
   "id": "c7ddff90-b244-4856-bc5c-aede8e93108a",
   "metadata": {},
   "outputs": [],
   "source": [
    "def split_names(s):\n",
    "    '''\n",
    "    TODO implement: name other lastname  → Diego Alejandro Restrepo\n",
    "    '''\n",
    "    import re\n",
    "    s=re.sub('(\\w)\\.\\s*(\\w)\\.*',r'\\1 \\2',s).strip().replace('-',' ')\n",
    "    ss=s.split(' ')\n",
    "    if not ss:\n",
    "        return {}\n",
    "    if len(ss)==1:\n",
    "        return {'initials':[],'names':[],'lastnames':[ss[0]]}\n",
    "    elif len(ss)==2:\n",
    "        return {'initials':[ss[0][0]],'names':[ss[0]],'lastnames':[ss[1]]}\n",
    "    elif len(ss)==3:\n",
    "        if len(ss[1])==1:\n",
    "            return {'initials':[ss[0][0],ss[1][0]],'names':ss[:2],'lastnames':ss[2:]}\n",
    "        elif len(ss[0])==1:\n",
    "            return {'initials':[ss[0][0]],'names':ss[:1],'lastnames':ss[1:]}\n",
    "\n",
    "        else:\n",
    "            return {'initials':[ss[0][0]],'names':ss[:1],'lastnames':ss[1:]}\n",
    "    elif len(ss)==4:\n",
    "        return {'initials':[ss[0][0],ss[1][0]],'names':ss[:2],'lastnames':ss[2:]}\n",
    "    else:\n",
    "        return {'initials':[ss[0][0],ss[1][0]],'names':ss[:2],'lastnames':ss[2:]}\n"
   ]
  },
  {
   "cell_type": "code",
   "execution_count": 750,
   "id": "6e009171-8a01-40e1-b9bf-d3a72a917563",
   "metadata": {},
   "outputs": [],
   "source": [
    "pd.set_option('display.max_colwidth',200)"
   ]
  },
  {
   "cell_type": "code",
   "execution_count": 751,
   "id": "fdf796fd-e015-4b23-a443-f19c9c4b42c4",
   "metadata": {},
   "outputs": [],
   "source": [
    "QUALITY_CHECK=False\n",
    "if QUALITY_CHECK:\n",
    "    df_not_pp_udea=pd.DataFrame(not_pp_udea)"
   ]
  },
  {
   "cell_type": "code",
   "execution_count": 753,
   "id": "a95585e3-855c-4894-aba5-2ec79e388bf1",
   "metadata": {},
   "outputs": [],
   "source": [
    "#df_not_pp_udea[df_not_pp_udea.authorships.apply(lambda authorships: set([a.get('author').get('id') for a in authorships]\n",
    "                                                        #).intersection(d.keys())).apply(len)>0].reset_index(drop=True)[150:].loc[159].concepts"
   ]
  },
  {
   "cell_type": "code",
   "execution_count": 754,
   "id": "b53ac4f3-b9a0-4259-8d02-b88816312034",
   "metadata": {},
   "outputs": [],
   "source": [
    "aua=pd.read_excel('https://docs.google.com/spreadsheets/d/e/2PACX-1vRXL8uTvlvkOh6fka8a7ezr7tpT2emjQWP9dhx1Ky8NvrEUJkkVn1svndL2PfdoD3CCEbmH7dz_gwtE/pub?output=xlsx')"
   ]
  },
  {
   "cell_type": "code",
   "execution_count": 755,
   "id": "5f707fd7-6ccf-43b1-a5c0-b25e8cd30996",
   "metadata": {},
   "outputs": [
    {
     "data": {
      "text/html": [
       "<div>\n",
       "<style scoped>\n",
       "    .dataframe tbody tr th:only-of-type {\n",
       "        vertical-align: middle;\n",
       "    }\n",
       "\n",
       "    .dataframe tbody tr th {\n",
       "        vertical-align: top;\n",
       "    }\n",
       "\n",
       "    .dataframe thead th {\n",
       "        text-align: right;\n",
       "    }\n",
       "</style>\n",
       "<table border=\"1\" class=\"dataframe\">\n",
       "  <thead>\n",
       "    <tr style=\"text-align: right;\">\n",
       "      <th></th>\n",
       "      <th>Timestamp</th>\n",
       "      <th>Nombre</th>\n",
       "      <th>Email</th>\n",
       "      <th>Títulos</th>\n",
       "      <th>Grupo</th>\n",
       "      <th>Perfil en Google Scholar</th>\n",
       "      <th>Programas</th>\n",
       "      <th>Pensionado</th>\n",
       "      <th>CvLAC</th>\n",
       "      <th>email fisica</th>\n",
       "      <th>Nombres</th>\n",
       "      <th>Apellidos</th>\n",
       "    </tr>\n",
       "  </thead>\n",
       "  <tbody>\n",
       "    <tr>\n",
       "      <th>0</th>\n",
       "      <td>NaT</td>\n",
       "      <td>Arenas Gaviria Bernardo</td>\n",
       "      <td>bernardo.arenas@udea.edu.co</td>\n",
       "      <td>Físico, Magíster en Física.</td>\n",
       "      <td>NaN</td>\n",
       "      <td>No</td>\n",
       "      <td>Maestría</td>\n",
       "      <td>NaN</td>\n",
       "      <td>NaN</td>\n",
       "      <td>barena@fisica.udea.edu.co</td>\n",
       "      <td>Bernardo</td>\n",
       "      <td>Arenas Gaviria</td>\n",
       "    </tr>\n",
       "    <tr>\n",
       "      <th>1</th>\n",
       "      <td>NaT</td>\n",
       "      <td>Arnache Olmos Óscar L.</td>\n",
       "      <td>oscar.arnache@udea.edu.co</td>\n",
       "      <td>Físico, Magister en Física, Doctor en Física.</td>\n",
       "      <td>GES: Estado Sólido</td>\n",
       "      <td>https://scholar.google.com/citations?user=R5OkApAAAAAJ&amp;hl=en</td>\n",
       "      <td>Doctorado</td>\n",
       "      <td>NaN</td>\n",
       "      <td>http://scienti.colciencias.gov.co:8081/cvlac/visualizador/generarCurriculoCv.do?cod_rh=0000036048</td>\n",
       "      <td>oarnache@fisica.udea.edu.co</td>\n",
       "      <td>Óscar L.</td>\n",
       "      <td>Arnache Olmos</td>\n",
       "    </tr>\n",
       "  </tbody>\n",
       "</table>\n",
       "</div>"
      ],
      "text/plain": [
       "  Timestamp                   Nombre                         Email  \\\n",
       "0       NaT  Arenas Gaviria Bernardo  bernardo.arenas@udea.edu.co    \n",
       "1       NaT   Arnache Olmos Óscar L.    oscar.arnache@udea.edu.co    \n",
       "\n",
       "                                         Títulos               Grupo  \\\n",
       "0                    Físico, Magíster en Física.                 NaN   \n",
       "1  Físico, Magister en Física, Doctor en Física.  GES: Estado Sólido   \n",
       "\n",
       "                                       Perfil en Google Scholar  Programas  \\\n",
       "0                                                            No   Maestría   \n",
       "1  https://scholar.google.com/citations?user=R5OkApAAAAAJ&hl=en  Doctorado   \n",
       "\n",
       "   Pensionado  \\\n",
       "0         NaN   \n",
       "1         NaN   \n",
       "\n",
       "                                                                                               CvLAC  \\\n",
       "0                                                                                                NaN   \n",
       "1  http://scienti.colciencias.gov.co:8081/cvlac/visualizador/generarCurriculoCv.do?cod_rh=0000036048   \n",
       "\n",
       "                  email fisica   Nombres       Apellidos  \n",
       "0    barena@fisica.udea.edu.co  Bernardo  Arenas Gaviria  \n",
       "1  oarnache@fisica.udea.edu.co  Óscar L.   Arnache Olmos  "
      ]
     },
     "execution_count": 755,
     "metadata": {},
     "output_type": "execute_result"
    }
   ],
   "source": [
    "aua[:2]"
   ]
  },
  {
   "cell_type": "code",
   "execution_count": 777,
   "id": "f960c98f-4226-43f9-81d5-aa3a7fd10b77",
   "metadata": {},
   "outputs": [],
   "source": [
    "import unidecode as ud\n",
    "from fuzzywuzzy import fuzz\n",
    "from fuzzywuzzy import process\n",
    "def find_name(s,auam):\n",
    "    aua=auam.copy()\n",
    "    d={}\n",
    "    try:\n",
    "        aua['Nombres_reversed']=(aua['Nombres']+' '+aua['Apellidos'])\n",
    "        us=ud.unidecode(s)\n",
    "        eo=process.extractOne(us,  aua['Nombres_reversed'].apply(ud.unidecode) ,scorer=fuzz.ratio,score_cutoff=60)\n",
    "        if len(set(split_names(us).get('initials')+split_names(us).get('lastnames')).intersection(\n",
    "               set(split_names(eo[0]).get('initials')+split_names(eo[0]).get('lastnames'))))>1:\n",
    "            row=aua[aua['Nombres_reversed'].apply(ud.unidecode)==eo[0]].iloc[0]\n",
    "            d=split_names(row['Nombres_reversed']) \n",
    "            d['full_name']=row['Nombres_reversed']\n",
    "            d['cod_rh']=row['CvLAC'].split('cod_rh=')[-1]\n",
    "    except:\n",
    "        pass\n",
    "    return d"
   ]
  },
  {
   "cell_type": "code",
   "execution_count": 778,
   "id": "45ed1659-c7d0-4fec-b8fc-9ab22c8119fc",
   "metadata": {},
   "outputs": [],
   "source": [
    "pp_udea_au_unique['full_name']=pp_udea_au_unique.display_name.apply(lambda s:find_name(s,aua))\n",
    "#kk.iloc[[5]]"
   ]
  },
  {
   "cell_type": "code",
   "execution_count": null,
   "id": "71a43f43-ac46-4762-8e51-ba9cd3bc770c",
   "metadata": {},
   "outputs": [
    {
     "data": {
      "text/html": [
       "<div>\n",
       "<style scoped>\n",
       "    .dataframe tbody tr th:only-of-type {\n",
       "        vertical-align: middle;\n",
       "    }\n",
       "\n",
       "    .dataframe tbody tr th {\n",
       "        vertical-align: top;\n",
       "    }\n",
       "\n",
       "    .dataframe thead th {\n",
       "        text-align: right;\n",
       "    }\n",
       "</style>\n",
       "<table border=\"1\" class=\"dataframe\">\n",
       "  <thead>\n",
       "    <tr style=\"text-align: right;\">\n",
       "      <th></th>\n",
       "      <th>author_position</th>\n",
       "      <th>author</th>\n",
       "      <th>institutions</th>\n",
       "      <th>raw_affiliation_string</th>\n",
       "      <th>id</th>\n",
       "      <th>display_name</th>\n",
       "      <th>works_count</th>\n",
       "      <th>full_name</th>\n",
       "    </tr>\n",
       "  </thead>\n",
       "  <tbody>\n",
       "    <tr>\n",
       "      <th>55</th>\n",
       "      <td>middle</td>\n",
       "      <td>{'id': 'https://openalex.org/A2967939840', 'display_name': 'N. Vanegas Arbelaez', 'orcid': None}</td>\n",
       "      <td>[{'id': 'https://openalex.org/I35961687', 'display_name': 'University of Antioquia', 'ror': 'https://ror.org/03bp5hc83', 'country_code': 'CO', 'type': 'education'}]</td>\n",
       "      <td>None</td>\n",
       "      <td>https://openalex.org/A2967939840</td>\n",
       "      <td>N. Vanegas Arbelaez</td>\n",
       "      <td>97</td>\n",
       "      <td>{'initials': ['N'], 'names': ['Nelson'], 'lastnames': ['Vanegas', 'Arbeláez'], 'full_name': 'Nelson Vanegas Arbeláez', 'cod_rh': '0000037206'}</td>\n",
       "    </tr>\n",
       "  </tbody>\n",
       "</table>\n",
       "</div>"
      ],
      "text/plain": [
       "   author_position  \\\n",
       "55          middle   \n",
       "\n",
       "                                                                                              author  \\\n",
       "55  {'id': 'https://openalex.org/A2967939840', 'display_name': 'N. Vanegas Arbelaez', 'orcid': None}   \n",
       "\n",
       "                                                                                                                                                            institutions  \\\n",
       "55  [{'id': 'https://openalex.org/I35961687', 'display_name': 'University of Antioquia', 'ror': 'https://ror.org/03bp5hc83', 'country_code': 'CO', 'type': 'education'}]   \n",
       "\n",
       "   raw_affiliation_string                                id  \\\n",
       "55                   None  https://openalex.org/A2967939840   \n",
       "\n",
       "           display_name  works_count  \\\n",
       "55  N. Vanegas Arbelaez           97   \n",
       "\n",
       "                                                                                                                                         full_name  \n",
       "55  {'initials': ['N'], 'names': ['Nelson'], 'lastnames': ['Vanegas', 'Arbeláez'], 'full_name': 'Nelson Vanegas Arbeláez', 'cod_rh': '0000037206'}  "
      ]
     },
     "execution_count": 780,
     "metadata": {},
     "output_type": "execute_result"
    }
   ],
   "source": [
    "pp_udea_au_unique[pp_udea_au_unique.full_name.apply(len)>0].iloc[[0]]"
   ]
  },
  {
   "cell_type": "code",
   "execution_count": 854,
   "id": "e2554a39-6c41-44e0-97cd-aea0cfa7cdaf",
   "metadata": {},
   "outputs": [],
   "source": [
    "for d in pp_udea:\n",
    "    authorships=d.get('authorships')\n",
    "    for a  in authorships:\n",
    "        prf=pp_udea_au_unique[pp_udea_au_unique[ \"id\"] ==  a.get('author').get('id') ]\n",
    "        if not prf.empty and len(prf['full_name'].iloc[0])>0:\n",
    "            a.get('author').update( prf['full_name'].iloc[0] )"
   ]
  },
  {
   "cell_type": "code",
   "execution_count": 855,
   "id": "9be9d42f-e7fc-4a30-8bfd-14f631ce4a23",
   "metadata": {},
   "outputs": [
    {
     "data": {
      "text/plain": [
       "array(['Oscar Alberto Zapata Noreña', 'Daniel Esteban Jaramillo Arango',\n",
       "       'Diego Alejandro Restrepo Quintero',\n",
       "       'Leonardo Augusto Pachón Contreras', 'Antonio Enea Romano ',\n",
       "       'William Alberto Ponce Gutiérrez', 'Boris Anghelo Rodríguez Rey',\n",
       "       'Jorge Iván Zuluaga Callejas', 'Jesús María Mira Martínez'],\n",
       "      dtype=object)"
      ]
     },
     "execution_count": 855,
     "metadata": {},
     "output_type": "execute_result"
    }
   ],
   "source": [
    "pd.DataFrame(pp_udea).authorships.str[-1].str['author'].str['full_name'].dropna().unique()"
   ]
  },
  {
   "cell_type": "code",
   "execution_count": 864,
   "id": "0d91ebb2-2e80-42c1-bce8-88b3eec2233d",
   "metadata": {},
   "outputs": [],
   "source": [
    "f=open('data/openalex_gfif.json','w')\n",
    "json.dump(pp_udea,f)\n",
    "f.close()"
   ]
  },
  {
   "cell_type": "code",
   "execution_count": 865,
   "id": "6eeb6e52-49ee-4b3e-8174-473013b88f92",
   "metadata": {},
   "outputs": [],
   "source": [
    "!gzip -f data/openalex_gfif.json "
   ]
  },
  {
   "cell_type": "code",
   "execution_count": 868,
   "id": "4ca37415-b524-4e99-81e1-00a9c318dcbf",
   "metadata": {},
   "outputs": [
    {
     "data": {
      "text/plain": [
       "(340, 25)"
      ]
     },
     "execution_count": 868,
     "metadata": {},
     "output_type": "execute_result"
    }
   ],
   "source": [
    "pd.read_json('data/openalex_gfif.json.gz').shape"
   ]
  },
  {
   "cell_type": "code",
   "execution_count": null,
   "id": "a6e68af8-6ab2-402d-8936-cd8c7c5e6e2a",
   "metadata": {},
   "outputs": [],
   "source": []
  }
 ],
 "metadata": {
  "kernelspec": {
   "display_name": "Python 3 (ipykernel)",
   "language": "python",
   "name": "python3"
  },
  "language_info": {
   "codemirror_mode": {
    "name": "ipython",
    "version": 3
   },
   "file_extension": ".py",
   "mimetype": "text/x-python",
   "name": "python",
   "nbconvert_exporter": "python",
   "pygments_lexer": "ipython3",
   "version": "3.9.2"
  }
 },
 "nbformat": 4,
 "nbformat_minor": 5
}
