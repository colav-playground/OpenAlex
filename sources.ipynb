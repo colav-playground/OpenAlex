{
 "cells": [
  {
   "cell_type": "code",
   "execution_count": 1,
   "id": "14960e88-0a77-4e31-b267-50a3f818964c",
   "metadata": {},
   "outputs": [],
   "source": [
    "import requests\n",
    "import time\n",
    "import json\n",
    "from IPython.display import JSON"
   ]
  },
  {
   "cell_type": "code",
   "execution_count": 2,
   "id": "dc2bbcf1-b946-42a2-8935-8aeb97fa4d4c",
   "metadata": {},
   "outputs": [],
   "source": [
    "va=[]\n",
    "i=0\n",
    "count=0\n",
    "baseurl='https://api.openalex.org/sources?filter=is_in_doaj:true&mailto=restrepo@udea.edu.co&per-page=200'\n",
    "nc='*'"
   ]
  },
  {
   "cell_type": "code",
   "execution_count": 3,
   "id": "ac7a34c9-f73a-4c3d-bed0-4ba4331424f7",
   "metadata": {},
   "outputs": [
    {
     "name": "stdout",
     "output_type": "stream",
     "text": [
      "72 → 14400/14383\r"
     ]
    }
   ],
   "source": [
    "while nc:\n",
    "    i+=1\n",
    "    url=baseurl+f'&cursor={nc}'\n",
    "    r=requests.get(url)\n",
    "    cotmp=r.json().get('results')\n",
    "\n",
    "    if i==1:\n",
    "        count=r.json().get('meta').get('count')\n",
    "    nc=r.json().get('meta').get('next_cursor')\n",
    "    #progress\n",
    "    print(f'{i} → {200*i}/{count}',end='\\r')\n",
    "    #Append to dictionary list (WARNING: HIG RAM USAGE)\n",
    "    for p in cotmp:\n",
    "        va.append(p)\n",
    "    #API limits\n",
    "    time.sleep(0.1)\n",
    "    #EMERGENGY EXIT\n",
    "    if i*200>count:\n",
    "        break"
   ]
  },
  {
   "cell_type": "code",
   "execution_count": 239,
   "id": "8d4bdf87-aaf8-4e6a-bb00-168c5023ed7e",
   "metadata": {},
   "outputs": [],
   "source": [
    "f=open('/scratch/restrepo/oa.json','w')\n",
    "json.dump(va,f)\n",
    "f.close()"
   ]
  },
  {
   "cell_type": "code",
   "execution_count": 267,
   "id": "f18cfce6-7622-445e-929c-b9a98dd59629",
   "metadata": {},
   "outputs": [],
   "source": [
    "ISSN_OpenAlex = False"
   ]
  },
  {
   "cell_type": "code",
   "execution_count": 268,
   "id": "42e5346e-e937-42e4-a996-4c0d27a3d1b9",
   "metadata": {},
   "outputs": [],
   "source": [
    "df=pd.read_csv('https://docs.google.com/spreadsheets/d/e/2PACX-1vRqkKT0ovQFEHTEKJjEGmX_3wpmiDH-wVqucnfYK9P_pOpolF8SpdlLXcpM3PwjFv2QlQbCW6CSFJes/pub?output=csv')"
   ]
  },
  {
   "cell_type": "code",
   "execution_count": 291,
   "id": "a53c19d9-22b8-455b-9af9-2dc7e31e357a",
   "metadata": {},
   "outputs": [
    {
     "data": {
      "text/plain": [
       "(20061, 54)"
      ]
     },
     "execution_count": 291,
     "metadata": {},
     "output_type": "execute_result"
    }
   ],
   "source": [
    "df.shape"
   ]
  },
  {
   "cell_type": "code",
   "execution_count": 269,
   "id": "e14d6374-266f-450c-bd4a-8ddd53407139",
   "metadata": {},
   "outputs": [],
   "source": [
    "if ISSN_OpenAlex:\n",
    "    issns=[d.get('issn_l') for d in va]\n",
    "else:    \n",
    "    issns = df.apply(lambda d: [x for x in [d.get('Journal ISSN (print version)'),d.get('Journal EISSN (online version)')] \n",
    "                                 if isinstance(x,str) ][0] \n",
    "         , axis='columns' ).to_list()"
   ]
  },
  {
   "cell_type": "code",
   "execution_count": 270,
   "id": "a640a19a-4218-4d6b-beff-104bc5833b34",
   "metadata": {},
   "outputs": [
    {
     "data": {
      "text/plain": [
       "20061"
      ]
     },
     "execution_count": 270,
     "metadata": {},
     "output_type": "execute_result"
    }
   ],
   "source": [
    "len(issns)"
   ]
  },
  {
   "cell_type": "code",
   "execution_count": 282,
   "id": "a31ef7ad-19d9-45d2-bbc7-9bbaa766e5c5",
   "metadata": {},
   "outputs": [],
   "source": [
    "doaj=[]\n",
    "i=0\n",
    "baseurl='https://doaj.org/api/v3/search/journals/issn:'"
   ]
  },
  {
   "cell_type": "code",
   "execution_count": 283,
   "id": "28c6e4b0-c8f9-4272-ac36-b77670fa5c9e",
   "metadata": {},
   "outputs": [],
   "source": [
    "missing_issns=issns.copy()\n",
    "failed_issns=[]"
   ]
  },
  {
   "cell_type": "code",
   "execution_count": 284,
   "id": "f8ee604b-e711-4a9c-8bf2-024c38392d30",
   "metadata": {},
   "outputs": [],
   "source": [
    "unchecked_issns=[]\n",
    "not_found=[]"
   ]
  },
  {
   "cell_type": "code",
   "execution_count": 292,
   "id": "73b4e50b-466b-4d90-9bc6-aecd9e2dc48c",
   "metadata": {},
   "outputs": [],
   "source": [
    "#ISSNS=issns\n",
    "ISSNS=missing_issns"
   ]
  },
  {
   "cell_type": "code",
   "execution_count": 288,
   "id": "01c49a4f-ea17-4b9a-9d64-af09f2b56e13",
   "metadata": {},
   "outputs": [],
   "source": [
    "#issn=issns[0]\n",
    "#url=baseurl+f'{issn}'\n",
    "#r=requests.get(url)"
   ]
  },
  {
   "cell_type": "code",
   "execution_count": 290,
   "id": "78ad2608-ba16-4e18-861f-a6cbeaf50672",
   "metadata": {},
   "outputs": [
    {
     "data": {
      "text/plain": [
       "20061"
      ]
     },
     "execution_count": 290,
     "metadata": {},
     "output_type": "execute_result"
    }
   ],
   "source": [
    "len(issns)"
   ]
  },
  {
   "cell_type": "code",
   "execution_count": null,
   "id": "54ce0568-3171-4a3e-9753-a715c1fa28b0",
   "metadata": {},
   "outputs": [
    {
     "name": "stdout",
     "output_type": "stream",
     "text": [
      "07294 → 07287:00000:12774:00007→ 20061\r"
     ]
    }
   ],
   "source": [
    "#END when all missings are in failed\n",
    "for issn in ISSNS:\n",
    "    i+=1\n",
    "    url=baseurl+f'{issn}'\n",
    "    try:\n",
    "        r=requests.get(url)\n",
    "    except:\n",
    "        unchecked_issns.append(issn)\n",
    "        continue\n",
    "    if r.status_code == 200 and r.json().get('results'):\n",
    "        doaj.append(r.json().get('results')[0])\n",
    "        missing_issns.remove(issn)\n",
    "    else:\n",
    "        if r.status_code == 200 and r.json().get('total')==0:\n",
    "            not_found.append(issn)\n",
    "        else:\n",
    "            failed_issns.append(issn)\n",
    "    #progress\n",
    "    print(f'{str(i).zfill(5)} → {str( len(doaj) ).zfill(5)}:{str( len(not_found) ).zfill(5)}:{str( len(missing_issns) ).zfill(5)}:{str( len(failed_issns) ).zfill(5)}→ {len(issns)}',end='\\r')\n",
    "    time.sleep(2)\n",
    "    #if i==20:\n",
    "    #    break"
   ]
  },
  {
   "cell_type": "code",
   "execution_count": 281,
   "id": "b9931ae7-c5fa-4bfc-ab58-b0d2a9cff81a",
   "metadata": {},
   "outputs": [
    {
     "data": {
      "text/plain": [
       "['0146-0404',\n",
       " '1660-4601',\n",
       " '0018-5345',\n",
       " '0036-7672',\n",
       " '2314-6133',\n",
       " '1024-123X',\n",
       " '0368-4814',\n",
       " '2041-6520',\n",
       " '1741-427X',\n",
       " '0160-9289',\n",
       " '0934-0874',\n",
       " '0950-2688',\n",
       " '1729-3774']"
      ]
     },
     "execution_count": 281,
     "metadata": {},
     "output_type": "execute_result"
    }
   ],
   "source": [
    "'2688-8130'"
   ]
  },
  {
   "cell_type": "code",
   "execution_count": 127,
   "id": "f219861c-c73e-44f9-b754-f4dcad7c2f34",
   "metadata": {},
   "outputs": [],
   "source": [
    "f=open('/scratch/restrepo/doaj.json','w')\n",
    "json.dump(doaj,f)\n",
    "f.close()"
   ]
  },
  {
   "cell_type": "code",
   "execution_count": 128,
   "id": "f73e5403-8f45-4c34-a0fd-37fab2ba1d42",
   "metadata": {},
   "outputs": [
    {
     "name": "stdout",
     "output_type": "stream",
     "text": [
      "-rw-r--r-- 1 restrepo restrepo 29M Oct 30  2023 /scratch/restrepo/doaj.json\n"
     ]
    }
   ],
   "source": [
    "ls -lh /scratch/restrepo/doaj.json "
   ]
  },
  {
   "cell_type": "code",
   "execution_count": 124,
   "id": "7f54589c-b8eb-4ddf-836a-b7bb7bdbf2d2",
   "metadata": {},
   "outputs": [
    {
     "data": {
      "text/plain": [
       "(1254, ['2504-5687', '2182-6951'])"
      ]
     },
     "execution_count": 124,
     "metadata": {},
     "output_type": "execute_result"
    }
   ],
   "source": [
    "failed_issns=list(set(failed_issns))\n",
    "len(failed_issns),failed_issns[:2]"
   ]
  },
  {
   "cell_type": "code",
   "execution_count": 125,
   "id": "d82ec2d8-fd1b-4399-a9e8-f3c811205f71",
   "metadata": {},
   "outputs": [
    {
     "data": {
      "text/plain": [
       "0"
      ]
     },
     "execution_count": 125,
     "metadata": {},
     "output_type": "execute_result"
    }
   ],
   "source": [
    "len(set(missing_issns).difference(failed_issns))"
   ]
  },
  {
   "cell_type": "code",
   "execution_count": 252,
   "id": "2b9fc5bf-943f-44a8-9b6e-decd7a912c81",
   "metadata": {},
   "outputs": [],
   "source": [
    "f=open('/scratch/restrepo/doaj.json','r')\n",
    "doaj=json.load(f)\n",
    "f.close()"
   ]
  },
  {
   "cell_type": "code",
   "execution_count": 254,
   "id": "bf79f233-e69a-4dc2-97de-4dd3ed245ce3",
   "metadata": {},
   "outputs": [],
   "source": [
    "df=pd.read_json('/scratch/restrepo/doaj.json')"
   ]
  },
  {
   "cell_type": "code",
   "execution_count": 264,
   "id": "9984e987-7e7e-40bb-9321-60dd41bf9d54",
   "metadata": {},
   "outputs": [],
   "source": [
    "issns_doaj=df.bibjson.apply(lambda d: [ x for x in [d.get('eissn'),d.get('pissn')] #if isinstance(x,str)\n",
    "                                      ]).to_list()"
   ]
  },
  {
   "cell_type": "code",
   "execution_count": 265,
   "id": "1e516ffe-4e77-4315-a20b-c041469e0493",
   "metadata": {},
   "outputs": [],
   "source": [
    "issns_doaj=[item for sublist in issns_doaj for item in sublist]"
   ]
  },
  {
   "cell_type": "code",
   "execution_count": 258,
   "id": "26c0d4b4-ddf9-4c7c-ab36-e6f4d3af7983",
   "metadata": {},
   "outputs": [
    {
     "data": {
      "text/plain": [
       "13134"
      ]
     },
     "execution_count": 258,
     "metadata": {},
     "output_type": "execute_result"
    }
   ],
   "source": [
    "len(issns_doaj)"
   ]
  },
  {
   "cell_type": "code",
   "execution_count": 196,
   "id": "09cba448-09ac-4c5f-b8a2-27b7600f1577",
   "metadata": {},
   "outputs": [],
   "source": [
    "expected_doaj=list(set(issns).difference(failed_issns))"
   ]
  },
  {
   "cell_type": "code",
   "execution_count": 197,
   "id": "947374ff-3310-49df-b292-264c94737af5",
   "metadata": {},
   "outputs": [
    {
     "data": {
      "text/plain": [
       "13123"
      ]
     },
     "execution_count": 197,
     "metadata": {},
     "output_type": "execute_result"
    }
   ],
   "source": [
    "len(expected_doaj)"
   ]
  },
  {
   "cell_type": "code",
   "execution_count": 198,
   "id": "2a6a9b97-df33-48fe-929a-86dc9b55ce71",
   "metadata": {},
   "outputs": [
    {
     "data": {
      "text/plain": [
       "(13134, 5)"
      ]
     },
     "execution_count": 198,
     "metadata": {},
     "output_type": "execute_result"
    }
   ],
   "source": [
    "df.shape"
   ]
  },
  {
   "cell_type": "code",
   "execution_count": 266,
   "id": "959a3c78-587c-4f05-9779-b26855408e60",
   "metadata": {},
   "outputs": [
    {
     "data": {
      "text/plain": [
       "1249"
      ]
     },
     "execution_count": 266,
     "metadata": {},
     "output_type": "execute_result"
    }
   ],
   "source": [
    "len(set(issns).difference(issns_doaj))"
   ]
  },
  {
   "cell_type": "code",
   "execution_count": 162,
   "id": "46f2496f-830d-461d-b834-04be6c0f0f6b",
   "metadata": {},
   "outputs": [
    {
     "data": {
      "text/plain": [
       "'2504-5687'"
      ]
     },
     "execution_count": 162,
     "metadata": {},
     "output_type": "execute_result"
    }
   ],
   "source": [
    "list(set(issns).difference(    [item for sublist in issns_doaj for item in sublist] ))[0]"
   ]
  },
  {
   "cell_type": "code",
   "execution_count": null,
   "id": "a1743af2-6cd3-4097-af63-da723bbcd71b",
   "metadata": {},
   "outputs": [],
   "source": [
    "'2504-5687' in issns"
   ]
  },
  {
   "cell_type": "code",
   "execution_count": 153,
   "id": "bf6b16f5-8da6-4e0a-87ed-497198d3dad3",
   "metadata": {},
   "outputs": [
    {
     "data": {
      "text/plain": [
       "(13134, 5)"
      ]
     },
     "execution_count": 153,
     "metadata": {},
     "output_type": "execute_result"
    }
   ],
   "source": [
    "df.shape"
   ]
  },
  {
   "cell_type": "code",
   "execution_count": 155,
   "id": "dd8d9f97-de25-4492-be3b-0074e858adaf",
   "metadata": {},
   "outputs": [
    {
     "data": {
      "text/plain": [
       "884"
      ]
     },
     "execution_count": 155,
     "metadata": {},
     "output_type": "execute_result"
    }
   ],
   "source": [
    "len(set(issns_doaj).difference(issns))"
   ]
  },
  {
   "cell_type": "code",
   "execution_count": 112,
   "id": "3a187f5e-c9ae-4d2b-b4f1-b72e7efbc9fd",
   "metadata": {},
   "outputs": [
    {
     "data": {
      "text/plain": [
       "(1245, 1317, 14383, -13066)"
      ]
     },
     "execution_count": 112,
     "metadata": {},
     "output_type": "execute_result"
    }
   ],
   "source": [
    "len(set(failed_issns)), len(missing_issns), len(issns),len(missing_issns)-len(issns)"
   ]
  },
  {
   "cell_type": "code",
   "execution_count": 72,
   "id": "1418a811-321a-40af-a161-6d16e57eb170",
   "metadata": {},
   "outputs": [
    {
     "data": {
      "text/plain": [
       "14383"
      ]
     },
     "execution_count": 72,
     "metadata": {},
     "output_type": "execute_result"
    }
   ],
   "source": [
    "len(doaj)+len(missing_issns)"
   ]
  },
  {
   "cell_type": "code",
   "execution_count": 66,
   "id": "78a0d0ae-cefb-4e44-859c-57ccf0c4b0d5",
   "metadata": {},
   "outputs": [],
   "source": [
    "r=requests.get(url)"
   ]
  },
  {
   "cell_type": "code",
   "execution_count": 83,
   "id": "bf9afb8c-b45a-483e-a8ef-7478e4e8fca3",
   "metadata": {},
   "outputs": [
    {
     "data": {
      "text/plain": [
       "{'total': 1,\n",
       " 'page': 1,\n",
       " 'pageSize': 10,\n",
       " 'timestamp': '2023-10-29T09:35:14.067701Z',\n",
       " 'query': 'issn:2154-8935',\n",
       " 'results': [{'id': '8e60944cdf9b47c1b3c16df9206a6fb2',\n",
       "   'created_date': '2020-06-05T08:37:37Z',\n",
       "   'last_updated': '2023-03-29T11:36:00Z',\n",
       "   'bibjson': {'boai': True,\n",
       "    'eissn': '2154-8935',\n",
       "    'publication_time_weeks': 33,\n",
       "    'title': 'Journal of Public and Professional Sociology',\n",
       "    'oa_start': 2005,\n",
       "    'apc': {'has_apc': False,\n",
       "     'url': 'https://digitalcommons.kennesaw.edu/jpps/about.html'},\n",
       "    'article': {'license_display': ['No']},\n",
       "    'copyright': {'author_retains': False},\n",
       "    'deposit_policy': {'has_policy': False},\n",
       "    'editorial': {'review_url': 'https://digitalcommons.kennesaw.edu/jpps/about.html',\n",
       "     'board_url': 'https://digitalcommons.kennesaw.edu/jpps/editorialboard.html',\n",
       "     'review_process': ['Anonymous peer review']},\n",
       "    'institution': {'name': 'Georgia Sociological Association'},\n",
       "    'other_charges': {'has_other_charges': False,\n",
       "     'url': 'https://digitalcommons.kennesaw.edu/jpps/about.html'},\n",
       "    'pid_scheme': {'has_pid_scheme': False},\n",
       "    'plagiarism': {'detection': False},\n",
       "    'preservation': {'has_preservation': False},\n",
       "    'publisher': {'name': 'Kennesaw State University', 'country': 'US'},\n",
       "    'ref': {'oa_statement': 'https://digitalcommons.kennesaw.edu/jpps/about.html',\n",
       "     'journal': 'https://digitalcommons.kennesaw.edu/jpps/',\n",
       "     'aims_scope': 'https://digitalcommons.kennesaw.edu/jpps/aimsandscope.html',\n",
       "     'author_instructions': 'https://digitalcommons.kennesaw.edu/jpps/jpps_author_instructions.pdf',\n",
       "     'license_terms': 'https://digitalcommons.kennesaw.edu/jpps/policies.html'},\n",
       "    'waiver': {'has_waiver': False},\n",
       "    'keywords': ['sociology'],\n",
       "    'language': ['EN'],\n",
       "    'license': [{'type': 'CC BY',\n",
       "      'BY': True,\n",
       "      'NC': False,\n",
       "      'ND': False,\n",
       "      'SA': False}],\n",
       "    'subject': [{'code': 'HM401-1281',\n",
       "      'scheme': 'LCC',\n",
       "      'term': 'Sociology (General)'}]},\n",
       "   'admin': {'seal': False, 'ticked': True}}],\n",
       " 'last': 'https://doaj.org/api/v3/search/journals/issn:2154-8935?page=1&pageSize=10'}"
      ]
     },
     "execution_count": 83,
     "metadata": {},
     "output_type": "execute_result"
    }
   ],
   "source": [
    "r.json()"
   ]
  },
  {
   "cell_type": "code",
   "execution_count": 63,
   "id": "1382291e-d31f-46de-9d86-2205ba894ffd",
   "metadata": {},
   "outputs": [
    {
     "data": {
      "text/plain": [
       "-65"
      ]
     },
     "execution_count": 63,
     "metadata": {},
     "output_type": "execute_result"
    }
   ],
   "source": [
    "len(missing_issns)-len(issns)"
   ]
  },
  {
   "cell_type": "code",
   "execution_count": 37,
   "id": "ca399c33-dc01-42f6-9f37-98a289a38539",
   "metadata": {},
   "outputs": [],
   "source": [
    "import pandas as pd"
   ]
  },
  {
   "cell_type": "code",
   "execution_count": 45,
   "id": "2e1807bd-96b4-41d9-9824-4397bd0479ce",
   "metadata": {},
   "outputs": [
    {
     "data": {
      "text/html": [
       "<div>\n",
       "<style scoped>\n",
       "    .dataframe tbody tr th:only-of-type {\n",
       "        vertical-align: middle;\n",
       "    }\n",
       "\n",
       "    .dataframe tbody tr th {\n",
       "        vertical-align: top;\n",
       "    }\n",
       "\n",
       "    .dataframe thead th {\n",
       "        text-align: right;\n",
       "    }\n",
       "</style>\n",
       "<table border=\"1\" class=\"dataframe\">\n",
       "  <thead>\n",
       "    <tr style=\"text-align: right;\">\n",
       "      <th></th>\n",
       "      <th>id</th>\n",
       "      <th>created_date</th>\n",
       "      <th>last_updated</th>\n",
       "      <th>bibjson</th>\n",
       "      <th>admin</th>\n",
       "    </tr>\n",
       "  </thead>\n",
       "  <tbody>\n",
       "    <tr>\n",
       "      <th>0</th>\n",
       "      <td>2fdf1470373343b7bd4f825179c685f5</td>\n",
       "      <td>2007-03-30T10:53:19Z</td>\n",
       "      <td>2023-03-29T11:34:49Z</td>\n",
       "      <td>{'alternative_title': 'PLOS ONE', 'boai': True...</td>\n",
       "      <td>{'seal': True, 'ticked': True}</td>\n",
       "    </tr>\n",
       "    <tr>\n",
       "      <th>1</th>\n",
       "      <td>2fdf1470373343b7bd4f825179c685f5</td>\n",
       "      <td>2007-03-30T10:53:19Z</td>\n",
       "      <td>2023-03-29T11:34:49Z</td>\n",
       "      <td>{'alternative_title': 'PLOS ONE', 'boai': True...</td>\n",
       "      <td>{'seal': True, 'ticked': True}</td>\n",
       "    </tr>\n",
       "    <tr>\n",
       "      <th>2</th>\n",
       "      <td>2fdf1470373343b7bd4f825179c685f5</td>\n",
       "      <td>2007-03-30T10:53:19Z</td>\n",
       "      <td>2023-03-29T11:34:49Z</td>\n",
       "      <td>{'alternative_title': 'PLOS ONE', 'boai': True...</td>\n",
       "      <td>{'seal': True, 'ticked': True}</td>\n",
       "    </tr>\n",
       "    <tr>\n",
       "      <th>3</th>\n",
       "      <td>2fdf1470373343b7bd4f825179c685f5</td>\n",
       "      <td>2007-03-30T10:53:19Z</td>\n",
       "      <td>2023-03-29T11:34:49Z</td>\n",
       "      <td>{'alternative_title': 'PLOS ONE', 'boai': True...</td>\n",
       "      <td>{'seal': True, 'ticked': True}</td>\n",
       "    </tr>\n",
       "    <tr>\n",
       "      <th>4</th>\n",
       "      <td>2fdf1470373343b7bd4f825179c685f5</td>\n",
       "      <td>2007-03-30T10:53:19Z</td>\n",
       "      <td>2023-03-29T11:34:49Z</td>\n",
       "      <td>{'alternative_title': 'PLOS ONE', 'boai': True...</td>\n",
       "      <td>{'seal': True, 'ticked': True}</td>\n",
       "    </tr>\n",
       "    <tr>\n",
       "      <th>5</th>\n",
       "      <td>2fdf1470373343b7bd4f825179c685f5</td>\n",
       "      <td>2007-03-30T10:53:19Z</td>\n",
       "      <td>2023-03-29T11:34:49Z</td>\n",
       "      <td>{'alternative_title': 'PLOS ONE', 'boai': True...</td>\n",
       "      <td>{'seal': True, 'ticked': True}</td>\n",
       "    </tr>\n",
       "    <tr>\n",
       "      <th>6</th>\n",
       "      <td>75844ed25a2249039bd9c32da9b5f22b</td>\n",
       "      <td>2021-02-15T11:28:03Z</td>\n",
       "      <td>2023-04-12T14:49:04Z</td>\n",
       "      <td>{'boai': True, 'eissn': '1083-351X', 'pissn': ...</td>\n",
       "      <td>{'seal': False, 'ticked': True}</td>\n",
       "    </tr>\n",
       "    <tr>\n",
       "      <th>7</th>\n",
       "      <td>a93400557c92470b8603e96796297aab</td>\n",
       "      <td>2011-11-04T11:48:02Z</td>\n",
       "      <td>2023-04-12T15:11:06Z</td>\n",
       "      <td>{'boai': True, 'eissn': '2045-2322', 'publicat...</td>\n",
       "      <td>{'seal': False, 'ticked': True}</td>\n",
       "    </tr>\n",
       "    <tr>\n",
       "      <th>8</th>\n",
       "      <td>af8e2cd0d2e94fba997a416d65b8a965</td>\n",
       "      <td>2018-01-22T11:54:20Z</td>\n",
       "      <td>2023-08-01T15:04:19Z</td>\n",
       "      <td>{'boai': True, 'eissn': '2046-2069', 'publicat...</td>\n",
       "      <td>{'seal': False, 'ticked': True}</td>\n",
       "    </tr>\n",
       "    <tr>\n",
       "      <th>9</th>\n",
       "      <td>6e6cfb34e9c1483f9b1bef353b647ec8</td>\n",
       "      <td>2003-11-20T00:00:00Z</td>\n",
       "      <td>2023-07-07T16:31:47Z</td>\n",
       "      <td>{'alternative_title': 'IJMS', 'boai': True, 'e...</td>\n",
       "      <td>{'seal': True, 'ticked': True}</td>\n",
       "    </tr>\n",
       "    <tr>\n",
       "      <th>10</th>\n",
       "      <td>acaa3d478a9340ad9c2ce03fda1dfed0</td>\n",
       "      <td>2014-11-24T09:57:29Z</td>\n",
       "      <td>2023-04-12T14:53:32Z</td>\n",
       "      <td>{'boai': True, 'eissn': '2169-3536', 'publicat...</td>\n",
       "      <td>{'seal': False, 'ticked': True}</td>\n",
       "    </tr>\n",
       "    <tr>\n",
       "      <th>11</th>\n",
       "      <td>9b1d0a04f8af439b8eef13d2ece2e446</td>\n",
       "      <td>2009-04-17T18:28:59Z</td>\n",
       "      <td>2023-04-12T15:03:19Z</td>\n",
       "      <td>{'boai': True, 'eissn': '2071-1050', 'publicat...</td>\n",
       "      <td>{'seal': False, 'ticked': True}</td>\n",
       "    </tr>\n",
       "    <tr>\n",
       "      <th>12</th>\n",
       "      <td>e17980871dd5421fbdeaa958fa2bdb3d</td>\n",
       "      <td>2015-02-24T19:53:14Z</td>\n",
       "      <td>2023-03-29T11:38:12Z</td>\n",
       "      <td>{'boai': True, 'eissn': '1873-2445', 'pissn': ...</td>\n",
       "      <td>{'seal': False, 'ticked': True}</td>\n",
       "    </tr>\n",
       "    <tr>\n",
       "      <th>13</th>\n",
       "      <td>2fdf1470373343b7bd4f825179c685f5</td>\n",
       "      <td>2007-03-30T10:53:19Z</td>\n",
       "      <td>2023-03-29T11:34:49Z</td>\n",
       "      <td>{'alternative_title': 'PLOS ONE', 'boai': True...</td>\n",
       "      <td>{'seal': True, 'ticked': True}</td>\n",
       "    </tr>\n",
       "    <tr>\n",
       "      <th>14</th>\n",
       "      <td>2fdf1470373343b7bd4f825179c685f5</td>\n",
       "      <td>2007-03-30T10:53:19Z</td>\n",
       "      <td>2023-03-29T11:34:49Z</td>\n",
       "      <td>{'alternative_title': 'PLOS ONE', 'boai': True...</td>\n",
       "      <td>{'seal': True, 'ticked': True}</td>\n",
       "    </tr>\n",
       "    <tr>\n",
       "      <th>15</th>\n",
       "      <td>75844ed25a2249039bd9c32da9b5f22b</td>\n",
       "      <td>2021-02-15T11:28:03Z</td>\n",
       "      <td>2023-04-12T14:49:04Z</td>\n",
       "      <td>{'boai': True, 'eissn': '1083-351X', 'pissn': ...</td>\n",
       "      <td>{'seal': False, 'ticked': True}</td>\n",
       "    </tr>\n",
       "    <tr>\n",
       "      <th>16</th>\n",
       "      <td>a93400557c92470b8603e96796297aab</td>\n",
       "      <td>2011-11-04T11:48:02Z</td>\n",
       "      <td>2023-04-12T15:11:06Z</td>\n",
       "      <td>{'boai': True, 'eissn': '2045-2322', 'publicat...</td>\n",
       "      <td>{'seal': False, 'ticked': True}</td>\n",
       "    </tr>\n",
       "    <tr>\n",
       "      <th>17</th>\n",
       "      <td>af8e2cd0d2e94fba997a416d65b8a965</td>\n",
       "      <td>2018-01-22T11:54:20Z</td>\n",
       "      <td>2023-08-01T15:04:19Z</td>\n",
       "      <td>{'boai': True, 'eissn': '2046-2069', 'publicat...</td>\n",
       "      <td>{'seal': False, 'ticked': True}</td>\n",
       "    </tr>\n",
       "    <tr>\n",
       "      <th>18</th>\n",
       "      <td>6e6cfb34e9c1483f9b1bef353b647ec8</td>\n",
       "      <td>2003-11-20T00:00:00Z</td>\n",
       "      <td>2023-07-07T16:31:47Z</td>\n",
       "      <td>{'alternative_title': 'IJMS', 'boai': True, 'e...</td>\n",
       "      <td>{'seal': True, 'ticked': True}</td>\n",
       "    </tr>\n",
       "    <tr>\n",
       "      <th>19</th>\n",
       "      <td>acaa3d478a9340ad9c2ce03fda1dfed0</td>\n",
       "      <td>2014-11-24T09:57:29Z</td>\n",
       "      <td>2023-04-12T14:53:32Z</td>\n",
       "      <td>{'boai': True, 'eissn': '2169-3536', 'publicat...</td>\n",
       "      <td>{'seal': False, 'ticked': True}</td>\n",
       "    </tr>\n",
       "    <tr>\n",
       "      <th>20</th>\n",
       "      <td>9b1d0a04f8af439b8eef13d2ece2e446</td>\n",
       "      <td>2009-04-17T18:28:59Z</td>\n",
       "      <td>2023-04-12T15:03:19Z</td>\n",
       "      <td>{'boai': True, 'eissn': '2071-1050', 'publicat...</td>\n",
       "      <td>{'seal': False, 'ticked': True}</td>\n",
       "    </tr>\n",
       "    <tr>\n",
       "      <th>21</th>\n",
       "      <td>e17980871dd5421fbdeaa958fa2bdb3d</td>\n",
       "      <td>2015-02-24T19:53:14Z</td>\n",
       "      <td>2023-03-29T11:38:12Z</td>\n",
       "      <td>{'boai': True, 'eissn': '1873-2445', 'pissn': ...</td>\n",
       "      <td>{'seal': False, 'ticked': True}</td>\n",
       "    </tr>\n",
       "    <tr>\n",
       "      <th>22</th>\n",
       "      <td>52cbdb75606c4d5e8e261136300a0bf6</td>\n",
       "      <td>2018-03-13T15:20:11Z</td>\n",
       "      <td>2023-03-29T11:38:35Z</td>\n",
       "      <td>{'boai': True, 'eissn': '1094-4087', 'publicat...</td>\n",
       "      <td>{'seal': False, 'ticked': True}</td>\n",
       "    </tr>\n",
       "    <tr>\n",
       "      <th>23</th>\n",
       "      <td>13cbd0d940a34d5dac14e251a1927783</td>\n",
       "      <td>2003-11-20T00:00:00Z</td>\n",
       "      <td>2023-04-12T15:03:14Z</td>\n",
       "      <td>{'boai': True, 'eissn': '1424-8220', 'publicat...</td>\n",
       "      <td>{'seal': False, 'ticked': True}</td>\n",
       "    </tr>\n",
       "    <tr>\n",
       "      <th>24</th>\n",
       "      <td>f4b77ef011a646419112a28f85dd90e6</td>\n",
       "      <td>2021-06-22T10:44:55Z</td>\n",
       "      <td>2023-10-02T14:24:44Z</td>\n",
       "      <td>{'boai': True, 'eissn': '1350-911X', 'pissn': ...</td>\n",
       "      <td>{'seal': False, 'ticked': True}</td>\n",
       "    </tr>\n",
       "    <tr>\n",
       "      <th>25</th>\n",
       "      <td>ef13b44b43f840a688b3efc17d44c265</td>\n",
       "      <td>2016-01-11T18:43:05Z</td>\n",
       "      <td>2023-05-02T09:09:09Z</td>\n",
       "      <td>{'boai': True, 'eissn': '2041-1723', 'publicat...</td>\n",
       "      <td>{'seal': False, 'ticked': True}</td>\n",
       "    </tr>\n",
       "    <tr>\n",
       "      <th>26</th>\n",
       "      <td>dd2c19be3eb84fd28cdef7068b831188</td>\n",
       "      <td>2002-10-06T12:06:49Z</td>\n",
       "      <td>2023-03-29T11:38:31Z</td>\n",
       "      <td>{'alternative_title': 'NAR', 'boai': True, 'ei...</td>\n",
       "      <td>{'seal': False, 'ticked': True}</td>\n",
       "    </tr>\n",
       "    <tr>\n",
       "      <th>27</th>\n",
       "      <td>06b1b003af9c4e6e9323930c4fd7279a</td>\n",
       "      <td>2012-11-29T14:25:14Z</td>\n",
       "      <td>2023-04-12T14:55:23Z</td>\n",
       "      <td>{'boai': True, 'eissn': '2076-3417', 'publicat...</td>\n",
       "      <td>{'seal': True, 'ticked': True}</td>\n",
       "    </tr>\n",
       "    <tr>\n",
       "      <th>28</th>\n",
       "      <td>ce37db262db441d4a3a21c0a22035c9c</td>\n",
       "      <td>2003-11-20T00:00:00Z</td>\n",
       "      <td>2023-04-12T15:01:17Z</td>\n",
       "      <td>{'boai': True, 'eissn': '1420-3049', 'publicat...</td>\n",
       "      <td>{'seal': True, 'ticked': True}</td>\n",
       "    </tr>\n",
       "    <tr>\n",
       "      <th>29</th>\n",
       "      <td>83c088717e9d406296cc344d42afc607</td>\n",
       "      <td>2008-07-23T16:37:18Z</td>\n",
       "      <td>2023-04-12T14:57:23Z</td>\n",
       "      <td>{'boai': True, 'eissn': '1996-1073', 'publicat...</td>\n",
       "      <td>{'seal': False, 'ticked': True}</td>\n",
       "    </tr>\n",
       "    <tr>\n",
       "      <th>30</th>\n",
       "      <td>a4521161bd1b43138f4548ae73bdbeda</td>\n",
       "      <td>2020-04-15T09:25:16Z</td>\n",
       "      <td>2023-03-29T11:32:33Z</td>\n",
       "      <td>{'alternative_title': 'Journal of the Norwegia...</td>\n",
       "      <td>{'seal': False, 'ticked': True}</td>\n",
       "    </tr>\n",
       "    <tr>\n",
       "      <th>31</th>\n",
       "      <td>041ff249fcfe4bdc8e324bda5ed41150</td>\n",
       "      <td>2005-07-26T10:54:18Z</td>\n",
       "      <td>2023-03-29T11:36:49Z</td>\n",
       "      <td>{'alternative_title': 'Acta crystallographica:...</td>\n",
       "      <td>{'seal': False, 'ticked': True}</td>\n",
       "    </tr>\n",
       "  </tbody>\n",
       "</table>\n",
       "</div>"
      ],
      "text/plain": [
       "                                  id          created_date  \\\n",
       "0   2fdf1470373343b7bd4f825179c685f5  2007-03-30T10:53:19Z   \n",
       "1   2fdf1470373343b7bd4f825179c685f5  2007-03-30T10:53:19Z   \n",
       "2   2fdf1470373343b7bd4f825179c685f5  2007-03-30T10:53:19Z   \n",
       "3   2fdf1470373343b7bd4f825179c685f5  2007-03-30T10:53:19Z   \n",
       "4   2fdf1470373343b7bd4f825179c685f5  2007-03-30T10:53:19Z   \n",
       "5   2fdf1470373343b7bd4f825179c685f5  2007-03-30T10:53:19Z   \n",
       "6   75844ed25a2249039bd9c32da9b5f22b  2021-02-15T11:28:03Z   \n",
       "7   a93400557c92470b8603e96796297aab  2011-11-04T11:48:02Z   \n",
       "8   af8e2cd0d2e94fba997a416d65b8a965  2018-01-22T11:54:20Z   \n",
       "9   6e6cfb34e9c1483f9b1bef353b647ec8  2003-11-20T00:00:00Z   \n",
       "10  acaa3d478a9340ad9c2ce03fda1dfed0  2014-11-24T09:57:29Z   \n",
       "11  9b1d0a04f8af439b8eef13d2ece2e446  2009-04-17T18:28:59Z   \n",
       "12  e17980871dd5421fbdeaa958fa2bdb3d  2015-02-24T19:53:14Z   \n",
       "13  2fdf1470373343b7bd4f825179c685f5  2007-03-30T10:53:19Z   \n",
       "14  2fdf1470373343b7bd4f825179c685f5  2007-03-30T10:53:19Z   \n",
       "15  75844ed25a2249039bd9c32da9b5f22b  2021-02-15T11:28:03Z   \n",
       "16  a93400557c92470b8603e96796297aab  2011-11-04T11:48:02Z   \n",
       "17  af8e2cd0d2e94fba997a416d65b8a965  2018-01-22T11:54:20Z   \n",
       "18  6e6cfb34e9c1483f9b1bef353b647ec8  2003-11-20T00:00:00Z   \n",
       "19  acaa3d478a9340ad9c2ce03fda1dfed0  2014-11-24T09:57:29Z   \n",
       "20  9b1d0a04f8af439b8eef13d2ece2e446  2009-04-17T18:28:59Z   \n",
       "21  e17980871dd5421fbdeaa958fa2bdb3d  2015-02-24T19:53:14Z   \n",
       "22  52cbdb75606c4d5e8e261136300a0bf6  2018-03-13T15:20:11Z   \n",
       "23  13cbd0d940a34d5dac14e251a1927783  2003-11-20T00:00:00Z   \n",
       "24  f4b77ef011a646419112a28f85dd90e6  2021-06-22T10:44:55Z   \n",
       "25  ef13b44b43f840a688b3efc17d44c265  2016-01-11T18:43:05Z   \n",
       "26  dd2c19be3eb84fd28cdef7068b831188  2002-10-06T12:06:49Z   \n",
       "27  06b1b003af9c4e6e9323930c4fd7279a  2012-11-29T14:25:14Z   \n",
       "28  ce37db262db441d4a3a21c0a22035c9c  2003-11-20T00:00:00Z   \n",
       "29  83c088717e9d406296cc344d42afc607  2008-07-23T16:37:18Z   \n",
       "30  a4521161bd1b43138f4548ae73bdbeda  2020-04-15T09:25:16Z   \n",
       "31  041ff249fcfe4bdc8e324bda5ed41150  2005-07-26T10:54:18Z   \n",
       "\n",
       "            last_updated                                            bibjson  \\\n",
       "0   2023-03-29T11:34:49Z  {'alternative_title': 'PLOS ONE', 'boai': True...   \n",
       "1   2023-03-29T11:34:49Z  {'alternative_title': 'PLOS ONE', 'boai': True...   \n",
       "2   2023-03-29T11:34:49Z  {'alternative_title': 'PLOS ONE', 'boai': True...   \n",
       "3   2023-03-29T11:34:49Z  {'alternative_title': 'PLOS ONE', 'boai': True...   \n",
       "4   2023-03-29T11:34:49Z  {'alternative_title': 'PLOS ONE', 'boai': True...   \n",
       "5   2023-03-29T11:34:49Z  {'alternative_title': 'PLOS ONE', 'boai': True...   \n",
       "6   2023-04-12T14:49:04Z  {'boai': True, 'eissn': '1083-351X', 'pissn': ...   \n",
       "7   2023-04-12T15:11:06Z  {'boai': True, 'eissn': '2045-2322', 'publicat...   \n",
       "8   2023-08-01T15:04:19Z  {'boai': True, 'eissn': '2046-2069', 'publicat...   \n",
       "9   2023-07-07T16:31:47Z  {'alternative_title': 'IJMS', 'boai': True, 'e...   \n",
       "10  2023-04-12T14:53:32Z  {'boai': True, 'eissn': '2169-3536', 'publicat...   \n",
       "11  2023-04-12T15:03:19Z  {'boai': True, 'eissn': '2071-1050', 'publicat...   \n",
       "12  2023-03-29T11:38:12Z  {'boai': True, 'eissn': '1873-2445', 'pissn': ...   \n",
       "13  2023-03-29T11:34:49Z  {'alternative_title': 'PLOS ONE', 'boai': True...   \n",
       "14  2023-03-29T11:34:49Z  {'alternative_title': 'PLOS ONE', 'boai': True...   \n",
       "15  2023-04-12T14:49:04Z  {'boai': True, 'eissn': '1083-351X', 'pissn': ...   \n",
       "16  2023-04-12T15:11:06Z  {'boai': True, 'eissn': '2045-2322', 'publicat...   \n",
       "17  2023-08-01T15:04:19Z  {'boai': True, 'eissn': '2046-2069', 'publicat...   \n",
       "18  2023-07-07T16:31:47Z  {'alternative_title': 'IJMS', 'boai': True, 'e...   \n",
       "19  2023-04-12T14:53:32Z  {'boai': True, 'eissn': '2169-3536', 'publicat...   \n",
       "20  2023-04-12T15:03:19Z  {'boai': True, 'eissn': '2071-1050', 'publicat...   \n",
       "21  2023-03-29T11:38:12Z  {'boai': True, 'eissn': '1873-2445', 'pissn': ...   \n",
       "22  2023-03-29T11:38:35Z  {'boai': True, 'eissn': '1094-4087', 'publicat...   \n",
       "23  2023-04-12T15:03:14Z  {'boai': True, 'eissn': '1424-8220', 'publicat...   \n",
       "24  2023-10-02T14:24:44Z  {'boai': True, 'eissn': '1350-911X', 'pissn': ...   \n",
       "25  2023-05-02T09:09:09Z  {'boai': True, 'eissn': '2041-1723', 'publicat...   \n",
       "26  2023-03-29T11:38:31Z  {'alternative_title': 'NAR', 'boai': True, 'ei...   \n",
       "27  2023-04-12T14:55:23Z  {'boai': True, 'eissn': '2076-3417', 'publicat...   \n",
       "28  2023-04-12T15:01:17Z  {'boai': True, 'eissn': '1420-3049', 'publicat...   \n",
       "29  2023-04-12T14:57:23Z  {'boai': True, 'eissn': '1996-1073', 'publicat...   \n",
       "30  2023-03-29T11:32:33Z  {'alternative_title': 'Journal of the Norwegia...   \n",
       "31  2023-03-29T11:36:49Z  {'alternative_title': 'Acta crystallographica:...   \n",
       "\n",
       "                              admin  \n",
       "0    {'seal': True, 'ticked': True}  \n",
       "1    {'seal': True, 'ticked': True}  \n",
       "2    {'seal': True, 'ticked': True}  \n",
       "3    {'seal': True, 'ticked': True}  \n",
       "4    {'seal': True, 'ticked': True}  \n",
       "5    {'seal': True, 'ticked': True}  \n",
       "6   {'seal': False, 'ticked': True}  \n",
       "7   {'seal': False, 'ticked': True}  \n",
       "8   {'seal': False, 'ticked': True}  \n",
       "9    {'seal': True, 'ticked': True}  \n",
       "10  {'seal': False, 'ticked': True}  \n",
       "11  {'seal': False, 'ticked': True}  \n",
       "12  {'seal': False, 'ticked': True}  \n",
       "13   {'seal': True, 'ticked': True}  \n",
       "14   {'seal': True, 'ticked': True}  \n",
       "15  {'seal': False, 'ticked': True}  \n",
       "16  {'seal': False, 'ticked': True}  \n",
       "17  {'seal': False, 'ticked': True}  \n",
       "18   {'seal': True, 'ticked': True}  \n",
       "19  {'seal': False, 'ticked': True}  \n",
       "20  {'seal': False, 'ticked': True}  \n",
       "21  {'seal': False, 'ticked': True}  \n",
       "22  {'seal': False, 'ticked': True}  \n",
       "23  {'seal': False, 'ticked': True}  \n",
       "24  {'seal': False, 'ticked': True}  \n",
       "25  {'seal': False, 'ticked': True}  \n",
       "26  {'seal': False, 'ticked': True}  \n",
       "27   {'seal': True, 'ticked': True}  \n",
       "28   {'seal': True, 'ticked': True}  \n",
       "29  {'seal': False, 'ticked': True}  \n",
       "30  {'seal': False, 'ticked': True}  \n",
       "31  {'seal': False, 'ticked': True}  "
      ]
     },
     "execution_count": 45,
     "metadata": {},
     "output_type": "execute_result"
    }
   ],
   "source": [
    "pd.DataFrame(doaj)"
   ]
  },
  {
   "cell_type": "code",
   "execution_count": 28,
   "id": "975c55ee-90e6-4a94-a0b6-ed9c096bd0ac",
   "metadata": {},
   "outputs": [],
   "source": [
    "f=open('/scratch/restrepo/doaj.json','w')\n",
    "json.dump(doaj,f)\n",
    "f.close()"
   ]
  },
  {
   "cell_type": "code",
   "execution_count": 20,
   "id": "32e9ff26-a599-44ab-b87b-dc275629e94d",
   "metadata": {},
   "outputs": [
    {
     "data": {
      "text/plain": [
       "200"
      ]
     },
     "execution_count": 20,
     "metadata": {},
     "output_type": "execute_result"
    }
   ],
   "source": [
    "r.status_code"
   ]
  },
  {
   "cell_type": "code",
   "execution_count": 22,
   "id": "b7985256-74fa-45d9-b075-43b2d897946b",
   "metadata": {},
   "outputs": [
    {
     "data": {
      "application/json": [
       {
        "admin": {
         "seal": true,
         "ticked": true
        },
        "bibjson": {
         "alternative_title": "PLOS ONE",
         "apc": {
          "has_apc": true,
          "max": [
           {
            "currency": "USD",
            "price": 1805
           }
          ],
          "url": "https://plos.org/publish/fees/"
         },
         "article": {
          "i4oc_open_citations": true,
          "license_display": [
           "Embed"
          ],
          "license_display_example_url": "https://journals.plos.org/plosone/article?id=10.1371%2Fjournal.pone.0146294",
          "orcid": true
         },
         "boai": true,
         "copyright": {
          "author_retains": true,
          "url": "https://journals.plos.org/plosone/s/licenses-and-copyright"
         },
         "deposit_policy": {
          "has_policy": true,
          "service": [
           "Sherpa/Romeo"
          ],
          "url": "https://v2.sherpa.ac.uk/id/publication/17599"
         },
         "editorial": {
          "board_url": "https://journals.plos.org/plosone/static/editorial-board",
          "review_process": [
           "Anonymous peer review"
          ],
          "review_url": "https://journals.plos.org/plosone/s/editorial-and-peer-review-process"
         },
         "eissn": "1932-6203",
         "keywords": [
          "science",
          "medicine",
          "engineering",
          "social sciences"
         ],
         "language": [
          "EN"
         ],
         "license": [
          {
           "BY": true,
           "NC": false,
           "ND": false,
           "SA": false,
           "type": "CC BY",
           "url": "https://creativecommons.org/licenses/by/4.0/"
          }
         ],
         "oa_start": 2006,
         "other_charges": {
          "has_other_charges": false
         },
         "pid_scheme": {
          "has_pid_scheme": true,
          "scheme": [
           "DOI"
          ]
         },
         "plagiarism": {
          "detection": true,
          "url": "https://journals.plos.org/plosone/s/ethical-publishing-practice#loc-plagiarism"
         },
         "preservation": {
          "has_preservation": true,
          "service": [
           "LOCKSS",
           "PMC"
          ],
          "url": "https://journals.plos.org/plosone/s/publishing-information"
         },
         "publication_time_weeks": 24,
         "publisher": {
          "country": "US",
          "name": "Public Library of Science (PLoS)"
         },
         "ref": {
          "aims_scope": "https://journals.plos.org/plosone/s/journal-information",
          "author_instructions": "https://journals.plos.org/plosone/s/submission-guidelines",
          "journal": "https://journals.plos.org/plosone/",
          "license_terms": "https://journals.plos.org/plosone/s/licenses-and-copyright",
          "oa_statement": "https://journals.plos.org/plosone/s/journal-information#loc-open-access"
         },
         "subject": [
          {
           "code": "R",
           "scheme": "LCC",
           "term": "Medicine"
          },
          {
           "code": "Q",
           "scheme": "LCC",
           "term": "Science"
          }
         ],
         "title": "PLoS ONE",
         "waiver": {
          "has_waiver": true,
          "url": "https://www.plos.org/fee-assistance"
         }
        },
        "created_date": "2007-03-30T10:53:19Z",
        "id": "2fdf1470373343b7bd4f825179c685f5",
        "last_updated": "2023-03-29T11:34:49Z"
       }
      ],
      "text/plain": [
       "<IPython.core.display.JSON object>"
      ]
     },
     "execution_count": 22,
     "metadata": {
      "application/json": {
       "expanded": false,
       "root": "root"
      }
     },
     "output_type": "execute_result"
    }
   ],
   "source": [
    "JSON(r.json().get('results'))"
   ]
  },
  {
   "cell_type": "code",
   "execution_count": null,
   "id": "4d7306cb-3e72-4413-8eec-f2e3852b5efb",
   "metadata": {},
   "outputs": [],
   "source": []
  }
 ],
 "metadata": {
  "kernelspec": {
   "display_name": "Python 3 (ipykernel)",
   "language": "python",
   "name": "python3"
  },
  "language_info": {
   "codemirror_mode": {
    "name": "ipython",
    "version": 3
   },
   "file_extension": ".py",
   "mimetype": "text/x-python",
   "name": "python",
   "nbconvert_exporter": "python",
   "pygments_lexer": "ipython3",
   "version": "3.9.2"
  }
 },
 "nbformat": 4,
 "nbformat_minor": 5
}
