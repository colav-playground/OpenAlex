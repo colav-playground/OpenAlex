{
 "cells": [
  {
   "cell_type": "markdown",
   "id": "d213457b-27f4-48bf-b58e-1dfef1ce2a29",
   "metadata": {},
   "source": [
    "# OpenAlex Colombia"
   ]
  },
  {
   "cell_type": "code",
   "execution_count": 33,
   "id": "1e1a5449-3a27-4be3-bffe-a58b8c3629b1",
   "metadata": {},
   "outputs": [],
   "source": [
    "import requests\n",
    "import time\n",
    "import json\n",
    "from IPython.display import JSON"
   ]
  },
  {
   "cell_type": "code",
   "execution_count": null,
   "id": "9689adb6-a630-4734-8489-e10f71ff9318",
   "metadata": {},
   "outputs": [],
   "source": [
    "co=[]\n",
    "i=0\n",
    "count=0\n",
    "baseurl='https://api.openalex.org/works?filter=authorships.institutions.country_code:co&mailto=restrepo@udea.edu.co&per-page=200'\n",
    "nc='*'"
   ]
  },
  {
   "cell_type": "code",
   "execution_count": 113,
   "id": "c180f8b3-db72-4360-b27b-79cd87fe3431",
   "metadata": {},
   "outputs": [
    {
     "name": "stdout",
     "output_type": "stream",
     "text": [
      "1716 → 343200/343024\r"
     ]
    }
   ],
   "source": [
    "while nc:\n",
    "    i+=1\n",
    "    url=baseurl+f'&cursor={nc}'\n",
    "    try:\n",
    "        r=requests.get(url)\n",
    "        cotmp=r.json().get('results')\n",
    "    except:\n",
    "        print('ERROR: bad url')\n",
    "        break\n",
    "    if i==1:\n",
    "        try:\n",
    "            count=r.json().get('meta').get('count')\n",
    "        except:\n",
    "            print('ERROR: bad count')\n",
    "            break\n",
    "    kk=[d.pop('abstract_inverted_index') for d in cotmp if d.get('abstract_inverted_index')]\n",
    "    try:\n",
    "        nc=r.json().get('meta').get('next_cursor')\n",
    "    except:\n",
    "        print('ERROR: bad cursor')\n",
    "        break\n",
    "    #progress\n",
    "    print(f'{i} → {200*i}/{count}',end='\\r')\n",
    "    #Append to dictionary list (WARNING: HIG RAM USAGE)\n",
    "    for p in cotmp:\n",
    "        co.append(p)\n",
    "    #=== backup =====\n",
    "    f=open('openalexco.jsonl','a')\n",
    "    for p in cotmp:\n",
    "        json.dump(p,f)\n",
    "        f.write(\"\\n\")\n",
    "    f.close()\n",
    "    #API limits\n",
    "    time.sleep(0.1)\n",
    "    #EMERGENGY EXIT\n",
    "    if i*200>count:\n",
    "        break"
   ]
  },
  {
   "cell_type": "code",
   "execution_count": 114,
   "id": "5e9b5bb0-7d10-430a-97f9-a6acc17d3094",
   "metadata": {},
   "outputs": [],
   "source": [
    "f=open('openalexco.json','w')\n",
    "json.dump(co,f)\n",
    "f.close()\n"
   ]
  },
  {
   "cell_type": "code",
   "execution_count": 115,
   "id": "53f30e94-88bc-4fc8-a747-0c57e066f9fe",
   "metadata": {},
   "outputs": [
    {
     "data": {
      "text/plain": [
       "343057"
      ]
     },
     "execution_count": 115,
     "metadata": {},
     "output_type": "execute_result"
    }
   ],
   "source": [
    "len(co)"
   ]
  },
  {
   "cell_type": "code",
   "execution_count": 116,
   "id": "c2e2e09d-8842-4856-b34b-b087829cafa4",
   "metadata": {},
   "outputs": [],
   "source": [
    "f=open('openalexco.jsonl','a')\n",
    "for p in co:\n",
    "    json.dump(p,f)\n",
    "    f.write(\"\\n\")\n",
    "f.close()"
   ]
  },
  {
   "cell_type": "markdown",
   "id": "d5aab08d-6560-443e-aed9-7b0a50754ecc",
   "metadata": {},
   "source": [
    "Medicine & Psychology Colombia"
   ]
  },
  {
   "cell_type": "code",
   "execution_count": 137,
   "id": "4d1346df-7f1b-45c9-8d4a-47b9b55664a4",
   "metadata": {},
   "outputs": [],
   "source": [
    "md=[d for d in co if len( {'Medicine','Psychology'}.intersection( \n",
    "       [ c.get('display_name') for c in d.get('concepts') if c.get('level')==0 ] \n",
    "          ) )>0 ]"
   ]
  },
  {
   "cell_type": "code",
   "execution_count": 153,
   "id": "b34b48c7-fe8f-4813-8989-44b0f3c241d7",
   "metadata": {},
   "outputs": [
    {
     "data": {
      "text/plain": [
       "77352"
      ]
     },
     "execution_count": 215,
     "metadata": {},
     "output_type": "execute_result"
    }
   ],
   "source": [
    "len(md)"
   ]
  },
  {
   "cell_type": "code",
   "execution_count": 216,
   "id": "57e09c0a-3817-4825-890f-340b50e88a63",
   "metadata": {},
   "outputs": [],
   "source": [
    "f=open('openalexco_md.json','w')\n",
    "json.dump(md,f)\n",
    "f.close()"
   ]
  },
  {
   "cell_type": "markdown",
   "id": "4f8afaea-9110-42cd-abaf-f4c6b1d2044a",
   "metadata": {},
   "source": [
    "Medicine & Psychology Bogotá"
   ]
  },
  {
   "cell_type": "code",
   "execution_count": null,
   "id": "d05db5db-ae54-4418-89d8-f95ec51725bc",
   "metadata": {},
   "outputs": [],
   "source": [
    "insts=set()\n",
    "for d in md:\n",
    "    for a in d.get('authorships'):\n",
    "        if a.get('institutions'):\n",
    "            for i in a.get('institutions'):\n",
    "                if i.get('country_code')==\"CO\":\n",
    "                    insts.add(i.get('display_name'))"
   ]
  },
  {
   "cell_type": "code",
   "execution_count": 163,
   "id": "151051d1-0df9-4613-9de2-f679b42ed06f",
   "metadata": {},
   "outputs": [
    {
     "data": {
      "text/plain": [
       "309"
      ]
     },
     "execution_count": 163,
     "metadata": {},
     "output_type": "execute_result"
    }
   ],
   "source": [
    "len(insts)"
   ]
  },
  {
   "cell_type": "code",
   "execution_count": 173,
   "id": "c7541db4-1ae0-486b-a7a9-b8fe69861765",
   "metadata": {},
   "outputs": [
    {
     "data": {
      "text/plain": [
       "['National University of Colombia',\n",
       " 'National University of Colombia at Medellín',\n",
       " 'National University of Colombia at Manizales']"
      ]
     },
     "execution_count": 173,
     "metadata": {},
     "output_type": "execute_result"
    }
   ],
   "source": [
    "[i for i in insts if i.find('National University of Colombia')>-1]"
   ]
  },
  {
   "cell_type": "code",
   "execution_count": 206,
   "id": "0f63ff6b-f138-438d-97a8-2ba06b3ae031",
   "metadata": {},
   "outputs": [],
   "source": [
    "insts_bg={'El Bosque University',\n",
    "'National University of Colombia',\n",
    "'Universidad Antonio Nariño',\n",
    "'Universidad Externado de Colombia',\n",
    "'Universidad de Bogotá Jorge Tadeo Lozano',\n",
    " 'Universidad de Los Andes',\n",
    " 'Universidad del Rosario',\n",
    " 'University of La Sabana',\n",
    " 'University of La Salle'}"
   ]
  },
  {
   "cell_type": "code",
   "execution_count": 211,
   "id": "5df7f36c-1f44-4271-b9dd-673314fe69af",
   "metadata": {},
   "outputs": [],
   "source": [
    "mdbg=[]\n",
    "for d in md:\n",
    "    l=[ [i.get('display_name') for i in a.get('institutions')] for a in d.get('authorships') if a.get('institutions')]\n",
    "    if len({item for sublist in l for item in sublist}.intersection(insts_bg))>0:\n",
    "        mdbg.append(d)"
   ]
  },
  {
   "cell_type": "code",
   "execution_count": 212,
   "id": "23ef3000-ad0b-4ed1-a1a9-0a471285ea7b",
   "metadata": {},
   "outputs": [
    {
     "data": {
      "text/plain": [
       "18974"
      ]
     },
     "execution_count": 214,
     "metadata": {},
     "output_type": "execute_result"
    }
   ],
   "source": [
    "len(mdbg)"
   ]
  },
  {
   "cell_type": "code",
   "execution_count": 217,
   "id": "02c45fbe-406c-4104-8a12-0853a39ce441",
   "metadata": {},
   "outputs": [],
   "source": [
    "f=open('openalexco_mdbg.json','w')\n",
    "json.dump(md,f)\n",
    "f.close()"
   ]
  },
  {
   "cell_type": "code",
   "execution_count": null,
   "id": "6ce1eca4-564f-4235-9600-4ce5cde34978",
   "metadata": {},
   "outputs": [],
   "source": []
  }
 ],
 "metadata": {
  "kernelspec": {
   "display_name": "Python 3 (ipykernel)",
   "language": "python",
   "name": "python3"
  },
  "language_info": {
   "codemirror_mode": {
    "name": "ipython",
    "version": 3
   },
   "file_extension": ".py",
   "mimetype": "text/x-python",
   "name": "python",
   "nbconvert_exporter": "python",
   "pygments_lexer": "ipython3",
   "version": "3.9.2"
  }
 },
 "nbformat": 4,
 "nbformat_minor": 5
}
