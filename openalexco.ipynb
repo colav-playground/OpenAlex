{
 "cells": [
  {
   "cell_type": "markdown",
   "id": "d213457b-27f4-48bf-b58e-1dfef1ce2a29",
   "metadata": {},
   "source": [
    "# OpenAlex Colombia\n",
    "[OpenAlex](https://openalex.org/)  is an index of hundreds of millions of metadata of scientific articles in all areas.\n",
    "\n",
    "We will use the  access via a API to obtain the metadata about the scientific articles of Colombia\n",
    "\n",
    "Example of use: https://sds-investigacion.azurewebsites.net/app"
   ]
  },
  {
   "cell_type": "code",
   "execution_count": 8,
   "id": "1e1a5449-3a27-4be3-bffe-a58b8c3629b1",
   "metadata": {},
   "outputs": [],
   "source": [
    "import requests\n",
    "import time\n",
    "import json\n",
    "import pandas as pd\n",
    "from IPython.display import JSON"
   ]
  },
  {
   "cell_type": "markdown",
   "id": "861e4570-9dfe-427e-b984-f7e1b5ad9845",
   "metadata": {},
   "source": [
    "Below is an example of a JSON of the `work` entity. See the full documentation here: https://docs.openalex.org/"
   ]
  },
  {
   "cell_type": "code",
   "execution_count": 258,
   "id": "02720851-9418-4689-8439-e39434b390ac",
   "metadata": {},
   "outputs": [
    {
     "data": {
      "application/json": {
       "abstract_inverted_index": {
        "(DM)": [
         13
        ],
        "dark": [
         11
        ],
        "matter": [
         12,
         35
        ]
       },
       "alternate_host_venues": [
        {
         "display_name": "arXiv",
         "id": null,
         "is_oa": true,
         "license": null,
         "type": "repository",
         "url": "http://arxiv.org/pdf/1509.06313",
         "version": "submittedVersion"
        }
       ],
       "authorships": [
        {
         "author": {
          "display_name": "Carolina Arbeláez",
          "id": "https://openalex.org/A2998524932",
          "orcid": null
         },
         "author_position": "first",
         "institutions": [
          {
           "country_code": "CL",
           "display_name": "Federico Santa María Technical University",
           "id": "https://openalex.org/I75778554",
           "ror": "https://ror.org/05510vn56",
           "type": "education"
          }
         ],
         "raw_affiliation_string": "Universidad Técnica Federico Santa María and Centro Científico-Tecnológico de Valparaíso Casilla 110-V, Valparaíso, Chile"
        }
       ],
       "biblio": {
        "first_page": null,
        "issue": "1",
        "last_page": null,
        "volume": "93"
       },
       "cited_by_api_url": "https://api.openalex.org/works?filter=cites:W2213304073",
       "cited_by_count": 18,
       "concepts": [
        {
         "display_name": "Physics",
         "id": "https://openalex.org/C121332964",
         "level": 0,
         "score": "0.9535045",
         "wikidata": "https://www.wikidata.org/wiki/Q413"
        },
        {
         "display_name": "Particle physics",
         "id": "https://openalex.org/C109214941",
         "level": 1,
         "score": "0.7087808",
         "wikidata": "https://www.wikidata.org/wiki/Q18334"
        },
        {
         "display_name": "Dark matter",
         "id": "https://openalex.org/C159249277",
         "level": 2,
         "score": "0.6155488",
         "wikidata": "https://www.wikidata.org/wiki/Q79925"
        }
       ],
       "counts_by_year": [
        {
         "cited_by_count": 1,
         "year": 2022
        },
        {
         "cited_by_count": 2,
         "year": 2021
        },
        {
         "cited_by_count": 1,
         "year": 2019
        },
        {
         "cited_by_count": 4,
         "year": 2018
        },
        {
         "cited_by_count": 4,
         "year": 2017
        },
        {
         "cited_by_count": 6,
         "year": 2016
        }
       ],
       "created_date": "2016-06-24",
       "display_name": "Fermion dark matter from SO(10) GUTs",
       "doi": "https://doi.org/10.1103/physrevd.93.013012",
       "host_venue": {
        "display_name": "Physical review",
        "id": "https://openalex.org/V4210238307",
        "is_oa": true,
        "issn": [
         "2470-0037",
         "2470-0010",
         "2470-0029"
        ],
        "issn_l": "2470-0010",
        "license": null,
        "publisher": null,
        "type": "repository",
        "url": "https://doi.org/10.1103/physrevd.93.013012",
        "version": "submittedVersion"
       },
       "id": "https://openalex.org/W2213304073",
       "ids": {
        "doi": "https://doi.org/10.1103/physrevd.93.013012",
        "mag": "2213304073",
        "openalex": "https://openalex.org/W2213304073"
       },
       "is_paratext": false,
       "is_retracted": false,
       "mesh": [],
       "ngrams_url": "https://api.openalex.org/works/W2213304073/ngrams",
       "open_access": {
        "is_oa": true,
        "oa_status": "green",
        "oa_url": "http://arxiv.org/pdf/1509.06313"
       },
       "publication_date": "2016-01-13",
       "publication_year": 2016,
       "referenced_works": [
        "https://openalex.org/W167592539",
        "https://openalex.org/W1504118794",
        "https://openalex.org/W1592654218",
        "https://openalex.org/W1604802664"
       ],
       "related_works": [
        "https://openalex.org/W1813212307",
        "https://openalex.org/W1951792185",
        "https://openalex.org/W1962172028",
        "https://openalex.org/W1977308070"
       ],
       "title": "Fermion dark matter from SO(10) GUTs",
       "type": "journal-article",
       "updated_date": "2022-10-13T20:57:55.218364"
      },
      "text/plain": [
       "<IPython.core.display.JSON object>"
      ]
     },
     "execution_count": 258,
     "metadata": {
      "application/json": {
       "expanded": false,
       "root": "root"
      }
     },
     "output_type": "execute_result"
    }
   ],
   "source": [
    "f=open('sample.txt','r')\n",
    "d=f.read()\n",
    "f.close()\n",
    "JSON(eval(d))"
   ]
  },
  {
   "cell_type": "markdown",
   "id": "11361ec5-f0f2-431f-b36b-cb3bfe3a3ee7",
   "metadata": {},
   "source": [
    "## API usage example\n",
    "To use directly the obtained JSON, see next cell"
   ]
  },
  {
   "cell_type": "code",
   "execution_count": 2,
   "id": "9689adb6-a630-4734-8489-e10f71ff9318",
   "metadata": {},
   "outputs": [],
   "source": [
    "co=[]\n",
    "i=0\n",
    "count=0\n",
    "baseurl='https://api.openalex.org/works?filter=authorships.institutions.country_code:co&mailto=restrepo@udea.edu.co&per-page=200'\n",
    "nc='*'"
   ]
  },
  {
   "cell_type": "code",
   "execution_count": 113,
   "id": "c180f8b3-db72-4360-b27b-79cd87fe3431",
   "metadata": {},
   "outputs": [
    {
     "name": "stdout",
     "output_type": "stream",
     "text": [
      "1716 → 343200/343024\r"
     ]
    }
   ],
   "source": [
    "while nc:\n",
    "    i+=1\n",
    "    url=baseurl+f'&cursor={nc}'\n",
    "    try:\n",
    "        r=requests.get(url)\n",
    "        cotmp=r.json().get('results')\n",
    "    except:\n",
    "        print('ERROR: bad url')\n",
    "        break\n",
    "    if i==1:\n",
    "        try:\n",
    "            count=r.json().get('meta').get('count')\n",
    "        except:\n",
    "            print('ERROR: bad count')\n",
    "            break\n",
    "    kk=[d.pop('abstract_inverted_index') for d in cotmp if d.get('abstract_inverted_index')]\n",
    "    try:\n",
    "        nc=r.json().get('meta').get('next_cursor')\n",
    "    except:\n",
    "        print('ERROR: bad cursor')\n",
    "        break\n",
    "    #progress\n",
    "    print(f'{i} → {200*i}/{count}',end='\\r')\n",
    "    #Append to dictionary list (WARNING: HIG RAM USAGE)\n",
    "    for p in cotmp:\n",
    "        co.append(p)\n",
    "    #=== backup =====\n",
    "    f=open('openalexco.jsonl','a')\n",
    "    for p in cotmp:\n",
    "        json.dump(p,f)\n",
    "        f.write(\"\\n\")\n",
    "    f.close()\n",
    "    #API limits\n",
    "    time.sleep(0.1)\n",
    "    #EMERGENGY EXIT\n",
    "    if i*200>count:\n",
    "        break"
   ]
  },
  {
   "cell_type": "code",
   "execution_count": 40,
   "id": "5e9b5bb0-7d10-430a-97f9-a6acc17d3094",
   "metadata": {},
   "outputs": [],
   "source": [
    "f=open('openalexco.json','w')\n",
    "json.dump(co,f)\n",
    "f.close()"
   ]
  },
  {
   "cell_type": "code",
   "execution_count": 116,
   "id": "c2e2e09d-8842-4856-b34b-b087829cafa4",
   "metadata": {},
   "outputs": [],
   "source": [
    "f=open('openalexco.jsonl','a')\n",
    "for p in co:\n",
    "    json.dump(p,f)\n",
    "    f.write(\"\\n\")\n",
    "f.close()"
   ]
  },
  {
   "cell_type": "markdown",
   "id": "6853b10f-118e-494d-a91f-fd6844f1f57e",
   "metadata": {},
   "source": [
    "## Use downloaded JSON"
   ]
  },
  {
   "cell_type": "code",
   "execution_count": 42,
   "id": "4c918637-4627-4294-a1b0-1ee9e982119e",
   "metadata": {},
   "outputs": [],
   "source": [
    "f=open('openalexco.json','r')\n",
    "co=json.load(f)\n",
    "f.close()"
   ]
  },
  {
   "cell_type": "markdown",
   "id": "d5aab08d-6560-443e-aed9-7b0a50754ecc",
   "metadata": {},
   "source": [
    "Medicine & Psychology Colombia"
   ]
  },
  {
   "cell_type": "code",
   "execution_count": 137,
   "id": "4d1346df-7f1b-45c9-8d4a-47b9b55664a4",
   "metadata": {},
   "outputs": [],
   "source": [
    "md=[d for d in co if len( {'Medicine','Psychology'}.intersection( \n",
    "       [ c.get('display_name') for c in d.get('concepts') if c.get('level')==0 ] \n",
    "          ) )>0 ]"
   ]
  },
  {
   "cell_type": "code",
   "execution_count": 153,
   "id": "b34b48c7-fe8f-4813-8989-44b0f3c241d7",
   "metadata": {},
   "outputs": [
    {
     "data": {
      "text/plain": [
       "77352"
      ]
     },
     "execution_count": 215,
     "metadata": {},
     "output_type": "execute_result"
    }
   ],
   "source": [
    "len(md)"
   ]
  },
  {
   "cell_type": "code",
   "execution_count": 216,
   "id": "57e09c0a-3817-4825-890f-340b50e88a63",
   "metadata": {},
   "outputs": [],
   "source": [
    "f=open('openalexco_md.json','w')\n",
    "json.dump(md,f)\n",
    "f.close()"
   ]
  },
  {
   "cell_type": "code",
   "execution_count": 2,
   "id": "35008e69-914b-4de0-bb1b-19df8e90109a",
   "metadata": {},
   "outputs": [],
   "source": [
    "f=open('openalexco_md.json','r')\n",
    "md=json.load(f)\n",
    "f.close()"
   ]
  },
  {
   "cell_type": "markdown",
   "id": "4f8afaea-9110-42cd-abaf-f4c6b1d2044a",
   "metadata": {},
   "source": [
    "Medicine & Psychology Bogotá"
   ]
  },
  {
   "cell_type": "code",
   "execution_count": 3,
   "id": "d05db5db-ae54-4418-89d8-f95ec51725bc",
   "metadata": {},
   "outputs": [],
   "source": [
    "insts=set()\n",
    "for d in md:\n",
    "    for a in d.get('authorships'):\n",
    "        if a.get('institutions'):\n",
    "            for i in a.get('institutions'):\n",
    "                if i.get('country_code')==\"CO\":\n",
    "                    insts.add(i.get('display_name'))"
   ]
  },
  {
   "cell_type": "code",
   "execution_count": 4,
   "id": "151051d1-0df9-4613-9de2-f679b42ed06f",
   "metadata": {},
   "outputs": [
    {
     "data": {
      "text/plain": [
       "309"
      ]
     },
     "execution_count": 4,
     "metadata": {},
     "output_type": "execute_result"
    }
   ],
   "source": [
    "len(insts)"
   ]
  },
  {
   "cell_type": "code",
   "execution_count": 5,
   "id": "c7541db4-1ae0-486b-a7a9-b8fe69861765",
   "metadata": {},
   "outputs": [
    {
     "data": {
      "text/plain": [
       "['National University of Colombia at Medellín',\n",
       " 'National University of Colombia at Manizales',\n",
       " 'National University of Colombia']"
      ]
     },
     "execution_count": 5,
     "metadata": {},
     "output_type": "execute_result"
    }
   ],
   "source": [
    "[i for i in insts if i.find('National University of Colombia')>-1]"
   ]
  },
  {
   "cell_type": "code",
   "execution_count": 6,
   "id": "c16061ae-7e66-4e13-af37-d6512a6c13de",
   "metadata": {},
   "outputs": [
    {
     "data": {
      "text/plain": [
       "['Pontificia Universidad Javeriana']"
      ]
     },
     "execution_count": 6,
     "metadata": {},
     "output_type": "execute_result"
    }
   ],
   "source": [
    "[i for i in insts if i.find('Jav')>-1]"
   ]
  },
  {
   "cell_type": "code",
   "execution_count": 7,
   "id": "0f63ff6b-f138-438d-97a8-2ba06b3ae031",
   "metadata": {},
   "outputs": [],
   "source": [
    "insts_bg={'El Bosque University',\n",
    "'Pontificia Universidad Javeriana',          \n",
    "'National University of Colombia',\n",
    "'Universidad Antonio Nariño',\n",
    "'Universidad Externado de Colombia',\n",
    "'Universidad de Bogotá Jorge Tadeo Lozano',\n",
    " 'Universidad de Los Andes',\n",
    " 'Universidad del Rosario',\n",
    " 'University of La Sabana',\n",
    " 'University of La Salle'}"
   ]
  },
  {
   "cell_type": "code",
   "execution_count": 8,
   "id": "5df7f36c-1f44-4271-b9dd-673314fe69af",
   "metadata": {},
   "outputs": [],
   "source": [
    "mdbg=[]\n",
    "for d in md:\n",
    "    l=[ [i.get('display_name') for i in a.get('institutions')] for a in d.get('authorships') if a.get('institutions')]\n",
    "    if len({item for sublist in l for item in sublist}.intersection(insts_bg))>0:\n",
    "        mdbg.append(d)"
   ]
  },
  {
   "cell_type": "code",
   "execution_count": 9,
   "id": "23ef3000-ad0b-4ed1-a1a9-0a471285ea7b",
   "metadata": {},
   "outputs": [
    {
     "data": {
      "text/plain": [
       "23920"
      ]
     },
     "execution_count": 9,
     "metadata": {},
     "output_type": "execute_result"
    }
   ],
   "source": [
    "len(mdbg)"
   ]
  },
  {
   "cell_type": "code",
   "execution_count": 5,
   "id": "02c45fbe-406c-4104-8a12-0853a39ce441",
   "metadata": {},
   "outputs": [
    {
     "ename": "NameError",
     "evalue": "name 'mdbg' is not defined",
     "output_type": "error",
     "traceback": [
      "\u001b[0;31m---------------------------------------------------------------------------\u001b[0m",
      "\u001b[0;31mNameError\u001b[0m                                 Traceback (most recent call last)",
      "\u001b[0;32m/tmp/ipykernel_4185300/2461879512.py\u001b[0m in \u001b[0;36m<module>\u001b[0;34m\u001b[0m\n\u001b[1;32m      1\u001b[0m \u001b[0mf\u001b[0m\u001b[0;34m=\u001b[0m\u001b[0mopen\u001b[0m\u001b[0;34m(\u001b[0m\u001b[0;34m'openalexco_mdbg.json'\u001b[0m\u001b[0;34m,\u001b[0m\u001b[0;34m'w'\u001b[0m\u001b[0;34m)\u001b[0m\u001b[0;34m\u001b[0m\u001b[0;34m\u001b[0m\u001b[0m\n\u001b[0;32m----> 2\u001b[0;31m \u001b[0mjson\u001b[0m\u001b[0;34m.\u001b[0m\u001b[0mdump\u001b[0m\u001b[0;34m(\u001b[0m\u001b[0mmdbg\u001b[0m\u001b[0;34m,\u001b[0m\u001b[0mf\u001b[0m\u001b[0;34m)\u001b[0m\u001b[0;34m\u001b[0m\u001b[0;34m\u001b[0m\u001b[0m\n\u001b[0m\u001b[1;32m      3\u001b[0m \u001b[0mf\u001b[0m\u001b[0;34m.\u001b[0m\u001b[0mclose\u001b[0m\u001b[0;34m(\u001b[0m\u001b[0;34m)\u001b[0m\u001b[0;34m\u001b[0m\u001b[0;34m\u001b[0m\u001b[0m\n",
      "\u001b[0;31mNameError\u001b[0m: name 'mdbg' is not defined"
     ]
    }
   ],
   "source": [
    "f=open('openalexco_mdbg.json','w')\n",
    "json.dump(mdbg,f)\n",
    "f.close()"
   ]
  },
  {
   "cell_type": "code",
   "execution_count": 218,
   "id": "6ce1eca4-564f-4235-9600-4ce5cde34978",
   "metadata": {},
   "outputs": [],
   "source": [
    "d=co[0]"
   ]
  },
  {
   "cell_type": "markdown",
   "id": "32870ef4-5dec-4d81-aa58-bc1f3fca6e6c",
   "metadata": {},
   "source": [
    "Search for author"
   ]
  },
  {
   "cell_type": "code",
   "execution_count": 43,
   "id": "ea281726-1967-4466-8b5d-41b147c8f095",
   "metadata": {},
   "outputs": [],
   "source": [
    "author='Diego Restrepo'\n",
    "dr=[d for d in co if author in [ a.get('author').get('display_name') for a in d.get('authorships')]]"
   ]
  },
  {
   "cell_type": "code",
   "execution_count": 44,
   "id": "afd1e35b-81a4-43e2-98d8-a1218e505357",
   "metadata": {},
   "outputs": [
    {
     "data": {
      "text/plain": [
       "61"
      ]
     },
     "execution_count": 44,
     "metadata": {},
     "output_type": "execute_result"
    }
   ],
   "source": [
    "len(dr)"
   ]
  },
  {
   "cell_type": "code",
   "execution_count": 45,
   "id": "299b7acf-cb91-4e1d-a63e-280139bc4c75",
   "metadata": {},
   "outputs": [
    {
     "data": {
      "text/plain": [
       "array(['https://openalex.org/A4289616623',\n",
       "       'https://openalex.org/A2110103959',\n",
       "       'https://openalex.org/A4224864514',\n",
       "       'https://openalex.org/A2306595523',\n",
       "       'https://openalex.org/A4288869362',\n",
       "       'https://openalex.org/A4290241673',\n",
       "       'https://openalex.org/A2222954481'], dtype=object)"
      ]
     },
     "execution_count": 45,
     "metadata": {},
     "output_type": "execute_result"
    }
   ],
   "source": [
    "pd.DataFrame(dr).authorships.apply(lambda l: [a.get('author').get('id') for a in l if a.get('author').get('display_name')=='Diego Restrepo']\n",
    "                                     ).str[0].unique()"
   ]
  },
  {
   "cell_type": "markdown",
   "id": "133d900a-79dc-45eb-9024-8f6dbdc40206",
   "metadata": {},
   "source": [
    "Search for Author ID"
   ]
  },
  {
   "cell_type": "code",
   "execution_count": 46,
   "id": "506b60d6-2fde-43ff-b579-2cba7c4a49f9",
   "metadata": {},
   "outputs": [],
   "source": [
    "oa_id='https://openalex.org/A2306595523'\n",
    "DR=[d for d in co if oa_id in [ a.get('author').get('id') for a in d.get('authorships')]]"
   ]
  },
  {
   "cell_type": "code",
   "execution_count": 47,
   "id": "b82adfd6-8946-4545-b7b6-6d7b53119450",
   "metadata": {},
   "outputs": [
    {
     "data": {
      "text/plain": [
       "43"
      ]
     },
     "execution_count": 47,
     "metadata": {},
     "output_type": "execute_result"
    }
   ],
   "source": [
    "len(DR)"
   ]
  },
  {
   "cell_type": "code",
   "execution_count": 48,
   "id": "b0b7d488-0723-4cab-93f3-874c30ea278e",
   "metadata": {},
   "outputs": [
    {
     "data": {
      "text/html": [
       "<div>\n",
       "<style scoped>\n",
       "    .dataframe tbody tr th:only-of-type {\n",
       "        vertical-align: middle;\n",
       "    }\n",
       "\n",
       "    .dataframe tbody tr th {\n",
       "        vertical-align: top;\n",
       "    }\n",
       "\n",
       "    .dataframe thead th {\n",
       "        text-align: right;\n",
       "    }\n",
       "</style>\n",
       "<table border=\"1\" class=\"dataframe\">\n",
       "  <thead>\n",
       "    <tr style=\"text-align: right;\">\n",
       "      <th></th>\n",
       "      <th>id</th>\n",
       "      <th>doi</th>\n",
       "      <th>title</th>\n",
       "    </tr>\n",
       "  </thead>\n",
       "  <tbody>\n",
       "    <tr>\n",
       "      <th>0</th>\n",
       "      <td>https://openalex.org/W2194147853</td>\n",
       "      <td>https://doi.org/10.1016/j.nuclphysbps.2015.10.132</td>\n",
       "      <td>A model with a viable dark matter candidate and massive neutrinos</td>\n",
       "    </tr>\n",
       "    <tr>\n",
       "      <th>1</th>\n",
       "      <td>https://openalex.org/W3100627084</td>\n",
       "      <td>https://doi.org/10.1142/s0217732318500244</td>\n",
       "      <td>Anomalous leptonic U(1) symmetry: Syndetic origin of the QCD axion, weak-scale dark matter, and radiative neutrino mass</td>\n",
       "    </tr>\n",
       "    <tr>\n",
       "      <th>2</th>\n",
       "      <td>https://openalex.org/W3129415996</td>\n",
       "      <td>https://doi.org/10.1103/physrevd.103.095032</td>\n",
       "      <td>Anomaly-free Abelian gauge symmetries with Dirac scotogenic models</td>\n",
       "    </tr>\n",
       "    <tr>\n",
       "      <th>3</th>\n",
       "      <td>https://openalex.org/W4206129402</td>\n",
       "      <td>https://doi.org/10.1140/epjc/s10052-021-09918-8</td>\n",
       "      <td>Anomaly-free Abelian gauge symmetries with Dirac seesaws</td>\n",
       "    </tr>\n",
       "    <tr>\n",
       "      <th>4</th>\n",
       "      <td>https://openalex.org/W1967455469</td>\n",
       "      <td>https://doi.org/10.1103/physrevd.87.095010</td>\n",
       "      <td>Baryonic violation of R parity from anomalous U(1)H</td>\n",
       "    </tr>\n",
       "    <tr>\n",
       "      <th>5</th>\n",
       "      <td>https://openalex.org/W3105890208</td>\n",
       "      <td>https://doi.org/10.1016/s0370-2693(00)01067-4</td>\n",
       "      <td>Bilinear R-parity Violation and Small Neutrino Masses: a Self-consistent Framework</td>\n",
       "    </tr>\n",
       "    <tr>\n",
       "      <th>6</th>\n",
       "      <td>https://openalex.org/W2795094497</td>\n",
       "      <td>https://doi.org/10.1103/physrevd.97.115032</td>\n",
       "      <td>Bound-state dark matter and Dirac neutrino masses</td>\n",
       "    </tr>\n",
       "    <tr>\n",
       "      <th>7</th>\n",
       "      <td>https://openalex.org/W2963957043</td>\n",
       "      <td>https://doi.org/10.1016/j.physletb.2019.01.023</td>\n",
       "      <td>Bound-state dark matter with Majorana neutrinos</td>\n",
       "    </tr>\n",
       "    <tr>\n",
       "      <th>8</th>\n",
       "      <td>https://openalex.org/W2145042168</td>\n",
       "      <td>https://doi.org/10.1140/epjc/s10052-008-0713-4</td>\n",
       "      <td>Collider aspects of flavor physics at high Q</td>\n",
       "    </tr>\n",
       "    <tr>\n",
       "      <th>9</th>\n",
       "      <td>https://openalex.org/W2049677811</td>\n",
       "      <td>https://doi.org/10.1088/1126-6708/2005/03/062</td>\n",
       "      <td>Collider signals of gravitino dark matter in bilinearly broken R-parity</td>\n",
       "    </tr>\n",
       "    <tr>\n",
       "      <th>10</th>\n",
       "      <td>https://openalex.org/W2270814667</td>\n",
       "      <td>https://doi.org/10.1103/physrevd.93.015012</td>\n",
       "      <td>Diboson anomaly : Heavy Higgs resonance and QCD vectorlike exotics</td>\n",
       "    </tr>\n",
       "    <tr>\n",
       "      <th>11</th>\n",
       "      <td>https://openalex.org/W2974772295</td>\n",
       "      <td>https://doi.org/10.1103/physrevd.101.035004</td>\n",
       "      <td>Dirac neutrino mass generation from a Majorana messenger</td>\n",
       "    </tr>\n",
       "    <tr>\n",
       "      <th>12</th>\n",
       "      <td>https://openalex.org/W2742667923</td>\n",
       "      <td>https://doi.org/10.1016/j.physletb.2018.01.009</td>\n",
       "      <td>Expanding the Reach of Heavy Neutrino Searches at the LHC</td>\n",
       "    </tr>\n",
       "    <tr>\n",
       "      <th>13</th>\n",
       "      <td>https://openalex.org/W2213304073</td>\n",
       "      <td>https://doi.org/10.1103/physrevd.93.013012</td>\n",
       "      <td>Fermion dark matter from SO(10) GUTs</td>\n",
       "    </tr>\n",
       "    <tr>\n",
       "      <th>14</th>\n",
       "      <td>https://openalex.org/W2601386398</td>\n",
       "      <td>https://doi.org/10.1103/physrevd.95.095034</td>\n",
       "      <td>Fermionic triplet dark matter in an S O ( 10 ) -inspired left-right model</td>\n",
       "    </tr>\n",
       "    <tr>\n",
       "      <th>15</th>\n",
       "      <td>https://openalex.org/W1997257217</td>\n",
       "      <td>https://doi.org/10.1103/physrevd.85.023523</td>\n",
       "      <td>Gravitino dark matter and neutrino masses with bilinear R-parity violation</td>\n",
       "    </tr>\n",
       "    <tr>\n",
       "      <th>16</th>\n",
       "      <td>https://openalex.org/W2909173301</td>\n",
       "      <td>https://doi.org/10.2139/ssrn.3136094</td>\n",
       "      <td>Indicadores de vinculación con el entorno para Unidades de Gestión de Investigación. (Universidad de Antioquia SIU. Estudio Piloto 2004-2016) (Indicators of Linkage with the Environment for Resear...</td>\n",
       "    </tr>\n",
       "    <tr>\n",
       "      <th>17</th>\n",
       "      <td>https://openalex.org/W3099738634</td>\n",
       "      <td>https://doi.org/10.1088/1475-7516/2010/10/033</td>\n",
       "      <td>Indirect detection of gravitino dark matter including its three-body decays</td>\n",
       "    </tr>\n",
       "    <tr>\n",
       "      <th>18</th>\n",
       "      <td>https://openalex.org/W1982179944</td>\n",
       "      <td>https://doi.org/10.1007/jhep05(2013)046</td>\n",
       "      <td>LSP sneutrino novel decays</td>\n",
       "    </tr>\n",
       "    <tr>\n",
       "      <th>19</th>\n",
       "      <td>https://openalex.org/W1983406124</td>\n",
       "      <td>https://doi.org/10.1088/1126-6708/2006/08/036</td>\n",
       "      <td>Leptonic charged Higgs decays in the Zee model</td>\n",
       "    </tr>\n",
       "    <tr>\n",
       "      <th>20</th>\n",
       "      <td>https://openalex.org/W3103290856</td>\n",
       "      <td>https://doi.org/10.1007/jhep11(2013)011</td>\n",
       "      <td>Models with radiative neutrino masses and viable dark matter candidates</td>\n",
       "    </tr>\n",
       "    <tr>\n",
       "      <th>21</th>\n",
       "      <td>https://openalex.org/W3107028404</td>\n",
       "      <td>https://doi.org/10.2139/ssrn.3481925</td>\n",
       "      <td>Métricas de Vinculación Universidad-Entorno: Universidad de Antioquia (Metrics for University Linkage with the Environment: Universidad De Antioquia)</td>\n",
       "    </tr>\n",
       "    <tr>\n",
       "      <th>22</th>\n",
       "      <td>https://openalex.org/W1571169636</td>\n",
       "      <td>https://doi.org/10.1140/epjc/s10052-012-1941-1</td>\n",
       "      <td>Neutrino masses in SU(5)×U(1)F with adjoint flavons</td>\n",
       "    </tr>\n",
       "    <tr>\n",
       "      <th>23</th>\n",
       "      <td>https://openalex.org/W3099207013</td>\n",
       "      <td>https://doi.org/10.1007/jhep04(2020)134</td>\n",
       "      <td>Phenomenological consistency of the singlet-triplet scotogenic model</td>\n",
       "    </tr>\n",
       "    <tr>\n",
       "      <th>24</th>\n",
       "      <td>https://openalex.org/W3151647418</td>\n",
       "      <td>https://doi.org/10.1103/physrevd.104.015032</td>\n",
       "      <td>Phenomenology of the Zee model for Dirac neutrinos and general neutrino interactions</td>\n",
       "    </tr>\n",
       "    <tr>\n",
       "      <th>25</th>\n",
       "      <td>https://openalex.org/W2801044354</td>\n",
       "      <td>https://doi.org/10.1103/physrevd.98.055016</td>\n",
       "      <td>Probing a simplified W ′ model of R ( D ( * ) ) anomalies using b tags, τ leptons, and missing energy</td>\n",
       "    </tr>\n",
       "    <tr>\n",
       "      <th>26</th>\n",
       "      <td>https://openalex.org/W3100944671</td>\n",
       "      <td>https://doi.org/10.1088/1126-6708/2008/05/048</td>\n",
       "      <td>Probing bilinear R-parity violating supergravity at the LHC</td>\n",
       "    </tr>\n",
       "    <tr>\n",
       "      <th>27</th>\n",
       "      <td>https://openalex.org/W2006971137</td>\n",
       "      <td>https://doi.org/10.1103/physrevd.86.075001</td>\n",
       "      <td>Probing neutralino properties in minimal supergravity with bilinear&lt;mml:math xmlns:mml=\"http://www.w3.org/1998/Math/MathML\" display=\"inline\"&gt;&lt;mml:mi&gt;R&lt;/mml:mi&gt;&lt;/mml:math&gt;-parity violation</td>\n",
       "    </tr>\n",
       "    <tr>\n",
       "      <th>28</th>\n",
       "      <td>https://openalex.org/W2026305137</td>\n",
       "      <td>https://doi.org/10.1088/1126-6708/2003/09/071</td>\n",
       "      <td>Probing neutrino mass with multilepton production at the Tevatron in the simplest R-parity violation model</td>\n",
       "    </tr>\n",
       "    <tr>\n",
       "      <th>29</th>\n",
       "      <td>https://openalex.org/W1973186550</td>\n",
       "      <td>https://doi.org/10.1103/physrevd.82.075002</td>\n",
       "      <td>Probing neutrino oscillations in supersymmetric models at the Large Hadron Collider</td>\n",
       "    </tr>\n",
       "    <tr>\n",
       "      <th>30</th>\n",
       "      <td>https://openalex.org/W2345517140</td>\n",
       "      <td>https://doi.org/10.1103/physrevd.94.033005</td>\n",
       "      <td>Radiative Type III Seesaw Model and its collider phenomenology</td>\n",
       "    </tr>\n",
       "    <tr>\n",
       "      <th>31</th>\n",
       "      <td>https://openalex.org/W2155117982</td>\n",
       "      <td>https://doi.org/10.1103/physrevd.92.013005</td>\n",
       "      <td>Radiative neutrino masses in the singlet-doublet fermion dark matter model with scalar singlets</td>\n",
       "    </tr>\n",
       "    <tr>\n",
       "      <th>32</th>\n",
       "      <td>https://openalex.org/W1782135045</td>\n",
       "      <td>https://doi.org/10.1103/physrevd.79.013011</td>\n",
       "      <td>Radiative seesaw model : warm dark matter, collider signatures, and lepton flavor violating signals</td>\n",
       "    </tr>\n",
       "    <tr>\n",
       "      <th>33</th>\n",
       "      <td>https://openalex.org/W1823984419</td>\n",
       "      <td>None</td>\n",
       "      <td>Salud mental en víctimas de la violencia armada en Bojayá (Chocó, Colombia) 1</td>\n",
       "    </tr>\n",
       "    <tr>\n",
       "      <th>34</th>\n",
       "      <td>https://openalex.org/W3105791160</td>\n",
       "      <td>https://doi.org/10.1088/1475-7516/2013/04/044</td>\n",
       "      <td>Scalar dark matter and fermion coannihilations in the radiative seesaw model</td>\n",
       "    </tr>\n",
       "    <tr>\n",
       "      <th>35</th>\n",
       "      <td>https://openalex.org/W2951068726</td>\n",
       "      <td>https://doi.org/10.1103/physrevd.100.035029</td>\n",
       "      <td>Singlet-doublet Dirac dark matter and neutrino masses</td>\n",
       "    </tr>\n",
       "    <tr>\n",
       "      <th>36</th>\n",
       "      <td>https://openalex.org/W2284270222</td>\n",
       "      <td>https://doi.org/10.1088/1475-7516/2016/03/048</td>\n",
       "      <td>The Fermi-LAT gamma-ray excess at the Galactic Center in the singlet-doublet fermion dark matter model</td>\n",
       "    </tr>\n",
       "    <tr>\n",
       "      <th>37</th>\n",
       "      <td>https://openalex.org/W2028315718</td>\n",
       "      <td>https://doi.org/10.1016/j.nuclphysbps.2010.03.001</td>\n",
       "      <td>The Hunt for New Physics at the Large Hadron Collider</td>\n",
       "    </tr>\n",
       "    <tr>\n",
       "      <th>38</th>\n",
       "      <td>https://openalex.org/W2131009540</td>\n",
       "      <td>https://doi.org/10.1007/jhep03(2016)162</td>\n",
       "      <td>The inert Zee model</td>\n",
       "    </tr>\n",
       "    <tr>\n",
       "      <th>39</th>\n",
       "      <td>https://openalex.org/W2886932741</td>\n",
       "      <td>https://doi.org/10.1103/physrevd.99.015038</td>\n",
       "      <td>Two-component dark matter and a massless neutrino in a new &lt;mml:math xmlns:mml=\"http://www.w3.org/1998/Math/MathML\" display=\"inline\"&gt;&lt;mml:mi&gt;B&lt;/mml:mi&gt;&lt;mml:mo&gt;−&lt;/mml:mo&gt;&lt;mml:mi&gt;L&lt;/mml:mi&gt;&lt;/mml:mat...</td>\n",
       "    </tr>\n",
       "    <tr>\n",
       "      <th>40</th>\n",
       "      <td>https://openalex.org/W2758844066</td>\n",
       "      <td>https://doi.org/10.1103/physrevd.97.055045</td>\n",
       "      <td>Vector boson fusion in the inert doublet model</td>\n",
       "    </tr>\n",
       "  </tbody>\n",
       "</table>\n",
       "</div>"
      ],
      "text/plain": [
       "                                  id  \\\n",
       "0   https://openalex.org/W2194147853   \n",
       "1   https://openalex.org/W3100627084   \n",
       "2   https://openalex.org/W3129415996   \n",
       "3   https://openalex.org/W4206129402   \n",
       "4   https://openalex.org/W1967455469   \n",
       "5   https://openalex.org/W3105890208   \n",
       "6   https://openalex.org/W2795094497   \n",
       "7   https://openalex.org/W2963957043   \n",
       "8   https://openalex.org/W2145042168   \n",
       "9   https://openalex.org/W2049677811   \n",
       "10  https://openalex.org/W2270814667   \n",
       "11  https://openalex.org/W2974772295   \n",
       "12  https://openalex.org/W2742667923   \n",
       "13  https://openalex.org/W2213304073   \n",
       "14  https://openalex.org/W2601386398   \n",
       "15  https://openalex.org/W1997257217   \n",
       "16  https://openalex.org/W2909173301   \n",
       "17  https://openalex.org/W3099738634   \n",
       "18  https://openalex.org/W1982179944   \n",
       "19  https://openalex.org/W1983406124   \n",
       "20  https://openalex.org/W3103290856   \n",
       "21  https://openalex.org/W3107028404   \n",
       "22  https://openalex.org/W1571169636   \n",
       "23  https://openalex.org/W3099207013   \n",
       "24  https://openalex.org/W3151647418   \n",
       "25  https://openalex.org/W2801044354   \n",
       "26  https://openalex.org/W3100944671   \n",
       "27  https://openalex.org/W2006971137   \n",
       "28  https://openalex.org/W2026305137   \n",
       "29  https://openalex.org/W1973186550   \n",
       "30  https://openalex.org/W2345517140   \n",
       "31  https://openalex.org/W2155117982   \n",
       "32  https://openalex.org/W1782135045   \n",
       "33  https://openalex.org/W1823984419   \n",
       "34  https://openalex.org/W3105791160   \n",
       "35  https://openalex.org/W2951068726   \n",
       "36  https://openalex.org/W2284270222   \n",
       "37  https://openalex.org/W2028315718   \n",
       "38  https://openalex.org/W2131009540   \n",
       "39  https://openalex.org/W2886932741   \n",
       "40  https://openalex.org/W2758844066   \n",
       "\n",
       "                                                  doi  \\\n",
       "0   https://doi.org/10.1016/j.nuclphysbps.2015.10.132   \n",
       "1           https://doi.org/10.1142/s0217732318500244   \n",
       "2         https://doi.org/10.1103/physrevd.103.095032   \n",
       "3     https://doi.org/10.1140/epjc/s10052-021-09918-8   \n",
       "4          https://doi.org/10.1103/physrevd.87.095010   \n",
       "5       https://doi.org/10.1016/s0370-2693(00)01067-4   \n",
       "6          https://doi.org/10.1103/physrevd.97.115032   \n",
       "7      https://doi.org/10.1016/j.physletb.2019.01.023   \n",
       "8      https://doi.org/10.1140/epjc/s10052-008-0713-4   \n",
       "9       https://doi.org/10.1088/1126-6708/2005/03/062   \n",
       "10         https://doi.org/10.1103/physrevd.93.015012   \n",
       "11        https://doi.org/10.1103/physrevd.101.035004   \n",
       "12     https://doi.org/10.1016/j.physletb.2018.01.009   \n",
       "13         https://doi.org/10.1103/physrevd.93.013012   \n",
       "14         https://doi.org/10.1103/physrevd.95.095034   \n",
       "15         https://doi.org/10.1103/physrevd.85.023523   \n",
       "16               https://doi.org/10.2139/ssrn.3136094   \n",
       "17      https://doi.org/10.1088/1475-7516/2010/10/033   \n",
       "18            https://doi.org/10.1007/jhep05(2013)046   \n",
       "19      https://doi.org/10.1088/1126-6708/2006/08/036   \n",
       "20            https://doi.org/10.1007/jhep11(2013)011   \n",
       "21               https://doi.org/10.2139/ssrn.3481925   \n",
       "22     https://doi.org/10.1140/epjc/s10052-012-1941-1   \n",
       "23            https://doi.org/10.1007/jhep04(2020)134   \n",
       "24        https://doi.org/10.1103/physrevd.104.015032   \n",
       "25         https://doi.org/10.1103/physrevd.98.055016   \n",
       "26      https://doi.org/10.1088/1126-6708/2008/05/048   \n",
       "27         https://doi.org/10.1103/physrevd.86.075001   \n",
       "28      https://doi.org/10.1088/1126-6708/2003/09/071   \n",
       "29         https://doi.org/10.1103/physrevd.82.075002   \n",
       "30         https://doi.org/10.1103/physrevd.94.033005   \n",
       "31         https://doi.org/10.1103/physrevd.92.013005   \n",
       "32         https://doi.org/10.1103/physrevd.79.013011   \n",
       "33                                               None   \n",
       "34      https://doi.org/10.1088/1475-7516/2013/04/044   \n",
       "35        https://doi.org/10.1103/physrevd.100.035029   \n",
       "36      https://doi.org/10.1088/1475-7516/2016/03/048   \n",
       "37  https://doi.org/10.1016/j.nuclphysbps.2010.03.001   \n",
       "38            https://doi.org/10.1007/jhep03(2016)162   \n",
       "39         https://doi.org/10.1103/physrevd.99.015038   \n",
       "40         https://doi.org/10.1103/physrevd.97.055045   \n",
       "\n",
       "                                                                                                                                                                                                      title  \n",
       "0                                                                                                                                         A model with a viable dark matter candidate and massive neutrinos  \n",
       "1                                                                                   Anomalous leptonic U(1) symmetry: Syndetic origin of the QCD axion, weak-scale dark matter, and radiative neutrino mass  \n",
       "2                                                                                                                                        Anomaly-free Abelian gauge symmetries with Dirac scotogenic models  \n",
       "3                                                                                                                                                  Anomaly-free Abelian gauge symmetries with Dirac seesaws  \n",
       "4                                                                                                                                                       Baryonic violation of R parity from anomalous U(1)H  \n",
       "5                                                                                                                        Bilinear R-parity Violation and Small Neutrino Masses: a Self-consistent Framework  \n",
       "6                                                                                                                                                         Bound-state dark matter and Dirac neutrino masses  \n",
       "7                                                                                                                                                           Bound-state dark matter with Majorana neutrinos  \n",
       "8                                                                                                                                                              Collider aspects of flavor physics at high Q  \n",
       "9                                                                                                                                   Collider signals of gravitino dark matter in bilinearly broken R-parity  \n",
       "10                                                                                                                                       Diboson anomaly : Heavy Higgs resonance and QCD vectorlike exotics  \n",
       "11                                                                                                                                                 Dirac neutrino mass generation from a Majorana messenger  \n",
       "12                                                                                                                                                Expanding the Reach of Heavy Neutrino Searches at the LHC  \n",
       "13                                                                                                                                                                     Fermion dark matter from SO(10) GUTs  \n",
       "14                                                                                                                                Fermionic triplet dark matter in an S O ( 10 ) -inspired left-right model  \n",
       "15                                                                                                                               Gravitino dark matter and neutrino masses with bilinear R-parity violation  \n",
       "16  Indicadores de vinculación con el entorno para Unidades de Gestión de Investigación. (Universidad de Antioquia SIU. Estudio Piloto 2004-2016) (Indicators of Linkage with the Environment for Resear...  \n",
       "17                                                                                                                              Indirect detection of gravitino dark matter including its three-body decays  \n",
       "18                                                                                                                                                                               LSP sneutrino novel decays  \n",
       "19                                                                                                                                                           Leptonic charged Higgs decays in the Zee model  \n",
       "20                                                                                                                                  Models with radiative neutrino masses and viable dark matter candidates  \n",
       "21                                                    Métricas de Vinculación Universidad-Entorno: Universidad de Antioquia (Metrics for University Linkage with the Environment: Universidad De Antioquia)  \n",
       "22                                                                                                                                                      Neutrino masses in SU(5)×U(1)F with adjoint flavons  \n",
       "23                                                                                                                                     Phenomenological consistency of the singlet-triplet scotogenic model  \n",
       "24                                                                                                                     Phenomenology of the Zee model for Dirac neutrinos and general neutrino interactions  \n",
       "25                                                                                                    Probing a simplified W ′ model of R ( D ( * ) ) anomalies using b tags, τ leptons, and missing energy  \n",
       "26                                                                                                                                              Probing bilinear R-parity violating supergravity at the LHC  \n",
       "27              Probing neutralino properties in minimal supergravity with bilinear<mml:math xmlns:mml=\"http://www.w3.org/1998/Math/MathML\" display=\"inline\"><mml:mi>R</mml:mi></mml:math>-parity violation  \n",
       "28                                                                                               Probing neutrino mass with multilepton production at the Tevatron in the simplest R-parity violation model  \n",
       "29                                                                                                                      Probing neutrino oscillations in supersymmetric models at the Large Hadron Collider  \n",
       "30                                                                                                                                           Radiative Type III Seesaw Model and its collider phenomenology  \n",
       "31                                                                                                          Radiative neutrino masses in the singlet-doublet fermion dark matter model with scalar singlets  \n",
       "32                                                                                                      Radiative seesaw model : warm dark matter, collider signatures, and lepton flavor violating signals  \n",
       "33                                                                                                                            Salud mental en víctimas de la violencia armada en Bojayá (Chocó, Colombia) 1  \n",
       "34                                                                                                                             Scalar dark matter and fermion coannihilations in the radiative seesaw model  \n",
       "35                                                                                                                                                    Singlet-doublet Dirac dark matter and neutrino masses  \n",
       "36                                                                                                   The Fermi-LAT gamma-ray excess at the Galactic Center in the singlet-doublet fermion dark matter model  \n",
       "37                                                                                                                                                    The Hunt for New Physics at the Large Hadron Collider  \n",
       "38                                                                                                                                                                                      The inert Zee model  \n",
       "39  Two-component dark matter and a massless neutrino in a new <mml:math xmlns:mml=\"http://www.w3.org/1998/Math/MathML\" display=\"inline\"><mml:mi>B</mml:mi><mml:mo>−</mml:mo><mml:mi>L</mml:mi></mml:mat...  \n",
       "40                                                                                                                                                           Vector boson fusion in the inert doublet model  "
      ]
     },
     "execution_count": 48,
     "metadata": {},
     "output_type": "execute_result"
    }
   ],
   "source": [
    "pd.set_option('display.max_colwidth',200)\n",
    "pd.DataFrame(DR)[['id','doi','title']].sort_values('title').drop_duplicates(subset=['title']).reset_index(drop=True)"
   ]
  },
  {
   "cell_type": "code",
   "execution_count": 49,
   "id": "71f2c436-c5f9-49c6-9783-978d496465b3",
   "metadata": {},
   "outputs": [],
   "source": [
    "f=open('openalexco_A2306595523.json','w')\n",
    "json.dump(DR,f)\n",
    "f.close()"
   ]
  },
  {
   "cell_type": "code",
   "execution_count": 50,
   "id": "3bdfb640-68f1-49bc-a8f2-8d9f728f88e1",
   "metadata": {},
   "outputs": [],
   "source": [
    "f=open('openalexco_A2306595523.json','r')\n",
    "DR=json.load(f)\n",
    "f.close()"
   ]
  },
  {
   "cell_type": "code",
   "execution_count": 51,
   "id": "8d6cdfcc-94bf-442f-bb76-fd2fa094ba49",
   "metadata": {},
   "outputs": [
    {
     "data": {
      "text/plain": [
       "[73, 42, 2, 22, 19, 32, 4, 4]"
      ]
     },
     "execution_count": 51,
     "metadata": {},
     "output_type": "execute_result"
    }
   ],
   "source": [
    "[x.get('cited_by_count') for x in DR][35:]"
   ]
  },
  {
   "cell_type": "code",
   "execution_count": 52,
   "id": "e8a9ba8e-88a8-4e34-b0b3-18a8f195704e",
   "metadata": {},
   "outputs": [
    {
     "data": {
      "application/json": {
       "alternate_host_venues": [
        {
         "display_name": null,
         "id": null,
         "is_oa": true,
         "license": "cc-by-nc-nd",
         "type": "repository",
         "url": "https://bibliotecadigital.udea.edu.co/bitstream/10495/8371/1/RestrepoDiego_2009_RadiativeSeesawModel.pdf",
         "version": "submittedVersion"
        },
        {
         "display_name": "arXiv",
         "id": null,
         "is_oa": true,
         "license": null,
         "type": "repository",
         "url": "http://arxiv.org/pdf/0808.3340",
         "version": "submittedVersion"
        },
        {
         "display_name": "arXiv",
         "id": null,
         "is_oa": true,
         "license": null,
         "type": "repository",
         "url": "https://arxiv.org/abs/0808.3340",
         "version": "submittedVersion"
        }
       ],
       "authorships": [
        {
         "author": {
          "display_name": "D. Aristizabal Sierra",
          "id": "https://openalex.org/A2883553880",
          "orcid": null
         },
         "author_position": "first",
         "institutions": [
          {
           "country_code": "IT",
           "display_name": "National Laboratory of Frascati",
           "id": "https://openalex.org/I4210142660",
           "ror": "https://ror.org/049jf1a25",
           "type": "facility"
          }
         ],
         "raw_affiliation_string": "INFN, Laboratori Nazionali di Frascati, C.P. 13, I00044 Frascati, Italy"
        },
        {
         "author": {
          "display_name": "Jisuke Kubo",
          "id": "https://openalex.org/A2158297496",
          "orcid": "https://orcid.org/0000-0003-2211-4685"
         },
         "author_position": "middle",
         "institutions": [
          {
           "country_code": "JP",
           "display_name": "Kanazawa University",
           "id": "https://openalex.org/I10091056",
           "ror": "https://ror.org/02hwp6a56",
           "type": "education"
          }
         ],
         "raw_affiliation_string": "Institute for Theoretical Physics, Kanazawa University, 920-1192, Kanazawa, Japan"
        },
        {
         "author": {
          "display_name": "Daijiro Suematsu",
          "id": "https://openalex.org/A153157061",
          "orcid": "https://orcid.org/0000-0002-7427-7147"
         },
         "author_position": "middle",
         "institutions": [
          {
           "country_code": "JP",
           "display_name": "Kanazawa University",
           "id": "https://openalex.org/I10091056",
           "ror": "https://ror.org/02hwp6a56",
           "type": "education"
          }
         ],
         "raw_affiliation_string": "Institute for Theoretical Physics, Kanazawa University, 920-1192, Kanazawa, Japan"
        },
        {
         "author": {
          "display_name": "Diego Restrepo",
          "id": "https://openalex.org/A2306595523",
          "orcid": "https://orcid.org/0000-0001-6455-5564"
         },
         "author_position": "middle",
         "institutions": [
          {
           "country_code": "CO",
           "display_name": "University of Antioquia",
           "id": "https://openalex.org/I35961687",
           "ror": "https://ror.org/03bp5hc83",
           "type": "education"
          }
         ],
         "raw_affiliation_string": "Instituto de Física, Universidad de Antioquia, A. A. 1226 Medellín, Colombia"
        },
        {
         "author": {
          "display_name": "Óscar Zapata",
          "id": "https://openalex.org/A2047011875",
          "orcid": "https://orcid.org/0000-0001-5533-4014"
         },
         "author_position": "last",
         "institutions": [
          {
           "country_code": "CO",
           "display_name": "University of Antioquia",
           "id": "https://openalex.org/I35961687",
           "ror": "https://ror.org/03bp5hc83",
           "type": "education"
          }
         ],
         "raw_affiliation_string": "Instituto de Física, Universidad de Antioquia, A. A. 1226 Medellín, Colombia"
        }
       ],
       "biblio": {
        "first_page": "013011",
        "issue": "1",
        "last_page": null,
        "volume": "79"
       },
       "cited_by_api_url": "https://api.openalex.org/works?filter=cites:W1782135045",
       "cited_by_count": 73,
       "concepts": [
        {
         "display_name": "Physics",
         "id": "https://openalex.org/C121332964",
         "level": 0,
         "score": "0.95909107",
         "wikidata": "https://www.wikidata.org/wiki/Q413"
        },
        {
         "display_name": "Particle physics",
         "id": "https://openalex.org/C109214941",
         "level": 1,
         "score": "0.8822484",
         "wikidata": "https://www.wikidata.org/wiki/Q18334"
        },
        {
         "display_name": "Neutrino",
         "id": "https://openalex.org/C186453547",
         "level": 2,
         "score": "0.7204515",
         "wikidata": "https://www.wikidata.org/wiki/Q2126"
        },
        {
         "display_name": "Seesaw mechanism",
         "id": "https://openalex.org/C2780709505",
         "level": 4,
         "score": "0.64605165",
         "wikidata": "https://www.wikidata.org/wiki/Q1094257"
        },
        {
         "display_name": "Dark matter",
         "id": "https://openalex.org/C159249277",
         "level": 2,
         "score": "0.599211",
         "wikidata": "https://www.wikidata.org/wiki/Q79925"
        },
        {
         "display_name": "Electroweak scale",
         "id": "https://openalex.org/C2781073886",
         "level": 3,
         "score": "0.57897437",
         "wikidata": "https://www.wikidata.org/wiki/Q5358589"
        },
        {
         "display_name": "Physics beyond the Standard Model",
         "id": "https://openalex.org/C184748400",
         "level": 2,
         "score": "0.5720657",
         "wikidata": "https://www.wikidata.org/wiki/Q2599934"
        },
        {
         "display_name": "Higgs boson",
         "id": "https://openalex.org/C158129726",
         "level": 2,
         "score": "0.5520058",
         "wikidata": "https://www.wikidata.org/wiki/Q402"
        },
        {
         "display_name": "Lepton",
         "id": "https://openalex.org/C179203047",
         "level": 3,
         "score": "0.5481244",
         "wikidata": "https://www.wikidata.org/wiki/Q82586"
        },
        {
         "display_name": "Sterile neutrino",
         "id": "https://openalex.org/C103193775",
         "level": 4,
         "score": "0.5283887",
         "wikidata": "https://www.wikidata.org/wiki/Q1339405"
        },
        {
         "display_name": "Lepton number",
         "id": "https://openalex.org/C108243489",
         "level": 4,
         "score": "0.5069518",
         "wikidata": "https://www.wikidata.org/wiki/Q174012"
        },
        {
         "display_name": "MAJORANA",
         "id": "https://openalex.org/C2778761060",
         "level": 3,
         "score": "0.4781959",
         "wikidata": "https://www.wikidata.org/wiki/Q6714234"
        },
        {
         "display_name": "Standard Model (mathematical formulation)",
         "id": "https://openalex.org/C101454708",
         "level": 3,
         "score": "0.4466939",
         "wikidata": "https://www.wikidata.org/wiki/Q17106019"
        }
       ],
       "counts_by_year": [
        {
         "cited_by_count": 3,
         "year": 2022
        },
        {
         "cited_by_count": 5,
         "year": 2021
        },
        {
         "cited_by_count": 2,
         "year": 2020
        },
        {
         "cited_by_count": 5,
         "year": 2019
        },
        {
         "cited_by_count": 7,
         "year": 2018
        },
        {
         "cited_by_count": 6,
         "year": 2017
        },
        {
         "cited_by_count": 7,
         "year": 2016
        },
        {
         "cited_by_count": 8,
         "year": 2015
        },
        {
         "cited_by_count": 3,
         "year": 2014
        },
        {
         "cited_by_count": 2,
         "year": 2013
        },
        {
         "cited_by_count": 7,
         "year": 2012
        }
       ],
       "created_date": "2016-06-24",
       "display_name": "Radiative seesaw model : warm dark matter, collider signatures, and lepton flavor violating signals",
       "doi": "https://doi.org/10.1103/physrevd.79.013011",
       "host_venue": {
        "display_name": "Physical Review D",
        "id": "https://openalex.org/V133490392",
        "is_oa": true,
        "issn": null,
        "issn_l": null,
        "license": "cc-by-nc-nd",
        "publisher": "American Physical Society",
        "type": "repository",
        "url": "https://doi.org/10.1103/physrevd.79.013011",
        "version": "submittedVersion"
       },
       "id": "https://openalex.org/W1782135045",
       "ids": {
        "doi": "https://doi.org/10.1103/physrevd.79.013011",
        "mag": "1782135045",
        "openalex": "https://openalex.org/W1782135045"
       },
       "is_paratext": false,
       "is_retracted": false,
       "mesh": [],
       "open_access": {
        "is_oa": true,
        "oa_status": "green",
        "oa_url": "http://arxiv.org/pdf/0808.3340"
       },
       "publication_date": "2009-01-28",
       "publication_year": 2009,
       "referenced_works": [
        "https://openalex.org/W1489445685",
        "https://openalex.org/W1778491405",
        "https://openalex.org/W1801815847",
        "https://openalex.org/W1830888505",
        "https://openalex.org/W1975587971",
        "https://openalex.org/W1983406124",
        "https://openalex.org/W1983987483",
        "https://openalex.org/W1991742004",
        "https://openalex.org/W2003215752",
        "https://openalex.org/W2005750815",
        "https://openalex.org/W2009083897",
        "https://openalex.org/W2011183404",
        "https://openalex.org/W2012433125",
        "https://openalex.org/W2028608712",
        "https://openalex.org/W2041558568",
        "https://openalex.org/W2043333025",
        "https://openalex.org/W2045135295",
        "https://openalex.org/W2045402092",
        "https://openalex.org/W2049981267",
        "https://openalex.org/W2053289251",
        "https://openalex.org/W2061936371",
        "https://openalex.org/W2064311907",
        "https://openalex.org/W2065980009",
        "https://openalex.org/W2068910222",
        "https://openalex.org/W2081194465",
        "https://openalex.org/W2081498795",
        "https://openalex.org/W2088157505",
        "https://openalex.org/W2088974938",
        "https://openalex.org/W2089681810",
        "https://openalex.org/W2095815431",
        "https://openalex.org/W2105115054",
        "https://openalex.org/W2118488783",
        "https://openalex.org/W2119138090",
        "https://openalex.org/W2119359853",
        "https://openalex.org/W2120596821",
        "https://openalex.org/W2123578256",
        "https://openalex.org/W2130516668",
        "https://openalex.org/W2134803267",
        "https://openalex.org/W2138296936",
        "https://openalex.org/W2138874905",
        "https://openalex.org/W2142712327",
        "https://openalex.org/W2142940338",
        "https://openalex.org/W2145236885",
        "https://openalex.org/W2150480596",
        "https://openalex.org/W2151403163",
        "https://openalex.org/W2154748230",
        "https://openalex.org/W2155976193",
        "https://openalex.org/W2158398454",
        "https://openalex.org/W2159559096",
        "https://openalex.org/W2159617645",
        "https://openalex.org/W2166252135",
        "https://openalex.org/W2172076344",
        "https://openalex.org/W2175863055",
        "https://openalex.org/W2594808321"
       ],
       "related_works": [
        "https://openalex.org/W1489445685",
        "https://openalex.org/W1502259727",
        "https://openalex.org/W1801815847",
        "https://openalex.org/W1982836279",
        "https://openalex.org/W1983987483",
        "https://openalex.org/W2012433125",
        "https://openalex.org/W2016310977",
        "https://openalex.org/W2061936371",
        "https://openalex.org/W2070529464",
        "https://openalex.org/W2098260542",
        "https://openalex.org/W2109690044",
        "https://openalex.org/W2123578256",
        "https://openalex.org/W2123584575",
        "https://openalex.org/W2134803267",
        "https://openalex.org/W2136821211",
        "https://openalex.org/W2145992225",
        "https://openalex.org/W2166252135",
        "https://openalex.org/W3098818540",
        "https://openalex.org/W3099064977",
        "https://openalex.org/W3100142081"
       ],
       "title": "Radiative seesaw model : warm dark matter, collider signatures, and lepton flavor violating signals",
       "type": "journal-article",
       "updated_date": "2022-08-06T09:32:44.695978"
      },
      "text/plain": [
       "<IPython.core.display.JSON object>"
      ]
     },
     "execution_count": 52,
     "metadata": {
      "application/json": {
       "expanded": false,
       "root": "root"
      }
     },
     "output_type": "execute_result"
    }
   ],
   "source": [
    "JSON(DR[35])"
   ]
  },
  {
   "cell_type": "code",
   "execution_count": 53,
   "id": "953ed36a-ae5f-4977-8ea9-f71d07a26ae3",
   "metadata": {},
   "outputs": [],
   "source": [
    "def order_concepts(l):\n",
    "    c=[]\n",
    "    for i in range(5):\n",
    "        for d in l:\n",
    "            if d.get('level')==i:\n",
    "                c.append(f\"{d.get('level')}-{d.get('display_name')}\")\n",
    "    return c"
   ]
  },
  {
   "cell_type": "code",
   "execution_count": 54,
   "id": "5209ce17-069e-483d-a3b4-f43435a162d6",
   "metadata": {},
   "outputs": [],
   "source": [
    "pd.set_option('display.max_colwidth',300)"
   ]
  },
  {
   "cell_type": "code",
   "execution_count": 55,
   "id": "04cef60c-5bea-4a95-9f99-77d8213067ab",
   "metadata": {},
   "outputs": [],
   "source": [
    "DRdf=pd.DataFrame(DR)"
   ]
  },
  {
   "cell_type": "code",
   "execution_count": 56,
   "id": "ea7762cd-56a9-4436-b92d-e24ddf02c22f",
   "metadata": {},
   "outputs": [],
   "source": [
    "DRdf['c']=DRdf.concepts.apply(order_concepts)"
   ]
  },
  {
   "cell_type": "code",
   "execution_count": 57,
   "id": "c890a465-9c73-467a-bdff-d062218dfde4",
   "metadata": {},
   "outputs": [
    {
     "data": {
      "text/html": [
       "<div>\n",
       "<style scoped>\n",
       "    .dataframe tbody tr th:only-of-type {\n",
       "        vertical-align: middle;\n",
       "    }\n",
       "\n",
       "    .dataframe tbody tr th {\n",
       "        vertical-align: top;\n",
       "    }\n",
       "\n",
       "    .dataframe thead th {\n",
       "        text-align: right;\n",
       "    }\n",
       "</style>\n",
       "<table border=\"1\" class=\"dataframe\">\n",
       "  <thead>\n",
       "    <tr style=\"text-align: right;\">\n",
       "      <th></th>\n",
       "      <th>title</th>\n",
       "      <th>c</th>\n",
       "    </tr>\n",
       "  </thead>\n",
       "  <tbody>\n",
       "    <tr>\n",
       "      <th>0</th>\n",
       "      <td>Anomaly-free Abelian gauge symmetries with Dirac seesaws</td>\n",
       "      <td>[0-Physics, 1-Particle physics, 1-Theoretical physics, 2-Anomaly (physics), 2-Homogeneous space, 2-Neutrino, 2-Massless particle, 2-Physics beyond the Standard Model, 2-Symmetry (geometry), 3-Gauge symmetry, 3-Standard Model (mathematical formulation), 4-Seesaw mechanism, 4-Gauge anomaly]</td>\n",
       "    </tr>\n",
       "    <tr>\n",
       "      <th>2</th>\n",
       "      <td>Phenomenology of the Zee model for Dirac neutrinos and general neutrino interactions</td>\n",
       "      <td>[0-Physics, 1-Particle physics, 2-Neutrino, 2-Phenomenology (philosophy), 2-Physics beyond the Standard Model, 3-Neutrino oscillation, 3-Lepton, 3-Standard Model (mathematical formulation), 3-Dirac (video compression format), 4-Sterile neutrino, 4-Solar neutrino]</td>\n",
       "    </tr>\n",
       "    <tr>\n",
       "      <th>3</th>\n",
       "      <td>Anomaly-free Abelian gauge symmetries with Dirac scotogenic models</td>\n",
       "      <td>[0-Physics, 1-Particle physics, 1-Theoretical physics, 1-Mathematical physics, 2-Anomaly (physics), 2-Massless particle, 2-Neutrino, 3-Dirac fermion, 3-Gauge symmetry, 3-Standard Model (mathematical formulation), 4-Gauge anomaly]</td>\n",
       "    </tr>\n",
       "    <tr>\n",
       "      <th>4</th>\n",
       "      <td>Phenomenological consistency of the singlet-triplet scotogenic model</td>\n",
       "      <td>[0-Physics, 1-Particle physics, 1-Nuclear physics, 2-Dark matter, 2-Neutrino, 2-Annihilation, 2-Parameter space, 2-Fermi Gamma-ray Space Telescope, 2-Nucleon, 2-Physics beyond the Standard Model, 3-Lepton, 3-Standard Model (mathematical formulation), 3-Singlet state]</td>\n",
       "    </tr>\n",
       "    <tr>\n",
       "      <th>5</th>\n",
       "      <td>Dirac neutrino mass generation from a Majorana messenger</td>\n",
       "      <td>[0-Physics, 1-Particle physics, 2-Neutrino, 3-MAJORANA, 3-Dirac (video compression format)]</td>\n",
       "    </tr>\n",
       "    <tr>\n",
       "      <th>6</th>\n",
       "      <td>Métricas de Vinculación Universidad-Entorno: Universidad de Antioquia (Metrics for University Linkage with the Environment: Universidad De Antioquia)</td>\n",
       "      <td>[0-Geography, 1-Humanities, 1-Cartography]</td>\n",
       "    </tr>\n",
       "    <tr>\n",
       "      <th>7</th>\n",
       "      <td>Singlet-doublet Dirac dark matter and neutrino masses</td>\n",
       "      <td>[0-Physics, 1-Particle physics, 2-Neutrino, 2-Dark matter, 2-Fermion, 3-Dirac (video compression format), 3-Lepton, 3-Neutrino oscillation]</td>\n",
       "    </tr>\n",
       "    <tr>\n",
       "      <th>8</th>\n",
       "      <td>Two-component dark matter and a massless neutrino in a new &lt;mml:math xmlns:mml=\"http://www.w3.org/1998/Math/MathML\" display=\"inline\"&gt;&lt;mml:mi&gt;B&lt;/mml:mi&gt;&lt;mml:mo&gt;−&lt;/mml:mo&gt;&lt;mml:mi&gt;L&lt;/mml:mi&gt;&lt;/mml:math&gt; model</td>\n",
       "      <td>[0-Physics, 1-Particle physics, 1-Nuclear physics, 2-Massless particle, 2-Neutrino, 2-Dark matter, 2-Component (thermodynamics)]</td>\n",
       "    </tr>\n",
       "    <tr>\n",
       "      <th>9</th>\n",
       "      <td>Bound-state dark matter with Majorana neutrinos</td>\n",
       "      <td>[0-Physics, 1-Particle physics, 2-Neutrino, 2-Dark matter, 2-Fermion, 2-Bound state, 3-MAJORANA, 3-Neutrino oscillation, 3-Lepton, 4-Sterile neutrino]</td>\n",
       "    </tr>\n",
       "    <tr>\n",
       "      <th>10</th>\n",
       "      <td>Probing a simplified W ′ model of R ( D ( * ) ) anomalies using b tags, τ leptons, and missing energy</td>\n",
       "      <td>[0-Physics, 1-Particle physics, 1-Nuclear physics, 2-Quark, 2-Large Hadron Collider, 2-Charm (quantum number), 2-Sensitivity (control systems), 2-Meson, 3-Lepton, 3-Charm quark, 3-B meson, 4-Missing energy]</td>\n",
       "    </tr>\n",
       "    <tr>\n",
       "      <th>12</th>\n",
       "      <td>Bound-state dark matter and Dirac neutrino masses</td>\n",
       "      <td>[0-Physics, 1-Particle physics, 1-Nuclear physics, 2-Neutrino, 2-Dark matter, 3-Dirac (video compression format), 4-Sterile neutrino]</td>\n",
       "    </tr>\n",
       "    <tr>\n",
       "      <th>13</th>\n",
       "      <td>Vector boson fusion in the inert doublet model</td>\n",
       "      <td>[1-Nuclear physics, 2-Boson, 2-Annihilation]</td>\n",
       "    </tr>\n",
       "    <tr>\n",
       "      <th>14</th>\n",
       "      <td>Expanding the Reach of Heavy Neutrino Searches at the LHC</td>\n",
       "      <td>[0-Physics, 1-Particle physics, 1-Nuclear physics, 2-Neutrino, 2-Physics beyond the Standard Model, 2-Large Hadron Collider, 2-Context (archaeology), 2-Muon, 3-MAJORANA, 3-Lepton, 3-Standard Model (mathematical formulation), 3-Compact Muon Solenoid, 4-Sterile neutrino]</td>\n",
       "    </tr>\n",
       "    <tr>\n",
       "      <th>15</th>\n",
       "      <td>Anomalous leptonic U(1) symmetry: Syndetic origin of the QCD axion, weak-scale dark matter, and radiative neutrino mass</td>\n",
       "      <td>[0-Physics, 1-Particle physics, 2-Neutrino, 2-Dark matter, 2-Quantum chromodynamics, 2-Quark, 2-Fermion, 2-Scalar (mathematics), 3-Axion, 3-Lepton, 3-Standard Model (mathematical formulation), 4-Sterile neutrino, 4-Lepton number]</td>\n",
       "    </tr>\n",
       "    <tr>\n",
       "      <th>16</th>\n",
       "      <td>Indicadores de vinculación con el entorno para Unidades de Gestión de Investigación. (Universidad de Antioquia SIU. Estudio Piloto 2004-2016) (Indicators of Linkage with the Environment for Research Management Units. (Universidad de Antioquia SIU. Pilot Study 2004-2016))</td>\n",
       "      <td>[0-Political science, 0-Geography, 1-Humanities, 1-Library science]</td>\n",
       "    </tr>\n",
       "    <tr>\n",
       "      <th>17</th>\n",
       "      <td>Fermionic triplet dark matter in an S O ( 10 ) -inspired left-right model</td>\n",
       "      <td>[0-Physics, 1-Particle physics, 2-Dark matter, 2-Fermion]</td>\n",
       "    </tr>\n",
       "    <tr>\n",
       "      <th>18</th>\n",
       "      <td>Radiative Type III Seesaw Model and its collider phenomenology</td>\n",
       "      <td>[0-Physics, 1-Particle physics, 1-Nuclear physics, 2-Yukawa potential, 2-Dark matter, 2-Fermion, 2-Physics beyond the Standard Model, 2-Higgs boson, 2-Neutrino, 2-Boson, 2-Muon, 2-Supersymmetry, 2-Large Hadron Collider, 3-Seesaw molecular geometry, 3-Lepton, 4-Chargino, 4-Lepton number]</td>\n",
       "    </tr>\n",
       "    <tr>\n",
       "      <th>19</th>\n",
       "      <td>The inert Zee model</td>\n",
       "      <td>[0-Physics, 1-Particle physics, 1-Theoretical physics, 2-Fermion, 2-Neutrino, 2-Realization (probability), 2-Higgs boson, 2-Symmetry (geometry), 2-Dark matter, 2-Oscillation (cell signaling), 2-Physics beyond the Standard Model, 3-Lepton, 3-Neutrino oscillation, 3-Mass generation, 4-Lepton number]</td>\n",
       "    </tr>\n",
       "    <tr>\n",
       "      <th>20</th>\n",
       "      <td>The Fermi-LAT gamma-ray excess at the Galactic Center in the singlet-doublet fermion dark matter model</td>\n",
       "      <td>[0-Physics, 1-Astrophysics, 1-Particle physics, 2-Dark matter, 2-Fermion, 2-Gamma ray, 2-Fermi Gamma-ray Space Telescope, 3-Galactic Center, 3-Singlet state]</td>\n",
       "    </tr>\n",
       "    <tr>\n",
       "      <th>21</th>\n",
       "      <td>Diboson anomaly : Heavy Higgs resonance and QCD vectorlike exotics</td>\n",
       "      <td>[0-Physics, 1-Particle physics, 1-Nuclear physics, 2-Higgs boson, 2-Quantum chromodynamics, 2-Invariant mass, 2-Physics beyond the Standard Model, 2-Anomaly (physics), 2-Atlas (anatomy), 3-Gauge boson, 3-Standard Model (mathematical formulation)]</td>\n",
       "    </tr>\n",
       "    <tr>\n",
       "      <th>22</th>\n",
       "      <td>Fermion dark matter from SO(10) GUTs</td>\n",
       "      <td>[0-Physics, 1-Particle physics, 2-Dark matter, 2-Fermion, 2-Neutrino, 2-Physics beyond the Standard Model, 2-Higgs boson, 3-Standard Model (mathematical formulation)]</td>\n",
       "    </tr>\n",
       "    <tr>\n",
       "      <th>23</th>\n",
       "      <td>A model with a viable dark matter candidate and massive neutrinos</td>\n",
       "      <td>[0-Physics, 1-Particle physics, 2-Neutrino, 2-Dark matter, 2-Fermion, 2-Parameter space, 2-Physics beyond the Standard Model, 2-Scalar (mathematics), 3-Lepton, 3-Parametrization (atmospheric modeling), 4-Sterile neutrino]</td>\n",
       "    </tr>\n",
       "    <tr>\n",
       "      <th>24</th>\n",
       "      <td>Radiative neutrino masses in the singlet-doublet fermion dark matter model with scalar singlets</td>\n",
       "      <td>[0-Physics, 1-Particle physics, 2-Fermion, 2-Neutrino, 2-Dark matter, 2-Scalar (mathematics), 2-Physics beyond the Standard Model, 3-Singlet state, 3-Standard Model (mathematical formulation)]</td>\n",
       "    </tr>\n",
       "    <tr>\n",
       "      <th>25</th>\n",
       "      <td>Models with radiative neutrino masses and viable dark matter candidates</td>\n",
       "      <td>[0-Physics, 1-Particle physics, 2-Dark matter, 2-Neutrino, 2-Physics beyond the Standard Model, 2-Fermion, 2-Large Hadron Collider, 2-Scalar (mathematics), 3-Standard Model (mathematical formulation), 4-Sterile neutrino, 4-Leptoquark]</td>\n",
       "    </tr>\n",
       "    <tr>\n",
       "      <th>26</th>\n",
       "      <td>Baryonic violation of R parity from anomalous U(1)H</td>\n",
       "      <td>[0-Physics, 1-Particle physics, 1-Nuclear physics, 2-Parity (physics), 2-Neutrino, 2-Supersymmetry, 2-CP violation, 2-Baryon, 2-Physics beyond the Standard Model, 3-R-parity, 3-MAJORANA, 3-Proton decay, 3-Baryon number, 4-Lepton number]</td>\n",
       "    </tr>\n",
       "    <tr>\n",
       "      <th>27</th>\n",
       "      <td>LSP sneutrino novel decays</td>\n",
       "      <td>[0-Physics, 1-Particle physics, 2-Supersymmetry, 2-Neutrino, 2-Dark matter, 2-Higgs boson, 2-Physics beyond the Standard Model, 3-Neutralino, 3-Minimal Supersymmetric Standard Model, 3-Superpartner, 3-Standard Model (mathematical formulation), 3-Lepton, 3-Gaugino, 4-Lightest Supersymmetric Parti...</td>\n",
       "    </tr>\n",
       "    <tr>\n",
       "      <th>28</th>\n",
       "      <td>Scalar dark matter and fermion coannihilations in the radiative seesaw model</td>\n",
       "      <td>[0-Physics, 1-Particle physics, 2-Dark matter, 2-Neutrino, 2-Fermion, 2-Parameter space, 2-Scalar (mathematics), 2-Physics beyond the Standard Model, 3-Seesaw molecular geometry, 3-Standard Model (mathematical formulation), 4-Scalar field dark matter, 4-Sterile neutrino]</td>\n",
       "    </tr>\n",
       "    <tr>\n",
       "      <th>29</th>\n",
       "      <td>Probing neutralino properties in minimal supergravity with bilinear&lt;mml:math xmlns:mml=\"http://www.w3.org/1998/Math/MathML\" display=\"inline\"&gt;&lt;mml:mi&gt;R&lt;/mml:mi&gt;&lt;/mml:math&gt;-parity violation</td>\n",
       "      <td>[0-Physics, 1-Particle physics, 1-Nuclear physics, 2-Neutrino, 2-Supersymmetry, 2-Large Hadron Collider, 3-R-parity, 3-Supergravity, 3-Neutralino, 3-Minimal Supersymmetric Standard Model, 3-Neutrino oscillation, 4-Lightest Supersymmetric Particle]</td>\n",
       "    </tr>\n",
       "    <tr>\n",
       "      <th>30</th>\n",
       "      <td>Neutrino masses in SU(5)×U(1)F with adjoint flavons</td>\n",
       "      <td>[0-Physics, 1-Particle physics, 2-Neutrino, 2-Yukawa potential, 2-Homogeneous space, 2-Universality (dynamical systems), 2-Symmetry group, 3-MAJORANA, 3-Lepton, 3-Mass matrix, 3-Seesaw molecular geometry, 4-Seesaw mechanism]</td>\n",
       "    </tr>\n",
       "    <tr>\n",
       "      <th>31</th>\n",
       "      <td>Gravitino dark matter and neutrino masses with bilinear R-parity violation</td>\n",
       "      <td>[0-Physics, 1-Particle physics, 1-Nuclear physics, 2-Neutrino, 2-Dark matter, 3-R-parity, 4-Gravitino]</td>\n",
       "    </tr>\n",
       "    <tr>\n",
       "      <th>32</th>\n",
       "      <td>Probing neutrino oscillations in supersymmetric models at the Large Hadron Collider</td>\n",
       "      <td>[0-Physics, 1-Particle physics, 1-Nuclear physics, 2-Large Hadron Collider, 2-Neutrino, 2-Supersymmetry, 3-R-parity, 3-Neutrino oscillation, 3-Minimal Supersymmetric Standard Model, 4-Lightest Supersymmetric Particle, 4-Missing energy]</td>\n",
       "    </tr>\n",
       "    <tr>\n",
       "      <th>33</th>\n",
       "      <td>Indirect detection of gravitino dark matter including its three-body decays</td>\n",
       "      <td>[0-Physics, 1-Particle physics, 1-Nuclear physics, 2-Dark matter, 2-Neutrino, 2-Fermi Gamma-ray Space Telescope, 3-Lepton, 3-R-parity, 4-Gravitino, 4-Antimatter]</td>\n",
       "    </tr>\n",
       "    <tr>\n",
       "      <th>34</th>\n",
       "      <td>The Hunt for New Physics at the Large Hadron Collider</td>\n",
       "      <td>[0-Physics, 1-Particle physics, 1-Nuclear physics, 2-Physics beyond the Standard Model, 2-Large Hadron Collider, 2-Supersymmetry, 2-Electroweak interaction, 2-Extra dimensions, 2-Dark matter, 3-Hierarchy problem]</td>\n",
       "    </tr>\n",
       "    <tr>\n",
       "      <th>35</th>\n",
       "      <td>Radiative seesaw model : warm dark matter, collider signatures, and lepton flavor violating signals</td>\n",
       "      <td>[0-Physics, 1-Particle physics, 2-Neutrino, 2-Dark matter, 2-Physics beyond the Standard Model, 2-Higgs boson, 3-Electroweak scale, 3-Lepton, 3-MAJORANA, 3-Standard Model (mathematical formulation), 4-Seesaw mechanism, 4-Sterile neutrino, 4-Lepton number]</td>\n",
       "    </tr>\n",
       "    <tr>\n",
       "      <th>36</th>\n",
       "      <td>Collider aspects of flavor physics at high Q</td>\n",
       "      <td>[0-Physics, 1-Particle physics, 2-Large Hadron Collider, 2-Higgs boson, 2-Physics beyond the Standard Model, 2-Flavor, 2-Supersymmetry, 2-Collider, 2-Quark, 3-Standard Model (mathematical formulation)]</td>\n",
       "    </tr>\n",
       "    <tr>\n",
       "      <th>37</th>\n",
       "      <td>Probing bilinear R-parity violating supergravity at the LHC</td>\n",
       "      <td>[0-Physics, 1-Particle physics, 2-Supersymmetry, 2-Neutrino, 2-Large Hadron Collider, 2-Parity (physics), 2-Phenomenology (philosophy), 3-R-parity, 3-Supergravity, 3-Minimal Supersymmetric Standard Model, 3-Lepton, 4-Lepton number, 4-Lightest Supersymmetric Particle]</td>\n",
       "    </tr>\n",
       "    <tr>\n",
       "      <th>38</th>\n",
       "      <td>Leptonic charged Higgs decays in the Zee model</td>\n",
       "      <td>[0-Physics, 1-Particle physics, 1-Nuclear physics, 2-Higgs boson, 2-Parameter space, 2-Neutrino, 2-Physics beyond the Standard Model, 3-Lepton, 3-Standard Model (mathematical formulation)]</td>\n",
       "    </tr>\n",
       "    <tr>\n",
       "      <th>39</th>\n",
       "      <td>Salud mental en víctimas de la violencia armada en Bojayá (Chocó, Colombia) 1</td>\n",
       "      <td>[0-Psychology, 0-Political science, 2-Mental health]</td>\n",
       "    </tr>\n",
       "    <tr>\n",
       "      <th>40</th>\n",
       "      <td>Collider signals of gravitino dark matter in bilinearly broken R-parity</td>\n",
       "      <td>[0-Physics, 1-Particle physics, 1-Nuclear physics, 2-Dark matter, 2-Supersymmetry, 2-Neutrino, 3-R-parity, 3-Neutralino, 3-Supersymmetry breaking, 3-Minimal Supersymmetric Standard Model, 3-Gaugino, 4-Gravitino, 4-Lightest Supersymmetric Particle]</td>\n",
       "    </tr>\n",
       "    <tr>\n",
       "      <th>41</th>\n",
       "      <td>Probing neutrino mass with multilepton production at the Tevatron in the simplest R-parity violation model</td>\n",
       "      <td>[0-Physics, 1-Particle physics, 1-Nuclear physics, 2-Neutrino, 2-Fermilab, 2-Supersymmetry, 2-Parity (physics), 2-Parameter space, 2-Phenomenology (philosophy), 3-R-parity, 3-Tevatron, 3-Supergravity, 4-Lightest Supersymmetric Particle]</td>\n",
       "    </tr>\n",
       "    <tr>\n",
       "      <th>42</th>\n",
       "      <td>Bilinear R-parity Violation and Small Neutrino Masses: a Self-consistent Framework</td>\n",
       "      <td>[0-Physics, 1-Particle physics, 1-Nuclear physics, 2-Neutrino, 2-Parity (physics), 3-R-parity, 3-Lepton, 4-Solar neutrino, 4-Lepton number]</td>\n",
       "    </tr>\n",
       "  </tbody>\n",
       "</table>\n",
       "</div>"
      ],
      "text/plain": [
       "                                                                                                                                                                                                                                                                              title  \\\n",
       "0                                                                                                                                                                                                                          Anomaly-free Abelian gauge symmetries with Dirac seesaws   \n",
       "2                                                                                                                                                                                              Phenomenology of the Zee model for Dirac neutrinos and general neutrino interactions   \n",
       "3                                                                                                                                                                                                                Anomaly-free Abelian gauge symmetries with Dirac scotogenic models   \n",
       "4                                                                                                                                                                                                              Phenomenological consistency of the singlet-triplet scotogenic model   \n",
       "5                                                                                                                                                                                                                          Dirac neutrino mass generation from a Majorana messenger   \n",
       "6                                                                                                                             Métricas de Vinculación Universidad-Entorno: Universidad de Antioquia (Metrics for University Linkage with the Environment: Universidad De Antioquia)   \n",
       "7                                                                                                                                                                                                                             Singlet-doublet Dirac dark matter and neutrino masses   \n",
       "8                                                                      Two-component dark matter and a massless neutrino in a new <mml:math xmlns:mml=\"http://www.w3.org/1998/Math/MathML\" display=\"inline\"><mml:mi>B</mml:mi><mml:mo>−</mml:mo><mml:mi>L</mml:mi></mml:math> model   \n",
       "9                                                                                                                                                                                                                                   Bound-state dark matter with Majorana neutrinos   \n",
       "10                                                                                                                                                                            Probing a simplified W ′ model of R ( D ( * ) ) anomalies using b tags, τ leptons, and missing energy   \n",
       "12                                                                                                                                                                                                                                Bound-state dark matter and Dirac neutrino masses   \n",
       "13                                                                                                                                                                                                                                   Vector boson fusion in the inert doublet model   \n",
       "14                                                                                                                                                                                                                        Expanding the Reach of Heavy Neutrino Searches at the LHC   \n",
       "15                                                                                                                                                          Anomalous leptonic U(1) symmetry: Syndetic origin of the QCD axion, weak-scale dark matter, and radiative neutrino mass   \n",
       "16  Indicadores de vinculación con el entorno para Unidades de Gestión de Investigación. (Universidad de Antioquia SIU. Estudio Piloto 2004-2016) (Indicators of Linkage with the Environment for Research Management Units. (Universidad de Antioquia SIU. Pilot Study 2004-2016))   \n",
       "17                                                                                                                                                                                                        Fermionic triplet dark matter in an S O ( 10 ) -inspired left-right model   \n",
       "18                                                                                                                                                                                                                   Radiative Type III Seesaw Model and its collider phenomenology   \n",
       "19                                                                                                                                                                                                                                                              The inert Zee model   \n",
       "20                                                                                                                                                                           The Fermi-LAT gamma-ray excess at the Galactic Center in the singlet-doublet fermion dark matter model   \n",
       "21                                                                                                                                                                                                               Diboson anomaly : Heavy Higgs resonance and QCD vectorlike exotics   \n",
       "22                                                                                                                                                                                                                                             Fermion dark matter from SO(10) GUTs   \n",
       "23                                                                                                                                                                                                                A model with a viable dark matter candidate and massive neutrinos   \n",
       "24                                                                                                                                                                                  Radiative neutrino masses in the singlet-doublet fermion dark matter model with scalar singlets   \n",
       "25                                                                                                                                                                                                          Models with radiative neutrino masses and viable dark matter candidates   \n",
       "26                                                                                                                                                                                                                              Baryonic violation of R parity from anomalous U(1)H   \n",
       "27                                                                                                                                                                                                                                                       LSP sneutrino novel decays   \n",
       "28                                                                                                                                                                                                     Scalar dark matter and fermion coannihilations in the radiative seesaw model   \n",
       "29                                                                                      Probing neutralino properties in minimal supergravity with bilinear<mml:math xmlns:mml=\"http://www.w3.org/1998/Math/MathML\" display=\"inline\"><mml:mi>R</mml:mi></mml:math>-parity violation   \n",
       "30                                                                                                                                                                                                                              Neutrino masses in SU(5)×U(1)F with adjoint flavons   \n",
       "31                                                                                                                                                                                                       Gravitino dark matter and neutrino masses with bilinear R-parity violation   \n",
       "32                                                                                                                                                                                              Probing neutrino oscillations in supersymmetric models at the Large Hadron Collider   \n",
       "33                                                                                                                                                                                                      Indirect detection of gravitino dark matter including its three-body decays   \n",
       "34                                                                                                                                                                                                                            The Hunt for New Physics at the Large Hadron Collider   \n",
       "35                                                                                                                                                                              Radiative seesaw model : warm dark matter, collider signatures, and lepton flavor violating signals   \n",
       "36                                                                                                                                                                                                                                     Collider aspects of flavor physics at high Q   \n",
       "37                                                                                                                                                                                                                      Probing bilinear R-parity violating supergravity at the LHC   \n",
       "38                                                                                                                                                                                                                                   Leptonic charged Higgs decays in the Zee model   \n",
       "39                                                                                                                                                                                                    Salud mental en víctimas de la violencia armada en Bojayá (Chocó, Colombia) 1   \n",
       "40                                                                                                                                                                                                          Collider signals of gravitino dark matter in bilinearly broken R-parity   \n",
       "41                                                                                                                                                                       Probing neutrino mass with multilepton production at the Tevatron in the simplest R-parity violation model   \n",
       "42                                                                                                                                                                                               Bilinear R-parity Violation and Small Neutrino Masses: a Self-consistent Framework   \n",
       "\n",
       "                                                                                                                                                                                                                                                                                                              c  \n",
       "0             [0-Physics, 1-Particle physics, 1-Theoretical physics, 2-Anomaly (physics), 2-Homogeneous space, 2-Neutrino, 2-Massless particle, 2-Physics beyond the Standard Model, 2-Symmetry (geometry), 3-Gauge symmetry, 3-Standard Model (mathematical formulation), 4-Seesaw mechanism, 4-Gauge anomaly]  \n",
       "2                                       [0-Physics, 1-Particle physics, 2-Neutrino, 2-Phenomenology (philosophy), 2-Physics beyond the Standard Model, 3-Neutrino oscillation, 3-Lepton, 3-Standard Model (mathematical formulation), 3-Dirac (video compression format), 4-Sterile neutrino, 4-Solar neutrino]  \n",
       "3                                                                         [0-Physics, 1-Particle physics, 1-Theoretical physics, 1-Mathematical physics, 2-Anomaly (physics), 2-Massless particle, 2-Neutrino, 3-Dirac fermion, 3-Gauge symmetry, 3-Standard Model (mathematical formulation), 4-Gauge anomaly]  \n",
       "4                                   [0-Physics, 1-Particle physics, 1-Nuclear physics, 2-Dark matter, 2-Neutrino, 2-Annihilation, 2-Parameter space, 2-Fermi Gamma-ray Space Telescope, 2-Nucleon, 2-Physics beyond the Standard Model, 3-Lepton, 3-Standard Model (mathematical formulation), 3-Singlet state]  \n",
       "5                                                                                                                                                                                                                   [0-Physics, 1-Particle physics, 2-Neutrino, 3-MAJORANA, 3-Dirac (video compression format)]  \n",
       "6                                                                                                                                                                                                                                                                    [0-Geography, 1-Humanities, 1-Cartography]  \n",
       "7                                                                                                                                                                   [0-Physics, 1-Particle physics, 2-Neutrino, 2-Dark matter, 2-Fermion, 3-Dirac (video compression format), 3-Lepton, 3-Neutrino oscillation]  \n",
       "8                                                                                                                                                                              [0-Physics, 1-Particle physics, 1-Nuclear physics, 2-Massless particle, 2-Neutrino, 2-Dark matter, 2-Component (thermodynamics)]  \n",
       "9                                                                                                                                                        [0-Physics, 1-Particle physics, 2-Neutrino, 2-Dark matter, 2-Fermion, 2-Bound state, 3-MAJORANA, 3-Neutrino oscillation, 3-Lepton, 4-Sterile neutrino]  \n",
       "10                                                                                               [0-Physics, 1-Particle physics, 1-Nuclear physics, 2-Quark, 2-Large Hadron Collider, 2-Charm (quantum number), 2-Sensitivity (control systems), 2-Meson, 3-Lepton, 3-Charm quark, 3-B meson, 4-Missing energy]  \n",
       "12                                                                                                                                                                        [0-Physics, 1-Particle physics, 1-Nuclear physics, 2-Neutrino, 2-Dark matter, 3-Dirac (video compression format), 4-Sterile neutrino]  \n",
       "13                                                                                                                                                                                                                                                                 [1-Nuclear physics, 2-Boson, 2-Annihilation]  \n",
       "14                                [0-Physics, 1-Particle physics, 1-Nuclear physics, 2-Neutrino, 2-Physics beyond the Standard Model, 2-Large Hadron Collider, 2-Context (archaeology), 2-Muon, 3-MAJORANA, 3-Lepton, 3-Standard Model (mathematical formulation), 3-Compact Muon Solenoid, 4-Sterile neutrino]  \n",
       "15                                                                        [0-Physics, 1-Particle physics, 2-Neutrino, 2-Dark matter, 2-Quantum chromodynamics, 2-Quark, 2-Fermion, 2-Scalar (mathematics), 3-Axion, 3-Lepton, 3-Standard Model (mathematical formulation), 4-Sterile neutrino, 4-Lepton number]  \n",
       "16                                                                                                                                                                                                                                          [0-Political science, 0-Geography, 1-Humanities, 1-Library science]  \n",
       "17                                                                                                                                                                                                                                                    [0-Physics, 1-Particle physics, 2-Dark matter, 2-Fermion]  \n",
       "18              [0-Physics, 1-Particle physics, 1-Nuclear physics, 2-Yukawa potential, 2-Dark matter, 2-Fermion, 2-Physics beyond the Standard Model, 2-Higgs boson, 2-Neutrino, 2-Boson, 2-Muon, 2-Supersymmetry, 2-Large Hadron Collider, 3-Seesaw molecular geometry, 3-Lepton, 4-Chargino, 4-Lepton number]  \n",
       "19   [0-Physics, 1-Particle physics, 1-Theoretical physics, 2-Fermion, 2-Neutrino, 2-Realization (probability), 2-Higgs boson, 2-Symmetry (geometry), 2-Dark matter, 2-Oscillation (cell signaling), 2-Physics beyond the Standard Model, 3-Lepton, 3-Neutrino oscillation, 3-Mass generation, 4-Lepton number]  \n",
       "20                                                                                                                                                [0-Physics, 1-Astrophysics, 1-Particle physics, 2-Dark matter, 2-Fermion, 2-Gamma ray, 2-Fermi Gamma-ray Space Telescope, 3-Galactic Center, 3-Singlet state]  \n",
       "21                                                       [0-Physics, 1-Particle physics, 1-Nuclear physics, 2-Higgs boson, 2-Quantum chromodynamics, 2-Invariant mass, 2-Physics beyond the Standard Model, 2-Anomaly (physics), 2-Atlas (anatomy), 3-Gauge boson, 3-Standard Model (mathematical formulation)]  \n",
       "22                                                                                                                                       [0-Physics, 1-Particle physics, 2-Dark matter, 2-Fermion, 2-Neutrino, 2-Physics beyond the Standard Model, 2-Higgs boson, 3-Standard Model (mathematical formulation)]  \n",
       "23                                                                                [0-Physics, 1-Particle physics, 2-Neutrino, 2-Dark matter, 2-Fermion, 2-Parameter space, 2-Physics beyond the Standard Model, 2-Scalar (mathematics), 3-Lepton, 3-Parametrization (atmospheric modeling), 4-Sterile neutrino]  \n",
       "24                                                                                                             [0-Physics, 1-Particle physics, 2-Fermion, 2-Neutrino, 2-Dark matter, 2-Scalar (mathematics), 2-Physics beyond the Standard Model, 3-Singlet state, 3-Standard Model (mathematical formulation)]  \n",
       "25                                                                   [0-Physics, 1-Particle physics, 2-Dark matter, 2-Neutrino, 2-Physics beyond the Standard Model, 2-Fermion, 2-Large Hadron Collider, 2-Scalar (mathematics), 3-Standard Model (mathematical formulation), 4-Sterile neutrino, 4-Leptoquark]  \n",
       "26                                                                 [0-Physics, 1-Particle physics, 1-Nuclear physics, 2-Parity (physics), 2-Neutrino, 2-Supersymmetry, 2-CP violation, 2-Baryon, 2-Physics beyond the Standard Model, 3-R-parity, 3-MAJORANA, 3-Proton decay, 3-Baryon number, 4-Lepton number]  \n",
       "27  [0-Physics, 1-Particle physics, 2-Supersymmetry, 2-Neutrino, 2-Dark matter, 2-Higgs boson, 2-Physics beyond the Standard Model, 3-Neutralino, 3-Minimal Supersymmetric Standard Model, 3-Superpartner, 3-Standard Model (mathematical formulation), 3-Lepton, 3-Gaugino, 4-Lightest Supersymmetric Parti...  \n",
       "28                              [0-Physics, 1-Particle physics, 2-Dark matter, 2-Neutrino, 2-Fermion, 2-Parameter space, 2-Scalar (mathematics), 2-Physics beyond the Standard Model, 3-Seesaw molecular geometry, 3-Standard Model (mathematical formulation), 4-Scalar field dark matter, 4-Sterile neutrino]  \n",
       "29                                                      [0-Physics, 1-Particle physics, 1-Nuclear physics, 2-Neutrino, 2-Supersymmetry, 2-Large Hadron Collider, 3-R-parity, 3-Supergravity, 3-Neutralino, 3-Minimal Supersymmetric Standard Model, 3-Neutrino oscillation, 4-Lightest Supersymmetric Particle]  \n",
       "30                                                                             [0-Physics, 1-Particle physics, 2-Neutrino, 2-Yukawa potential, 2-Homogeneous space, 2-Universality (dynamical systems), 2-Symmetry group, 3-MAJORANA, 3-Lepton, 3-Mass matrix, 3-Seesaw molecular geometry, 4-Seesaw mechanism]  \n",
       "31                                                                                                                                                                                                       [0-Physics, 1-Particle physics, 1-Nuclear physics, 2-Neutrino, 2-Dark matter, 3-R-parity, 4-Gravitino]  \n",
       "32                                                                  [0-Physics, 1-Particle physics, 1-Nuclear physics, 2-Large Hadron Collider, 2-Neutrino, 2-Supersymmetry, 3-R-parity, 3-Neutrino oscillation, 3-Minimal Supersymmetric Standard Model, 4-Lightest Supersymmetric Particle, 4-Missing energy]  \n",
       "33                                                                                                                                            [0-Physics, 1-Particle physics, 1-Nuclear physics, 2-Dark matter, 2-Neutrino, 2-Fermi Gamma-ray Space Telescope, 3-Lepton, 3-R-parity, 4-Gravitino, 4-Antimatter]  \n",
       "34                                                                                         [0-Physics, 1-Particle physics, 1-Nuclear physics, 2-Physics beyond the Standard Model, 2-Large Hadron Collider, 2-Supersymmetry, 2-Electroweak interaction, 2-Extra dimensions, 2-Dark matter, 3-Hierarchy problem]  \n",
       "35                                              [0-Physics, 1-Particle physics, 2-Neutrino, 2-Dark matter, 2-Physics beyond the Standard Model, 2-Higgs boson, 3-Electroweak scale, 3-Lepton, 3-MAJORANA, 3-Standard Model (mathematical formulation), 4-Seesaw mechanism, 4-Sterile neutrino, 4-Lepton number]  \n",
       "36                                                                                                    [0-Physics, 1-Particle physics, 2-Large Hadron Collider, 2-Higgs boson, 2-Physics beyond the Standard Model, 2-Flavor, 2-Supersymmetry, 2-Collider, 2-Quark, 3-Standard Model (mathematical formulation)]  \n",
       "37                                  [0-Physics, 1-Particle physics, 2-Supersymmetry, 2-Neutrino, 2-Large Hadron Collider, 2-Parity (physics), 2-Phenomenology (philosophy), 3-R-parity, 3-Supergravity, 3-Minimal Supersymmetric Standard Model, 3-Lepton, 4-Lepton number, 4-Lightest Supersymmetric Particle]  \n",
       "38                                                                                                                 [0-Physics, 1-Particle physics, 1-Nuclear physics, 2-Higgs boson, 2-Parameter space, 2-Neutrino, 2-Physics beyond the Standard Model, 3-Lepton, 3-Standard Model (mathematical formulation)]  \n",
       "39                                                                                                                                                                                                                                                         [0-Psychology, 0-Political science, 2-Mental health]  \n",
       "40                                                      [0-Physics, 1-Particle physics, 1-Nuclear physics, 2-Dark matter, 2-Supersymmetry, 2-Neutrino, 3-R-parity, 3-Neutralino, 3-Supersymmetry breaking, 3-Minimal Supersymmetric Standard Model, 3-Gaugino, 4-Gravitino, 4-Lightest Supersymmetric Particle]  \n",
       "41                                                                 [0-Physics, 1-Particle physics, 1-Nuclear physics, 2-Neutrino, 2-Fermilab, 2-Supersymmetry, 2-Parity (physics), 2-Parameter space, 2-Phenomenology (philosophy), 3-R-parity, 3-Tevatron, 3-Supergravity, 4-Lightest Supersymmetric Particle]  \n",
       "42                                                                                                                                                                  [0-Physics, 1-Particle physics, 1-Nuclear physics, 2-Neutrino, 2-Parity (physics), 3-R-parity, 3-Lepton, 4-Solar neutrino, 4-Lepton number]  "
      ]
     },
     "execution_count": 57,
     "metadata": {},
     "output_type": "execute_result"
    }
   ],
   "source": [
    "DRdf.drop_duplicates(subset=['title'])[['title','c']]"
   ]
  },
  {
   "cell_type": "code",
   "execution_count": 70,
   "id": "09fc4a89-a9e8-4f5e-beae-fa6f7716e050",
   "metadata": {},
   "outputs": [
    {
     "data": {
      "text/plain": [
       "True"
      ]
     },
     "execution_count": 70,
     "metadata": {},
     "output_type": "execute_result"
    }
   ],
   "source": [
    "any([any( [True,False]), any( [False,False])])"
   ]
  },
  {
   "cell_type": "code",
   "execution_count": 73,
   "id": "aee07797-2b1f-4025-b8da-6e0d1130a4c4",
   "metadata": {},
   "outputs": [],
   "source": [
    "ua=[ c for c in co if any([ any([i.get('ror')==\"https://ror.org/03bp5hc83\" for i in a.get('institutions')]) \n",
    "   for a in c.get('authorships')])\n",
    "]"
   ]
  },
  {
   "cell_type": "code",
   "execution_count": 74,
   "id": "56c8edf4-955c-440a-9a87-8a1c8db8b8c2",
   "metadata": {},
   "outputs": [
    {
     "data": {
      "text/plain": [
       "34291"
      ]
     },
     "execution_count": 74,
     "metadata": {},
     "output_type": "execute_result"
    }
   ],
   "source": [
    "len(ua)"
   ]
  },
  {
   "cell_type": "code",
   "execution_count": 86,
   "id": "6ab42e2a-fd74-4a76-9c5a-1f75836a77b4",
   "metadata": {},
   "outputs": [],
   "source": [
    "ph = [ p for p in ua  if any([ c.get('display_name')=='Physics' \n",
    "                              or c.get('display_name')=='Materials science'\n",
    "                              p for c in p.get('concepts')]) ]"
   ]
  },
  {
   "cell_type": "code",
   "execution_count": 89,
   "id": "87e3f1a6-c925-4250-922c-2214cf6b912f",
   "metadata": {},
   "outputs": [
    {
     "data": {
      "text/plain": [
       "3624"
      ]
     },
     "execution_count": 89,
     "metadata": {},
     "output_type": "execute_result"
    }
   ],
   "source": [
    "len(ph)"
   ]
  },
  {
   "cell_type": "code",
   "execution_count": 118,
   "id": "25b52139-0f4e-4712-a5ae-68440131e8c5",
   "metadata": {},
   "outputs": [],
   "source": [
    "l1=[ [c.get('display_name') for c in p.get('concepts') if c.get('level')==1 and eval(c.get('score'))>0.3  ] for p in ph]"
   ]
  },
  {
   "cell_type": "code",
   "execution_count": 119,
   "id": "8ecc210a-5b5f-4261-9586-9c34a8bca9ee",
   "metadata": {},
   "outputs": [],
   "source": [
    "l1=[item for sublist in l1 for item in sublist]"
   ]
  },
  {
   "cell_type": "code",
   "execution_count": 129,
   "id": "9ae23170-2747-43f0-b564-4c5c6b9ebc57",
   "metadata": {},
   "outputs": [
    {
     "data": {
      "text/plain": [
       "dict_keys(['Molecular physics', 'Chemical physics', 'Theoretical physics', 'Inorganic chemistry', 'Particle physics', 'Thermodynamics', 'Humanities', 'Mathematical physics', 'Optoelectronics', 'Astronomy', 'Quantum mechanics', 'Condensed matter physics', 'Crystallography', 'Nanotechnology', 'Chemical engineering', 'Process engineering', 'Statistical physics', 'Pulp and paper industry', 'Composite material', 'Nuclear physics', 'Nuclear engineering', 'Biomedical engineering', 'Optics', 'Astrophysics', 'Atomic physics', 'Metallurgy', 'Polymer chemistry', 'Waste management', 'Organic chemistry', 'Molecular biology', 'Mineralogy', 'Mechanics', 'Nuclear chemistry'])"
      ]
     },
     "execution_count": 129,
     "metadata": {},
     "output_type": "execute_result"
    }
   ],
   "source": [
    "dict([(c,l1.count(c)) for c in set(l1) if l1.count(c)>30] ).keys()"
   ]
  },
  {
   "cell_type": "code",
   "execution_count": 130,
   "id": "e3d39dfb-934b-4945-9ca2-c0772ceabfdd",
   "metadata": {},
   "outputs": [],
   "source": [
    "level1=['Molecular physics', 'Chemical physics','Theoretical physics', 'Particle physics', \n",
    "        'Thermodynamics', 'Mathematical physics', 'Optoelectronics', 'Astronomy', 'Quantum mechanics', 'Condensed matter physics', \n",
    "        'Crystallography', 'Nanotechnology', 'Statistical physics', 'Composite material', 'Nuclear physics', \n",
    "        'Nuclear engineering',  'Optics', 'Astrophysics', 'Atomic physics', 'Mechanics', 'Nuclear chemistry']"
   ]
  },
  {
   "cell_type": "code",
   "execution_count": 163,
   "id": "310a3184-d96e-4f27-9d75-cd7e50cd5778",
   "metadata": {},
   "outputs": [],
   "source": [
    "df=pd.DataFrame(ph)\n",
    "dff=df[df['concepts'].apply(lambda l: set([d.get('display_name') for d in l if d.get('level')==1]).intersection(set(level1)) ).apply(len)>0].reset_index(drop=True)"
   ]
  },
  {
   "cell_type": "code",
   "execution_count": 215,
   "id": "2482149d-ec86-459a-b20f-486967832c4e",
   "metadata": {},
   "outputs": [],
   "source": [
    "dffo=dff[dff['concepts'].apply(lambda l: any([ d.get('display_name')=='Optics' and d.get('level')==1 for d in l]))]"
   ]
  },
  {
   "cell_type": "markdown",
   "id": "3192b8bb-7293-4995-bd8a-a52121d24271",
   "metadata": {},
   "source": [
    "Go to level 2"
   ]
  },
  {
   "cell_type": "code",
   "execution_count": 216,
   "id": "c8156475-e720-4ebd-b345-131b6f618839",
   "metadata": {},
   "outputs": [
    {
     "data": {
      "text/plain": [
       "{'A. A. Velásquez',\n",
       " 'A. Herrera',\n",
       " 'A. Tiutiunnyk',\n",
       " 'A.J. Smith',\n",
       " 'Adriana Pabón',\n",
       " 'Alejandro Mira',\n",
       " 'Alejandro Mira Agudelo',\n",
       " 'Alejandro Mira-Agudelo',\n",
       " 'Alejandro Velez-Zea',\n",
       " 'Alexis Jaramillo-Osorio',\n",
       " 'Alvaro Morales',\n",
       " 'Ana M. Cardenas',\n",
       " 'Ana Maria Cardenas Soto',\n",
       " 'Andres Gil Molina',\n",
       " 'Andrzej Kolodziejczyk',\n",
       " 'Andrés Felipe Betancur Pérez',\n",
       " 'B. A. Rodríguez Rey',\n",
       " 'B. Yepes',\n",
       " 'Boris A. Rodríguez',\n",
       " 'Brayan Muñoz',\n",
       " 'C. A. Barrero',\n",
       " 'C. A. Betancur-Silvera',\n",
       " 'C.A. Duque',\n",
       " 'C.M. Duque',\n",
       " 'Carlos Andres Vera',\n",
       " 'Carlos Andrés Vargas',\n",
       " 'Carlos Vargas',\n",
       " 'César Restrepo',\n",
       " 'D Aristizábal-Giraldo',\n",
       " 'D Muñetón',\n",
       " 'D. C. Alvarez-Palacio',\n",
       " 'D. E. Jaramillo',\n",
       " 'Daniel H. Martínez-Suárez',\n",
       " 'Daniel Sánchez',\n",
       " 'Diana Margarita',\n",
       " 'E. Reyes-Gómez',\n",
       " 'E. Tangarife',\n",
       " 'Edgar Rueda',\n",
       " 'Edwar A. Castaneda Zapata',\n",
       " 'Edward Hernández',\n",
       " 'F. Arango',\n",
       " 'F. E. Lopez',\n",
       " 'F. Gómez',\n",
       " 'F. Londoño',\n",
       " 'Fabián E. Cano Ardila',\n",
       " 'Felipe Ramirez',\n",
       " 'Fernando A. Londono',\n",
       " 'Fernando Medina',\n",
       " 'Francisco F. Medina',\n",
       " 'Francisco F. Medina E',\n",
       " 'Francisco F. Medina-Estrada',\n",
       " 'Francisco Javier Munoz Cortes',\n",
       " 'Franklin Jaramillo',\n",
       " 'Félix Echeverría',\n",
       " 'G. Ricaurte',\n",
       " 'Gabriel D. Villarreal',\n",
       " 'German Cortes-Medellin',\n",
       " 'Gladys Quintero',\n",
       " 'H. Pimienta',\n",
       " 'H. Vinck',\n",
       " 'H.A. Gómez-Urrea',\n",
       " 'Herbert Vinck-Posada',\n",
       " 'Herley Casanova',\n",
       " 'J. D. Mazo-Vásquez',\n",
       " 'J. D. Ruiz',\n",
       " 'J. Fabian-Salvador',\n",
       " 'J. Osorio',\n",
       " 'J. Tobón',\n",
       " 'Jaime Alberto Osorio',\n",
       " 'Javier F. Botia',\n",
       " 'Jennyfer Morales Marín',\n",
       " 'Jennyfer Morales-Marín',\n",
       " 'Jesus E. Madronero',\n",
       " 'Jesus-Francisco Vargas Bonilla',\n",
       " 'Jesús Francisco Vargas-Bonilla',\n",
       " 'Jhon A. Lopera',\n",
       " 'Jhon James Granada Torres',\n",
       " 'Johans Restrepo',\n",
       " 'John Freddy Barrera',\n",
       " 'John Fredy Barrera',\n",
       " 'John Fredy Barrera Ramírez',\n",
       " 'John Fredy Barrera-Ramírez',\n",
       " 'John Fredy Ramírez',\n",
       " 'John R. Agudelo',\n",
       " 'Johny Jaramillo',\n",
       " 'Jorge Garcia-Sucerquia',\n",
       " 'Jorge Iván Gómez',\n",
       " 'Jorge M. Osorio-Guillén',\n",
       " 'José Ignacio Uribe',\n",
       " 'José Luis Sanz-Vicario',\n",
       " 'Juan Camilo Alvarez Quiceno',\n",
       " 'Juan Carlos Restrepo Gutiérrez',\n",
       " 'Juan D. Zapata',\n",
       " 'Juan David Bonilla',\n",
       " 'Juan David Giraldo Quintero',\n",
       " 'Juan Esteban Calle',\n",
       " 'Juan H Serna',\n",
       " 'Juan L. Parra',\n",
       " 'Juan Serna',\n",
       " 'Julián Henao',\n",
       " 'Karen Arroyave',\n",
       " 'L. H. Berrio',\n",
       " 'L. M. Hincapie-Zuluaga',\n",
       " 'L. Reyes',\n",
       " 'L.M. Castellanos',\n",
       " 'Lilibeth Niño',\n",
       " 'Lorenzo de la Torre',\n",
       " 'M. Sepúlveda',\n",
       " 'M. de Dios-Leyva',\n",
       " 'M.E. Mora-Ramos',\n",
       " 'Marco A. Giraldo',\n",
       " 'Maria Isabel Alvarez Castano',\n",
       " 'Maria Isabel Álvarez-Castaño',\n",
       " 'María Isabel Álvarez',\n",
       " 'Mayron Y. Lizcano Saavedra',\n",
       " 'N. Raigoza',\n",
       " 'N. Vanegas',\n",
       " 'Natalia Becerra',\n",
       " 'Natalia Londono',\n",
       " 'Neil Guerrero Gonzalez',\n",
       " 'O. Arnache',\n",
       " 'Orlando Caicedo Quintero',\n",
       " 'R.D. Gallego-Ruiz',\n",
       " 'R.L. Restrepo',\n",
       " 'Rodolfo Villamizar Mejía',\n",
       " 'Rodrigo Henao',\n",
       " 'Santiago Bustamante',\n",
       " 'Sergio Agudelo Flórez',\n",
       " 'V. Akimov',\n",
       " 'V.N. Tulupenko',\n",
       " 'Walter Ramon Torres',\n",
       " 'Walter Torres',\n",
       " 'Walter Torres-Sepúlveda'}"
      ]
     },
     "execution_count": 216,
     "metadata": {},
     "output_type": "execute_result"
    }
   ],
   "source": [
    "lop=dffo.authorships.apply(lambda l: [ a.get('author').get('display_name') for a in l  \n",
    "                                  if any([i.get('ror')==\"https://ror.org/03bp5hc83\" for i in a.get('institutions')])   ]   ).to_list()\n",
    "\n",
    "set([item for sublist in lop for item in sublist ])"
   ]
  },
  {
   "cell_type": "code",
   "execution_count": 226,
   "id": "3156b7ee-bc72-479a-b65e-8d9f2912a459",
   "metadata": {},
   "outputs": [],
   "source": [
    "l2=dffo.concepts.apply( lambda p:  [c.get('display_name') for c in p if c.get('level')==2 and eval(c.get('score'))>0.3  ]     ).to_list()\n",
    "l2=set([item for sublist in l2 for item in sublist])"
   ]
  },
  {
   "cell_type": "code",
   "execution_count": 229,
   "id": "ab58af5a-5a2d-4dbc-8caa-8641a2e73c58",
   "metadata": {},
   "outputs": [],
   "source": [
    "level2={'Absorbance',\n",
    " 'Absorption (acoustics)',\n",
    " 'Absorption spectroscopy',\n",
    " 'Access network',\n",
    " 'Achromatic lens',\n",
    " 'Adaptive optics',\n",
    " 'Angle of incidence (optics)',\n",
    " 'Astigmatism',\n",
    " 'Attenuation coefficient',\n",
    " 'Beam (structure)',\n",
    " 'Binocular vision',\n",
    " 'Birefringence',\n",
    " 'Brillouin zone',\n",
    " 'Broadband',\n",
    " 'Calibration',\n",
    " 'Channel (broadcasting)',\n",
    " 'Chromatic scale',\n",
    " 'Chromaticity',\n",
    " 'Coercivity',\n",
    " 'Coherence (philosophical gambling strategy)',\n",
    " 'Collimator',\n",
    " 'Color measurement',\n",
    " 'Compression (physics)',\n",
    " 'Confocal microscopy',\n",
    " 'Contrast (vision)',\n",
    " 'Curvature',\n",
    " 'Decoding methods',\n",
    " 'Depth of field',\n",
    " 'Dielectric',\n",
    " 'Diffraction',\n",
    " 'Digital micromirror device',\n",
    " 'Diode',\n",
    " 'Dispersion (optics)',\n",
    " 'Dispersion relation',\n",
    " 'Elastic modulus',\n",
    " 'Elasticity (physics)',\n",
    " 'Electric field',\n",
    " 'Electrical conductor',\n",
    " 'Electrical resistivity and conductivity',\n",
    " 'Electrode',\n",
    " 'Electromagnetic field',\n",
    " 'Electromagnetic radiation',\n",
    " 'Electron',\n",
    " 'Electronic band structure',\n",
    " 'Electronic structure',\n",
    " 'Encoding (memory)',\n",
    " 'Encryption',\n",
    " 'Energy (signal processing)',\n",
    " 'Energy flux',\n",
    " 'Fiber',\n",
    " 'Field of view',\n",
    " 'Filter (signal processing)',\n",
    " 'Finite element method',\n",
    " 'Flux (metallurgy)',\n",
    " 'Focus (optics)',\n",
    " 'Footprint',\n",
    " 'Fourier transform',\n",
    " 'Frame (networking)',\n",
    " 'Frame rate',\n",
    " 'Full width at half maximum',\n",
    " 'Gaussian',\n",
    " 'Geometrical optics',\n",
    " 'Ghost imaging',\n",
    " 'Glass fiber',\n",
    " 'Graphene',\n",
    " 'Graphite',\n",
    " 'Grating',\n",
    " 'Holography',\n",
    " 'Image (mathematics)',\n",
    " 'Image resolution',\n",
    " 'Imaging phantom',\n",
    " 'Impulse response',\n",
    " 'Integrated optics',\n",
    " 'Intensity (physics)',\n",
    " 'Interferometry',\n",
    " 'Iridescence',\n",
    " 'Isotropy',\n",
    " 'Keying',\n",
    " 'Kinetic energy',\n",
    " 'Lamina',\n",
    " 'Laser',\n",
    " 'Lattice (music)',\n",
    " 'Lens (geology)',\n",
    " 'Light beam',\n",
    " 'Light field',\n",
    " 'Light intensity',\n",
    " 'Liquid crystal',\n",
    " 'Magnetic field',\n",
    " 'Microscope',\n",
    " 'Microscopy',\n",
    " 'Microwave',\n",
    " 'Modulation (music)',\n",
    " 'Moiré pattern',\n",
    " 'Monochromatic color',\n",
    " 'Monochromatic electromagnetic plane wave',\n",
    " 'Monocular',\n",
    " 'Monocular vision',\n",
    " 'Monolayer',\n",
    " 'Morse code',\n",
    " 'Morse potential',\n",
    " 'Multiplex',\n",
    " 'Multiplexing',\n",
    " 'Multiplier (economics)',\n",
    " 'Nanoindentation',\n",
    " 'Nanomaterials',\n",
    " 'Near and far field',\n",
    " 'Nonimaging optics',\n",
    " 'Nonlinear system',\n",
    " 'Opacity',\n",
    " 'Optical coherence tomography',\n",
    " 'Optical communication',\n",
    " 'Optical engineering',\n",
    " 'Optical fiber',\n",
    " 'Optical filter',\n",
    " 'Optical materials',\n",
    " 'Optical switch',\n",
    " 'Parabolic reflector',\n",
    " 'Parametric statistics',\n",
    " 'Particulates',\n",
    " 'Path (computing)',\n",
    " 'Phase (matter)',\n",
    " 'Phonon',\n",
    " 'Photodetector',\n",
    " 'Photon',\n",
    " 'Photonic crystal',\n",
    " 'Photonics',\n",
    " 'Photorefractive effect',\n",
    " 'Photothermal therapy',\n",
    " 'Physical optics',\n",
    " 'Pinhole (optics)',\n",
    " 'Pixel',\n",
    " 'Plane (geometry)',\n",
    " 'Polarization (electrochemistry)',\n",
    " 'Polarized light microscopy',\n",
    " 'Power (physics)',\n",
    " 'Presbyopia',\n",
    " 'Pupil',\n",
    " 'Radio frequency',\n",
    " 'Radio telescope',\n",
    " 'Raman spectroscopy',\n",
    " 'Randomness',\n",
    " 'Ray',\n",
    " 'Reflection (computer programming)',\n",
    " 'Reflectivity',\n",
    " 'Refraction',\n",
    " 'Refractive index',\n",
    " 'Resolution (logic)',\n",
    " 'SIGNAL (programming language)',\n",
    " 'Scattering',\n",
    " 'Sensitivity (control systems)',\n",
    " 'Simulated annealing',\n",
    " 'Slit',\n",
    " 'Spatial correlation',\n",
    " 'Spatial frequency',\n",
    " 'Spatial light modulator',\n",
    " 'Speckle pattern',\n",
    " 'Spectral density',\n",
    " 'Spectral line',\n",
    " 'Spectrometer',\n",
    " 'Spectrophotometry',\n",
    " 'Spectroscopy',\n",
    " 'Spectrum (functional analysis)',\n",
    " 'Specular reflection',\n",
    " 'Spiral (railway)',\n",
    " 'Tears',\n",
    " 'Transfer function',\n",
    " 'Transfer matrix',\n",
    " 'Transfer-matrix method (optics)',\n",
    " 'Transmission (telecommunications)',\n",
    " 'Transmittance',\n",
    " 'Transverse plane',\n",
    " 'Vibration',\n",
    " 'Visibility',\n",
    " 'Visual inspection',\n",
    " 'Vortex',\n",
    " 'Wave propagation',\n",
    " 'Wavefront',\n",
    " 'Waveguide',\n",
    " 'Wavelength',\n",
    " 'White light',\n",
    " 'Window (computing)'\n",
    "}"
   ]
  },
  {
   "cell_type": "code",
   "execution_count": 231,
   "id": "ce3df254-6fdc-418f-b2c7-db830fa3d25b",
   "metadata": {},
   "outputs": [],
   "source": [
    "dffo=dffo[dffo['concepts'].apply(lambda l: set([d.get('display_name') for d in l if d.get('level')==2]).intersection(set(level2)) ).apply(len)>0].reset_index(drop=True)"
   ]
  },
  {
   "cell_type": "code",
   "execution_count": 243,
   "id": "cc80e075-ce0e-4132-b60d-37e37abaaf4a",
   "metadata": {},
   "outputs": [
    {
     "data": {
      "text/plain": [
       "{'Holography': '0.4111298',\n",
       " 'Vortex': '0.7507218',\n",
       " 'Track (disk drive)': '0.66748726',\n",
       " 'Tracking (education)': '0.5897759',\n",
       " 'Phase (matter)': '0.6633542',\n",
       " 'Object (grammar)': '0.57633126',\n",
       " 'Displacement (psychology)': '0.370496',\n",
       " 'Halide': '0.8800218',\n",
       " 'Perovskite (structure)': '0.8272786',\n",
       " 'Iodide': '0.6832401',\n",
       " 'Thin film': '0.5584189',\n",
       " 'Synchrotron': '0.547082',\n",
       " 'Microstructure': '0.5384922',\n",
       " 'Strain (injury)': '0.5371339',\n",
       " 'Diffraction': '0.6714398',\n",
       " 'Synchrotron radiation': '0.41056058',\n",
       " 'Reflectivity': '0.7579099',\n",
       " 'Composition (language)': '0.5789246',\n",
       " 'Spectral line': '0.49719217',\n",
       " 'Hue': '0.39289743',\n",
       " 'Analytical Chemistry (journal)': '0.4899737',\n",
       " 'Spectroscopy': '0.47463238',\n",
       " 'Spectrophotometry': '0.47897008',\n",
       " 'Elemental analysis': '0.43234447',\n",
       " 'Spatial light modulator': '0.369657',\n",
       " 'Amplitude': '0.48458707',\n",
       " 'Constraint (computer-aided design)': '0.5336987',\n",
       " 'Plane (geometry)': '0.52911896',\n",
       " 'Projection (relational algebra)': '0.352074',\n",
       " 'Digital micromirror device': '0.73556983',\n",
       " 'Multiplexing': '0.7432947',\n",
       " 'Polarization (electrochemistry)': '0.64372766',\n",
       " 'Simulated annealing': '0.5040916',\n",
       " 'Wavelength': '0.42012024',\n",
       " 'Photonic crystal': '0.8535996',\n",
       " 'Metamaterial': '0.5596318',\n",
       " 'Transmittance': '0.62038064',\n",
       " 'Heterojunction': '0.63720715',\n",
       " 'Point reflection': '0.4411303',\n",
       " 'Coherence (philosophical gambling strategy)': '0.685063',\n",
       " 'Wavefront': '0.537187',\n",
       " 'Laser': '0.58893764',\n",
       " 'Interferometry': '0.604813',\n",
       " 'Frame rate': '0.4224346',\n",
       " 'Nanoindentation': '0.79057956',\n",
       " 'Microscopy': '0.5262139',\n",
       " 'Elasticity (physics)': '0.55626965',\n",
       " 'Microscope': '0.45263067',\n",
       " 'Elastic modulus': '0.49122113',\n",
       " 'Electrode': '0.48394206',\n",
       " 'Light intensity': '0.42366084',\n",
       " 'Bioreactor': '0.49584755',\n",
       " 'Exponential growth': '0.4616166',\n",
       " 'Kinetic energy': '0.44420522',\n",
       " 'Biomass (ecology)': '0.42513388',\n",
       " 'Excitation': '0.5337689',\n",
       " 'Electromagnetic radiation': '0.5049601',\n",
       " 'Nonlinear system': '0.42165044',\n",
       " 'Electric field': '0.4497851',\n",
       " 'Electromagnetic field': '0.48097456',\n",
       " 'Monochromatic electromagnetic plane wave': '0.4356537',\n",
       " 'Concentrator': '0.90530145',\n",
       " 'Curvature': '0.72198904',\n",
       " 'Nonimaging optics': '0.5925501',\n",
       " 'Solar energy': '0.5912732',\n",
       " 'Radiation': '0.359868',\n",
       " 'Work (physics)': '0.50793463',\n",
       " 'Thermal': '0.4774804',\n",
       " 'Measure (data warehouse)': '0.5782458',\n",
       " 'Energy (signal processing)': '0.46111158',\n",
       " 'Parabolic reflector': '0.45606223',\n",
       " 'Flux (metallurgy)': '0.45564517',\n",
       " 'Birefringence': '0.547894',\n",
       " 'Malaria': '0.67172194',\n",
       " 'Polarized light microscopy': '0.5302719',\n",
       " 'Single shot': '0.4128473',\n",
       " 'Transmission (telecommunications)': '0.57611585',\n",
       " 'Doping': '0.44116908',\n",
       " 'Optical fiber': '0.328414',\n",
       " 'Glass fiber': '0.49511114',\n",
       " 'Fiber': '0.328946',\n",
       " 'Fourier transform': '0.59762645',\n",
       " 'Quasiperiodic function': '0.94292784',\n",
       " 'Dielectric': '0.4399003',\n",
       " 'Chip': '0.46363184',\n",
       " 'Monolayer': '0.55993426',\n",
       " 'Absorption (acoustics)': '0.324125',\n",
       " 'Waveguide': '0.3377688',\n",
       " 'Fibonacci number': '0.83957946',\n",
       " 'Geometrical optics': '0.358688',\n",
       " 'Characterization (materials science)': '0.69045657',\n",
       " 'Physical optics': '0.5193104',\n",
       " 'Integrated optics': '0.45123962',\n",
       " 'Adaptive optics': '0.6520127',\n",
       " 'Optical materials': '0.41197997',\n",
       " 'Beam (structure)': '0.48443726',\n",
       " 'Aluminium': '0.734953',\n",
       " 'Focus (optics)': '0.7256966',\n",
       " 'Hysteresis': '0.5602477',\n",
       " 'Lens (geology)': '0.5798517',\n",
       " 'Optical engineering': '0.51855713',\n",
       " 'Presbyopia': '0.9439312',\n",
       " 'SWORD': '0.819111',\n",
       " 'Dispersion (optics)': '0.524553',\n",
       " 'Hydrostatic pressure': '0.67137563',\n",
       " 'Full width at half maximum': '0.7616414',\n",
       " 'Attenuation coefficient': '0.5245224',\n",
       " 'Element (criminal law)': '0.46044597',\n",
       " 'Morse code': '0.6508943',\n",
       " 'Electronic structure': '0.62582517',\n",
       " 'Field (mathematics)': '0.4695996',\n",
       " 'Morse potential': '0.53910005',\n",
       " 'Absorption spectroscopy': '0.43853322',\n",
       " 'Broadband': '0.713399',\n",
       " 'Photonics': '0.41613472',\n",
       " 'Graphene': '0.90089965',\n",
       " 'Photothermal therapy': '0.93138826',\n",
       " 'Mixing (physics)': '0.6133607',\n",
       " 'SIGNAL (programming language)': '0.361897',\n",
       " 'Sensitivity (control systems)': '0.45567167',\n",
       " 'Parametric statistics': '0.7360767',\n",
       " 'Spiral (railway)': '0.56029284',\n",
       " 'Footprint': '0.46146017',\n",
       " 'Iridescence': '0.96146107',\n",
       " 'Hummingbird': '0.8672453',\n",
       " 'Plumage': '0.67611784',\n",
       " 'Feather': '0.6371503',\n",
       " 'Specular reflection': '0.6247124',\n",
       " 'Absorbance': '0.43910274',\n",
       " 'White light': '0.42533016',\n",
       " 'Polymer': '0.56074363',\n",
       " 'Oxide': '0.5047821',\n",
       " 'Nanomaterials': '0.41357338',\n",
       " 'Photodetector': '0.84091115',\n",
       " 'Calibration': '0.61943644',\n",
       " 'Pixel': '0.42616558',\n",
       " 'Pupil': '0.5744281',\n",
       " 'Contrast (vision)': '0.4488167',\n",
       " 'Topological quantum number': '0.40896',\n",
       " 'Angular momentum': '0.54842365',\n",
       " 'Refractive index': '0.68713176',\n",
       " 'Band gap': '0.51772255',\n",
       " 'Graphite': '0.61274177',\n",
       " 'Raman spectroscopy': '0.57811606',\n",
       " 'Depth of field': '0.60764635',\n",
       " 'Superconductivity': '0.47630727',\n",
       " 'Superlattice': '0.801985',\n",
       " 'Transfer-matrix method (optics)': '0.60209084',\n",
       " 'Plasmon': '0.74762547',\n",
       " 'Speckle pattern': '0.8630209',\n",
       " 'Diode': '0.325834',\n",
       " 'Optical communication': '0.45289934',\n",
       " 'Superposition principle': '0.6018491',\n",
       " 'Monte Carlo method': '0.81954646',\n",
       " 'Imaging phantom': '0.60426253',\n",
       " 'Dosimetry': '0.59744114',\n",
       " 'Collimator': '0.49500936',\n",
       " 'Detector': '0.6316391',\n",
       " 'Photon': '0.5373482',\n",
       " 'Tears': '0.39642',\n",
       " 'Breakup': '0.395671',\n",
       " 'Bandwidth (computing)': '0.330806',\n",
       " 'Polariton': '0.5749896',\n",
       " 'Phonon': '0.7020818',\n",
       " 'Dispersion relation': '0.6254381',\n",
       " 'Topology (electrical circuits)': '0.323027',\n",
       " 'Electrical resistivity and conductivity': '0.593202',\n",
       " 'Opacity': '0.6347406',\n",
       " 'Electrical conductor': '0.58036065',\n",
       " 'Zero (linguistics)': '0.5746554',\n",
       " 'Quality (philosophy)': '0.411146',\n",
       " 'Visual inspection': '0.42104426',\n",
       " 'Radio telescope': '0.5405762',\n",
       " 'Telescope': '0.5248756',\n",
       " 'Radio frequency': '0.4368611',\n",
       " 'Field of view': '0.41152814',\n",
       " 'Magnetic field': '0.342819',\n",
       " 'Morpho': '0.8268137',\n",
       " 'Lamina': '0.75487435',\n",
       " 'Wing': '0.71204215',\n",
       " 'Butterfly': '0.646482',\n",
       " 'Ceramic': '0.5415938',\n",
       " 'Reflection (computer programming)': '0.55167913',\n",
       " 'Refraction': '0.4049',\n",
       " 'Coercivity': '0.45908514',\n",
       " 'Transverse plane': '0.6030829',\n",
       " 'Modulation (music)': '0.46382442',\n",
       " 'Microwave': '0.46413037',\n",
       " 'Optical switch': '0.4140527',\n",
       " 'Chemical vapor deposition': '0.70714605',\n",
       " 'Autocorrelation': '0.6619284',\n",
       " 'Excited state': '0.406344',\n",
       " 'Path (computing)': '0.373922',\n",
       " 'Upgrade': '0.49172404',\n",
       " 'Access network': '0.41936743',\n",
       " 'Compensation (psychology)': '0.5459588',\n",
       " 'Symmetry (geometry)': '0.5265268',\n",
       " 'Light beam': '0.47052136',\n",
       " 'Ray': '0.320768',\n",
       " 'Polar': '0.6340814',\n",
       " 'Walsh function': '0.48374867',\n",
       " 'Single crystal': '0.5638032',\n",
       " 'Valence (chemistry)': '0.43637222',\n",
       " 'Energy flux': '0.5472224',\n",
       " 'Scattering': '0.49322194',\n",
       " 'Wave propagation': '0.41739184',\n",
       " 'Equilateral triangle': '0.84466136',\n",
       " 'Perpendicular': '0.4885136',\n",
       " 'Cross section (physics)': '0.4657802',\n",
       " 'Semiconductor': '0.52460325',\n",
       " 'Inverse': '0.4749715',\n",
       " 'Hydrostatic equilibrium': '0.52434355',\n",
       " 'Chromaticity': '0.38090354',\n",
       " 'Color measurement': '0.35723636',\n",
       " 'Anderson localization': '0.61945486',\n",
       " 'Gallium arsenide': '0.49866652',\n",
       " 'RADIUS': '0.49234474',\n",
       " 'Compression (physics)': '0.53826773',\n",
       " 'Encryption': '0.482881',\n",
       " 'Concatenation (mathematics)': '0.8078145',\n",
       " 'Randomness': '0.7663063',\n",
       " 'Mode (computer interface)': '0.51787853',\n",
       " 'Keying': '0.351002',\n",
       " 'Channel (broadcasting)': '0.6195144',\n",
       " 'Power (physics)': '0.47348082',\n",
       " 'Photorefractive effect': '0.515316',\n",
       " 'Liquid crystal': '0.403099',\n",
       " 'Crystal (programming language)': '0.336284',\n",
       " 'Anisotropy': '0.64012235',\n",
       " 'Stacking': '0.5061433',\n",
       " 'Electronic band structure': '0.51393694',\n",
       " 'Lattice (music)': '0.4608258',\n",
       " 'Square (algebra)': '0.4202264',\n",
       " 'Brillouin zone': '0.46501166',\n",
       " 'Diesel fuel': '0.7046822',\n",
       " 'Particulates': '0.4283957',\n",
       " 'Brewster': '0.65446675',\n",
       " 'Quasicrystal': '0.41151685',\n",
       " 'Drude model': '0.5900186',\n",
       " 'Isotropy': '0.5742034',\n",
       " 'Decoding methods': '0.80667406',\n",
       " 'Encoding (memory)': '0.428715',\n",
       " 'Chromatic scale': '0.432104',\n",
       " 'Frame (networking)': '0.45657375',\n",
       " 'Multiplex': '0.44617373',\n",
       " 'Finite element method': '0.40654',\n",
       " 'Deformation (meteorology)': '0.3312',\n",
       " 'Star (game theory)': '0.362575',\n",
       " 'Sample (material)': '0.47649997',\n",
       " 'Angle of incidence (optics)': '0.46379974',\n",
       " 'Terahertz radiation': '0.323992',\n",
       " 'Resolution (logic)': '0.5132077',\n",
       " 'Image resolution': '0.54514194',\n",
       " 'Colloid': '0.384286',\n",
       " 'Confocal microscopy': '0.4292254',\n",
       " 'Left handed': '0.542571',\n",
       " 'Position (finance)': '0.4554401',\n",
       " 'Process (computing)': '0.49076256',\n",
       " 'Silicon': '0.5279742',\n",
       " 'Monocular': '0.8798602',\n",
       " 'Binocular vision': '0.6426627',\n",
       " 'Monocular vision': '0.5042187',\n",
       " 'Dynamics (music)': '0.4258342',\n",
       " 'Achromatic lens': '0.378386',\n",
       " 'Astigmatism': '0.335039',\n",
       " 'Pinhole (optics)': '0.7039078',\n",
       " 'Line (geometry)': '0.50098085',\n",
       " 'Electron': '0.75233006',\n",
       " 'Wave–particle duality': '0.4272686',\n",
       " 'Visibility': '0.688797',\n",
       " 'Chaotic': '0.602144',\n",
       " 'CHAOS (operating system)': '0.428355',\n",
       " 'Quantum dot': '0.8587177',\n",
       " 'Dipole': '0.62896484',\n",
       " 'Quantum optics': '0.44545108',\n",
       " 'Microsphere': '0.43929347',\n",
       " 'Stability (learning theory)': '0.366345',\n",
       " 'Multiplier (economics)': '0.44734806',\n",
       " 'Sawtooth wave': '0.64930284',\n",
       " 'Monochromatic color': '0.68687606',\n",
       " 'Slit': '0.650592',\n",
       " 'Spectrometer': '0.5784986',\n",
       " 'Null (SQL)': '0.7034327',\n",
       " 'Transfer matrix': '0.49696878',\n",
       " 'Degeneracy (biology)': '0.46828267',\n",
       " 'Aperture (computer memory)': '0.44782603',\n",
       " 'Point (geometry)': '0.5504035',\n",
       " 'Filter (signal processing)': '0.49993',\n",
       " 'Domain (mathematical analysis)': '0.49614748',\n",
       " 'Interpretation (philosophy)': '0.714756',\n",
       " 'Image (mathematics)': '0.6033666',\n",
       " 'Instability': '0.41807',\n",
       " 'Vibration': '0.6089068',\n",
       " 'Distribution (mathematics)': '0.41697493',\n",
       " 'Ghost imaging': '0.34227',\n",
       " 'Atom (system on chip)': '0.54976124',\n",
       " 'Extension (predicate logic)': '0.514351',\n",
       " 'Moiré pattern': '0.76157296',\n",
       " 'Rotation (mathematics)': '0.72033405',\n",
       " 'Development (topology)': '0.4249407',\n",
       " 'Optical filter': '0.5414212',\n",
       " 'Transfer function': '0.49667794',\n",
       " 'Impulse response': '0.49307248',\n",
       " 'Unitary state': '0.56364065',\n",
       " 'Renormalization': '0.73166096',\n",
       " 'Spectrum (functional analysis)': '0.4667713',\n",
       " 'Spectral density': '0.45384306',\n",
       " 'Near and far field': '0.47207737',\n",
       " 'Spatial correlation': '0.42379892',\n",
       " 'Scalar (mathematics)': '0.5946653',\n",
       " 'Intensity (physics)': '0.4635576',\n",
       " 'Gaussian': '0.513222',\n",
       " 'Light field': '0.41641745',\n",
       " 'Grating': '0.71536493',\n",
       " 'Surface roughness': '0.6087614',\n",
       " 'Surface finish': '0.568004',\n",
       " 'Correlation': '0.45849338',\n",
       " 'Basis (linear algebra)': '0.5175152',\n",
       " 'Window (computing)': '0.48442844',\n",
       " 'Spatial frequency': '0.325535',\n",
       " 'Optical coherence tomography': '0.370868',\n",
       " 'Brownian motion': '0.41340387'}"
      ]
     },
     "execution_count": 243,
     "metadata": {},
     "output_type": "execute_result"
    }
   ],
   "source": [
    "cl=dffo.concepts.apply(lambda l: [(d.get('display_name'),d.get('score')) for d in l if d.get('level')==2]).to_list()\n",
    "dict([item for subitem in cl for item in subitem])"
   ]
  },
  {
   "cell_type": "code",
   "execution_count": null,
   "id": "9ce2378a-6cf5-4398-94a0-8274bf11dd48",
   "metadata": {},
   "outputs": [],
   "source": [
    "[ [c.get('display_name') for c in p.get('concepts') if c.get('level')==1 and eval(c.get('score'))>0.3  ] for p in ph]"
   ]
  },
  {
   "cell_type": "code",
   "execution_count": 217,
   "id": "27b323b8-aa68-4c2b-9c59-c43022a84f59",
   "metadata": {},
   "outputs": [
    {
     "data": {
      "text/plain": [
       "[{'id': 'https://openalex.org/C2910081258',\n",
       "  'wikidata': 'https://www.wikidata.org/wiki/Q177807',\n",
       "  'display_name': 'Hydrostatic pressure',\n",
       "  'level': 2,\n",
       "  'score': '0.7969276'},\n",
       " {'id': 'https://openalex.org/C520434653',\n",
       "  'wikidata': 'https://www.wikidata.org/wiki/Q38867',\n",
       "  'display_name': 'Laser',\n",
       "  'level': 2,\n",
       "  'score': '0.55297494'},\n",
       " {'id': 'https://openalex.org/C29169072',\n",
       "  'wikidata': 'https://www.wikidata.org/wiki/Q521166',\n",
       "  'display_name': 'Quantum well',\n",
       "  'level': 3,\n",
       "  'score': '0.52323693'},\n",
       " {'id': 'https://openalex.org/C121332964',\n",
       "  'wikidata': 'https://www.wikidata.org/wiki/Q413',\n",
       "  'display_name': 'Physics',\n",
       "  'level': 0,\n",
       "  'score': '0.51779354'},\n",
       " {'id': 'https://openalex.org/C207467116',\n",
       "  'wikidata': 'https://www.wikidata.org/wiki/Q4385666',\n",
       "  'display_name': 'Inverse',\n",
       "  'level': 2,\n",
       "  'score': '0.4749715'},\n",
       " {'id': 'https://openalex.org/C15708023',\n",
       "  'wikidata': 'https://www.wikidata.org/wiki/Q80083',\n",
       "  'display_name': 'Humanities',\n",
       "  'level': 1,\n",
       "  'score': '0.4568686'},\n",
       " {'id': 'https://openalex.org/C192562407',\n",
       "  'wikidata': 'https://www.wikidata.org/wiki/Q228736',\n",
       "  'display_name': 'Materials science',\n",
       "  'level': 0,\n",
       "  'score': '0.4106598'},\n",
       " {'id': 'https://openalex.org/C26873012',\n",
       "  'wikidata': 'https://www.wikidata.org/wiki/Q214781',\n",
       "  'display_name': 'Condensed matter physics',\n",
       "  'level': 1,\n",
       "  'score': '0.4087586'},\n",
       " {'id': 'https://openalex.org/C120665830',\n",
       "  'wikidata': 'https://www.wikidata.org/wiki/Q14620',\n",
       "  'display_name': 'Optics',\n",
       "  'level': 1,\n",
       "  'score': '0.34846455'}]"
      ]
     },
     "execution_count": 217,
     "metadata": {},
     "output_type": "execute_result"
    }
   ],
   "source": [
    "dffo[dffo.authorships.apply(lambda l: any([ a.get('author').get('display_name')=='Alvaro Morales' for a in l]) )].concepts.iloc[0]"
   ]
  },
  {
   "cell_type": "code",
   "execution_count": 214,
   "id": "9a734eaa-ab0e-4386-873b-95effc6fec87",
   "metadata": {},
   "outputs": [
    {
     "data": {
      "text/plain": [
       "[{'id': 'https://openalex.org/C136479403',\n",
       "  'wikidata': 'https://www.wikidata.org/wiki/Q1047683',\n",
       "  'display_name': 'Quasiparticle',\n",
       "  'level': 3,\n",
       "  'score': '0.80569255'},\n",
       " {'id': 'https://openalex.org/C84114770',\n",
       "  'wikidata': 'https://www.wikidata.org/wiki/Q46344',\n",
       "  'display_name': 'Quantum',\n",
       "  'level': 2,\n",
       "  'score': '0.5456141'},\n",
       " {'id': 'https://openalex.org/C124657808',\n",
       "  'wikidata': 'https://www.wikidata.org/wiki/Q1133068',\n",
       "  'display_name': 'Quantum dot',\n",
       "  'level': 2,\n",
       "  'score': '0.42620873'},\n",
       " {'id': 'https://openalex.org/C121332964',\n",
       "  'wikidata': 'https://www.wikidata.org/wiki/Q413',\n",
       "  'display_name': 'Physics',\n",
       "  'level': 0,\n",
       "  'score': '0.38675803'},\n",
       " {'id': 'https://openalex.org/C120665830',\n",
       "  'wikidata': 'https://www.wikidata.org/wiki/Q14620',\n",
       "  'display_name': 'Optics',\n",
       "  'level': 1,\n",
       "  'score': '0.36696696'}]"
      ]
     },
     "execution_count": 214,
     "metadata": {},
     "output_type": "execute_result"
    }
   ],
   "source": [
    "dffo[dffo.authorships.apply(lambda l: any([ a.get('author').get('display_name')=='B. A. Rodríguez Rey' for a in l]) )].iloc[0].concepts"
   ]
  },
  {
   "cell_type": "markdown",
   "id": "9bbdbd61-d5c4-40ef-82fd-7141d39a3094",
   "metadata": {},
   "source": [
    "https://www.propelauth.com/post/autogenerating-clients-with-fastapi-and-github-actions"
   ]
  },
  {
   "cell_type": "code",
   "execution_count": null,
   "id": "2b37ef3b-e347-4d32-b375-6d8aa6adadc1",
   "metadata": {},
   "outputs": [],
   "source": []
  }
 ],
 "metadata": {
  "kernelspec": {
   "display_name": "Python 3 (ipykernel)",
   "language": "python",
   "name": "python3"
  },
  "language_info": {
   "codemirror_mode": {
    "name": "ipython",
    "version": 3
   },
   "file_extension": ".py",
   "mimetype": "text/x-python",
   "name": "python",
   "nbconvert_exporter": "python",
   "pygments_lexer": "ipython3",
   "version": "3.9.2"
  }
 },
 "nbformat": 4,
 "nbformat_minor": 5
}
