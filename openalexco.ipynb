{
 "cells": [
  {
   "cell_type": "markdown",
   "id": "d213457b-27f4-48bf-b58e-1dfef1ce2a29",
   "metadata": {},
   "source": [
    "# OpenAlex Colombia\n",
    "[OpenAlex](https://openalex.org/)  is an index of hundreds of millions of metadata of scientific articles in all areas.\n",
    "\n",
    "We will use the  access via a API to obtain the metadata about the scientific articles of Colombia"
   ]
  },
  {
   "cell_type": "code",
   "execution_count": 8,
   "id": "1e1a5449-3a27-4be3-bffe-a58b8c3629b1",
   "metadata": {},
   "outputs": [],
   "source": [
    "import requests\n",
    "import time\n",
    "import json\n",
    "import pandas as pd\n",
    "from IPython.display import JSON"
   ]
  },
  {
   "cell_type": "markdown",
   "id": "861e4570-9dfe-427e-b984-f7e1b5ad9845",
   "metadata": {},
   "source": [
    "Below is an example of a JSON of the `work` entity. See the full documentation here: https://docs.openalex.org/"
   ]
  },
  {
   "cell_type": "code",
   "execution_count": 39,
   "id": "7b463ceb-f17f-47bc-81ad-3bc421de4331",
   "metadata": {},
   "outputs": [
    {
     "data": {
      "application/json": {
       "abstract_inverted_index": {
        "(DM)": [
         13
        ],
        "dark": [
         11
        ],
        "matter": [
         12,
         35
        ]
       },
       "alternate_host_venues": [
        {
         "display_name": "arXiv",
         "id": null,
         "is_oa": true,
         "license": null,
         "type": "repository",
         "url": "http://arxiv.org/pdf/1509.06313",
         "version": "submittedVersion"
        }
       ],
       "authorships": [
        {
         "author": {
          "display_name": "Carolina Arbeláez",
          "id": "https://openalex.org/A2998524932",
          "orcid": null
         },
         "author_position": "first",
         "institutions": [
          {
           "country_code": "CL",
           "display_name": "Federico Santa María Technical University",
           "id": "https://openalex.org/I75778554",
           "ror": "https://ror.org/05510vn56",
           "type": "education"
          }
         ],
         "raw_affiliation_string": "Universidad Técnica Federico Santa María and Centro Científico-Tecnológico de Valparaíso Casilla 110-V, Valparaíso, Chile"
        }
       ],
       "biblio": {
        "first_page": null,
        "issue": "1",
        "last_page": null,
        "volume": "93"
       },
       "cited_by_api_url": "https://api.openalex.org/works?filter=cites:W2213304073",
       "cited_by_count": 18,
       "concepts": [
        {
         "display_name": "Physics",
         "id": "https://openalex.org/C121332964",
         "level": 0,
         "score": "0.9535045",
         "wikidata": "https://www.wikidata.org/wiki/Q413"
        },
        {
         "display_name": "Particle physics",
         "id": "https://openalex.org/C109214941",
         "level": 1,
         "score": "0.7087808",
         "wikidata": "https://www.wikidata.org/wiki/Q18334"
        },
        {
         "display_name": "Dark matter",
         "id": "https://openalex.org/C159249277",
         "level": 2,
         "score": "0.6155488",
         "wikidata": "https://www.wikidata.org/wiki/Q79925"
        }
       ],
       "counts_by_year": [
        {
         "cited_by_count": 1,
         "year": 2022
        },
        {
         "cited_by_count": 2,
         "year": 2021
        },
        {
         "cited_by_count": 1,
         "year": 2019
        },
        {
         "cited_by_count": 4,
         "year": 2018
        },
        {
         "cited_by_count": 4,
         "year": 2017
        },
        {
         "cited_by_count": 6,
         "year": 2016
        }
       ],
       "created_date": "2016-06-24",
       "display_name": "Fermion dark matter from SO(10) GUTs",
       "doi": "https://doi.org/10.1103/physrevd.93.013012",
       "host_venue": {
        "display_name": "Physical review",
        "id": "https://openalex.org/V4210238307",
        "is_oa": true,
        "issn": [
         "2470-0037",
         "2470-0010",
         "2470-0029"
        ],
        "issn_l": "2470-0010",
        "license": null,
        "publisher": null,
        "type": "repository",
        "url": "https://doi.org/10.1103/physrevd.93.013012",
        "version": "submittedVersion"
       },
       "id": "https://openalex.org/W2213304073",
       "ids": {
        "doi": "https://doi.org/10.1103/physrevd.93.013012",
        "mag": "2213304073",
        "openalex": "https://openalex.org/W2213304073"
       },
       "is_paratext": false,
       "is_retracted": false,
       "mesh": [],
       "ngrams_url": "https://api.openalex.org/works/W2213304073/ngrams",
       "open_access": {
        "is_oa": true,
        "oa_status": "green",
        "oa_url": "http://arxiv.org/pdf/1509.06313"
       },
       "publication_date": "2016-01-13",
       "publication_year": 2016,
       "referenced_works": [
        "https://openalex.org/W167592539",
        "https://openalex.org/W1504118794",
        "https://openalex.org/W1592654218",
        "https://openalex.org/W1604802664"
       ],
       "related_works": [
        "https://openalex.org/W1813212307",
        "https://openalex.org/W1951792185",
        "https://openalex.org/W1962172028",
        "https://openalex.org/W1977308070"
       ],
       "title": "Fermion dark matter from SO(10) GUTs",
       "type": "journal-article",
       "updated_date": "2022-10-13T20:57:55.218364"
      },
      "text/plain": [
       "<IPython.core.display.JSON object>"
      ]
     },
     "execution_count": 39,
     "metadata": {
      "application/json": {
       "expanded": false,
       "root": "root"
      }
     },
     "output_type": "execute_result"
    }
   ],
   "source": [
    "JSON({\"id\":\"https://openalex.org/W2213304073\",\"doi\":\"https://doi.org/10.1103/physrevd.93.013012\",\n",
    "      \"title\":\"Fermion dark matter from SO(10) GUTs\",\"display_name\":\"Fermion dark matter from SO(10) GUTs\",\n",
    "      \"publication_year\":2016,\"publication_date\":\"2016-01-13\",\n",
    "      \"ids\":{\"openalex\":\"https://openalex.org/W2213304073\",\"doi\":\"https://doi.org/10.1103/physrevd.93.013012\",\"mag\":\"2213304073\"},\n",
    "      \"host_venue\":{\"id\":\"https://openalex.org/V4210238307\",\"issn_l\":\"2470-0010\",\"issn\":[\"2470-0037\",\"2470-0010\",\"2470-0029\"],\n",
    "                    \"display_name\":\"Physical review\",\"publisher\":None,\"type\":\"repository\",\n",
    "                    \"url\":\"https://doi.org/10.1103/physrevd.93.013012\",\"is_oa\":True,\"version\":\"submittedVersion\",\"license\":None},\n",
    "      \"type\":\"journal-article\",\"open_access\":{\"is_oa\":True,\"oa_status\":\"green\",\"oa_url\":\"http://arxiv.org/pdf/1509.06313\"},      \n",
    "      \"authorships\":[{\"author_position\":\"first\",\"author\":{\"id\":\"https://openalex.org/A2998524932\",\"display_name\":\"Carolina Arbeláez\",\"orcid\":None},\n",
    "                      \"institutions\":[{\"id\":\"https://openalex.org/I75778554\",\"display_name\":\"Federico Santa María Technical University\",\n",
    "                                       \"ror\":\"https://ror.org/05510vn56\",\"country_code\":\"CL\",\"type\":\"education\"}],\n",
    "                      \"raw_affiliation_string\":\"Universidad Técnica Federico Santa María and Centro Científico-Tecnológico de Valparaíso Casilla 110-V, Valparaíso, Chile\"},\n",
    "                    ],\n",
    "      \"cited_by_count\":18,\n",
    "      \"biblio\":{\"volume\":\"93\",\"issue\":\"1\",\"first_page\":None,\"last_page\":None},\n",
    "      \"is_retracted\":False,\n",
    "      \"is_paratext\":False,                     \n",
    "      \"concepts\":[{\"id\":\"https://openalex.org/C121332964\",\"wikidata\":\"https://www.wikidata.org/wiki/Q413\",\"display_name\":\"Physics\",\"level\":0,\"score\":\"0.9535045\"},\n",
    "                  {\"id\":\"https://openalex.org/C109214941\",\"wikidata\":\"https://www.wikidata.org/wiki/Q18334\",\"display_name\":\"Particle physics\",\"level\":1,\"score\":\"0.7087808\"},\n",
    "                  {\"id\":\"https://openalex.org/C159249277\",\"wikidata\":\"https://www.wikidata.org/wiki/Q79925\",\"display_name\":\"Dark matter\",\"level\":2,\"score\":\"0.6155488\"}                  \n",
    "                 ],\n",
    "      \n",
    "      \"mesh\":[],\n",
    "      \"alternate_host_venues\":[{\"id\":None,\"display_name\":\"arXiv\",\"type\":\"repository\",\"url\":\"http://arxiv.org/pdf/1509.06313\",\n",
    "                                \"is_oa\":True,\"version\":\"submittedVersion\",\"license\":None}],\n",
    "      \"referenced_works\":[\"https://openalex.org/W167592539\",\"https://openalex.org/W1504118794\",\"https://openalex.org/W1592654218\",\"https://openalex.org/W1604802664\"],\n",
    "      \"related_works\":[\"https://openalex.org/W1813212307\",\"https://openalex.org/W1951792185\",\"https://openalex.org/W1962172028\",\"https://openalex.org/W1977308070\"],\n",
    "      \"ngrams_url\":\"https://api.openalex.org/works/W2213304073/ngrams\",\n",
    "      \"abstract_inverted_index\":{\"dark\":[11],\"matter\":[12,35],\"(DM)\":[13]},\n",
    "      \"cited_by_api_url\":\"https://api.openalex.org/works?filter=cites:W2213304073\",\n",
    "      \"counts_by_year\":[{\"year\":2022,\"cited_by_count\":1},{\"year\":2021,\"cited_by_count\":2},{\"year\":2019,\"cited_by_count\":1},{\"year\":2018,\"cited_by_count\":4},\n",
    "                  {\"year\":2017,\"cited_by_count\":4},{\"year\":2016,\"cited_by_count\":6}],\n",
    "      \"updated_date\":\"2022-10-13T20:57:55.218364\",\n",
    "      \"created_date\":\"2016-06-24\"      \n",
    "      })"
   ]
  },
  {
   "cell_type": "markdown",
   "id": "11361ec5-f0f2-431f-b36b-cb3bfe3a3ee7",
   "metadata": {},
   "source": [
    "## API usage example\n",
    "To use directly the obtained JSON, see next cell"
   ]
  },
  {
   "cell_type": "code",
   "execution_count": 2,
   "id": "9689adb6-a630-4734-8489-e10f71ff9318",
   "metadata": {},
   "outputs": [],
   "source": [
    "co=[]\n",
    "i=0\n",
    "count=0\n",
    "baseurl='https://api.openalex.org/works?filter=authorships.institutions.country_code:co&mailto=restrepo@udea.edu.co&per-page=200'\n",
    "nc='*'"
   ]
  },
  {
   "cell_type": "code",
   "execution_count": 113,
   "id": "c180f8b3-db72-4360-b27b-79cd87fe3431",
   "metadata": {},
   "outputs": [
    {
     "name": "stdout",
     "output_type": "stream",
     "text": [
      "1716 → 343200/343024\r"
     ]
    }
   ],
   "source": [
    "while nc:\n",
    "    i+=1\n",
    "    url=baseurl+f'&cursor={nc}'\n",
    "    try:\n",
    "        r=requests.get(url)\n",
    "        cotmp=r.json().get('results')\n",
    "    except:\n",
    "        print('ERROR: bad url')\n",
    "        break\n",
    "    if i==1:\n",
    "        try:\n",
    "            count=r.json().get('meta').get('count')\n",
    "        except:\n",
    "            print('ERROR: bad count')\n",
    "            break\n",
    "    kk=[d.pop('abstract_inverted_index') for d in cotmp if d.get('abstract_inverted_index')]\n",
    "    try:\n",
    "        nc=r.json().get('meta').get('next_cursor')\n",
    "    except:\n",
    "        print('ERROR: bad cursor')\n",
    "        break\n",
    "    #progress\n",
    "    print(f'{i} → {200*i}/{count}',end='\\r')\n",
    "    #Append to dictionary list (WARNING: HIG RAM USAGE)\n",
    "    for p in cotmp:\n",
    "        co.append(p)\n",
    "    #=== backup =====\n",
    "    f=open('openalexco.jsonl','a')\n",
    "    for p in cotmp:\n",
    "        json.dump(p,f)\n",
    "        f.write(\"\\n\")\n",
    "    f.close()\n",
    "    #API limits\n",
    "    time.sleep(0.1)\n",
    "    #EMERGENGY EXIT\n",
    "    if i*200>count:\n",
    "        break"
   ]
  },
  {
   "cell_type": "code",
   "execution_count": 40,
   "id": "5e9b5bb0-7d10-430a-97f9-a6acc17d3094",
   "metadata": {},
   "outputs": [],
   "source": [
    "f=open('openalexco.json','w')\n",
    "json.dump(co,f)\n",
    "f.close()"
   ]
  },
  {
   "cell_type": "code",
   "execution_count": 116,
   "id": "c2e2e09d-8842-4856-b34b-b087829cafa4",
   "metadata": {},
   "outputs": [],
   "source": [
    "f=open('openalexco.jsonl','a')\n",
    "for p in co:\n",
    "    json.dump(p,f)\n",
    "    f.write(\"\\n\")\n",
    "f.close()"
   ]
  },
  {
   "cell_type": "markdown",
   "id": "6853b10f-118e-494d-a91f-fd6844f1f57e",
   "metadata": {},
   "source": [
    "## Use downloaded JSON"
   ]
  },
  {
   "cell_type": "code",
   "execution_count": 42,
   "id": "4c918637-4627-4294-a1b0-1ee9e982119e",
   "metadata": {},
   "outputs": [],
   "source": [
    "f=open('openalexco.json','r')\n",
    "co=json.load(f)\n",
    "f.close()"
   ]
  },
  {
   "cell_type": "markdown",
   "id": "d5aab08d-6560-443e-aed9-7b0a50754ecc",
   "metadata": {},
   "source": [
    "Medicine & Psychology Colombia"
   ]
  },
  {
   "cell_type": "code",
   "execution_count": 137,
   "id": "4d1346df-7f1b-45c9-8d4a-47b9b55664a4",
   "metadata": {},
   "outputs": [],
   "source": [
    "md=[d for d in co if len( {'Medicine','Psychology'}.intersection( \n",
    "       [ c.get('display_name') for c in d.get('concepts') if c.get('level')==0 ] \n",
    "          ) )>0 ]"
   ]
  },
  {
   "cell_type": "code",
   "execution_count": 153,
   "id": "b34b48c7-fe8f-4813-8989-44b0f3c241d7",
   "metadata": {},
   "outputs": [
    {
     "data": {
      "text/plain": [
       "77352"
      ]
     },
     "execution_count": 215,
     "metadata": {},
     "output_type": "execute_result"
    }
   ],
   "source": [
    "len(md)"
   ]
  },
  {
   "cell_type": "code",
   "execution_count": 216,
   "id": "57e09c0a-3817-4825-890f-340b50e88a63",
   "metadata": {},
   "outputs": [],
   "source": [
    "f=open('openalexco_md.json','w')\n",
    "json.dump(md,f)\n",
    "f.close()"
   ]
  },
  {
   "cell_type": "code",
   "execution_count": 2,
   "id": "35008e69-914b-4de0-bb1b-19df8e90109a",
   "metadata": {},
   "outputs": [],
   "source": [
    "f=open('openalexco_md.json','r')\n",
    "md=json.load(f)\n",
    "f.close()"
   ]
  },
  {
   "cell_type": "markdown",
   "id": "4f8afaea-9110-42cd-abaf-f4c6b1d2044a",
   "metadata": {},
   "source": [
    "Medicine & Psychology Bogotá"
   ]
  },
  {
   "cell_type": "code",
   "execution_count": 3,
   "id": "d05db5db-ae54-4418-89d8-f95ec51725bc",
   "metadata": {},
   "outputs": [],
   "source": [
    "insts=set()\n",
    "for d in md:\n",
    "    for a in d.get('authorships'):\n",
    "        if a.get('institutions'):\n",
    "            for i in a.get('institutions'):\n",
    "                if i.get('country_code')==\"CO\":\n",
    "                    insts.add(i.get('display_name'))"
   ]
  },
  {
   "cell_type": "code",
   "execution_count": 4,
   "id": "151051d1-0df9-4613-9de2-f679b42ed06f",
   "metadata": {},
   "outputs": [
    {
     "data": {
      "text/plain": [
       "309"
      ]
     },
     "execution_count": 4,
     "metadata": {},
     "output_type": "execute_result"
    }
   ],
   "source": [
    "len(insts)"
   ]
  },
  {
   "cell_type": "code",
   "execution_count": 5,
   "id": "c7541db4-1ae0-486b-a7a9-b8fe69861765",
   "metadata": {},
   "outputs": [
    {
     "data": {
      "text/plain": [
       "['National University of Colombia at Medellín',\n",
       " 'National University of Colombia at Manizales',\n",
       " 'National University of Colombia']"
      ]
     },
     "execution_count": 5,
     "metadata": {},
     "output_type": "execute_result"
    }
   ],
   "source": [
    "[i for i in insts if i.find('National University of Colombia')>-1]"
   ]
  },
  {
   "cell_type": "code",
   "execution_count": 6,
   "id": "c16061ae-7e66-4e13-af37-d6512a6c13de",
   "metadata": {},
   "outputs": [
    {
     "data": {
      "text/plain": [
       "['Pontificia Universidad Javeriana']"
      ]
     },
     "execution_count": 6,
     "metadata": {},
     "output_type": "execute_result"
    }
   ],
   "source": [
    "[i for i in insts if i.find('Jav')>-1]"
   ]
  },
  {
   "cell_type": "code",
   "execution_count": 7,
   "id": "0f63ff6b-f138-438d-97a8-2ba06b3ae031",
   "metadata": {},
   "outputs": [],
   "source": [
    "insts_bg={'El Bosque University',\n",
    "'Pontificia Universidad Javeriana',          \n",
    "'National University of Colombia',\n",
    "'Universidad Antonio Nariño',\n",
    "'Universidad Externado de Colombia',\n",
    "'Universidad de Bogotá Jorge Tadeo Lozano',\n",
    " 'Universidad de Los Andes',\n",
    " 'Universidad del Rosario',\n",
    " 'University of La Sabana',\n",
    " 'University of La Salle'}"
   ]
  },
  {
   "cell_type": "code",
   "execution_count": 8,
   "id": "5df7f36c-1f44-4271-b9dd-673314fe69af",
   "metadata": {},
   "outputs": [],
   "source": [
    "mdbg=[]\n",
    "for d in md:\n",
    "    l=[ [i.get('display_name') for i in a.get('institutions')] for a in d.get('authorships') if a.get('institutions')]\n",
    "    if len({item for sublist in l for item in sublist}.intersection(insts_bg))>0:\n",
    "        mdbg.append(d)"
   ]
  },
  {
   "cell_type": "code",
   "execution_count": 9,
   "id": "23ef3000-ad0b-4ed1-a1a9-0a471285ea7b",
   "metadata": {},
   "outputs": [
    {
     "data": {
      "text/plain": [
       "23920"
      ]
     },
     "execution_count": 9,
     "metadata": {},
     "output_type": "execute_result"
    }
   ],
   "source": [
    "len(mdbg)"
   ]
  },
  {
   "cell_type": "code",
   "execution_count": 5,
   "id": "02c45fbe-406c-4104-8a12-0853a39ce441",
   "metadata": {},
   "outputs": [
    {
     "ename": "NameError",
     "evalue": "name 'mdbg' is not defined",
     "output_type": "error",
     "traceback": [
      "\u001b[0;31m---------------------------------------------------------------------------\u001b[0m",
      "\u001b[0;31mNameError\u001b[0m                                 Traceback (most recent call last)",
      "\u001b[0;32m/tmp/ipykernel_4185300/2461879512.py\u001b[0m in \u001b[0;36m<module>\u001b[0;34m\u001b[0m\n\u001b[1;32m      1\u001b[0m \u001b[0mf\u001b[0m\u001b[0;34m=\u001b[0m\u001b[0mopen\u001b[0m\u001b[0;34m(\u001b[0m\u001b[0;34m'openalexco_mdbg.json'\u001b[0m\u001b[0;34m,\u001b[0m\u001b[0;34m'w'\u001b[0m\u001b[0;34m)\u001b[0m\u001b[0;34m\u001b[0m\u001b[0;34m\u001b[0m\u001b[0m\n\u001b[0;32m----> 2\u001b[0;31m \u001b[0mjson\u001b[0m\u001b[0;34m.\u001b[0m\u001b[0mdump\u001b[0m\u001b[0;34m(\u001b[0m\u001b[0mmdbg\u001b[0m\u001b[0;34m,\u001b[0m\u001b[0mf\u001b[0m\u001b[0;34m)\u001b[0m\u001b[0;34m\u001b[0m\u001b[0;34m\u001b[0m\u001b[0m\n\u001b[0m\u001b[1;32m      3\u001b[0m \u001b[0mf\u001b[0m\u001b[0;34m.\u001b[0m\u001b[0mclose\u001b[0m\u001b[0;34m(\u001b[0m\u001b[0;34m)\u001b[0m\u001b[0;34m\u001b[0m\u001b[0;34m\u001b[0m\u001b[0m\n",
      "\u001b[0;31mNameError\u001b[0m: name 'mdbg' is not defined"
     ]
    }
   ],
   "source": [
    "f=open('openalexco_mdbg.json','w')\n",
    "json.dump(mdbg,f)\n",
    "f.close()"
   ]
  },
  {
   "cell_type": "code",
   "execution_count": 218,
   "id": "6ce1eca4-564f-4235-9600-4ce5cde34978",
   "metadata": {},
   "outputs": [],
   "source": [
    "d=co[0]"
   ]
  },
  {
   "cell_type": "markdown",
   "id": "32870ef4-5dec-4d81-aa58-bc1f3fca6e6c",
   "metadata": {},
   "source": [
    "Search for author"
   ]
  },
  {
   "cell_type": "code",
   "execution_count": 43,
   "id": "ea281726-1967-4466-8b5d-41b147c8f095",
   "metadata": {},
   "outputs": [],
   "source": [
    "author='Diego Restrepo'\n",
    "dr=[d for d in co if author in [ a.get('author').get('display_name') for a in d.get('authorships')]]"
   ]
  },
  {
   "cell_type": "code",
   "execution_count": 44,
   "id": "afd1e35b-81a4-43e2-98d8-a1218e505357",
   "metadata": {},
   "outputs": [
    {
     "data": {
      "text/plain": [
       "61"
      ]
     },
     "execution_count": 44,
     "metadata": {},
     "output_type": "execute_result"
    }
   ],
   "source": [
    "len(dr)"
   ]
  },
  {
   "cell_type": "code",
   "execution_count": 45,
   "id": "299b7acf-cb91-4e1d-a63e-280139bc4c75",
   "metadata": {},
   "outputs": [
    {
     "data": {
      "text/plain": [
       "array(['https://openalex.org/A4289616623',\n",
       "       'https://openalex.org/A2110103959',\n",
       "       'https://openalex.org/A4224864514',\n",
       "       'https://openalex.org/A2306595523',\n",
       "       'https://openalex.org/A4288869362',\n",
       "       'https://openalex.org/A4290241673',\n",
       "       'https://openalex.org/A2222954481'], dtype=object)"
      ]
     },
     "execution_count": 45,
     "metadata": {},
     "output_type": "execute_result"
    }
   ],
   "source": [
    "pd.DataFrame(dr).authorships.apply(lambda l: [a.get('author').get('id') for a in l if a.get('author').get('display_name')=='Diego Restrepo']\n",
    "                                     ).str[0].unique()"
   ]
  },
  {
   "cell_type": "markdown",
   "id": "133d900a-79dc-45eb-9024-8f6dbdc40206",
   "metadata": {},
   "source": [
    "Search for Author ID"
   ]
  },
  {
   "cell_type": "code",
   "execution_count": 46,
   "id": "506b60d6-2fde-43ff-b579-2cba7c4a49f9",
   "metadata": {},
   "outputs": [],
   "source": [
    "oa_id='https://openalex.org/A2306595523'\n",
    "DR=[d for d in co if oa_id in [ a.get('author').get('id') for a in d.get('authorships')]]"
   ]
  },
  {
   "cell_type": "code",
   "execution_count": 47,
   "id": "b82adfd6-8946-4545-b7b6-6d7b53119450",
   "metadata": {},
   "outputs": [
    {
     "data": {
      "text/plain": [
       "43"
      ]
     },
     "execution_count": 47,
     "metadata": {},
     "output_type": "execute_result"
    }
   ],
   "source": [
    "len(DR)"
   ]
  },
  {
   "cell_type": "code",
   "execution_count": 48,
   "id": "b0b7d488-0723-4cab-93f3-874c30ea278e",
   "metadata": {},
   "outputs": [
    {
     "data": {
      "text/html": [
       "<div>\n",
       "<style scoped>\n",
       "    .dataframe tbody tr th:only-of-type {\n",
       "        vertical-align: middle;\n",
       "    }\n",
       "\n",
       "    .dataframe tbody tr th {\n",
       "        vertical-align: top;\n",
       "    }\n",
       "\n",
       "    .dataframe thead th {\n",
       "        text-align: right;\n",
       "    }\n",
       "</style>\n",
       "<table border=\"1\" class=\"dataframe\">\n",
       "  <thead>\n",
       "    <tr style=\"text-align: right;\">\n",
       "      <th></th>\n",
       "      <th>id</th>\n",
       "      <th>doi</th>\n",
       "      <th>title</th>\n",
       "    </tr>\n",
       "  </thead>\n",
       "  <tbody>\n",
       "    <tr>\n",
       "      <th>0</th>\n",
       "      <td>https://openalex.org/W2194147853</td>\n",
       "      <td>https://doi.org/10.1016/j.nuclphysbps.2015.10.132</td>\n",
       "      <td>A model with a viable dark matter candidate and massive neutrinos</td>\n",
       "    </tr>\n",
       "    <tr>\n",
       "      <th>1</th>\n",
       "      <td>https://openalex.org/W3100627084</td>\n",
       "      <td>https://doi.org/10.1142/s0217732318500244</td>\n",
       "      <td>Anomalous leptonic U(1) symmetry: Syndetic origin of the QCD axion, weak-scale dark matter, and radiative neutrino mass</td>\n",
       "    </tr>\n",
       "    <tr>\n",
       "      <th>2</th>\n",
       "      <td>https://openalex.org/W3129415996</td>\n",
       "      <td>https://doi.org/10.1103/physrevd.103.095032</td>\n",
       "      <td>Anomaly-free Abelian gauge symmetries with Dirac scotogenic models</td>\n",
       "    </tr>\n",
       "    <tr>\n",
       "      <th>3</th>\n",
       "      <td>https://openalex.org/W4206129402</td>\n",
       "      <td>https://doi.org/10.1140/epjc/s10052-021-09918-8</td>\n",
       "      <td>Anomaly-free Abelian gauge symmetries with Dirac seesaws</td>\n",
       "    </tr>\n",
       "    <tr>\n",
       "      <th>4</th>\n",
       "      <td>https://openalex.org/W1967455469</td>\n",
       "      <td>https://doi.org/10.1103/physrevd.87.095010</td>\n",
       "      <td>Baryonic violation of R parity from anomalous U(1)H</td>\n",
       "    </tr>\n",
       "    <tr>\n",
       "      <th>5</th>\n",
       "      <td>https://openalex.org/W3105890208</td>\n",
       "      <td>https://doi.org/10.1016/s0370-2693(00)01067-4</td>\n",
       "      <td>Bilinear R-parity Violation and Small Neutrino Masses: a Self-consistent Framework</td>\n",
       "    </tr>\n",
       "    <tr>\n",
       "      <th>6</th>\n",
       "      <td>https://openalex.org/W2795094497</td>\n",
       "      <td>https://doi.org/10.1103/physrevd.97.115032</td>\n",
       "      <td>Bound-state dark matter and Dirac neutrino masses</td>\n",
       "    </tr>\n",
       "    <tr>\n",
       "      <th>7</th>\n",
       "      <td>https://openalex.org/W2963957043</td>\n",
       "      <td>https://doi.org/10.1016/j.physletb.2019.01.023</td>\n",
       "      <td>Bound-state dark matter with Majorana neutrinos</td>\n",
       "    </tr>\n",
       "    <tr>\n",
       "      <th>8</th>\n",
       "      <td>https://openalex.org/W2145042168</td>\n",
       "      <td>https://doi.org/10.1140/epjc/s10052-008-0713-4</td>\n",
       "      <td>Collider aspects of flavor physics at high Q</td>\n",
       "    </tr>\n",
       "    <tr>\n",
       "      <th>9</th>\n",
       "      <td>https://openalex.org/W2049677811</td>\n",
       "      <td>https://doi.org/10.1088/1126-6708/2005/03/062</td>\n",
       "      <td>Collider signals of gravitino dark matter in bilinearly broken R-parity</td>\n",
       "    </tr>\n",
       "    <tr>\n",
       "      <th>10</th>\n",
       "      <td>https://openalex.org/W2270814667</td>\n",
       "      <td>https://doi.org/10.1103/physrevd.93.015012</td>\n",
       "      <td>Diboson anomaly : Heavy Higgs resonance and QCD vectorlike exotics</td>\n",
       "    </tr>\n",
       "    <tr>\n",
       "      <th>11</th>\n",
       "      <td>https://openalex.org/W2974772295</td>\n",
       "      <td>https://doi.org/10.1103/physrevd.101.035004</td>\n",
       "      <td>Dirac neutrino mass generation from a Majorana messenger</td>\n",
       "    </tr>\n",
       "    <tr>\n",
       "      <th>12</th>\n",
       "      <td>https://openalex.org/W2742667923</td>\n",
       "      <td>https://doi.org/10.1016/j.physletb.2018.01.009</td>\n",
       "      <td>Expanding the Reach of Heavy Neutrino Searches at the LHC</td>\n",
       "    </tr>\n",
       "    <tr>\n",
       "      <th>13</th>\n",
       "      <td>https://openalex.org/W2213304073</td>\n",
       "      <td>https://doi.org/10.1103/physrevd.93.013012</td>\n",
       "      <td>Fermion dark matter from SO(10) GUTs</td>\n",
       "    </tr>\n",
       "    <tr>\n",
       "      <th>14</th>\n",
       "      <td>https://openalex.org/W2601386398</td>\n",
       "      <td>https://doi.org/10.1103/physrevd.95.095034</td>\n",
       "      <td>Fermionic triplet dark matter in an S O ( 10 ) -inspired left-right model</td>\n",
       "    </tr>\n",
       "    <tr>\n",
       "      <th>15</th>\n",
       "      <td>https://openalex.org/W1997257217</td>\n",
       "      <td>https://doi.org/10.1103/physrevd.85.023523</td>\n",
       "      <td>Gravitino dark matter and neutrino masses with bilinear R-parity violation</td>\n",
       "    </tr>\n",
       "    <tr>\n",
       "      <th>16</th>\n",
       "      <td>https://openalex.org/W2909173301</td>\n",
       "      <td>https://doi.org/10.2139/ssrn.3136094</td>\n",
       "      <td>Indicadores de vinculación con el entorno para Unidades de Gestión de Investigación. (Universidad de Antioquia SIU. Estudio Piloto 2004-2016) (Indicators of Linkage with the Environment for Resear...</td>\n",
       "    </tr>\n",
       "    <tr>\n",
       "      <th>17</th>\n",
       "      <td>https://openalex.org/W3099738634</td>\n",
       "      <td>https://doi.org/10.1088/1475-7516/2010/10/033</td>\n",
       "      <td>Indirect detection of gravitino dark matter including its three-body decays</td>\n",
       "    </tr>\n",
       "    <tr>\n",
       "      <th>18</th>\n",
       "      <td>https://openalex.org/W1982179944</td>\n",
       "      <td>https://doi.org/10.1007/jhep05(2013)046</td>\n",
       "      <td>LSP sneutrino novel decays</td>\n",
       "    </tr>\n",
       "    <tr>\n",
       "      <th>19</th>\n",
       "      <td>https://openalex.org/W1983406124</td>\n",
       "      <td>https://doi.org/10.1088/1126-6708/2006/08/036</td>\n",
       "      <td>Leptonic charged Higgs decays in the Zee model</td>\n",
       "    </tr>\n",
       "    <tr>\n",
       "      <th>20</th>\n",
       "      <td>https://openalex.org/W3103290856</td>\n",
       "      <td>https://doi.org/10.1007/jhep11(2013)011</td>\n",
       "      <td>Models with radiative neutrino masses and viable dark matter candidates</td>\n",
       "    </tr>\n",
       "    <tr>\n",
       "      <th>21</th>\n",
       "      <td>https://openalex.org/W3107028404</td>\n",
       "      <td>https://doi.org/10.2139/ssrn.3481925</td>\n",
       "      <td>Métricas de Vinculación Universidad-Entorno: Universidad de Antioquia (Metrics for University Linkage with the Environment: Universidad De Antioquia)</td>\n",
       "    </tr>\n",
       "    <tr>\n",
       "      <th>22</th>\n",
       "      <td>https://openalex.org/W1571169636</td>\n",
       "      <td>https://doi.org/10.1140/epjc/s10052-012-1941-1</td>\n",
       "      <td>Neutrino masses in SU(5)×U(1)F with adjoint flavons</td>\n",
       "    </tr>\n",
       "    <tr>\n",
       "      <th>23</th>\n",
       "      <td>https://openalex.org/W3099207013</td>\n",
       "      <td>https://doi.org/10.1007/jhep04(2020)134</td>\n",
       "      <td>Phenomenological consistency of the singlet-triplet scotogenic model</td>\n",
       "    </tr>\n",
       "    <tr>\n",
       "      <th>24</th>\n",
       "      <td>https://openalex.org/W3151647418</td>\n",
       "      <td>https://doi.org/10.1103/physrevd.104.015032</td>\n",
       "      <td>Phenomenology of the Zee model for Dirac neutrinos and general neutrino interactions</td>\n",
       "    </tr>\n",
       "    <tr>\n",
       "      <th>25</th>\n",
       "      <td>https://openalex.org/W2801044354</td>\n",
       "      <td>https://doi.org/10.1103/physrevd.98.055016</td>\n",
       "      <td>Probing a simplified W ′ model of R ( D ( * ) ) anomalies using b tags, τ leptons, and missing energy</td>\n",
       "    </tr>\n",
       "    <tr>\n",
       "      <th>26</th>\n",
       "      <td>https://openalex.org/W3100944671</td>\n",
       "      <td>https://doi.org/10.1088/1126-6708/2008/05/048</td>\n",
       "      <td>Probing bilinear R-parity violating supergravity at the LHC</td>\n",
       "    </tr>\n",
       "    <tr>\n",
       "      <th>27</th>\n",
       "      <td>https://openalex.org/W2006971137</td>\n",
       "      <td>https://doi.org/10.1103/physrevd.86.075001</td>\n",
       "      <td>Probing neutralino properties in minimal supergravity with bilinear&lt;mml:math xmlns:mml=\"http://www.w3.org/1998/Math/MathML\" display=\"inline\"&gt;&lt;mml:mi&gt;R&lt;/mml:mi&gt;&lt;/mml:math&gt;-parity violation</td>\n",
       "    </tr>\n",
       "    <tr>\n",
       "      <th>28</th>\n",
       "      <td>https://openalex.org/W2026305137</td>\n",
       "      <td>https://doi.org/10.1088/1126-6708/2003/09/071</td>\n",
       "      <td>Probing neutrino mass with multilepton production at the Tevatron in the simplest R-parity violation model</td>\n",
       "    </tr>\n",
       "    <tr>\n",
       "      <th>29</th>\n",
       "      <td>https://openalex.org/W1973186550</td>\n",
       "      <td>https://doi.org/10.1103/physrevd.82.075002</td>\n",
       "      <td>Probing neutrino oscillations in supersymmetric models at the Large Hadron Collider</td>\n",
       "    </tr>\n",
       "    <tr>\n",
       "      <th>30</th>\n",
       "      <td>https://openalex.org/W2345517140</td>\n",
       "      <td>https://doi.org/10.1103/physrevd.94.033005</td>\n",
       "      <td>Radiative Type III Seesaw Model and its collider phenomenology</td>\n",
       "    </tr>\n",
       "    <tr>\n",
       "      <th>31</th>\n",
       "      <td>https://openalex.org/W2155117982</td>\n",
       "      <td>https://doi.org/10.1103/physrevd.92.013005</td>\n",
       "      <td>Radiative neutrino masses in the singlet-doublet fermion dark matter model with scalar singlets</td>\n",
       "    </tr>\n",
       "    <tr>\n",
       "      <th>32</th>\n",
       "      <td>https://openalex.org/W1782135045</td>\n",
       "      <td>https://doi.org/10.1103/physrevd.79.013011</td>\n",
       "      <td>Radiative seesaw model : warm dark matter, collider signatures, and lepton flavor violating signals</td>\n",
       "    </tr>\n",
       "    <tr>\n",
       "      <th>33</th>\n",
       "      <td>https://openalex.org/W1823984419</td>\n",
       "      <td>None</td>\n",
       "      <td>Salud mental en víctimas de la violencia armada en Bojayá (Chocó, Colombia) 1</td>\n",
       "    </tr>\n",
       "    <tr>\n",
       "      <th>34</th>\n",
       "      <td>https://openalex.org/W3105791160</td>\n",
       "      <td>https://doi.org/10.1088/1475-7516/2013/04/044</td>\n",
       "      <td>Scalar dark matter and fermion coannihilations in the radiative seesaw model</td>\n",
       "    </tr>\n",
       "    <tr>\n",
       "      <th>35</th>\n",
       "      <td>https://openalex.org/W2951068726</td>\n",
       "      <td>https://doi.org/10.1103/physrevd.100.035029</td>\n",
       "      <td>Singlet-doublet Dirac dark matter and neutrino masses</td>\n",
       "    </tr>\n",
       "    <tr>\n",
       "      <th>36</th>\n",
       "      <td>https://openalex.org/W2284270222</td>\n",
       "      <td>https://doi.org/10.1088/1475-7516/2016/03/048</td>\n",
       "      <td>The Fermi-LAT gamma-ray excess at the Galactic Center in the singlet-doublet fermion dark matter model</td>\n",
       "    </tr>\n",
       "    <tr>\n",
       "      <th>37</th>\n",
       "      <td>https://openalex.org/W2028315718</td>\n",
       "      <td>https://doi.org/10.1016/j.nuclphysbps.2010.03.001</td>\n",
       "      <td>The Hunt for New Physics at the Large Hadron Collider</td>\n",
       "    </tr>\n",
       "    <tr>\n",
       "      <th>38</th>\n",
       "      <td>https://openalex.org/W2131009540</td>\n",
       "      <td>https://doi.org/10.1007/jhep03(2016)162</td>\n",
       "      <td>The inert Zee model</td>\n",
       "    </tr>\n",
       "    <tr>\n",
       "      <th>39</th>\n",
       "      <td>https://openalex.org/W2886932741</td>\n",
       "      <td>https://doi.org/10.1103/physrevd.99.015038</td>\n",
       "      <td>Two-component dark matter and a massless neutrino in a new &lt;mml:math xmlns:mml=\"http://www.w3.org/1998/Math/MathML\" display=\"inline\"&gt;&lt;mml:mi&gt;B&lt;/mml:mi&gt;&lt;mml:mo&gt;−&lt;/mml:mo&gt;&lt;mml:mi&gt;L&lt;/mml:mi&gt;&lt;/mml:mat...</td>\n",
       "    </tr>\n",
       "    <tr>\n",
       "      <th>40</th>\n",
       "      <td>https://openalex.org/W2758844066</td>\n",
       "      <td>https://doi.org/10.1103/physrevd.97.055045</td>\n",
       "      <td>Vector boson fusion in the inert doublet model</td>\n",
       "    </tr>\n",
       "  </tbody>\n",
       "</table>\n",
       "</div>"
      ],
      "text/plain": [
       "                                  id  \\\n",
       "0   https://openalex.org/W2194147853   \n",
       "1   https://openalex.org/W3100627084   \n",
       "2   https://openalex.org/W3129415996   \n",
       "3   https://openalex.org/W4206129402   \n",
       "4   https://openalex.org/W1967455469   \n",
       "5   https://openalex.org/W3105890208   \n",
       "6   https://openalex.org/W2795094497   \n",
       "7   https://openalex.org/W2963957043   \n",
       "8   https://openalex.org/W2145042168   \n",
       "9   https://openalex.org/W2049677811   \n",
       "10  https://openalex.org/W2270814667   \n",
       "11  https://openalex.org/W2974772295   \n",
       "12  https://openalex.org/W2742667923   \n",
       "13  https://openalex.org/W2213304073   \n",
       "14  https://openalex.org/W2601386398   \n",
       "15  https://openalex.org/W1997257217   \n",
       "16  https://openalex.org/W2909173301   \n",
       "17  https://openalex.org/W3099738634   \n",
       "18  https://openalex.org/W1982179944   \n",
       "19  https://openalex.org/W1983406124   \n",
       "20  https://openalex.org/W3103290856   \n",
       "21  https://openalex.org/W3107028404   \n",
       "22  https://openalex.org/W1571169636   \n",
       "23  https://openalex.org/W3099207013   \n",
       "24  https://openalex.org/W3151647418   \n",
       "25  https://openalex.org/W2801044354   \n",
       "26  https://openalex.org/W3100944671   \n",
       "27  https://openalex.org/W2006971137   \n",
       "28  https://openalex.org/W2026305137   \n",
       "29  https://openalex.org/W1973186550   \n",
       "30  https://openalex.org/W2345517140   \n",
       "31  https://openalex.org/W2155117982   \n",
       "32  https://openalex.org/W1782135045   \n",
       "33  https://openalex.org/W1823984419   \n",
       "34  https://openalex.org/W3105791160   \n",
       "35  https://openalex.org/W2951068726   \n",
       "36  https://openalex.org/W2284270222   \n",
       "37  https://openalex.org/W2028315718   \n",
       "38  https://openalex.org/W2131009540   \n",
       "39  https://openalex.org/W2886932741   \n",
       "40  https://openalex.org/W2758844066   \n",
       "\n",
       "                                                  doi  \\\n",
       "0   https://doi.org/10.1016/j.nuclphysbps.2015.10.132   \n",
       "1           https://doi.org/10.1142/s0217732318500244   \n",
       "2         https://doi.org/10.1103/physrevd.103.095032   \n",
       "3     https://doi.org/10.1140/epjc/s10052-021-09918-8   \n",
       "4          https://doi.org/10.1103/physrevd.87.095010   \n",
       "5       https://doi.org/10.1016/s0370-2693(00)01067-4   \n",
       "6          https://doi.org/10.1103/physrevd.97.115032   \n",
       "7      https://doi.org/10.1016/j.physletb.2019.01.023   \n",
       "8      https://doi.org/10.1140/epjc/s10052-008-0713-4   \n",
       "9       https://doi.org/10.1088/1126-6708/2005/03/062   \n",
       "10         https://doi.org/10.1103/physrevd.93.015012   \n",
       "11        https://doi.org/10.1103/physrevd.101.035004   \n",
       "12     https://doi.org/10.1016/j.physletb.2018.01.009   \n",
       "13         https://doi.org/10.1103/physrevd.93.013012   \n",
       "14         https://doi.org/10.1103/physrevd.95.095034   \n",
       "15         https://doi.org/10.1103/physrevd.85.023523   \n",
       "16               https://doi.org/10.2139/ssrn.3136094   \n",
       "17      https://doi.org/10.1088/1475-7516/2010/10/033   \n",
       "18            https://doi.org/10.1007/jhep05(2013)046   \n",
       "19      https://doi.org/10.1088/1126-6708/2006/08/036   \n",
       "20            https://doi.org/10.1007/jhep11(2013)011   \n",
       "21               https://doi.org/10.2139/ssrn.3481925   \n",
       "22     https://doi.org/10.1140/epjc/s10052-012-1941-1   \n",
       "23            https://doi.org/10.1007/jhep04(2020)134   \n",
       "24        https://doi.org/10.1103/physrevd.104.015032   \n",
       "25         https://doi.org/10.1103/physrevd.98.055016   \n",
       "26      https://doi.org/10.1088/1126-6708/2008/05/048   \n",
       "27         https://doi.org/10.1103/physrevd.86.075001   \n",
       "28      https://doi.org/10.1088/1126-6708/2003/09/071   \n",
       "29         https://doi.org/10.1103/physrevd.82.075002   \n",
       "30         https://doi.org/10.1103/physrevd.94.033005   \n",
       "31         https://doi.org/10.1103/physrevd.92.013005   \n",
       "32         https://doi.org/10.1103/physrevd.79.013011   \n",
       "33                                               None   \n",
       "34      https://doi.org/10.1088/1475-7516/2013/04/044   \n",
       "35        https://doi.org/10.1103/physrevd.100.035029   \n",
       "36      https://doi.org/10.1088/1475-7516/2016/03/048   \n",
       "37  https://doi.org/10.1016/j.nuclphysbps.2010.03.001   \n",
       "38            https://doi.org/10.1007/jhep03(2016)162   \n",
       "39         https://doi.org/10.1103/physrevd.99.015038   \n",
       "40         https://doi.org/10.1103/physrevd.97.055045   \n",
       "\n",
       "                                                                                                                                                                                                      title  \n",
       "0                                                                                                                                         A model with a viable dark matter candidate and massive neutrinos  \n",
       "1                                                                                   Anomalous leptonic U(1) symmetry: Syndetic origin of the QCD axion, weak-scale dark matter, and radiative neutrino mass  \n",
       "2                                                                                                                                        Anomaly-free Abelian gauge symmetries with Dirac scotogenic models  \n",
       "3                                                                                                                                                  Anomaly-free Abelian gauge symmetries with Dirac seesaws  \n",
       "4                                                                                                                                                       Baryonic violation of R parity from anomalous U(1)H  \n",
       "5                                                                                                                        Bilinear R-parity Violation and Small Neutrino Masses: a Self-consistent Framework  \n",
       "6                                                                                                                                                         Bound-state dark matter and Dirac neutrino masses  \n",
       "7                                                                                                                                                           Bound-state dark matter with Majorana neutrinos  \n",
       "8                                                                                                                                                              Collider aspects of flavor physics at high Q  \n",
       "9                                                                                                                                   Collider signals of gravitino dark matter in bilinearly broken R-parity  \n",
       "10                                                                                                                                       Diboson anomaly : Heavy Higgs resonance and QCD vectorlike exotics  \n",
       "11                                                                                                                                                 Dirac neutrino mass generation from a Majorana messenger  \n",
       "12                                                                                                                                                Expanding the Reach of Heavy Neutrino Searches at the LHC  \n",
       "13                                                                                                                                                                     Fermion dark matter from SO(10) GUTs  \n",
       "14                                                                                                                                Fermionic triplet dark matter in an S O ( 10 ) -inspired left-right model  \n",
       "15                                                                                                                               Gravitino dark matter and neutrino masses with bilinear R-parity violation  \n",
       "16  Indicadores de vinculación con el entorno para Unidades de Gestión de Investigación. (Universidad de Antioquia SIU. Estudio Piloto 2004-2016) (Indicators of Linkage with the Environment for Resear...  \n",
       "17                                                                                                                              Indirect detection of gravitino dark matter including its three-body decays  \n",
       "18                                                                                                                                                                               LSP sneutrino novel decays  \n",
       "19                                                                                                                                                           Leptonic charged Higgs decays in the Zee model  \n",
       "20                                                                                                                                  Models with radiative neutrino masses and viable dark matter candidates  \n",
       "21                                                    Métricas de Vinculación Universidad-Entorno: Universidad de Antioquia (Metrics for University Linkage with the Environment: Universidad De Antioquia)  \n",
       "22                                                                                                                                                      Neutrino masses in SU(5)×U(1)F with adjoint flavons  \n",
       "23                                                                                                                                     Phenomenological consistency of the singlet-triplet scotogenic model  \n",
       "24                                                                                                                     Phenomenology of the Zee model for Dirac neutrinos and general neutrino interactions  \n",
       "25                                                                                                    Probing a simplified W ′ model of R ( D ( * ) ) anomalies using b tags, τ leptons, and missing energy  \n",
       "26                                                                                                                                              Probing bilinear R-parity violating supergravity at the LHC  \n",
       "27              Probing neutralino properties in minimal supergravity with bilinear<mml:math xmlns:mml=\"http://www.w3.org/1998/Math/MathML\" display=\"inline\"><mml:mi>R</mml:mi></mml:math>-parity violation  \n",
       "28                                                                                               Probing neutrino mass with multilepton production at the Tevatron in the simplest R-parity violation model  \n",
       "29                                                                                                                      Probing neutrino oscillations in supersymmetric models at the Large Hadron Collider  \n",
       "30                                                                                                                                           Radiative Type III Seesaw Model and its collider phenomenology  \n",
       "31                                                                                                          Radiative neutrino masses in the singlet-doublet fermion dark matter model with scalar singlets  \n",
       "32                                                                                                      Radiative seesaw model : warm dark matter, collider signatures, and lepton flavor violating signals  \n",
       "33                                                                                                                            Salud mental en víctimas de la violencia armada en Bojayá (Chocó, Colombia) 1  \n",
       "34                                                                                                                             Scalar dark matter and fermion coannihilations in the radiative seesaw model  \n",
       "35                                                                                                                                                    Singlet-doublet Dirac dark matter and neutrino masses  \n",
       "36                                                                                                   The Fermi-LAT gamma-ray excess at the Galactic Center in the singlet-doublet fermion dark matter model  \n",
       "37                                                                                                                                                    The Hunt for New Physics at the Large Hadron Collider  \n",
       "38                                                                                                                                                                                      The inert Zee model  \n",
       "39  Two-component dark matter and a massless neutrino in a new <mml:math xmlns:mml=\"http://www.w3.org/1998/Math/MathML\" display=\"inline\"><mml:mi>B</mml:mi><mml:mo>−</mml:mo><mml:mi>L</mml:mi></mml:mat...  \n",
       "40                                                                                                                                                           Vector boson fusion in the inert doublet model  "
      ]
     },
     "execution_count": 48,
     "metadata": {},
     "output_type": "execute_result"
    }
   ],
   "source": [
    "pd.set_option('display.max_colwidth',200)\n",
    "pd.DataFrame(DR)[['id','doi','title']].sort_values('title').drop_duplicates(subset=['title']).reset_index(drop=True)"
   ]
  },
  {
   "cell_type": "code",
   "execution_count": 49,
   "id": "71f2c436-c5f9-49c6-9783-978d496465b3",
   "metadata": {},
   "outputs": [],
   "source": [
    "f=open('openalexco_A2306595523.json','w')\n",
    "json.dump(DR,f)\n",
    "f.close()"
   ]
  },
  {
   "cell_type": "code",
   "execution_count": 50,
   "id": "3bdfb640-68f1-49bc-a8f2-8d9f728f88e1",
   "metadata": {},
   "outputs": [],
   "source": [
    "f=open('openalexco_A2306595523.json','r')\n",
    "DR=json.load(f)\n",
    "f.close()"
   ]
  },
  {
   "cell_type": "code",
   "execution_count": 51,
   "id": "8d6cdfcc-94bf-442f-bb76-fd2fa094ba49",
   "metadata": {},
   "outputs": [
    {
     "data": {
      "text/plain": [
       "[73, 42, 2, 22, 19, 32, 4, 4]"
      ]
     },
     "execution_count": 51,
     "metadata": {},
     "output_type": "execute_result"
    }
   ],
   "source": [
    "[x.get('cited_by_count') for x in DR][35:]"
   ]
  },
  {
   "cell_type": "code",
   "execution_count": 52,
   "id": "e8a9ba8e-88a8-4e34-b0b3-18a8f195704e",
   "metadata": {},
   "outputs": [
    {
     "data": {
      "application/json": {
       "alternate_host_venues": [
        {
         "display_name": null,
         "id": null,
         "is_oa": true,
         "license": "cc-by-nc-nd",
         "type": "repository",
         "url": "https://bibliotecadigital.udea.edu.co/bitstream/10495/8371/1/RestrepoDiego_2009_RadiativeSeesawModel.pdf",
         "version": "submittedVersion"
        },
        {
         "display_name": "arXiv",
         "id": null,
         "is_oa": true,
         "license": null,
         "type": "repository",
         "url": "http://arxiv.org/pdf/0808.3340",
         "version": "submittedVersion"
        },
        {
         "display_name": "arXiv",
         "id": null,
         "is_oa": true,
         "license": null,
         "type": "repository",
         "url": "https://arxiv.org/abs/0808.3340",
         "version": "submittedVersion"
        }
       ],
       "authorships": [
        {
         "author": {
          "display_name": "D. Aristizabal Sierra",
          "id": "https://openalex.org/A2883553880",
          "orcid": null
         },
         "author_position": "first",
         "institutions": [
          {
           "country_code": "IT",
           "display_name": "National Laboratory of Frascati",
           "id": "https://openalex.org/I4210142660",
           "ror": "https://ror.org/049jf1a25",
           "type": "facility"
          }
         ],
         "raw_affiliation_string": "INFN, Laboratori Nazionali di Frascati, C.P. 13, I00044 Frascati, Italy"
        },
        {
         "author": {
          "display_name": "Jisuke Kubo",
          "id": "https://openalex.org/A2158297496",
          "orcid": "https://orcid.org/0000-0003-2211-4685"
         },
         "author_position": "middle",
         "institutions": [
          {
           "country_code": "JP",
           "display_name": "Kanazawa University",
           "id": "https://openalex.org/I10091056",
           "ror": "https://ror.org/02hwp6a56",
           "type": "education"
          }
         ],
         "raw_affiliation_string": "Institute for Theoretical Physics, Kanazawa University, 920-1192, Kanazawa, Japan"
        },
        {
         "author": {
          "display_name": "Daijiro Suematsu",
          "id": "https://openalex.org/A153157061",
          "orcid": "https://orcid.org/0000-0002-7427-7147"
         },
         "author_position": "middle",
         "institutions": [
          {
           "country_code": "JP",
           "display_name": "Kanazawa University",
           "id": "https://openalex.org/I10091056",
           "ror": "https://ror.org/02hwp6a56",
           "type": "education"
          }
         ],
         "raw_affiliation_string": "Institute for Theoretical Physics, Kanazawa University, 920-1192, Kanazawa, Japan"
        },
        {
         "author": {
          "display_name": "Diego Restrepo",
          "id": "https://openalex.org/A2306595523",
          "orcid": "https://orcid.org/0000-0001-6455-5564"
         },
         "author_position": "middle",
         "institutions": [
          {
           "country_code": "CO",
           "display_name": "University of Antioquia",
           "id": "https://openalex.org/I35961687",
           "ror": "https://ror.org/03bp5hc83",
           "type": "education"
          }
         ],
         "raw_affiliation_string": "Instituto de Física, Universidad de Antioquia, A. A. 1226 Medellín, Colombia"
        },
        {
         "author": {
          "display_name": "Óscar Zapata",
          "id": "https://openalex.org/A2047011875",
          "orcid": "https://orcid.org/0000-0001-5533-4014"
         },
         "author_position": "last",
         "institutions": [
          {
           "country_code": "CO",
           "display_name": "University of Antioquia",
           "id": "https://openalex.org/I35961687",
           "ror": "https://ror.org/03bp5hc83",
           "type": "education"
          }
         ],
         "raw_affiliation_string": "Instituto de Física, Universidad de Antioquia, A. A. 1226 Medellín, Colombia"
        }
       ],
       "biblio": {
        "first_page": "013011",
        "issue": "1",
        "last_page": null,
        "volume": "79"
       },
       "cited_by_api_url": "https://api.openalex.org/works?filter=cites:W1782135045",
       "cited_by_count": 73,
       "concepts": [
        {
         "display_name": "Physics",
         "id": "https://openalex.org/C121332964",
         "level": 0,
         "score": "0.95909107",
         "wikidata": "https://www.wikidata.org/wiki/Q413"
        },
        {
         "display_name": "Particle physics",
         "id": "https://openalex.org/C109214941",
         "level": 1,
         "score": "0.8822484",
         "wikidata": "https://www.wikidata.org/wiki/Q18334"
        },
        {
         "display_name": "Neutrino",
         "id": "https://openalex.org/C186453547",
         "level": 2,
         "score": "0.7204515",
         "wikidata": "https://www.wikidata.org/wiki/Q2126"
        },
        {
         "display_name": "Seesaw mechanism",
         "id": "https://openalex.org/C2780709505",
         "level": 4,
         "score": "0.64605165",
         "wikidata": "https://www.wikidata.org/wiki/Q1094257"
        },
        {
         "display_name": "Dark matter",
         "id": "https://openalex.org/C159249277",
         "level": 2,
         "score": "0.599211",
         "wikidata": "https://www.wikidata.org/wiki/Q79925"
        },
        {
         "display_name": "Electroweak scale",
         "id": "https://openalex.org/C2781073886",
         "level": 3,
         "score": "0.57897437",
         "wikidata": "https://www.wikidata.org/wiki/Q5358589"
        },
        {
         "display_name": "Physics beyond the Standard Model",
         "id": "https://openalex.org/C184748400",
         "level": 2,
         "score": "0.5720657",
         "wikidata": "https://www.wikidata.org/wiki/Q2599934"
        },
        {
         "display_name": "Higgs boson",
         "id": "https://openalex.org/C158129726",
         "level": 2,
         "score": "0.5520058",
         "wikidata": "https://www.wikidata.org/wiki/Q402"
        },
        {
         "display_name": "Lepton",
         "id": "https://openalex.org/C179203047",
         "level": 3,
         "score": "0.5481244",
         "wikidata": "https://www.wikidata.org/wiki/Q82586"
        },
        {
         "display_name": "Sterile neutrino",
         "id": "https://openalex.org/C103193775",
         "level": 4,
         "score": "0.5283887",
         "wikidata": "https://www.wikidata.org/wiki/Q1339405"
        },
        {
         "display_name": "Lepton number",
         "id": "https://openalex.org/C108243489",
         "level": 4,
         "score": "0.5069518",
         "wikidata": "https://www.wikidata.org/wiki/Q174012"
        },
        {
         "display_name": "MAJORANA",
         "id": "https://openalex.org/C2778761060",
         "level": 3,
         "score": "0.4781959",
         "wikidata": "https://www.wikidata.org/wiki/Q6714234"
        },
        {
         "display_name": "Standard Model (mathematical formulation)",
         "id": "https://openalex.org/C101454708",
         "level": 3,
         "score": "0.4466939",
         "wikidata": "https://www.wikidata.org/wiki/Q17106019"
        }
       ],
       "counts_by_year": [
        {
         "cited_by_count": 3,
         "year": 2022
        },
        {
         "cited_by_count": 5,
         "year": 2021
        },
        {
         "cited_by_count": 2,
         "year": 2020
        },
        {
         "cited_by_count": 5,
         "year": 2019
        },
        {
         "cited_by_count": 7,
         "year": 2018
        },
        {
         "cited_by_count": 6,
         "year": 2017
        },
        {
         "cited_by_count": 7,
         "year": 2016
        },
        {
         "cited_by_count": 8,
         "year": 2015
        },
        {
         "cited_by_count": 3,
         "year": 2014
        },
        {
         "cited_by_count": 2,
         "year": 2013
        },
        {
         "cited_by_count": 7,
         "year": 2012
        }
       ],
       "created_date": "2016-06-24",
       "display_name": "Radiative seesaw model : warm dark matter, collider signatures, and lepton flavor violating signals",
       "doi": "https://doi.org/10.1103/physrevd.79.013011",
       "host_venue": {
        "display_name": "Physical Review D",
        "id": "https://openalex.org/V133490392",
        "is_oa": true,
        "issn": null,
        "issn_l": null,
        "license": "cc-by-nc-nd",
        "publisher": "American Physical Society",
        "type": "repository",
        "url": "https://doi.org/10.1103/physrevd.79.013011",
        "version": "submittedVersion"
       },
       "id": "https://openalex.org/W1782135045",
       "ids": {
        "doi": "https://doi.org/10.1103/physrevd.79.013011",
        "mag": "1782135045",
        "openalex": "https://openalex.org/W1782135045"
       },
       "is_paratext": false,
       "is_retracted": false,
       "mesh": [],
       "open_access": {
        "is_oa": true,
        "oa_status": "green",
        "oa_url": "http://arxiv.org/pdf/0808.3340"
       },
       "publication_date": "2009-01-28",
       "publication_year": 2009,
       "referenced_works": [
        "https://openalex.org/W1489445685",
        "https://openalex.org/W1778491405",
        "https://openalex.org/W1801815847",
        "https://openalex.org/W1830888505",
        "https://openalex.org/W1975587971",
        "https://openalex.org/W1983406124",
        "https://openalex.org/W1983987483",
        "https://openalex.org/W1991742004",
        "https://openalex.org/W2003215752",
        "https://openalex.org/W2005750815",
        "https://openalex.org/W2009083897",
        "https://openalex.org/W2011183404",
        "https://openalex.org/W2012433125",
        "https://openalex.org/W2028608712",
        "https://openalex.org/W2041558568",
        "https://openalex.org/W2043333025",
        "https://openalex.org/W2045135295",
        "https://openalex.org/W2045402092",
        "https://openalex.org/W2049981267",
        "https://openalex.org/W2053289251",
        "https://openalex.org/W2061936371",
        "https://openalex.org/W2064311907",
        "https://openalex.org/W2065980009",
        "https://openalex.org/W2068910222",
        "https://openalex.org/W2081194465",
        "https://openalex.org/W2081498795",
        "https://openalex.org/W2088157505",
        "https://openalex.org/W2088974938",
        "https://openalex.org/W2089681810",
        "https://openalex.org/W2095815431",
        "https://openalex.org/W2105115054",
        "https://openalex.org/W2118488783",
        "https://openalex.org/W2119138090",
        "https://openalex.org/W2119359853",
        "https://openalex.org/W2120596821",
        "https://openalex.org/W2123578256",
        "https://openalex.org/W2130516668",
        "https://openalex.org/W2134803267",
        "https://openalex.org/W2138296936",
        "https://openalex.org/W2138874905",
        "https://openalex.org/W2142712327",
        "https://openalex.org/W2142940338",
        "https://openalex.org/W2145236885",
        "https://openalex.org/W2150480596",
        "https://openalex.org/W2151403163",
        "https://openalex.org/W2154748230",
        "https://openalex.org/W2155976193",
        "https://openalex.org/W2158398454",
        "https://openalex.org/W2159559096",
        "https://openalex.org/W2159617645",
        "https://openalex.org/W2166252135",
        "https://openalex.org/W2172076344",
        "https://openalex.org/W2175863055",
        "https://openalex.org/W2594808321"
       ],
       "related_works": [
        "https://openalex.org/W1489445685",
        "https://openalex.org/W1502259727",
        "https://openalex.org/W1801815847",
        "https://openalex.org/W1982836279",
        "https://openalex.org/W1983987483",
        "https://openalex.org/W2012433125",
        "https://openalex.org/W2016310977",
        "https://openalex.org/W2061936371",
        "https://openalex.org/W2070529464",
        "https://openalex.org/W2098260542",
        "https://openalex.org/W2109690044",
        "https://openalex.org/W2123578256",
        "https://openalex.org/W2123584575",
        "https://openalex.org/W2134803267",
        "https://openalex.org/W2136821211",
        "https://openalex.org/W2145992225",
        "https://openalex.org/W2166252135",
        "https://openalex.org/W3098818540",
        "https://openalex.org/W3099064977",
        "https://openalex.org/W3100142081"
       ],
       "title": "Radiative seesaw model : warm dark matter, collider signatures, and lepton flavor violating signals",
       "type": "journal-article",
       "updated_date": "2022-08-06T09:32:44.695978"
      },
      "text/plain": [
       "<IPython.core.display.JSON object>"
      ]
     },
     "execution_count": 52,
     "metadata": {
      "application/json": {
       "expanded": false,
       "root": "root"
      }
     },
     "output_type": "execute_result"
    }
   ],
   "source": [
    "JSON(DR[35])"
   ]
  },
  {
   "cell_type": "code",
   "execution_count": 53,
   "id": "953ed36a-ae5f-4977-8ea9-f71d07a26ae3",
   "metadata": {},
   "outputs": [],
   "source": [
    "def order_concepts(l):\n",
    "    c=[]\n",
    "    for i in range(5):\n",
    "        for d in l:\n",
    "            if d.get('level')==i:\n",
    "                c.append(f\"{d.get('level')}-{d.get('display_name')}\")\n",
    "    return c"
   ]
  },
  {
   "cell_type": "code",
   "execution_count": 54,
   "id": "5209ce17-069e-483d-a3b4-f43435a162d6",
   "metadata": {},
   "outputs": [],
   "source": [
    "pd.set_option('display.max_colwidth',300)"
   ]
  },
  {
   "cell_type": "code",
   "execution_count": 55,
   "id": "04cef60c-5bea-4a95-9f99-77d8213067ab",
   "metadata": {},
   "outputs": [],
   "source": [
    "DRdf=pd.DataFrame(DR)"
   ]
  },
  {
   "cell_type": "code",
   "execution_count": 56,
   "id": "ea7762cd-56a9-4436-b92d-e24ddf02c22f",
   "metadata": {},
   "outputs": [],
   "source": [
    "DRdf['c']=DRdf.concepts.apply(order_concepts)"
   ]
  },
  {
   "cell_type": "code",
   "execution_count": 57,
   "id": "c890a465-9c73-467a-bdff-d062218dfde4",
   "metadata": {},
   "outputs": [
    {
     "data": {
      "text/html": [
       "<div>\n",
       "<style scoped>\n",
       "    .dataframe tbody tr th:only-of-type {\n",
       "        vertical-align: middle;\n",
       "    }\n",
       "\n",
       "    .dataframe tbody tr th {\n",
       "        vertical-align: top;\n",
       "    }\n",
       "\n",
       "    .dataframe thead th {\n",
       "        text-align: right;\n",
       "    }\n",
       "</style>\n",
       "<table border=\"1\" class=\"dataframe\">\n",
       "  <thead>\n",
       "    <tr style=\"text-align: right;\">\n",
       "      <th></th>\n",
       "      <th>title</th>\n",
       "      <th>c</th>\n",
       "    </tr>\n",
       "  </thead>\n",
       "  <tbody>\n",
       "    <tr>\n",
       "      <th>0</th>\n",
       "      <td>Anomaly-free Abelian gauge symmetries with Dirac seesaws</td>\n",
       "      <td>[0-Physics, 1-Particle physics, 1-Theoretical physics, 2-Anomaly (physics), 2-Homogeneous space, 2-Neutrino, 2-Massless particle, 2-Physics beyond the Standard Model, 2-Symmetry (geometry), 3-Gauge symmetry, 3-Standard Model (mathematical formulation), 4-Seesaw mechanism, 4-Gauge anomaly]</td>\n",
       "    </tr>\n",
       "    <tr>\n",
       "      <th>2</th>\n",
       "      <td>Phenomenology of the Zee model for Dirac neutrinos and general neutrino interactions</td>\n",
       "      <td>[0-Physics, 1-Particle physics, 2-Neutrino, 2-Phenomenology (philosophy), 2-Physics beyond the Standard Model, 3-Neutrino oscillation, 3-Lepton, 3-Standard Model (mathematical formulation), 3-Dirac (video compression format), 4-Sterile neutrino, 4-Solar neutrino]</td>\n",
       "    </tr>\n",
       "    <tr>\n",
       "      <th>3</th>\n",
       "      <td>Anomaly-free Abelian gauge symmetries with Dirac scotogenic models</td>\n",
       "      <td>[0-Physics, 1-Particle physics, 1-Theoretical physics, 1-Mathematical physics, 2-Anomaly (physics), 2-Massless particle, 2-Neutrino, 3-Dirac fermion, 3-Gauge symmetry, 3-Standard Model (mathematical formulation), 4-Gauge anomaly]</td>\n",
       "    </tr>\n",
       "    <tr>\n",
       "      <th>4</th>\n",
       "      <td>Phenomenological consistency of the singlet-triplet scotogenic model</td>\n",
       "      <td>[0-Physics, 1-Particle physics, 1-Nuclear physics, 2-Dark matter, 2-Neutrino, 2-Annihilation, 2-Parameter space, 2-Fermi Gamma-ray Space Telescope, 2-Nucleon, 2-Physics beyond the Standard Model, 3-Lepton, 3-Standard Model (mathematical formulation), 3-Singlet state]</td>\n",
       "    </tr>\n",
       "    <tr>\n",
       "      <th>5</th>\n",
       "      <td>Dirac neutrino mass generation from a Majorana messenger</td>\n",
       "      <td>[0-Physics, 1-Particle physics, 2-Neutrino, 3-MAJORANA, 3-Dirac (video compression format)]</td>\n",
       "    </tr>\n",
       "    <tr>\n",
       "      <th>6</th>\n",
       "      <td>Métricas de Vinculación Universidad-Entorno: Universidad de Antioquia (Metrics for University Linkage with the Environment: Universidad De Antioquia)</td>\n",
       "      <td>[0-Geography, 1-Humanities, 1-Cartography]</td>\n",
       "    </tr>\n",
       "    <tr>\n",
       "      <th>7</th>\n",
       "      <td>Singlet-doublet Dirac dark matter and neutrino masses</td>\n",
       "      <td>[0-Physics, 1-Particle physics, 2-Neutrino, 2-Dark matter, 2-Fermion, 3-Dirac (video compression format), 3-Lepton, 3-Neutrino oscillation]</td>\n",
       "    </tr>\n",
       "    <tr>\n",
       "      <th>8</th>\n",
       "      <td>Two-component dark matter and a massless neutrino in a new &lt;mml:math xmlns:mml=\"http://www.w3.org/1998/Math/MathML\" display=\"inline\"&gt;&lt;mml:mi&gt;B&lt;/mml:mi&gt;&lt;mml:mo&gt;−&lt;/mml:mo&gt;&lt;mml:mi&gt;L&lt;/mml:mi&gt;&lt;/mml:math&gt; model</td>\n",
       "      <td>[0-Physics, 1-Particle physics, 1-Nuclear physics, 2-Massless particle, 2-Neutrino, 2-Dark matter, 2-Component (thermodynamics)]</td>\n",
       "    </tr>\n",
       "    <tr>\n",
       "      <th>9</th>\n",
       "      <td>Bound-state dark matter with Majorana neutrinos</td>\n",
       "      <td>[0-Physics, 1-Particle physics, 2-Neutrino, 2-Dark matter, 2-Fermion, 2-Bound state, 3-MAJORANA, 3-Neutrino oscillation, 3-Lepton, 4-Sterile neutrino]</td>\n",
       "    </tr>\n",
       "    <tr>\n",
       "      <th>10</th>\n",
       "      <td>Probing a simplified W ′ model of R ( D ( * ) ) anomalies using b tags, τ leptons, and missing energy</td>\n",
       "      <td>[0-Physics, 1-Particle physics, 1-Nuclear physics, 2-Quark, 2-Large Hadron Collider, 2-Charm (quantum number), 2-Sensitivity (control systems), 2-Meson, 3-Lepton, 3-Charm quark, 3-B meson, 4-Missing energy]</td>\n",
       "    </tr>\n",
       "    <tr>\n",
       "      <th>12</th>\n",
       "      <td>Bound-state dark matter and Dirac neutrino masses</td>\n",
       "      <td>[0-Physics, 1-Particle physics, 1-Nuclear physics, 2-Neutrino, 2-Dark matter, 3-Dirac (video compression format), 4-Sterile neutrino]</td>\n",
       "    </tr>\n",
       "    <tr>\n",
       "      <th>13</th>\n",
       "      <td>Vector boson fusion in the inert doublet model</td>\n",
       "      <td>[1-Nuclear physics, 2-Boson, 2-Annihilation]</td>\n",
       "    </tr>\n",
       "    <tr>\n",
       "      <th>14</th>\n",
       "      <td>Expanding the Reach of Heavy Neutrino Searches at the LHC</td>\n",
       "      <td>[0-Physics, 1-Particle physics, 1-Nuclear physics, 2-Neutrino, 2-Physics beyond the Standard Model, 2-Large Hadron Collider, 2-Context (archaeology), 2-Muon, 3-MAJORANA, 3-Lepton, 3-Standard Model (mathematical formulation), 3-Compact Muon Solenoid, 4-Sterile neutrino]</td>\n",
       "    </tr>\n",
       "    <tr>\n",
       "      <th>15</th>\n",
       "      <td>Anomalous leptonic U(1) symmetry: Syndetic origin of the QCD axion, weak-scale dark matter, and radiative neutrino mass</td>\n",
       "      <td>[0-Physics, 1-Particle physics, 2-Neutrino, 2-Dark matter, 2-Quantum chromodynamics, 2-Quark, 2-Fermion, 2-Scalar (mathematics), 3-Axion, 3-Lepton, 3-Standard Model (mathematical formulation), 4-Sterile neutrino, 4-Lepton number]</td>\n",
       "    </tr>\n",
       "    <tr>\n",
       "      <th>16</th>\n",
       "      <td>Indicadores de vinculación con el entorno para Unidades de Gestión de Investigación. (Universidad de Antioquia SIU. Estudio Piloto 2004-2016) (Indicators of Linkage with the Environment for Research Management Units. (Universidad de Antioquia SIU. Pilot Study 2004-2016))</td>\n",
       "      <td>[0-Political science, 0-Geography, 1-Humanities, 1-Library science]</td>\n",
       "    </tr>\n",
       "    <tr>\n",
       "      <th>17</th>\n",
       "      <td>Fermionic triplet dark matter in an S O ( 10 ) -inspired left-right model</td>\n",
       "      <td>[0-Physics, 1-Particle physics, 2-Dark matter, 2-Fermion]</td>\n",
       "    </tr>\n",
       "    <tr>\n",
       "      <th>18</th>\n",
       "      <td>Radiative Type III Seesaw Model and its collider phenomenology</td>\n",
       "      <td>[0-Physics, 1-Particle physics, 1-Nuclear physics, 2-Yukawa potential, 2-Dark matter, 2-Fermion, 2-Physics beyond the Standard Model, 2-Higgs boson, 2-Neutrino, 2-Boson, 2-Muon, 2-Supersymmetry, 2-Large Hadron Collider, 3-Seesaw molecular geometry, 3-Lepton, 4-Chargino, 4-Lepton number]</td>\n",
       "    </tr>\n",
       "    <tr>\n",
       "      <th>19</th>\n",
       "      <td>The inert Zee model</td>\n",
       "      <td>[0-Physics, 1-Particle physics, 1-Theoretical physics, 2-Fermion, 2-Neutrino, 2-Realization (probability), 2-Higgs boson, 2-Symmetry (geometry), 2-Dark matter, 2-Oscillation (cell signaling), 2-Physics beyond the Standard Model, 3-Lepton, 3-Neutrino oscillation, 3-Mass generation, 4-Lepton number]</td>\n",
       "    </tr>\n",
       "    <tr>\n",
       "      <th>20</th>\n",
       "      <td>The Fermi-LAT gamma-ray excess at the Galactic Center in the singlet-doublet fermion dark matter model</td>\n",
       "      <td>[0-Physics, 1-Astrophysics, 1-Particle physics, 2-Dark matter, 2-Fermion, 2-Gamma ray, 2-Fermi Gamma-ray Space Telescope, 3-Galactic Center, 3-Singlet state]</td>\n",
       "    </tr>\n",
       "    <tr>\n",
       "      <th>21</th>\n",
       "      <td>Diboson anomaly : Heavy Higgs resonance and QCD vectorlike exotics</td>\n",
       "      <td>[0-Physics, 1-Particle physics, 1-Nuclear physics, 2-Higgs boson, 2-Quantum chromodynamics, 2-Invariant mass, 2-Physics beyond the Standard Model, 2-Anomaly (physics), 2-Atlas (anatomy), 3-Gauge boson, 3-Standard Model (mathematical formulation)]</td>\n",
       "    </tr>\n",
       "    <tr>\n",
       "      <th>22</th>\n",
       "      <td>Fermion dark matter from SO(10) GUTs</td>\n",
       "      <td>[0-Physics, 1-Particle physics, 2-Dark matter, 2-Fermion, 2-Neutrino, 2-Physics beyond the Standard Model, 2-Higgs boson, 3-Standard Model (mathematical formulation)]</td>\n",
       "    </tr>\n",
       "    <tr>\n",
       "      <th>23</th>\n",
       "      <td>A model with a viable dark matter candidate and massive neutrinos</td>\n",
       "      <td>[0-Physics, 1-Particle physics, 2-Neutrino, 2-Dark matter, 2-Fermion, 2-Parameter space, 2-Physics beyond the Standard Model, 2-Scalar (mathematics), 3-Lepton, 3-Parametrization (atmospheric modeling), 4-Sterile neutrino]</td>\n",
       "    </tr>\n",
       "    <tr>\n",
       "      <th>24</th>\n",
       "      <td>Radiative neutrino masses in the singlet-doublet fermion dark matter model with scalar singlets</td>\n",
       "      <td>[0-Physics, 1-Particle physics, 2-Fermion, 2-Neutrino, 2-Dark matter, 2-Scalar (mathematics), 2-Physics beyond the Standard Model, 3-Singlet state, 3-Standard Model (mathematical formulation)]</td>\n",
       "    </tr>\n",
       "    <tr>\n",
       "      <th>25</th>\n",
       "      <td>Models with radiative neutrino masses and viable dark matter candidates</td>\n",
       "      <td>[0-Physics, 1-Particle physics, 2-Dark matter, 2-Neutrino, 2-Physics beyond the Standard Model, 2-Fermion, 2-Large Hadron Collider, 2-Scalar (mathematics), 3-Standard Model (mathematical formulation), 4-Sterile neutrino, 4-Leptoquark]</td>\n",
       "    </tr>\n",
       "    <tr>\n",
       "      <th>26</th>\n",
       "      <td>Baryonic violation of R parity from anomalous U(1)H</td>\n",
       "      <td>[0-Physics, 1-Particle physics, 1-Nuclear physics, 2-Parity (physics), 2-Neutrino, 2-Supersymmetry, 2-CP violation, 2-Baryon, 2-Physics beyond the Standard Model, 3-R-parity, 3-MAJORANA, 3-Proton decay, 3-Baryon number, 4-Lepton number]</td>\n",
       "    </tr>\n",
       "    <tr>\n",
       "      <th>27</th>\n",
       "      <td>LSP sneutrino novel decays</td>\n",
       "      <td>[0-Physics, 1-Particle physics, 2-Supersymmetry, 2-Neutrino, 2-Dark matter, 2-Higgs boson, 2-Physics beyond the Standard Model, 3-Neutralino, 3-Minimal Supersymmetric Standard Model, 3-Superpartner, 3-Standard Model (mathematical formulation), 3-Lepton, 3-Gaugino, 4-Lightest Supersymmetric Parti...</td>\n",
       "    </tr>\n",
       "    <tr>\n",
       "      <th>28</th>\n",
       "      <td>Scalar dark matter and fermion coannihilations in the radiative seesaw model</td>\n",
       "      <td>[0-Physics, 1-Particle physics, 2-Dark matter, 2-Neutrino, 2-Fermion, 2-Parameter space, 2-Scalar (mathematics), 2-Physics beyond the Standard Model, 3-Seesaw molecular geometry, 3-Standard Model (mathematical formulation), 4-Scalar field dark matter, 4-Sterile neutrino]</td>\n",
       "    </tr>\n",
       "    <tr>\n",
       "      <th>29</th>\n",
       "      <td>Probing neutralino properties in minimal supergravity with bilinear&lt;mml:math xmlns:mml=\"http://www.w3.org/1998/Math/MathML\" display=\"inline\"&gt;&lt;mml:mi&gt;R&lt;/mml:mi&gt;&lt;/mml:math&gt;-parity violation</td>\n",
       "      <td>[0-Physics, 1-Particle physics, 1-Nuclear physics, 2-Neutrino, 2-Supersymmetry, 2-Large Hadron Collider, 3-R-parity, 3-Supergravity, 3-Neutralino, 3-Minimal Supersymmetric Standard Model, 3-Neutrino oscillation, 4-Lightest Supersymmetric Particle]</td>\n",
       "    </tr>\n",
       "    <tr>\n",
       "      <th>30</th>\n",
       "      <td>Neutrino masses in SU(5)×U(1)F with adjoint flavons</td>\n",
       "      <td>[0-Physics, 1-Particle physics, 2-Neutrino, 2-Yukawa potential, 2-Homogeneous space, 2-Universality (dynamical systems), 2-Symmetry group, 3-MAJORANA, 3-Lepton, 3-Mass matrix, 3-Seesaw molecular geometry, 4-Seesaw mechanism]</td>\n",
       "    </tr>\n",
       "    <tr>\n",
       "      <th>31</th>\n",
       "      <td>Gravitino dark matter and neutrino masses with bilinear R-parity violation</td>\n",
       "      <td>[0-Physics, 1-Particle physics, 1-Nuclear physics, 2-Neutrino, 2-Dark matter, 3-R-parity, 4-Gravitino]</td>\n",
       "    </tr>\n",
       "    <tr>\n",
       "      <th>32</th>\n",
       "      <td>Probing neutrino oscillations in supersymmetric models at the Large Hadron Collider</td>\n",
       "      <td>[0-Physics, 1-Particle physics, 1-Nuclear physics, 2-Large Hadron Collider, 2-Neutrino, 2-Supersymmetry, 3-R-parity, 3-Neutrino oscillation, 3-Minimal Supersymmetric Standard Model, 4-Lightest Supersymmetric Particle, 4-Missing energy]</td>\n",
       "    </tr>\n",
       "    <tr>\n",
       "      <th>33</th>\n",
       "      <td>Indirect detection of gravitino dark matter including its three-body decays</td>\n",
       "      <td>[0-Physics, 1-Particle physics, 1-Nuclear physics, 2-Dark matter, 2-Neutrino, 2-Fermi Gamma-ray Space Telescope, 3-Lepton, 3-R-parity, 4-Gravitino, 4-Antimatter]</td>\n",
       "    </tr>\n",
       "    <tr>\n",
       "      <th>34</th>\n",
       "      <td>The Hunt for New Physics at the Large Hadron Collider</td>\n",
       "      <td>[0-Physics, 1-Particle physics, 1-Nuclear physics, 2-Physics beyond the Standard Model, 2-Large Hadron Collider, 2-Supersymmetry, 2-Electroweak interaction, 2-Extra dimensions, 2-Dark matter, 3-Hierarchy problem]</td>\n",
       "    </tr>\n",
       "    <tr>\n",
       "      <th>35</th>\n",
       "      <td>Radiative seesaw model : warm dark matter, collider signatures, and lepton flavor violating signals</td>\n",
       "      <td>[0-Physics, 1-Particle physics, 2-Neutrino, 2-Dark matter, 2-Physics beyond the Standard Model, 2-Higgs boson, 3-Electroweak scale, 3-Lepton, 3-MAJORANA, 3-Standard Model (mathematical formulation), 4-Seesaw mechanism, 4-Sterile neutrino, 4-Lepton number]</td>\n",
       "    </tr>\n",
       "    <tr>\n",
       "      <th>36</th>\n",
       "      <td>Collider aspects of flavor physics at high Q</td>\n",
       "      <td>[0-Physics, 1-Particle physics, 2-Large Hadron Collider, 2-Higgs boson, 2-Physics beyond the Standard Model, 2-Flavor, 2-Supersymmetry, 2-Collider, 2-Quark, 3-Standard Model (mathematical formulation)]</td>\n",
       "    </tr>\n",
       "    <tr>\n",
       "      <th>37</th>\n",
       "      <td>Probing bilinear R-parity violating supergravity at the LHC</td>\n",
       "      <td>[0-Physics, 1-Particle physics, 2-Supersymmetry, 2-Neutrino, 2-Large Hadron Collider, 2-Parity (physics), 2-Phenomenology (philosophy), 3-R-parity, 3-Supergravity, 3-Minimal Supersymmetric Standard Model, 3-Lepton, 4-Lepton number, 4-Lightest Supersymmetric Particle]</td>\n",
       "    </tr>\n",
       "    <tr>\n",
       "      <th>38</th>\n",
       "      <td>Leptonic charged Higgs decays in the Zee model</td>\n",
       "      <td>[0-Physics, 1-Particle physics, 1-Nuclear physics, 2-Higgs boson, 2-Parameter space, 2-Neutrino, 2-Physics beyond the Standard Model, 3-Lepton, 3-Standard Model (mathematical formulation)]</td>\n",
       "    </tr>\n",
       "    <tr>\n",
       "      <th>39</th>\n",
       "      <td>Salud mental en víctimas de la violencia armada en Bojayá (Chocó, Colombia) 1</td>\n",
       "      <td>[0-Psychology, 0-Political science, 2-Mental health]</td>\n",
       "    </tr>\n",
       "    <tr>\n",
       "      <th>40</th>\n",
       "      <td>Collider signals of gravitino dark matter in bilinearly broken R-parity</td>\n",
       "      <td>[0-Physics, 1-Particle physics, 1-Nuclear physics, 2-Dark matter, 2-Supersymmetry, 2-Neutrino, 3-R-parity, 3-Neutralino, 3-Supersymmetry breaking, 3-Minimal Supersymmetric Standard Model, 3-Gaugino, 4-Gravitino, 4-Lightest Supersymmetric Particle]</td>\n",
       "    </tr>\n",
       "    <tr>\n",
       "      <th>41</th>\n",
       "      <td>Probing neutrino mass with multilepton production at the Tevatron in the simplest R-parity violation model</td>\n",
       "      <td>[0-Physics, 1-Particle physics, 1-Nuclear physics, 2-Neutrino, 2-Fermilab, 2-Supersymmetry, 2-Parity (physics), 2-Parameter space, 2-Phenomenology (philosophy), 3-R-parity, 3-Tevatron, 3-Supergravity, 4-Lightest Supersymmetric Particle]</td>\n",
       "    </tr>\n",
       "    <tr>\n",
       "      <th>42</th>\n",
       "      <td>Bilinear R-parity Violation and Small Neutrino Masses: a Self-consistent Framework</td>\n",
       "      <td>[0-Physics, 1-Particle physics, 1-Nuclear physics, 2-Neutrino, 2-Parity (physics), 3-R-parity, 3-Lepton, 4-Solar neutrino, 4-Lepton number]</td>\n",
       "    </tr>\n",
       "  </tbody>\n",
       "</table>\n",
       "</div>"
      ],
      "text/plain": [
       "                                                                                                                                                                                                                                                                              title  \\\n",
       "0                                                                                                                                                                                                                          Anomaly-free Abelian gauge symmetries with Dirac seesaws   \n",
       "2                                                                                                                                                                                              Phenomenology of the Zee model for Dirac neutrinos and general neutrino interactions   \n",
       "3                                                                                                                                                                                                                Anomaly-free Abelian gauge symmetries with Dirac scotogenic models   \n",
       "4                                                                                                                                                                                                              Phenomenological consistency of the singlet-triplet scotogenic model   \n",
       "5                                                                                                                                                                                                                          Dirac neutrino mass generation from a Majorana messenger   \n",
       "6                                                                                                                             Métricas de Vinculación Universidad-Entorno: Universidad de Antioquia (Metrics for University Linkage with the Environment: Universidad De Antioquia)   \n",
       "7                                                                                                                                                                                                                             Singlet-doublet Dirac dark matter and neutrino masses   \n",
       "8                                                                      Two-component dark matter and a massless neutrino in a new <mml:math xmlns:mml=\"http://www.w3.org/1998/Math/MathML\" display=\"inline\"><mml:mi>B</mml:mi><mml:mo>−</mml:mo><mml:mi>L</mml:mi></mml:math> model   \n",
       "9                                                                                                                                                                                                                                   Bound-state dark matter with Majorana neutrinos   \n",
       "10                                                                                                                                                                            Probing a simplified W ′ model of R ( D ( * ) ) anomalies using b tags, τ leptons, and missing energy   \n",
       "12                                                                                                                                                                                                                                Bound-state dark matter and Dirac neutrino masses   \n",
       "13                                                                                                                                                                                                                                   Vector boson fusion in the inert doublet model   \n",
       "14                                                                                                                                                                                                                        Expanding the Reach of Heavy Neutrino Searches at the LHC   \n",
       "15                                                                                                                                                          Anomalous leptonic U(1) symmetry: Syndetic origin of the QCD axion, weak-scale dark matter, and radiative neutrino mass   \n",
       "16  Indicadores de vinculación con el entorno para Unidades de Gestión de Investigación. (Universidad de Antioquia SIU. Estudio Piloto 2004-2016) (Indicators of Linkage with the Environment for Research Management Units. (Universidad de Antioquia SIU. Pilot Study 2004-2016))   \n",
       "17                                                                                                                                                                                                        Fermionic triplet dark matter in an S O ( 10 ) -inspired left-right model   \n",
       "18                                                                                                                                                                                                                   Radiative Type III Seesaw Model and its collider phenomenology   \n",
       "19                                                                                                                                                                                                                                                              The inert Zee model   \n",
       "20                                                                                                                                                                           The Fermi-LAT gamma-ray excess at the Galactic Center in the singlet-doublet fermion dark matter model   \n",
       "21                                                                                                                                                                                                               Diboson anomaly : Heavy Higgs resonance and QCD vectorlike exotics   \n",
       "22                                                                                                                                                                                                                                             Fermion dark matter from SO(10) GUTs   \n",
       "23                                                                                                                                                                                                                A model with a viable dark matter candidate and massive neutrinos   \n",
       "24                                                                                                                                                                                  Radiative neutrino masses in the singlet-doublet fermion dark matter model with scalar singlets   \n",
       "25                                                                                                                                                                                                          Models with radiative neutrino masses and viable dark matter candidates   \n",
       "26                                                                                                                                                                                                                              Baryonic violation of R parity from anomalous U(1)H   \n",
       "27                                                                                                                                                                                                                                                       LSP sneutrino novel decays   \n",
       "28                                                                                                                                                                                                     Scalar dark matter and fermion coannihilations in the radiative seesaw model   \n",
       "29                                                                                      Probing neutralino properties in minimal supergravity with bilinear<mml:math xmlns:mml=\"http://www.w3.org/1998/Math/MathML\" display=\"inline\"><mml:mi>R</mml:mi></mml:math>-parity violation   \n",
       "30                                                                                                                                                                                                                              Neutrino masses in SU(5)×U(1)F with adjoint flavons   \n",
       "31                                                                                                                                                                                                       Gravitino dark matter and neutrino masses with bilinear R-parity violation   \n",
       "32                                                                                                                                                                                              Probing neutrino oscillations in supersymmetric models at the Large Hadron Collider   \n",
       "33                                                                                                                                                                                                      Indirect detection of gravitino dark matter including its three-body decays   \n",
       "34                                                                                                                                                                                                                            The Hunt for New Physics at the Large Hadron Collider   \n",
       "35                                                                                                                                                                              Radiative seesaw model : warm dark matter, collider signatures, and lepton flavor violating signals   \n",
       "36                                                                                                                                                                                                                                     Collider aspects of flavor physics at high Q   \n",
       "37                                                                                                                                                                                                                      Probing bilinear R-parity violating supergravity at the LHC   \n",
       "38                                                                                                                                                                                                                                   Leptonic charged Higgs decays in the Zee model   \n",
       "39                                                                                                                                                                                                    Salud mental en víctimas de la violencia armada en Bojayá (Chocó, Colombia) 1   \n",
       "40                                                                                                                                                                                                          Collider signals of gravitino dark matter in bilinearly broken R-parity   \n",
       "41                                                                                                                                                                       Probing neutrino mass with multilepton production at the Tevatron in the simplest R-parity violation model   \n",
       "42                                                                                                                                                                                               Bilinear R-parity Violation and Small Neutrino Masses: a Self-consistent Framework   \n",
       "\n",
       "                                                                                                                                                                                                                                                                                                              c  \n",
       "0             [0-Physics, 1-Particle physics, 1-Theoretical physics, 2-Anomaly (physics), 2-Homogeneous space, 2-Neutrino, 2-Massless particle, 2-Physics beyond the Standard Model, 2-Symmetry (geometry), 3-Gauge symmetry, 3-Standard Model (mathematical formulation), 4-Seesaw mechanism, 4-Gauge anomaly]  \n",
       "2                                       [0-Physics, 1-Particle physics, 2-Neutrino, 2-Phenomenology (philosophy), 2-Physics beyond the Standard Model, 3-Neutrino oscillation, 3-Lepton, 3-Standard Model (mathematical formulation), 3-Dirac (video compression format), 4-Sterile neutrino, 4-Solar neutrino]  \n",
       "3                                                                         [0-Physics, 1-Particle physics, 1-Theoretical physics, 1-Mathematical physics, 2-Anomaly (physics), 2-Massless particle, 2-Neutrino, 3-Dirac fermion, 3-Gauge symmetry, 3-Standard Model (mathematical formulation), 4-Gauge anomaly]  \n",
       "4                                   [0-Physics, 1-Particle physics, 1-Nuclear physics, 2-Dark matter, 2-Neutrino, 2-Annihilation, 2-Parameter space, 2-Fermi Gamma-ray Space Telescope, 2-Nucleon, 2-Physics beyond the Standard Model, 3-Lepton, 3-Standard Model (mathematical formulation), 3-Singlet state]  \n",
       "5                                                                                                                                                                                                                   [0-Physics, 1-Particle physics, 2-Neutrino, 3-MAJORANA, 3-Dirac (video compression format)]  \n",
       "6                                                                                                                                                                                                                                                                    [0-Geography, 1-Humanities, 1-Cartography]  \n",
       "7                                                                                                                                                                   [0-Physics, 1-Particle physics, 2-Neutrino, 2-Dark matter, 2-Fermion, 3-Dirac (video compression format), 3-Lepton, 3-Neutrino oscillation]  \n",
       "8                                                                                                                                                                              [0-Physics, 1-Particle physics, 1-Nuclear physics, 2-Massless particle, 2-Neutrino, 2-Dark matter, 2-Component (thermodynamics)]  \n",
       "9                                                                                                                                                        [0-Physics, 1-Particle physics, 2-Neutrino, 2-Dark matter, 2-Fermion, 2-Bound state, 3-MAJORANA, 3-Neutrino oscillation, 3-Lepton, 4-Sterile neutrino]  \n",
       "10                                                                                               [0-Physics, 1-Particle physics, 1-Nuclear physics, 2-Quark, 2-Large Hadron Collider, 2-Charm (quantum number), 2-Sensitivity (control systems), 2-Meson, 3-Lepton, 3-Charm quark, 3-B meson, 4-Missing energy]  \n",
       "12                                                                                                                                                                        [0-Physics, 1-Particle physics, 1-Nuclear physics, 2-Neutrino, 2-Dark matter, 3-Dirac (video compression format), 4-Sterile neutrino]  \n",
       "13                                                                                                                                                                                                                                                                 [1-Nuclear physics, 2-Boson, 2-Annihilation]  \n",
       "14                                [0-Physics, 1-Particle physics, 1-Nuclear physics, 2-Neutrino, 2-Physics beyond the Standard Model, 2-Large Hadron Collider, 2-Context (archaeology), 2-Muon, 3-MAJORANA, 3-Lepton, 3-Standard Model (mathematical formulation), 3-Compact Muon Solenoid, 4-Sterile neutrino]  \n",
       "15                                                                        [0-Physics, 1-Particle physics, 2-Neutrino, 2-Dark matter, 2-Quantum chromodynamics, 2-Quark, 2-Fermion, 2-Scalar (mathematics), 3-Axion, 3-Lepton, 3-Standard Model (mathematical formulation), 4-Sterile neutrino, 4-Lepton number]  \n",
       "16                                                                                                                                                                                                                                          [0-Political science, 0-Geography, 1-Humanities, 1-Library science]  \n",
       "17                                                                                                                                                                                                                                                    [0-Physics, 1-Particle physics, 2-Dark matter, 2-Fermion]  \n",
       "18              [0-Physics, 1-Particle physics, 1-Nuclear physics, 2-Yukawa potential, 2-Dark matter, 2-Fermion, 2-Physics beyond the Standard Model, 2-Higgs boson, 2-Neutrino, 2-Boson, 2-Muon, 2-Supersymmetry, 2-Large Hadron Collider, 3-Seesaw molecular geometry, 3-Lepton, 4-Chargino, 4-Lepton number]  \n",
       "19   [0-Physics, 1-Particle physics, 1-Theoretical physics, 2-Fermion, 2-Neutrino, 2-Realization (probability), 2-Higgs boson, 2-Symmetry (geometry), 2-Dark matter, 2-Oscillation (cell signaling), 2-Physics beyond the Standard Model, 3-Lepton, 3-Neutrino oscillation, 3-Mass generation, 4-Lepton number]  \n",
       "20                                                                                                                                                [0-Physics, 1-Astrophysics, 1-Particle physics, 2-Dark matter, 2-Fermion, 2-Gamma ray, 2-Fermi Gamma-ray Space Telescope, 3-Galactic Center, 3-Singlet state]  \n",
       "21                                                       [0-Physics, 1-Particle physics, 1-Nuclear physics, 2-Higgs boson, 2-Quantum chromodynamics, 2-Invariant mass, 2-Physics beyond the Standard Model, 2-Anomaly (physics), 2-Atlas (anatomy), 3-Gauge boson, 3-Standard Model (mathematical formulation)]  \n",
       "22                                                                                                                                       [0-Physics, 1-Particle physics, 2-Dark matter, 2-Fermion, 2-Neutrino, 2-Physics beyond the Standard Model, 2-Higgs boson, 3-Standard Model (mathematical formulation)]  \n",
       "23                                                                                [0-Physics, 1-Particle physics, 2-Neutrino, 2-Dark matter, 2-Fermion, 2-Parameter space, 2-Physics beyond the Standard Model, 2-Scalar (mathematics), 3-Lepton, 3-Parametrization (atmospheric modeling), 4-Sterile neutrino]  \n",
       "24                                                                                                             [0-Physics, 1-Particle physics, 2-Fermion, 2-Neutrino, 2-Dark matter, 2-Scalar (mathematics), 2-Physics beyond the Standard Model, 3-Singlet state, 3-Standard Model (mathematical formulation)]  \n",
       "25                                                                   [0-Physics, 1-Particle physics, 2-Dark matter, 2-Neutrino, 2-Physics beyond the Standard Model, 2-Fermion, 2-Large Hadron Collider, 2-Scalar (mathematics), 3-Standard Model (mathematical formulation), 4-Sterile neutrino, 4-Leptoquark]  \n",
       "26                                                                 [0-Physics, 1-Particle physics, 1-Nuclear physics, 2-Parity (physics), 2-Neutrino, 2-Supersymmetry, 2-CP violation, 2-Baryon, 2-Physics beyond the Standard Model, 3-R-parity, 3-MAJORANA, 3-Proton decay, 3-Baryon number, 4-Lepton number]  \n",
       "27  [0-Physics, 1-Particle physics, 2-Supersymmetry, 2-Neutrino, 2-Dark matter, 2-Higgs boson, 2-Physics beyond the Standard Model, 3-Neutralino, 3-Minimal Supersymmetric Standard Model, 3-Superpartner, 3-Standard Model (mathematical formulation), 3-Lepton, 3-Gaugino, 4-Lightest Supersymmetric Parti...  \n",
       "28                              [0-Physics, 1-Particle physics, 2-Dark matter, 2-Neutrino, 2-Fermion, 2-Parameter space, 2-Scalar (mathematics), 2-Physics beyond the Standard Model, 3-Seesaw molecular geometry, 3-Standard Model (mathematical formulation), 4-Scalar field dark matter, 4-Sterile neutrino]  \n",
       "29                                                      [0-Physics, 1-Particle physics, 1-Nuclear physics, 2-Neutrino, 2-Supersymmetry, 2-Large Hadron Collider, 3-R-parity, 3-Supergravity, 3-Neutralino, 3-Minimal Supersymmetric Standard Model, 3-Neutrino oscillation, 4-Lightest Supersymmetric Particle]  \n",
       "30                                                                             [0-Physics, 1-Particle physics, 2-Neutrino, 2-Yukawa potential, 2-Homogeneous space, 2-Universality (dynamical systems), 2-Symmetry group, 3-MAJORANA, 3-Lepton, 3-Mass matrix, 3-Seesaw molecular geometry, 4-Seesaw mechanism]  \n",
       "31                                                                                                                                                                                                       [0-Physics, 1-Particle physics, 1-Nuclear physics, 2-Neutrino, 2-Dark matter, 3-R-parity, 4-Gravitino]  \n",
       "32                                                                  [0-Physics, 1-Particle physics, 1-Nuclear physics, 2-Large Hadron Collider, 2-Neutrino, 2-Supersymmetry, 3-R-parity, 3-Neutrino oscillation, 3-Minimal Supersymmetric Standard Model, 4-Lightest Supersymmetric Particle, 4-Missing energy]  \n",
       "33                                                                                                                                            [0-Physics, 1-Particle physics, 1-Nuclear physics, 2-Dark matter, 2-Neutrino, 2-Fermi Gamma-ray Space Telescope, 3-Lepton, 3-R-parity, 4-Gravitino, 4-Antimatter]  \n",
       "34                                                                                         [0-Physics, 1-Particle physics, 1-Nuclear physics, 2-Physics beyond the Standard Model, 2-Large Hadron Collider, 2-Supersymmetry, 2-Electroweak interaction, 2-Extra dimensions, 2-Dark matter, 3-Hierarchy problem]  \n",
       "35                                              [0-Physics, 1-Particle physics, 2-Neutrino, 2-Dark matter, 2-Physics beyond the Standard Model, 2-Higgs boson, 3-Electroweak scale, 3-Lepton, 3-MAJORANA, 3-Standard Model (mathematical formulation), 4-Seesaw mechanism, 4-Sterile neutrino, 4-Lepton number]  \n",
       "36                                                                                                    [0-Physics, 1-Particle physics, 2-Large Hadron Collider, 2-Higgs boson, 2-Physics beyond the Standard Model, 2-Flavor, 2-Supersymmetry, 2-Collider, 2-Quark, 3-Standard Model (mathematical formulation)]  \n",
       "37                                  [0-Physics, 1-Particle physics, 2-Supersymmetry, 2-Neutrino, 2-Large Hadron Collider, 2-Parity (physics), 2-Phenomenology (philosophy), 3-R-parity, 3-Supergravity, 3-Minimal Supersymmetric Standard Model, 3-Lepton, 4-Lepton number, 4-Lightest Supersymmetric Particle]  \n",
       "38                                                                                                                 [0-Physics, 1-Particle physics, 1-Nuclear physics, 2-Higgs boson, 2-Parameter space, 2-Neutrino, 2-Physics beyond the Standard Model, 3-Lepton, 3-Standard Model (mathematical formulation)]  \n",
       "39                                                                                                                                                                                                                                                         [0-Psychology, 0-Political science, 2-Mental health]  \n",
       "40                                                      [0-Physics, 1-Particle physics, 1-Nuclear physics, 2-Dark matter, 2-Supersymmetry, 2-Neutrino, 3-R-parity, 3-Neutralino, 3-Supersymmetry breaking, 3-Minimal Supersymmetric Standard Model, 3-Gaugino, 4-Gravitino, 4-Lightest Supersymmetric Particle]  \n",
       "41                                                                 [0-Physics, 1-Particle physics, 1-Nuclear physics, 2-Neutrino, 2-Fermilab, 2-Supersymmetry, 2-Parity (physics), 2-Parameter space, 2-Phenomenology (philosophy), 3-R-parity, 3-Tevatron, 3-Supergravity, 4-Lightest Supersymmetric Particle]  \n",
       "42                                                                                                                                                                  [0-Physics, 1-Particle physics, 1-Nuclear physics, 2-Neutrino, 2-Parity (physics), 3-R-parity, 3-Lepton, 4-Solar neutrino, 4-Lepton number]  "
      ]
     },
     "execution_count": 57,
     "metadata": {},
     "output_type": "execute_result"
    }
   ],
   "source": [
    "DRdf.drop_duplicates(subset=['title'])[['title','c']]"
   ]
  },
  {
   "cell_type": "code",
   "execution_count": null,
   "id": "aee07797-2b1f-4025-b8da-6e0d1130a4c4",
   "metadata": {},
   "outputs": [],
   "source": []
  }
 ],
 "metadata": {
  "kernelspec": {
   "display_name": "Python 3 (ipykernel)",
   "language": "python",
   "name": "python3"
  },
  "language_info": {
   "codemirror_mode": {
    "name": "ipython",
    "version": 3
   },
   "file_extension": ".py",
   "mimetype": "text/x-python",
   "name": "python",
   "nbconvert_exporter": "python",
   "pygments_lexer": "ipython3",
   "version": "3.9.2"
  }
 },
 "nbformat": 4,
 "nbformat_minor": 5
}
